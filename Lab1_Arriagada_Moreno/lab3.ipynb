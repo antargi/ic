{
 "cells": [
  {
   "cell_type": "code",
   "execution_count": 3,
   "metadata": {
    "vscode": {
     "languageId": "r"
    }
   },
   "outputs": [],
   "source": [
    "install.packages(\"ggpubr\")\n",
    "install.packages(\"cowplot\")\n",
    "install.packages(\"arulesCBA\")\n",
    "install.packages(\"naniar\")\n",
    "install.packages(\"gmodels\")\n",
    "install.packages(\"factoextra\")\n",
    "install.packages(\"devtools\")\n",
    "install.packages(\"eulerr\")\n",
    "install.packages(\"scatterplot3d\")"
   ]
  },
  {
   "cell_type": "code",
   "execution_count": 4,
   "metadata": {
    "vscode": {
     "languageId": "r"
    }
   },
   "outputs": [
    {
     "name": "stderr",
     "output_type": "stream",
     "text": [
      "also installing the dependencies 'permute', 'zoo', 'tweenr', 'ca', 'gclus', 'qap', 'registry', 'TSP', 'vegan', 'lmtest', 'ggforce', 'tidygraph', 'graphlayouts', 'data.table', 'seriation', 'vcd', 'igraph', 'ggraph', 'plotly', 'visNetwork'\n",
      "\n",
      "\n"
     ]
    },
    {
     "ename": "ERROR",
     "evalue": "Error in readRDS(dest): error al leer desde conexi'on\n",
     "output_type": "error",
     "traceback": [
      "Error in readRDS(dest): error al leer desde conexi'on\nTraceback:\n",
      "1. install.packages(\"arulesViz\")",
      "2. available.packages(contriburl = contrib.url(repos, type2), method = method, \n .     ...)",
      "3. readRDS(dest)"
     ]
    }
   ],
   "source": [
    "install.packages(\"arulesViz\")\n"
   ]
  },
  {
   "cell_type": "code",
   "execution_count": 2,
   "metadata": {
    "vscode": {
     "languageId": "r"
    }
   },
   "outputs": [
    {
     "name": "stderr",
     "output_type": "stream",
     "text": [
      "Cargando paquete requerido: Matrix\n",
      "\n",
      "Cargando paquete requerido: arules\n",
      "\n",
      "\n",
      "Adjuntando el paquete: 'arules'\n",
      "\n",
      "\n",
      "The following objects are masked from 'package:base':\n",
      "\n",
      "    abbreviate, write\n",
      "\n",
      "\n"
     ]
    },
    {
     "ename": "ERROR",
     "evalue": "Error in library(arulesViz): no hay paquete llamado 'arulesViz'\n",
     "output_type": "error",
     "traceback": [
      "Error in library(arulesViz): no hay paquete llamado 'arulesViz'\nTraceback:\n",
      "1. library(arulesViz)"
     ]
    }
   ],
   "source": [
    "library (  arulesCBA     )\n",
    "library (  arulesViz     )\n",
    "library (  naniar        )\n",
    "library (  gmodels       )\n",
    "library (  scatterplot3d )\n",
    "library (  ggpubr        )\n",
    "library (  cowplot       )\n",
    "library (  factoextra    )\n",
    "library (  devtools      )\n",
    "library (  eulerr        )\n",
    "\n",
    "#Instalación ggbiplot desde Github\n",
    "#install_github(\"vqv/ggbiplot\")\n",
    "library (  ggbiplot      )"
   ]
  }
 ],
 "metadata": {
  "kernelspec": {
   "display_name": "R",
   "language": "R",
   "name": "ir"
  },
  "language_info": {
   "codemirror_mode": "r",
   "file_extension": ".r",
   "mimetype": "text/x-r-source",
   "name": "R",
   "pygments_lexer": "r",
   "version": "4.4.0"
  }
 },
 "nbformat": 4,
 "nbformat_minor": 2
}
