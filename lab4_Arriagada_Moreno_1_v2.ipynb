{
 "cells": [
  {
   "cell_type": "markdown",
   "metadata": {},
   "source": [
    "# Laboratorio 4 - Inteligencia Computacional\n",
    "### Árboles de decisión\n",
    "\n",
    "#### Integrantes: Antonina Arriagada - Francisco Moreno\n",
    "#### Profesor: Max Chacón - Ayudante: Héctor Rojas-Pescio"
   ]
  },
  {
   "cell_type": "code",
   "execution_count": 147,
   "metadata": {
    "vscode": {
     "languageId": "r"
    }
   },
   "outputs": [],
   "source": [
    "# install.packages(\"C50\")\n",
    "# install.packages(\"caret\")\n",
    "# install.packages(\"ggpubr\")\n",
    "# install.packages(\"factoextra\")\n",
    "# install.packages(\"devtools\")\n",
    "# install.packages(\"outliers\")\n",
    "\n",
    "# install.packages(\"smotefamily\")"
   ]
  },
  {
   "cell_type": "markdown",
   "metadata": {},
   "source": [
    "# 1. Instrucciones previas"
   ]
  },
  {
   "cell_type": "markdown",
   "metadata": {},
   "source": [
    "Importación de librerías"
   ]
  },
  {
   "cell_type": "code",
   "execution_count": 1,
   "metadata": {
    "vscode": {
     "languageId": "r"
    }
   },
   "outputs": [
    {
     "name": "stderr",
     "output_type": "stream",
     "text": [
      "Cargando paquete requerido: ggplot2\n",
      "\n",
      "Cargando paquete requerido: lattice\n",
      "\n",
      "Cargando paquete requerido: usethis\n",
      "\n",
      "Welcome! Want to learn more? See two factoextra-related books at https://goo.gl/ve3WBa\n",
      "\n"
     ]
    }
   ],
   "source": [
    "library ( C50         )\n",
    "library ( caret       )\n",
    "library ( ggpubr      )\n",
    "library ( devtools    )\n",
    "library ( outliers    )\n",
    "library ( smotefamily )\n",
    "\n",
    "\n",
    "library (  factoextra    )\n",
    "# install_github(\"vqv/ggbiplot\")\n",
    "library (  ggbiplot      )\n",
    "library(readr)\n"
   ]
  },
  {
   "cell_type": "code",
   "execution_count": 2,
   "metadata": {
    "vscode": {
     "languageId": "r"
    }
   },
   "outputs": [
    {
     "name": "stderr",
     "output_type": "stream",
     "text": [
      "\n",
      "Adjuntando el paquete: 'dplyr'\n",
      "\n",
      "\n",
      "The following objects are masked from 'package:stats':\n",
      "\n",
      "    filter, lag\n",
      "\n",
      "\n",
      "The following objects are masked from 'package:base':\n",
      "\n",
      "    intersect, setdiff, setequal, union\n",
      "\n",
      "\n"
     ]
    }
   ],
   "source": [
    "library(dplyr)\n"
   ]
  },
  {
   "cell_type": "markdown",
   "metadata": {},
   "source": [
    "Lectura del archivo"
   ]
  },
  {
   "cell_type": "code",
   "execution_count": 3,
   "metadata": {
    "vscode": {
     "languageId": "r"
    }
   },
   "outputs": [
    {
     "name": "stderr",
     "output_type": "stream",
     "text": [
      "\u001b[1mRows: \u001b[22m\u001b[34m768\u001b[39m \u001b[1mColumns: \u001b[22m\u001b[34m10\u001b[39m\n",
      "\u001b[36m──\u001b[39m \u001b[1mColumn specification\u001b[22m \u001b[36m────────────────────────────────────────────────────────\u001b[39m\n",
      "\u001b[1mDelimiter:\u001b[22m \";\"\n",
      "\u001b[32mdbl\u001b[39m (10): X1, X2, X3, X4, X5, X6, X7, X8, Y1, Y2\n",
      "\n",
      "\u001b[36mℹ\u001b[39m Use `spec()` to retrieve the full column specification for this data.\n",
      "\u001b[36mℹ\u001b[39m Specify the column types or set `show_col_types = FALSE` to quiet this message.\n"
     ]
    }
   ],
   "source": [
    "df <- read_delim(\"./datasets/ENB2012_data_f.csv\", delim = ';')"
   ]
  },
  {
   "cell_type": "code",
   "execution_count": 4,
   "metadata": {
    "vscode": {
     "languageId": "r"
    }
   },
   "outputs": [
    {
     "data": {
      "text/html": [
       "<table class=\"dataframe\">\n",
       "<caption>A tibble: 3 × 10</caption>\n",
       "<thead>\n",
       "\t<tr><th scope=col>X1</th><th scope=col>X2</th><th scope=col>X3</th><th scope=col>X4</th><th scope=col>X5</th><th scope=col>X6</th><th scope=col>X7</th><th scope=col>X8</th><th scope=col>Y1</th><th scope=col>Y2</th></tr>\n",
       "\t<tr><th scope=col>&lt;dbl&gt;</th><th scope=col>&lt;dbl&gt;</th><th scope=col>&lt;dbl&gt;</th><th scope=col>&lt;dbl&gt;</th><th scope=col>&lt;dbl&gt;</th><th scope=col>&lt;dbl&gt;</th><th scope=col>&lt;dbl&gt;</th><th scope=col>&lt;dbl&gt;</th><th scope=col>&lt;dbl&gt;</th><th scope=col>&lt;dbl&gt;</th></tr>\n",
       "</thead>\n",
       "<tbody>\n",
       "\t<tr><td>0.98</td><td>514.5</td><td>294</td><td>110.25</td><td>7</td><td>2</td><td>0</td><td>0</td><td>15.55</td><td>21.33</td></tr>\n",
       "\t<tr><td>0.98</td><td>514.5</td><td>294</td><td>110.25</td><td>7</td><td>3</td><td>0</td><td>0</td><td>15.55</td><td>21.33</td></tr>\n",
       "\t<tr><td>0.98</td><td>514.5</td><td>294</td><td>110.25</td><td>7</td><td>4</td><td>0</td><td>0</td><td>15.55</td><td>21.33</td></tr>\n",
       "</tbody>\n",
       "</table>\n"
      ],
      "text/latex": [
       "A tibble: 3 × 10\n",
       "\\begin{tabular}{llllllllll}\n",
       " X1 & X2 & X3 & X4 & X5 & X6 & X7 & X8 & Y1 & Y2\\\\\n",
       " <dbl> & <dbl> & <dbl> & <dbl> & <dbl> & <dbl> & <dbl> & <dbl> & <dbl> & <dbl>\\\\\n",
       "\\hline\n",
       "\t 0.98 & 514.5 & 294 & 110.25 & 7 & 2 & 0 & 0 & 15.55 & 21.33\\\\\n",
       "\t 0.98 & 514.5 & 294 & 110.25 & 7 & 3 & 0 & 0 & 15.55 & 21.33\\\\\n",
       "\t 0.98 & 514.5 & 294 & 110.25 & 7 & 4 & 0 & 0 & 15.55 & 21.33\\\\\n",
       "\\end{tabular}\n"
      ],
      "text/markdown": [
       "\n",
       "A tibble: 3 × 10\n",
       "\n",
       "| X1 &lt;dbl&gt; | X2 &lt;dbl&gt; | X3 &lt;dbl&gt; | X4 &lt;dbl&gt; | X5 &lt;dbl&gt; | X6 &lt;dbl&gt; | X7 &lt;dbl&gt; | X8 &lt;dbl&gt; | Y1 &lt;dbl&gt; | Y2 &lt;dbl&gt; |\n",
       "|---|---|---|---|---|---|---|---|---|---|\n",
       "| 0.98 | 514.5 | 294 | 110.25 | 7 | 2 | 0 | 0 | 15.55 | 21.33 |\n",
       "| 0.98 | 514.5 | 294 | 110.25 | 7 | 3 | 0 | 0 | 15.55 | 21.33 |\n",
       "| 0.98 | 514.5 | 294 | 110.25 | 7 | 4 | 0 | 0 | 15.55 | 21.33 |\n",
       "\n"
      ],
      "text/plain": [
       "  X1   X2    X3  X4     X5 X6 X7 X8 Y1    Y2   \n",
       "1 0.98 514.5 294 110.25 7  2  0  0  15.55 21.33\n",
       "2 0.98 514.5 294 110.25 7  3  0  0  15.55 21.33\n",
       "3 0.98 514.5 294 110.25 7  4  0  0  15.55 21.33"
      ]
     },
     "metadata": {},
     "output_type": "display_data"
    }
   ],
   "source": [
    "head( df, 3 )"
   ]
  },
  {
   "cell_type": "code",
   "execution_count": 5,
   "metadata": {
    "vscode": {
     "languageId": "r"
    }
   },
   "outputs": [],
   "source": [
    "# Convertir las columnas a factores\n",
    "df <- as.data.frame(lapply(df, function(x) {\n",
    "  if (is.character(x)) as.factor(x) else x\n",
    "}))"
   ]
  },
  {
   "cell_type": "code",
   "execution_count": 6,
   "metadata": {
    "vscode": {
     "languageId": "r"
    }
   },
   "outputs": [
    {
     "data": {
      "text/html": [
       "<table class=\"dataframe\">\n",
       "<caption>A data.frame: 3 × 10</caption>\n",
       "<thead>\n",
       "\t<tr><th></th><th scope=col>X1</th><th scope=col>X2</th><th scope=col>X3</th><th scope=col>X4</th><th scope=col>X5</th><th scope=col>X6</th><th scope=col>X7</th><th scope=col>X8</th><th scope=col>Y1</th><th scope=col>Y2</th></tr>\n",
       "\t<tr><th></th><th scope=col>&lt;dbl&gt;</th><th scope=col>&lt;dbl&gt;</th><th scope=col>&lt;dbl&gt;</th><th scope=col>&lt;dbl&gt;</th><th scope=col>&lt;dbl&gt;</th><th scope=col>&lt;dbl&gt;</th><th scope=col>&lt;dbl&gt;</th><th scope=col>&lt;dbl&gt;</th><th scope=col>&lt;dbl&gt;</th><th scope=col>&lt;dbl&gt;</th></tr>\n",
       "</thead>\n",
       "<tbody>\n",
       "\t<tr><th scope=row>1</th><td>0.98</td><td>514.5</td><td>294</td><td>110.25</td><td>7</td><td>2</td><td>0</td><td>0</td><td>15.55</td><td>21.33</td></tr>\n",
       "\t<tr><th scope=row>2</th><td>0.98</td><td>514.5</td><td>294</td><td>110.25</td><td>7</td><td>3</td><td>0</td><td>0</td><td>15.55</td><td>21.33</td></tr>\n",
       "\t<tr><th scope=row>3</th><td>0.98</td><td>514.5</td><td>294</td><td>110.25</td><td>7</td><td>4</td><td>0</td><td>0</td><td>15.55</td><td>21.33</td></tr>\n",
       "</tbody>\n",
       "</table>\n"
      ],
      "text/latex": [
       "A data.frame: 3 × 10\n",
       "\\begin{tabular}{r|llllllllll}\n",
       "  & X1 & X2 & X3 & X4 & X5 & X6 & X7 & X8 & Y1 & Y2\\\\\n",
       "  & <dbl> & <dbl> & <dbl> & <dbl> & <dbl> & <dbl> & <dbl> & <dbl> & <dbl> & <dbl>\\\\\n",
       "\\hline\n",
       "\t1 & 0.98 & 514.5 & 294 & 110.25 & 7 & 2 & 0 & 0 & 15.55 & 21.33\\\\\n",
       "\t2 & 0.98 & 514.5 & 294 & 110.25 & 7 & 3 & 0 & 0 & 15.55 & 21.33\\\\\n",
       "\t3 & 0.98 & 514.5 & 294 & 110.25 & 7 & 4 & 0 & 0 & 15.55 & 21.33\\\\\n",
       "\\end{tabular}\n"
      ],
      "text/markdown": [
       "\n",
       "A data.frame: 3 × 10\n",
       "\n",
       "| <!--/--> | X1 &lt;dbl&gt; | X2 &lt;dbl&gt; | X3 &lt;dbl&gt; | X4 &lt;dbl&gt; | X5 &lt;dbl&gt; | X6 &lt;dbl&gt; | X7 &lt;dbl&gt; | X8 &lt;dbl&gt; | Y1 &lt;dbl&gt; | Y2 &lt;dbl&gt; |\n",
       "|---|---|---|---|---|---|---|---|---|---|---|\n",
       "| 1 | 0.98 | 514.5 | 294 | 110.25 | 7 | 2 | 0 | 0 | 15.55 | 21.33 |\n",
       "| 2 | 0.98 | 514.5 | 294 | 110.25 | 7 | 3 | 0 | 0 | 15.55 | 21.33 |\n",
       "| 3 | 0.98 | 514.5 | 294 | 110.25 | 7 | 4 | 0 | 0 | 15.55 | 21.33 |\n",
       "\n"
      ],
      "text/plain": [
       "  X1   X2    X3  X4     X5 X6 X7 X8 Y1    Y2   \n",
       "1 0.98 514.5 294 110.25 7  2  0  0  15.55 21.33\n",
       "2 0.98 514.5 294 110.25 7  3  0  0  15.55 21.33\n",
       "3 0.98 514.5 294 110.25 7  4  0  0  15.55 21.33"
      ]
     },
     "metadata": {},
     "output_type": "display_data"
    }
   ],
   "source": [
    "head( df, 3 )"
   ]
  },
  {
   "cell_type": "markdown",
   "metadata": {},
   "source": [
    "Revisión de datos perdidos"
   ]
  },
  {
   "cell_type": "code",
   "execution_count": 7,
   "metadata": {
    "vscode": {
     "languageId": "r"
    }
   },
   "outputs": [
    {
     "data": {
      "text/html": [
       "<style>\n",
       ".dl-inline {width: auto; margin:0; padding: 0}\n",
       ".dl-inline>dt, .dl-inline>dd {float: none; width: auto; display: inline-block}\n",
       ".dl-inline>dt::after {content: \":\\0020\"; padding-right: .5ex}\n",
       ".dl-inline>dt:not(:first-of-type) {padding-left: .5ex}\n",
       "</style><dl class=dl-inline><dt>X1</dt><dd>0</dd><dt>X2</dt><dd>0</dd><dt>X3</dt><dd>0</dd><dt>X4</dt><dd>0</dd><dt>X5</dt><dd>0</dd><dt>X6</dt><dd>0</dd><dt>X7</dt><dd>0</dd><dt>X8</dt><dd>0</dd><dt>Y1</dt><dd>0</dd><dt>Y2</dt><dd>0</dd></dl>\n"
      ],
      "text/latex": [
       "\\begin{description*}\n",
       "\\item[X1] 0\n",
       "\\item[X2] 0\n",
       "\\item[X3] 0\n",
       "\\item[X4] 0\n",
       "\\item[X5] 0\n",
       "\\item[X6] 0\n",
       "\\item[X7] 0\n",
       "\\item[X8] 0\n",
       "\\item[Y1] 0\n",
       "\\item[Y2] 0\n",
       "\\end{description*}\n"
      ],
      "text/markdown": [
       "X1\n",
       ":   0X2\n",
       ":   0X3\n",
       ":   0X4\n",
       ":   0X5\n",
       ":   0X6\n",
       ":   0X7\n",
       ":   0X8\n",
       ":   0Y1\n",
       ":   0Y2\n",
       ":   0\n",
       "\n"
      ],
      "text/plain": [
       "X1 X2 X3 X4 X5 X6 X7 X8 Y1 Y2 \n",
       " 0  0  0  0  0  0  0  0  0  0 "
      ]
     },
     "metadata": {},
     "output_type": "display_data"
    }
   ],
   "source": [
    "colSums(is.na(df))"
   ]
  },
  {
   "cell_type": "code",
   "execution_count": 8,
   "metadata": {
    "vscode": {
     "languageId": "r"
    }
   },
   "outputs": [
    {
     "name": "stdout",
     "output_type": "stream",
     "text": [
      "'data.frame':\t768 obs. of  8 variables:\n",
      " $ X1: num  0.98 0.98 0.98 0.98 0.9 0.9 0.9 0.9 0.86 0.86 ...\n",
      " $ X2: num  514 514 514 514 564 ...\n",
      " $ X3: num  294 294 294 294 318 ...\n",
      " $ X4: num  110 110 110 110 122 ...\n",
      " $ X5: num  7 7 7 7 7 7 7 7 7 7 ...\n",
      " $ X6: num  2 3 4 5 2 3 4 5 2 3 ...\n",
      " $ X7: num  0 0 0 0 0 0 0 0 0 0 ...\n",
      " $ X8: num  0 0 0 0 0 0 0 0 0 0 ...\n"
     ]
    }
   ],
   "source": [
    "str(df[, c(1:8)])\n"
   ]
  },
  {
   "cell_type": "markdown",
   "metadata": {},
   "source": [
    "# 2. Pre-procesamiento del dataset"
   ]
  },
  {
   "cell_type": "markdown",
   "metadata": {},
   "source": [
    "\n",
    "El tratamiento de datos es una etapa crítica en el análisis de datos y el modelado predictivo. Consiste en la preparación y transformación de datos brutos en un formato adecuado para su análisis. Algunas de las tareas comunes en el tratamiento de datos incluyen:\n",
    "\n",
    "- Identificación y corrección de errores, valores perdidos y datos atípicos.\n",
    "- Cambio del formato o tipo de los datos para adecuarlos a los requisitos del análisis. Por ejemplo, convertir factores a variables numéricas.\n",
    "- Ajuste de las escalas de los datos para asegurar que todas las variables contribuyan equitativamente al análisis.\n"
   ]
  },
  {
   "cell_type": "code",
   "execution_count": 9,
   "metadata": {
    "vscode": {
     "languageId": "r"
    }
   },
   "outputs": [
    {
     "data": {
      "text/plain": [
       "Importance of components:\n",
       "                          PC1    PC2    PC3    PC4     PC5     PC6     PC7\n",
       "Standard deviation     1.9243 1.1135 1.1013 1.0000 0.88715 0.22968 0.06675\n",
       "Proportion of Variance 0.4629 0.1550 0.1516 0.1250 0.09838 0.00659 0.00056\n",
       "Cumulative Proportion  0.4629 0.6179 0.7695 0.8945 0.99285 0.99944 1.00000\n",
       "                             PC8\n",
       "Standard deviation     4.667e-15\n",
       "Proportion of Variance 0.000e+00\n",
       "Cumulative Proportion  1.000e+00"
      ]
     },
     "metadata": {},
     "output_type": "display_data"
    }
   ],
   "source": [
    "data_raw <- data.frame(lapply(df, function(x) {\n",
    "  if (is.factor(x)) as.numeric(as.character(x)) else x\n",
    "}))\n",
    "data <- data_raw[, c(1:8)]\n",
    "sm_pca <- prcomp(data, center=TRUE, scale=TRUE)\n",
    "summary( sm_pca )"
   ]
  },
  {
   "cell_type": "markdown",
   "metadata": {},
   "source": [
    "Se establecen rangos para Y1 según cuartiles"
   ]
  },
  {
   "cell_type": "code",
   "execution_count": 10,
   "metadata": {
    "vscode": {
     "languageId": "r"
    }
   },
   "outputs": [
    {
     "data": {
      "text/html": [
       "6.01"
      ],
      "text/latex": [
       "6.01"
      ],
      "text/markdown": [
       "6.01"
      ],
      "text/plain": [
       "[1] 6.01"
      ]
     },
     "metadata": {},
     "output_type": "display_data"
    },
    {
     "data": {
      "text/html": [
       "43.1"
      ],
      "text/latex": [
       "43.1"
      ],
      "text/markdown": [
       "43.1"
      ],
      "text/plain": [
       "[1] 43.1"
      ]
     },
     "metadata": {},
     "output_type": "display_data"
    }
   ],
   "source": [
    "min_y1 <- min(data_raw$Y1, na.rm = TRUE)\n",
    "max_y1 <- max(data_raw$Y1, na.rm = TRUE)\n",
    "\n",
    "min_y1\n",
    "max_y1\n",
    "\n"
   ]
  },
  {
   "cell_type": "code",
   "execution_count": 11,
   "metadata": {
    "vscode": {
     "languageId": "r"
    }
   },
   "outputs": [],
   "source": [
    "n_intervals <- 4\n",
    "\n",
    "# Crear los intervalos\n",
    "breaks <- seq(min_y1, max_y1, length.out = n_intervals + 1)\n",
    "labels <- paste0(\"Rango \", seq(1, n_intervals))\n"
   ]
  },
  {
   "cell_type": "code",
   "execution_count": 12,
   "metadata": {
    "vscode": {
     "languageId": "r"
    }
   },
   "outputs": [
    {
     "data": {
      "text/plain": [
       "\n",
       "Rango 1 Rango 2 Rango 3 Rango 4 \n",
       "    309     129     210     120 "
      ]
     },
     "metadata": {},
     "output_type": "display_data"
    }
   ],
   "source": [
    "data_raw$Y1_group <- cut(data_raw$Y1, breaks = breaks, labels = labels, include.lowest = TRUE)\n",
    "table(data_raw$Y1_group)"
   ]
  },
  {
   "cell_type": "code",
   "execution_count": 13,
   "metadata": {
    "vscode": {
     "languageId": "r"
    }
   },
   "outputs": [
    {
     "data": {
      "text/html": [
       "768"
      ],
      "text/latex": [
       "768"
      ],
      "text/markdown": [
       "768"
      ],
      "text/plain": [
       "[1] 768"
      ]
     },
     "metadata": {},
     "output_type": "display_data"
    }
   ],
   "source": [
    "length(data_raw$Y1_group)"
   ]
  },
  {
   "cell_type": "markdown",
   "metadata": {},
   "source": [
    "### Gráfico de PCA"
   ]
  },
  {
   "cell_type": "code",
   "execution_count": 14,
   "metadata": {
    "vscode": {
     "languageId": "r"
    }
   },
   "outputs": [
    {
     "data": {
      "image/png": "[encoded data removed]",
      "text/plain": [
       "plot without title"
      ]
     },
     "metadata": {
      "image/png": {
       "height": 420,
       "width": 420
      }
     },
     "output_type": "display_data"
    }
   ],
   "source": [
    "sm_y1 <- as.factor(data_raw$Y1_group)\n",
    "ggbiplot( sm_pca, ellipse=TRUE, circle=TRUE, labels=sm_y1, groups = sm_y1,\n",
    "          varname.size=5, labels.size=6, var.scale = 1, obs.scale = 1) +\n",
    "          theme(legend.direction = 'horizontal', legend.position = 'top')"
   ]
  },
  {
   "cell_type": "markdown",
   "metadata": {},
   "source": [
    "La proporción de varianza explicada (PEV), del inglés \"Proportion Explained of Variance,\" es una métrica que permite identificar la variable o conjunto de variables que, con la mayor precisión y en el menor número de dimensiones posibles, describe el conjunto original de datos."
   ]
  },
  {
   "cell_type": "code",
   "execution_count": 15,
   "metadata": {
    "vscode": {
     "languageId": "r"
    }
   },
   "outputs": [
    {
     "data": {
      "text/html": [
       "<style>\n",
       ".list-inline {list-style: none; margin:0; padding: 0}\n",
       ".list-inline>li {display: inline-block}\n",
       ".list-inline>li:not(:last-child)::after {content: \"\\00b7\"; padding: 0 .5ex}\n",
       "</style>\n",
       "<ol class=list-inline><li>0.462867411104932</li><li>0.617848824988375</li><li>0.769469352583024</li><li>0.894469352583024</li><li>0.992848824988375</li><li>0.999443060875375</li><li>1</li><li>1</li></ol>\n"
      ],
      "text/latex": [
       "\\begin{enumerate*}\n",
       "\\item 0.462867411104932\n",
       "\\item 0.617848824988375\n",
       "\\item 0.769469352583024\n",
       "\\item 0.894469352583024\n",
       "\\item 0.992848824988375\n",
       "\\item 0.999443060875375\n",
       "\\item 1\n",
       "\\item 1\n",
       "\\end{enumerate*}\n"
      ],
      "text/markdown": [
       "1. 0.462867411104932\n",
       "2. 0.617848824988375\n",
       "3. 0.769469352583024\n",
       "4. 0.894469352583024\n",
       "5. 0.992848824988375\n",
       "6. 0.999443060875375\n",
       "7. 1\n",
       "8. 1\n",
       "\n",
       "\n"
      ],
      "text/plain": [
       "[1] 0.4628674 0.6178488 0.7694694 0.8944694 0.9928488 0.9994431 1.0000000\n",
       "[8] 1.0000000"
      ]
     },
     "metadata": {},
     "output_type": "display_data"
    }
   ],
   "source": [
    "pv <- sm_pca$sdev^2 / sum(sm_pca$sdev^2)\n",
    "pev <- cumsum(pv)\n",
    "pev"
   ]
  },
  {
   "cell_type": "code",
   "execution_count": 16,
   "metadata": {
    "vscode": {
     "languageId": "r"
    }
   },
   "outputs": [
    {
     "data": {
      "image/png": "[encoded data removed]",
      "text/plain": [
       "plot without title"
      ]
     },
     "metadata": {
      "image/png": {
       "height": 420,
       "width": 420
      }
     },
     "output_type": "display_data"
    }
   ],
   "source": [
    "ggplot(data = data.frame(pev, pc = 1:8),\n",
    "       aes(x = pc, y = pev, group = 1)) +\n",
    "       geom_point() +\n",
    "       geom_line() +\n",
    "       ggtitle(\"PEV Acumulada\")+\n",
    "       theme_bw() +\n",
    "       labs(x = \"Componente principal\",\n",
    "            y = \"Prop. varianza explicada acumulada\")"
   ]
  },
  {
   "cell_type": "markdown",
   "metadata": {},
   "source": [
    "Los resultados muestran que un PEV acumulado del 85% se obtiene utilizando cinco variables. Alternativamente, se podrían emplear cuatro dimensiones que en conjunto explican el 80% de la información original. No obstante, consideramos adecuado utilizar el 5% adicional sobre el 80% para mejorar la precisión en estudios futuros."
   ]
  },
  {
   "cell_type": "markdown",
   "metadata": {},
   "source": [
    "### Análisis de variables\n",
    "\n",
    "El siguiente gráfico permite visualizar las principales variables que contribuyen con información en el PEV acumulado."
   ]
  },
  {
   "cell_type": "code",
   "execution_count": 17,
   "metadata": {
    "vscode": {
     "languageId": "r"
    }
   },
   "outputs": [
    {
     "data": {
      "image/png": "[encoded data removed]",
      "text/plain": [
       "plot without title"
      ]
     },
     "metadata": {
      "image/png": {
       "height": 420,
       "width": 420
      }
     },
     "output_type": "display_data"
    }
   ],
   "source": [
    "fviz_contrib(sm_pca, choice=\"var\", axes=1:5)"
   ]
  },
  {
   "cell_type": "markdown",
   "metadata": {},
   "source": [
    "\n",
    "### Reducción de Dimensionalidad\n",
    "\n",
    "Considerando lo anterior, se reduce la dimensionalidad del conjunto inicial de 10 a 5 variables. Además, se cambia el tipo de dato de la variable de salida Y1, ya que el objetivo del análisis de reglas de asociación es identificar patrones comunes dentro de un mismo grupo. En este contexto, Y2 no será considerada como variable de salida."
   ]
  },
  {
   "cell_type": "code",
   "execution_count": 19,
   "metadata": {
    "vscode": {
     "languageId": "r"
    }
   },
   "outputs": [
    {
     "data": {
      "text/html": [
       "<table class=\"dataframe\">\n",
       "<caption>A data.frame: 3 × 6</caption>\n",
       "<thead>\n",
       "\t<tr><th></th><th scope=col>X1</th><th scope=col>X2</th><th scope=col>X3</th><th scope=col>X4</th><th scope=col>X5</th><th scope=col>Y1_group</th></tr>\n",
       "\t<tr><th></th><th scope=col>&lt;dbl&gt;</th><th scope=col>&lt;dbl&gt;</th><th scope=col>&lt;dbl&gt;</th><th scope=col>&lt;dbl&gt;</th><th scope=col>&lt;dbl&gt;</th><th scope=col>&lt;fct&gt;</th></tr>\n",
       "</thead>\n",
       "<tbody>\n",
       "\t<tr><th scope=row>1</th><td>0.98</td><td>514.5</td><td>294</td><td>110.25</td><td>7</td><td>Rango 2</td></tr>\n",
       "\t<tr><th scope=row>2</th><td>0.98</td><td>514.5</td><td>294</td><td>110.25</td><td>7</td><td>Rango 2</td></tr>\n",
       "\t<tr><th scope=row>3</th><td>0.98</td><td>514.5</td><td>294</td><td>110.25</td><td>7</td><td>Rango 2</td></tr>\n",
       "</tbody>\n",
       "</table>\n"
      ],
      "text/latex": [
       "A data.frame: 3 × 6\n",
       "\\begin{tabular}{r|llllll}\n",
       "  & X1 & X2 & X3 & X4 & X5 & Y1\\_group\\\\\n",
       "  & <dbl> & <dbl> & <dbl> & <dbl> & <dbl> & <fct>\\\\\n",
       "\\hline\n",
       "\t1 & 0.98 & 514.5 & 294 & 110.25 & 7 & Rango 2\\\\\n",
       "\t2 & 0.98 & 514.5 & 294 & 110.25 & 7 & Rango 2\\\\\n",
       "\t3 & 0.98 & 514.5 & 294 & 110.25 & 7 & Rango 2\\\\\n",
       "\\end{tabular}\n"
      ],
      "text/markdown": [
       "\n",
       "A data.frame: 3 × 6\n",
       "\n",
       "| <!--/--> | X1 &lt;dbl&gt; | X2 &lt;dbl&gt; | X3 &lt;dbl&gt; | X4 &lt;dbl&gt; | X5 &lt;dbl&gt; | Y1_group &lt;fct&gt; |\n",
       "|---|---|---|---|---|---|---|\n",
       "| 1 | 0.98 | 514.5 | 294 | 110.25 | 7 | Rango 2 |\n",
       "| 2 | 0.98 | 514.5 | 294 | 110.25 | 7 | Rango 2 |\n",
       "| 3 | 0.98 | 514.5 | 294 | 110.25 | 7 | Rango 2 |\n",
       "\n"
      ],
      "text/plain": [
       "  X1   X2    X3  X4     X5 Y1_group\n",
       "1 0.98 514.5 294 110.25 7  Rango 2 \n",
       "2 0.98 514.5 294 110.25 7  Rango 2 \n",
       "3 0.98 514.5 294 110.25 7  Rango 2 "
      ]
     },
     "metadata": {},
     "output_type": "display_data"
    },
    {
     "data": {
      "text/html": [
       "<table class=\"dataframe\">\n",
       "<caption>A data.frame: 3 × 6</caption>\n",
       "<thead>\n",
       "\t<tr><th></th><th scope=col>X1</th><th scope=col>X2</th><th scope=col>X3</th><th scope=col>X4</th><th scope=col>X5</th><th scope=col>Y1_group</th></tr>\n",
       "\t<tr><th></th><th scope=col>&lt;dbl&gt;</th><th scope=col>&lt;dbl&gt;</th><th scope=col>&lt;dbl&gt;</th><th scope=col>&lt;dbl&gt;</th><th scope=col>&lt;dbl&gt;</th><th scope=col>&lt;fct&gt;</th></tr>\n",
       "</thead>\n",
       "<tbody>\n",
       "\t<tr><th scope=row>766</th><td>0.62</td><td>808.5</td><td>367.5</td><td>220.5</td><td>3.5</td><td>Rango 2</td></tr>\n",
       "\t<tr><th scope=row>767</th><td>0.62</td><td>808.5</td><td>367.5</td><td>220.5</td><td>3.5</td><td>Rango 2</td></tr>\n",
       "\t<tr><th scope=row>768</th><td>0.62</td><td>808.5</td><td>367.5</td><td>220.5</td><td>3.5</td><td>Rango 2</td></tr>\n",
       "</tbody>\n",
       "</table>\n"
      ],
      "text/latex": [
       "A data.frame: 3 × 6\n",
       "\\begin{tabular}{r|llllll}\n",
       "  & X1 & X2 & X3 & X4 & X5 & Y1\\_group\\\\\n",
       "  & <dbl> & <dbl> & <dbl> & <dbl> & <dbl> & <fct>\\\\\n",
       "\\hline\n",
       "\t766 & 0.62 & 808.5 & 367.5 & 220.5 & 3.5 & Rango 2\\\\\n",
       "\t767 & 0.62 & 808.5 & 367.5 & 220.5 & 3.5 & Rango 2\\\\\n",
       "\t768 & 0.62 & 808.5 & 367.5 & 220.5 & 3.5 & Rango 2\\\\\n",
       "\\end{tabular}\n"
      ],
      "text/markdown": [
       "\n",
       "A data.frame: 3 × 6\n",
       "\n",
       "| <!--/--> | X1 &lt;dbl&gt; | X2 &lt;dbl&gt; | X3 &lt;dbl&gt; | X4 &lt;dbl&gt; | X5 &lt;dbl&gt; | Y1_group &lt;fct&gt; |\n",
       "|---|---|---|---|---|---|---|\n",
       "| 766 | 0.62 | 808.5 | 367.5 | 220.5 | 3.5 | Rango 2 |\n",
       "| 767 | 0.62 | 808.5 | 367.5 | 220.5 | 3.5 | Rango 2 |\n",
       "| 768 | 0.62 | 808.5 | 367.5 | 220.5 | 3.5 | Rango 2 |\n",
       "\n"
      ],
      "text/plain": [
       "    X1   X2    X3    X4    X5  Y1_group\n",
       "766 0.62 808.5 367.5 220.5 3.5 Rango 2 \n",
       "767 0.62 808.5 367.5 220.5 3.5 Rango 2 \n",
       "768 0.62 808.5 367.5 220.5 3.5 Rango 2 "
      ]
     },
     "metadata": {},
     "output_type": "display_data"
    }
   ],
   "source": [
    "drops <- c( \"X6\", \"X7\", \"X8\", \"Y1\",\"Y2\")\n",
    "sm_reduced <- data_raw[ , !(names(data_raw) %in% drops)]\n",
    "sm_reduced$Y1_group <- as.factor( sm_reduced$Y1_group )\n",
    "\n",
    "head( sm_reduced, 3 )\n",
    "tail( sm_reduced, 3 )"
   ]
  },
  {
   "cell_type": "markdown",
   "metadata": {},
   "source": [
    "### Resumen de datos por clase"
   ]
  },
  {
   "cell_type": "code",
   "execution_count": 20,
   "metadata": {
    "vscode": {
     "languageId": "r"
    }
   },
   "outputs": [
    {
     "name": "stdout",
     "output_type": "stream",
     "text": [
      "=== Resumen de datos para Rango 1 ===\n",
      "       X1               X2              X3              X4              X5     \n",
      " Min.   :0.6200   Min.   :686.0   Min.   :245.0   Min.   :220.5   Min.   :3.5  \n",
      " 1st Qu.:0.6600   1st Qu.:710.5   1st Qu.:269.5   1st Qu.:220.5   1st Qu.:3.5  \n",
      " Median :0.6900   Median :735.0   Median :294.0   Median :220.5   Median :3.5  \n",
      " Mean   :0.6864   Mean   :737.3   Mean   :296.3   Mean   :220.5   Mean   :3.5  \n",
      " 3rd Qu.:0.7100   3rd Qu.:759.5   3rd Qu.:318.5   3rd Qu.:220.5   3rd Qu.:3.5  \n",
      " Max.   :0.7400   Max.   :808.5   Max.   :367.5   Max.   :220.5   Max.   :3.5  \n",
      "    Y1_group  \n",
      " Rango 1:309  \n",
      " Rango 2:  0  \n",
      " Rango 3:  0  \n",
      " Rango 4:  0  \n",
      "              \n",
      "              \n",
      "\n",
      "=== Resumen de datos para Rango 2 ===\n",
      "       X1               X2              X3              X4       \n",
      " Min.   :0.6200   Min.   :514.5   Min.   :294.0   Min.   :110.2  \n",
      " 1st Qu.:0.6400   1st Qu.:612.5   1st Qu.:318.5   1st Qu.:147.0  \n",
      " Median :0.6400   Median :784.0   Median :343.0   Median :220.5  \n",
      " Mean   :0.7409   Mean   :698.0   Mean   :332.2   Mean   :182.9  \n",
      " 3rd Qu.:0.8200   3rd Qu.:784.0   3rd Qu.:343.0   3rd Qu.:220.5  \n",
      " Max.   :0.9800   Max.   :808.5   Max.   :416.5   Max.   :220.5  \n",
      "       X5           Y1_group  \n",
      " Min.   :3.500   Rango 1:  0  \n",
      " 1st Qu.:3.500   Rango 2:129  \n",
      " Median :3.500   Rango 3:  0  \n",
      " Mean   :4.965   Rango 4:  0  \n",
      " 3rd Qu.:7.000                \n",
      " Max.   :7.000                \n",
      "\n",
      "=== Resumen de datos para Rango 3 ===\n",
      "       X1               X2              X3              X4              X5   \n",
      " Min.   :0.7600   Min.   :514.5   Min.   :294.0   Min.   :110.2   Min.   :7  \n",
      " 1st Qu.:0.8200   1st Qu.:563.5   1st Qu.:294.0   1st Qu.:122.5   1st Qu.:7  \n",
      " Median :0.8600   Median :588.0   Median :318.5   Median :122.5   Median :7  \n",
      " Mean   :0.8733   Mean   :581.2   Mean   :317.1   Mean   :132.1   Mean   :7  \n",
      " 3rd Qu.:0.9000   3rd Qu.:612.5   3rd Qu.:318.5   3rd Qu.:147.0   3rd Qu.:7  \n",
      " Max.   :0.9800   Max.   :661.5   Max.   :416.5   Max.   :147.0   Max.   :7  \n",
      "    Y1_group  \n",
      " Rango 1:  0  \n",
      " Rango 2:  0  \n",
      " Rango 3:210  \n",
      " Rango 4:  0  \n",
      "              \n",
      "              \n",
      "\n",
      "=== Resumen de datos para Rango 4 ===\n",
      "       X1               X2              X3              X4              X5   \n",
      " Min.   :0.7600   Min.   :563.5   Min.   :318.5   Min.   :122.5   Min.   :7  \n",
      " 1st Qu.:0.7600   1st Qu.:637.0   1st Qu.:343.0   1st Qu.:122.5   1st Qu.:7  \n",
      " Median :0.7900   Median :637.0   Median :343.0   Median :134.8   Median :7  \n",
      " Mean   :0.7983   Mean   :632.9   Mean   :363.4   Mean   :134.8   Mean   :7  \n",
      " 3rd Qu.:0.7900   3rd Qu.:661.5   3rd Qu.:416.5   3rd Qu.:147.0   3rd Qu.:7  \n",
      " Max.   :0.9000   Max.   :661.5   Max.   :416.5   Max.   :147.0   Max.   :7  \n",
      "    Y1_group  \n",
      " Rango 1:  0  \n",
      " Rango 2:  0  \n",
      " Rango 3:  0  \n",
      " Rango 4:120  \n",
      "              \n",
      "              \n",
      "\n"
     ]
    }
   ],
   "source": [
    "levels_y1 <- levels(sm_reduced$Y1_group)\n",
    "\n",
    "# Resumen de datos\n",
    "for (level in levels_y1) {\n",
    "  cat(paste0(\"=== Resumen de datos para \", level, \" ===\\n\"))\n",
    "  print(summary(sm_reduced[sm_reduced$Y1_group == level,]))\n",
    "  cat(\"\\n\")\n",
    "}\n"
   ]
  },
  {
   "cell_type": "markdown",
   "metadata": {},
   "source": [
    "# 3. Generación de modelo con PCA\n",
    "\n",
    "En una etapa de pre-procesamiento se utiliza un análisis de componentes principales para reducir la dimensionalidad del conjunto de datos. Como se describió en previas experiencias con el dataset, se utilizarán 5 variables de un total de 8 —sin tomar en cuenta la variable nominal Y1  e Y2— que permiten explicar el 85\\% de la varianza total. Con ello se generará un modelo predictivo con árboles de decisión."
   ]
  },
  {
   "cell_type": "markdown",
   "metadata": {},
   "source": [
    "### Conjuntos de entrenamiento y prueba\n",
    "Siguiendo el principio de Pareto, el conjunto de entrenamiento utilizará un 80\\% de los datos, mientras que el 20\\% restante será destinado para el conjunto de datos de prueba."
   ]
  },
  {
   "cell_type": "code",
   "execution_count": 21,
   "metadata": {
    "vscode": {
     "languageId": "r"
    }
   },
   "outputs": [],
   "source": [
    "set.seed( 1237 )\n",
    "\n",
    "sm_indexes   <- createDataPartition( sm_reduced$Y1_group, p=0.80, list = F )\n",
    "sm_train.set_reduced <- sm_reduced[sm_indexes,]\n",
    "sm_test.set_reduced  <- sm_reduced[-sm_indexes,]"
   ]
  },
  {
   "cell_type": "code",
   "execution_count": 22,
   "metadata": {
    "vscode": {
     "languageId": "r"
    }
   },
   "outputs": [
    {
     "data": {
      "text/plain": [
       "\n",
       "  Rango 1   Rango 2   Rango 3   Rango 4 \n",
       "0.4025974 0.1688312 0.2727273 0.1558442 "
      ]
     },
     "metadata": {},
     "output_type": "display_data"
    }
   ],
   "source": [
    "prop.table(table(sm_train.set_reduced$Y1_group))"
   ]
  },
  {
   "cell_type": "code",
   "execution_count": 23,
   "metadata": {
    "vscode": {
     "languageId": "r"
    }
   },
   "outputs": [
    {
     "data": {
      "text/plain": [
       "\n",
       "  Rango 1   Rango 2   Rango 3   Rango 4 \n",
       "0.4013158 0.1644737 0.2763158 0.1578947 "
      ]
     },
     "metadata": {},
     "output_type": "display_data"
    }
   ],
   "source": [
    "prop.table(table(sm_test.set_reduced$Y1_group))"
   ]
  },
  {
   "cell_type": "markdown",
   "metadata": {},
   "source": [
    "En general, ambos conjuntos de datos presentan distribuciones muy similares en cada rango. Las variaciones observadas son mínimas y no indican un desbalanceo significativo. El grupo más representado en ambos conjuntos es el Rango 1, seguido por el Rango 3. Los Rangos 2 y 4 tienen menor representación, con diferencias apenas perceptibles entre los dos conjuntos de datos. Estas ligeras variaciones sugieren una estabilidad en la distribución de los datos entre los dos conjuntos, sin un desbalanceo considerable en ninguno de los rangos."
   ]
  },
  {
   "cell_type": "markdown",
   "metadata": {},
   "source": [
    "### Análisis de conjuntos"
   ]
  },
  {
   "cell_type": "code",
   "execution_count": 24,
   "metadata": {
    "vscode": {
     "languageId": "r"
    }
   },
   "outputs": [
    {
     "data": {
      "text/html": [
       "<style>\n",
       ".list-inline {list-style: none; margin:0; padding: 0}\n",
       ".list-inline>li {display: inline-block}\n",
       ".list-inline>li:not(:last-child)::after {content: \"\\00b7\"; padding: 0 .5ex}\n",
       "</style>\n",
       "<ol class=list-inline><li>616</li><li>6</li></ol>\n"
      ],
      "text/latex": [
       "\\begin{enumerate*}\n",
       "\\item 616\n",
       "\\item 6\n",
       "\\end{enumerate*}\n"
      ],
      "text/markdown": [
       "1. 616\n",
       "2. 6\n",
       "\n",
       "\n"
      ],
      "text/plain": [
       "[1] 616   6"
      ]
     },
     "metadata": {},
     "output_type": "display_data"
    },
    {
     "data": {
      "text/html": [
       "<table class=\"dataframe\">\n",
       "<caption>A data.frame: 3 × 6</caption>\n",
       "<thead>\n",
       "\t<tr><th></th><th scope=col>X1</th><th scope=col>X2</th><th scope=col>X3</th><th scope=col>X4</th><th scope=col>X5</th><th scope=col>Y1_group</th></tr>\n",
       "\t<tr><th></th><th scope=col>&lt;dbl&gt;</th><th scope=col>&lt;dbl&gt;</th><th scope=col>&lt;dbl&gt;</th><th scope=col>&lt;dbl&gt;</th><th scope=col>&lt;dbl&gt;</th><th scope=col>&lt;fct&gt;</th></tr>\n",
       "</thead>\n",
       "<tbody>\n",
       "\t<tr><th scope=row>1</th><td>0.98</td><td>514.5</td><td>294</td><td>110.25</td><td>7</td><td>Rango 2</td></tr>\n",
       "\t<tr><th scope=row>3</th><td>0.98</td><td>514.5</td><td>294</td><td>110.25</td><td>7</td><td>Rango 2</td></tr>\n",
       "\t<tr><th scope=row>4</th><td>0.98</td><td>514.5</td><td>294</td><td>110.25</td><td>7</td><td>Rango 2</td></tr>\n",
       "</tbody>\n",
       "</table>\n"
      ],
      "text/latex": [
       "A data.frame: 3 × 6\n",
       "\\begin{tabular}{r|llllll}\n",
       "  & X1 & X2 & X3 & X4 & X5 & Y1\\_group\\\\\n",
       "  & <dbl> & <dbl> & <dbl> & <dbl> & <dbl> & <fct>\\\\\n",
       "\\hline\n",
       "\t1 & 0.98 & 514.5 & 294 & 110.25 & 7 & Rango 2\\\\\n",
       "\t3 & 0.98 & 514.5 & 294 & 110.25 & 7 & Rango 2\\\\\n",
       "\t4 & 0.98 & 514.5 & 294 & 110.25 & 7 & Rango 2\\\\\n",
       "\\end{tabular}\n"
      ],
      "text/markdown": [
       "\n",
       "A data.frame: 3 × 6\n",
       "\n",
       "| <!--/--> | X1 &lt;dbl&gt; | X2 &lt;dbl&gt; | X3 &lt;dbl&gt; | X4 &lt;dbl&gt; | X5 &lt;dbl&gt; | Y1_group &lt;fct&gt; |\n",
       "|---|---|---|---|---|---|---|\n",
       "| 1 | 0.98 | 514.5 | 294 | 110.25 | 7 | Rango 2 |\n",
       "| 3 | 0.98 | 514.5 | 294 | 110.25 | 7 | Rango 2 |\n",
       "| 4 | 0.98 | 514.5 | 294 | 110.25 | 7 | Rango 2 |\n",
       "\n"
      ],
      "text/plain": [
       "  X1   X2    X3  X4     X5 Y1_group\n",
       "1 0.98 514.5 294 110.25 7  Rango 2 \n",
       "3 0.98 514.5 294 110.25 7  Rango 2 \n",
       "4 0.98 514.5 294 110.25 7  Rango 2 "
      ]
     },
     "metadata": {},
     "output_type": "display_data"
    }
   ],
   "source": [
    "dim( sm_train.set_reduced )\n",
    "head( sm_train.set_reduced, 3 )"
   ]
  },
  {
   "cell_type": "code",
   "execution_count": 25,
   "metadata": {
    "vscode": {
     "languageId": "r"
    }
   },
   "outputs": [
    {
     "data": {
      "text/html": [
       "<style>\n",
       ".list-inline {list-style: none; margin:0; padding: 0}\n",
       ".list-inline>li {display: inline-block}\n",
       ".list-inline>li:not(:last-child)::after {content: \"\\00b7\"; padding: 0 .5ex}\n",
       "</style>\n",
       "<ol class=list-inline><li>152</li><li>6</li></ol>\n"
      ],
      "text/latex": [
       "\\begin{enumerate*}\n",
       "\\item 152\n",
       "\\item 6\n",
       "\\end{enumerate*}\n"
      ],
      "text/markdown": [
       "1. 152\n",
       "2. 6\n",
       "\n",
       "\n"
      ],
      "text/plain": [
       "[1] 152   6"
      ]
     },
     "metadata": {},
     "output_type": "display_data"
    },
    {
     "data": {
      "text/html": [
       "<table class=\"dataframe\">\n",
       "<caption>A data.frame: 3 × 6</caption>\n",
       "<thead>\n",
       "\t<tr><th></th><th scope=col>X1</th><th scope=col>X2</th><th scope=col>X3</th><th scope=col>X4</th><th scope=col>X5</th><th scope=col>Y1_group</th></tr>\n",
       "\t<tr><th></th><th scope=col>&lt;dbl&gt;</th><th scope=col>&lt;dbl&gt;</th><th scope=col>&lt;dbl&gt;</th><th scope=col>&lt;dbl&gt;</th><th scope=col>&lt;dbl&gt;</th><th scope=col>&lt;fct&gt;</th></tr>\n",
       "</thead>\n",
       "<tbody>\n",
       "\t<tr><th scope=row>2</th><td>0.98</td><td>514.5</td><td>294.0</td><td>110.25</td><td>7.0</td><td>Rango 2</td></tr>\n",
       "\t<tr><th scope=row>6</th><td>0.90</td><td>563.5</td><td>318.5</td><td>122.50</td><td>7.0</td><td>Rango 2</td></tr>\n",
       "\t<tr><th scope=row>26</th><td>0.74</td><td>686.0</td><td>245.0</td><td>220.50</td><td>3.5</td><td>Rango 1</td></tr>\n",
       "</tbody>\n",
       "</table>\n"
      ],
      "text/latex": [
       "A data.frame: 3 × 6\n",
       "\\begin{tabular}{r|llllll}\n",
       "  & X1 & X2 & X3 & X4 & X5 & Y1\\_group\\\\\n",
       "  & <dbl> & <dbl> & <dbl> & <dbl> & <dbl> & <fct>\\\\\n",
       "\\hline\n",
       "\t2 & 0.98 & 514.5 & 294.0 & 110.25 & 7.0 & Rango 2\\\\\n",
       "\t6 & 0.90 & 563.5 & 318.5 & 122.50 & 7.0 & Rango 2\\\\\n",
       "\t26 & 0.74 & 686.0 & 245.0 & 220.50 & 3.5 & Rango 1\\\\\n",
       "\\end{tabular}\n"
      ],
      "text/markdown": [
       "\n",
       "A data.frame: 3 × 6\n",
       "\n",
       "| <!--/--> | X1 &lt;dbl&gt; | X2 &lt;dbl&gt; | X3 &lt;dbl&gt; | X4 &lt;dbl&gt; | X5 &lt;dbl&gt; | Y1_group &lt;fct&gt; |\n",
       "|---|---|---|---|---|---|---|\n",
       "| 2 | 0.98 | 514.5 | 294.0 | 110.25 | 7.0 | Rango 2 |\n",
       "| 6 | 0.90 | 563.5 | 318.5 | 122.50 | 7.0 | Rango 2 |\n",
       "| 26 | 0.74 | 686.0 | 245.0 | 220.50 | 3.5 | Rango 1 |\n",
       "\n"
      ],
      "text/plain": [
       "   X1   X2    X3    X4     X5  Y1_group\n",
       "2  0.98 514.5 294.0 110.25 7.0 Rango 2 \n",
       "6  0.90 563.5 318.5 122.50 7.0 Rango 2 \n",
       "26 0.74 686.0 245.0 220.50 3.5 Rango 1 "
      ]
     },
     "metadata": {},
     "output_type": "display_data"
    }
   ],
   "source": [
    "dim( sm_test.set_reduced )\n",
    "head( sm_test.set_reduced, 3 )"
   ]
  },
  {
   "cell_type": "markdown",
   "metadata": {},
   "source": [
    "### Creación del modelo predictivo"
   ]
  },
  {
   "cell_type": "markdown",
   "metadata": {},
   "source": [
    "Se crearán dos modelos de clasificación utilizando el algoritmo C5.0 sobre un conjunto de datos reducido. Primero, se construirá un modelo de árbol de decisión para predecir la variable objetivo utilizando todas las demás variables disponibles. Luego, se generará un modelo basado en reglas con el mismo objetivo de predicción, especificando que se deben crear reglas explícitas en lugar de un árbol de decisión."
   ]
  },
  {
   "cell_type": "code",
   "execution_count": 26,
   "metadata": {
    "vscode": {
     "languageId": "r"
    }
   },
   "outputs": [],
   "source": [
    "#Modelo de clasificación con instancia de entrenamiento\n",
    "sm.tree_reduced <- C5.0( Y1_group ~ ., sm_train.set_reduced ) \n",
    "\n",
    "#Modelo basado en reglas\n",
    "tree.rules_reduced <- C5.0( x = sm_train.set_reduced[, -ncol(sm_train.set_reduced) ], y = sm_train.set_reduced$Y1_group, rules = T )"
   ]
  },
  {
   "cell_type": "code",
   "execution_count": 27,
   "metadata": {
    "vscode": {
     "languageId": "r"
    }
   },
   "outputs": [
    {
     "data": {
      "text/plain": [
       "\n",
       "Call:\n",
       "C5.0.formula(formula = Y1_group ~ ., data = sm_train.set_reduced)\n",
       "\n",
       "Classification Tree\n",
       "Number of samples: 616 \n",
       "Number of predictors: 5 \n",
       "\n",
       "Tree size: 5 \n",
       "\n",
       "Non-standard options: attempt to group attributes\n"
      ]
     },
     "metadata": {},
     "output_type": "display_data"
    }
   ],
   "source": [
    "sm.tree_reduced"
   ]
  },
  {
   "cell_type": "code",
   "execution_count": 28,
   "metadata": {
    "vscode": {
     "languageId": "r"
    }
   },
   "outputs": [
    {
     "name": "stdout",
     "output_type": "stream",
     "text": [
      "NULL\n"
     ]
    }
   ],
   "source": [
    "model_vars <- names(sm.tree_reduced$terms)\n",
    "print(model_vars)"
   ]
  },
  {
   "cell_type": "code",
   "execution_count": 29,
   "metadata": {
    "vscode": {
     "languageId": "r"
    }
   },
   "outputs": [
    {
     "data": {
      "text/plain": [
       "\n",
       "Call:\n",
       "C5.0.formula(formula = Y1_group ~ ., data = sm_train.set_reduced)\n",
       "\n",
       "\n",
       "C5.0 [Release 2.07 GPL Edition]  \tThu Jun 20 23:32:01 2024\n",
       "-------------------------------\n",
       "\n",
       "Class specified by attribute `outcome'\n",
       "\n",
       "Read 616 cases (6 attributes) from undefined.data\n",
       "\n",
       "Decision tree:\n",
       "\n",
       "X5 > 3.5:\n",
       ":...X3 <= 318.5: Rango 3 (201/57)\n",
       ":   X3 > 318.5: Rango 4 (107/26)\n",
       "X5 <= 3.5:\n",
       ":...X1 > 0.64: Rango 1 (208/6)\n",
       "    X1 <= 0.64:\n",
       "    :...X1 <= 0.62: Rango 1 (49/16)\n",
       "        X1 > 0.62: Rango 2 (51/13)\n",
       "\n",
       "\n",
       "Evaluation on training data (616 cases):\n",
       "\n",
       "\t    Decision Tree   \n",
       "\t  ----------------  \n",
       "\t  Size      Errors  \n",
       "\n",
       "\t     5  118(19.2%)   <<\n",
       "\n",
       "\n",
       "\t   (a)   (b)   (c)   (d)    <-classified as\n",
       "\t  ----  ----  ----  ----\n",
       "\t   235    13                (a): class Rango 1\n",
       "\t    22    38    42     2    (b): class Rango 2\n",
       "\t               144    24    (c): class Rango 3\n",
       "\t                15    81    (d): class Rango 4\n",
       "\n",
       "\n",
       "\tAttribute usage:\n",
       "\n",
       "\t100.00%\tX5\n",
       "\t 50.00%\tX1\n",
       "\t 50.00%\tX3\n",
       "\n",
       "\n",
       "Time: 0.0 secs\n"
      ]
     },
     "metadata": {},
     "output_type": "display_data"
    }
   ],
   "source": [
    "summary(sm.tree_reduced )"
   ]
  },
  {
   "cell_type": "markdown",
   "metadata": {},
   "source": [
    "### Predicciones\n",
    "\n",
    "Primero, se predecirán las clases para un conjunto de datos de prueba reducido, especificando el tipo de predicción como \"class\" para obtener las clases asignadas a cada instancia. Luego, se calcularán las probabilidades asociadas a cada clase para las mismas instancias de prueba, especificando el tipo de predicción como \"prob\" para obtener las probabilidades de pertenencia a cada clase."
   ]
  },
  {
   "cell_type": "code",
   "execution_count": 30,
   "metadata": {
    "vscode": {
     "languageId": "r"
    }
   },
   "outputs": [],
   "source": [
    "# Predicción de clases con instancia de pruebas\n",
    "tree.pred.class_reduced <- predict(sm.tree_reduced, sm_test.set_reduced[, -ncol(sm_test.set_reduced)], type = \"class\")\n",
    "\n",
    "# Probabilidad por clases\n",
    "tree.pred.prob_reduced <- predict(sm.tree_reduced, sm_test.set_reduced[, -ncol(sm_test.set_reduced)], type = \"prob\")\n"
   ]
  },
  {
   "cell_type": "code",
   "execution_count": 31,
   "metadata": {
    "vscode": {
     "languageId": "r"
    }
   },
   "outputs": [
    {
     "data": {
      "text/html": [
       "<table class=\"dataframe\">\n",
       "<caption>A matrix: 3 × 4 of type dbl</caption>\n",
       "<thead>\n",
       "\t<tr><th></th><th scope=col>Rango 1</th><th scope=col>Rango 2</th><th scope=col>Rango 3</th><th scope=col>Rango 4</th></tr>\n",
       "</thead>\n",
       "<tbody>\n",
       "\t<tr><th scope=row>2</th><td>0.001993056</td><td>0.20875659</td><td>0.714221420</td><td>0.0750289288</td></tr>\n",
       "\t<tr><th scope=row>6</th><td>0.001993056</td><td>0.20875659</td><td>0.714221420</td><td>0.0750289288</td></tr>\n",
       "\t<tr><th scope=row>26</th><td>0.968433481</td><td>0.02951594</td><td>0.001304915</td><td>0.0007456658</td></tr>\n",
       "</tbody>\n",
       "</table>\n"
      ],
      "text/latex": [
       "A matrix: 3 × 4 of type dbl\n",
       "\\begin{tabular}{r|llll}\n",
       "  & Rango 1 & Rango 2 & Rango 3 & Rango 4\\\\\n",
       "\\hline\n",
       "\t2 & 0.001993056 & 0.20875659 & 0.714221420 & 0.0750289288\\\\\n",
       "\t6 & 0.001993056 & 0.20875659 & 0.714221420 & 0.0750289288\\\\\n",
       "\t26 & 0.968433481 & 0.02951594 & 0.001304915 & 0.0007456658\\\\\n",
       "\\end{tabular}\n"
      ],
      "text/markdown": [
       "\n",
       "A matrix: 3 × 4 of type dbl\n",
       "\n",
       "| <!--/--> | Rango 1 | Rango 2 | Rango 3 | Rango 4 |\n",
       "|---|---|---|---|---|\n",
       "| 2 | 0.001993056 | 0.20875659 | 0.714221420 | 0.0750289288 |\n",
       "| 6 | 0.001993056 | 0.20875659 | 0.714221420 | 0.0750289288 |\n",
       "| 26 | 0.968433481 | 0.02951594 | 0.001304915 | 0.0007456658 |\n",
       "\n"
      ],
      "text/plain": [
       "   Rango 1     Rango 2    Rango 3     Rango 4     \n",
       "2  0.001993056 0.20875659 0.714221420 0.0750289288\n",
       "6  0.001993056 0.20875659 0.714221420 0.0750289288\n",
       "26 0.968433481 0.02951594 0.001304915 0.0007456658"
      ]
     },
     "metadata": {},
     "output_type": "display_data"
    }
   ],
   "source": [
    "head( tree.pred.prob_reduced, 3 )"
   ]
  },
  {
   "cell_type": "code",
   "execution_count": 32,
   "metadata": {
    "vscode": {
     "languageId": "r"
    }
   },
   "outputs": [
    {
     "data": {
      "text/html": [
       "<style>\n",
       ".list-inline {list-style: none; margin:0; padding: 0}\n",
       ".list-inline>li {display: inline-block}\n",
       ".list-inline>li:not(:last-child)::after {content: \"\\00b7\"; padding: 0 .5ex}\n",
       "</style>\n",
       "<ol class=list-inline><li>Rango 3</li><li>Rango 3</li><li>Rango 1</li><li>Rango 1</li><li>Rango 1</li><li>Rango 1</li><li>Rango 3</li><li>Rango 3</li><li>Rango 3</li><li>Rango 1</li><li>Rango 1</li><li>Rango 1</li><li>Rango 1</li><li>Rango 1</li><li>Rango 3</li><li>Rango 3</li><li>Rango 3</li><li>Rango 3</li><li>Rango 4</li><li>Rango 1</li><li>Rango 1</li><li>Rango 1</li><li>Rango 1</li><li>Rango 1</li><li>Rango 2</li><li>Rango 2</li><li>Rango 1</li><li>Rango 3</li><li>Rango 3</li><li>Rango 3</li><li>Rango 4</li><li>Rango 4</li><li>Rango 2</li><li>Rango 1</li><li>Rango 3</li><li>Rango 3</li><li>Rango 4</li><li>Rango 4</li><li>Rango 1</li><li>Rango 1</li><li>Rango 1</li><li>Rango 1</li><li>Rango 1</li><li>Rango 2</li><li>Rango 3</li><li>Rango 3</li><li>Rango 4</li><li>Rango 1</li><li>Rango 1</li><li>Rango 1</li><li>Rango 1</li><li>Rango 3</li><li>Rango 3</li><li>Rango 4</li><li>Rango 4</li><li>Rango 1</li><li>Rango 1</li><li>Rango 1</li><li>Rango 2</li><li>Rango 1</li><li>Rango 3</li><li>Rango 3</li><li>Rango 3</li><li>Rango 3</li><li>Rango 3</li><li>Rango 3</li><li>Rango 4</li><li>Rango 1</li><li>Rango 1</li><li>Rango 2</li><li>Rango 1</li><li>Rango 3</li><li>Rango 3</li><li>Rango 3</li><li>Rango 3</li><li>Rango 3</li><li>Rango 3</li><li>Rango 4</li><li>Rango 2</li><li>Rango 1</li><li>Rango 1</li><li>Rango 3</li><li>Rango 3</li><li>Rango 4</li><li>Rango 1</li><li>Rango 1</li><li>Rango 1</li><li>Rango 1</li><li>Rango 1</li><li>Rango 1</li><li>Rango 2</li><li>Rango 1</li><li>Rango 1</li><li>Rango 3</li><li>Rango 3</li><li>Rango 3</li><li>Rango 3</li><li>Rango 3</li><li>Rango 4</li><li>Rango 4</li><li>Rango 4</li><li>Rango 1</li><li>Rango 2</li><li>Rango 1</li><li>Rango 3</li><li>Rango 3</li><li>Rango 3</li><li>Rango 4</li><li>Rango 1</li><li>Rango 1</li><li>Rango 1</li><li>Rango 1</li><li>Rango 2</li><li>Rango 1</li><li>Rango 3</li><li>Rango 3</li><li>Rango 3</li><li>Rango 3</li><li>Rango 3</li><li>Rango 1</li><li>Rango 3</li><li>Rango 4</li><li>Rango 1</li><li>Rango 1</li><li>Rango 1</li><li>Rango 2</li><li>Rango 1</li><li>Rango 3</li><li>Rango 3</li><li>Rango 3</li><li>Rango 4</li><li>Rango 4</li><li>Rango 4</li><li>Rango 1</li><li>Rango 1</li><li>Rango 2</li><li>Rango 1</li><li>Rango 3</li><li>Rango 3</li><li>Rango 3</li><li>Rango 3</li><li>Rango 3</li><li>Rango 3</li><li>Rango 4</li><li>Rango 4</li><li>Rango 1</li><li>Rango 1</li><li>Rango 1</li><li>Rango 1</li><li>Rango 1</li><li>Rango 2</li><li>Rango 1</li></ol>\n",
       "\n",
       "<details>\n",
       "\t<summary style=display:list-item;cursor:pointer>\n",
       "\t\t<strong>Levels</strong>:\n",
       "\t</summary>\n",
       "\t<style>\n",
       "\t.list-inline {list-style: none; margin:0; padding: 0}\n",
       "\t.list-inline>li {display: inline-block}\n",
       "\t.list-inline>li:not(:last-child)::after {content: \"\\00b7\"; padding: 0 .5ex}\n",
       "\t</style>\n",
       "\t<ol class=list-inline><li>'Rango 1'</li><li>'Rango 2'</li><li>'Rango 3'</li><li>'Rango 4'</li></ol>\n",
       "</details>"
      ],
      "text/latex": [
       "\\begin{enumerate*}\n",
       "\\item Rango 3\n",
       "\\item Rango 3\n",
       "\\item Rango 1\n",
       "\\item Rango 1\n",
       "\\item Rango 1\n",
       "\\item Rango 1\n",
       "\\item Rango 3\n",
       "\\item Rango 3\n",
       "\\item Rango 3\n",
       "\\item Rango 1\n",
       "\\item Rango 1\n",
       "\\item Rango 1\n",
       "\\item Rango 1\n",
       "\\item Rango 1\n",
       "\\item Rango 3\n",
       "\\item Rango 3\n",
       "\\item Rango 3\n",
       "\\item Rango 3\n",
       "\\item Rango 4\n",
       "\\item Rango 1\n",
       "\\item Rango 1\n",
       "\\item Rango 1\n",
       "\\item Rango 1\n",
       "\\item Rango 1\n",
       "\\item Rango 2\n",
       "\\item Rango 2\n",
       "\\item Rango 1\n",
       "\\item Rango 3\n",
       "\\item Rango 3\n",
       "\\item Rango 3\n",
       "\\item Rango 4\n",
       "\\item Rango 4\n",
       "\\item Rango 2\n",
       "\\item Rango 1\n",
       "\\item Rango 3\n",
       "\\item Rango 3\n",
       "\\item Rango 4\n",
       "\\item Rango 4\n",
       "\\item Rango 1\n",
       "\\item Rango 1\n",
       "\\item Rango 1\n",
       "\\item Rango 1\n",
       "\\item Rango 1\n",
       "\\item Rango 2\n",
       "\\item Rango 3\n",
       "\\item Rango 3\n",
       "\\item Rango 4\n",
       "\\item Rango 1\n",
       "\\item Rango 1\n",
       "\\item Rango 1\n",
       "\\item Rango 1\n",
       "\\item Rango 3\n",
       "\\item Rango 3\n",
       "\\item Rango 4\n",
       "\\item Rango 4\n",
       "\\item Rango 1\n",
       "\\item Rango 1\n",
       "\\item Rango 1\n",
       "\\item Rango 2\n",
       "\\item Rango 1\n",
       "\\item Rango 3\n",
       "\\item Rango 3\n",
       "\\item Rango 3\n",
       "\\item Rango 3\n",
       "\\item Rango 3\n",
       "\\item Rango 3\n",
       "\\item Rango 4\n",
       "\\item Rango 1\n",
       "\\item Rango 1\n",
       "\\item Rango 2\n",
       "\\item Rango 1\n",
       "\\item Rango 3\n",
       "\\item Rango 3\n",
       "\\item Rango 3\n",
       "\\item Rango 3\n",
       "\\item Rango 3\n",
       "\\item Rango 3\n",
       "\\item Rango 4\n",
       "\\item Rango 2\n",
       "\\item Rango 1\n",
       "\\item Rango 1\n",
       "\\item Rango 3\n",
       "\\item Rango 3\n",
       "\\item Rango 4\n",
       "\\item Rango 1\n",
       "\\item Rango 1\n",
       "\\item Rango 1\n",
       "\\item Rango 1\n",
       "\\item Rango 1\n",
       "\\item Rango 1\n",
       "\\item Rango 2\n",
       "\\item Rango 1\n",
       "\\item Rango 1\n",
       "\\item Rango 3\n",
       "\\item Rango 3\n",
       "\\item Rango 3\n",
       "\\item Rango 3\n",
       "\\item Rango 3\n",
       "\\item Rango 4\n",
       "\\item Rango 4\n",
       "\\item Rango 4\n",
       "\\item Rango 1\n",
       "\\item Rango 2\n",
       "\\item Rango 1\n",
       "\\item Rango 3\n",
       "\\item Rango 3\n",
       "\\item Rango 3\n",
       "\\item Rango 4\n",
       "\\item Rango 1\n",
       "\\item Rango 1\n",
       "\\item Rango 1\n",
       "\\item Rango 1\n",
       "\\item Rango 2\n",
       "\\item Rango 1\n",
       "\\item Rango 3\n",
       "\\item Rango 3\n",
       "\\item Rango 3\n",
       "\\item Rango 3\n",
       "\\item Rango 3\n",
       "\\item Rango 1\n",
       "\\item Rango 3\n",
       "\\item Rango 4\n",
       "\\item Rango 1\n",
       "\\item Rango 1\n",
       "\\item Rango 1\n",
       "\\item Rango 2\n",
       "\\item Rango 1\n",
       "\\item Rango 3\n",
       "\\item Rango 3\n",
       "\\item Rango 3\n",
       "\\item Rango 4\n",
       "\\item Rango 4\n",
       "\\item Rango 4\n",
       "\\item Rango 1\n",
       "\\item Rango 1\n",
       "\\item Rango 2\n",
       "\\item Rango 1\n",
       "\\item Rango 3\n",
       "\\item Rango 3\n",
       "\\item Rango 3\n",
       "\\item Rango 3\n",
       "\\item Rango 3\n",
       "\\item Rango 3\n",
       "\\item Rango 4\n",
       "\\item Rango 4\n",
       "\\item Rango 1\n",
       "\\item Rango 1\n",
       "\\item Rango 1\n",
       "\\item Rango 1\n",
       "\\item Rango 1\n",
       "\\item Rango 2\n",
       "\\item Rango 1\n",
       "\\end{enumerate*}\n",
       "\n",
       "\\emph{Levels}: \\begin{enumerate*}\n",
       "\\item 'Rango 1'\n",
       "\\item 'Rango 2'\n",
       "\\item 'Rango 3'\n",
       "\\item 'Rango 4'\n",
       "\\end{enumerate*}\n"
      ],
      "text/markdown": [
       "1. Rango 3\n",
       "2. Rango 3\n",
       "3. Rango 1\n",
       "4. Rango 1\n",
       "5. Rango 1\n",
       "6. Rango 1\n",
       "7. Rango 3\n",
       "8. Rango 3\n",
       "9. Rango 3\n",
       "10. Rango 1\n",
       "11. Rango 1\n",
       "12. Rango 1\n",
       "13. Rango 1\n",
       "14. Rango 1\n",
       "15. Rango 3\n",
       "16. Rango 3\n",
       "17. Rango 3\n",
       "18. Rango 3\n",
       "19. Rango 4\n",
       "20. Rango 1\n",
       "21. Rango 1\n",
       "22. Rango 1\n",
       "23. Rango 1\n",
       "24. Rango 1\n",
       "25. Rango 2\n",
       "26. Rango 2\n",
       "27. Rango 1\n",
       "28. Rango 3\n",
       "29. Rango 3\n",
       "30. Rango 3\n",
       "31. Rango 4\n",
       "32. Rango 4\n",
       "33. Rango 2\n",
       "34. Rango 1\n",
       "35. Rango 3\n",
       "36. Rango 3\n",
       "37. Rango 4\n",
       "38. Rango 4\n",
       "39. Rango 1\n",
       "40. Rango 1\n",
       "41. Rango 1\n",
       "42. Rango 1\n",
       "43. Rango 1\n",
       "44. Rango 2\n",
       "45. Rango 3\n",
       "46. Rango 3\n",
       "47. Rango 4\n",
       "48. Rango 1\n",
       "49. Rango 1\n",
       "50. Rango 1\n",
       "51. Rango 1\n",
       "52. Rango 3\n",
       "53. Rango 3\n",
       "54. Rango 4\n",
       "55. Rango 4\n",
       "56. Rango 1\n",
       "57. Rango 1\n",
       "58. Rango 1\n",
       "59. Rango 2\n",
       "60. Rango 1\n",
       "61. Rango 3\n",
       "62. Rango 3\n",
       "63. Rango 3\n",
       "64. Rango 3\n",
       "65. Rango 3\n",
       "66. Rango 3\n",
       "67. Rango 4\n",
       "68. Rango 1\n",
       "69. Rango 1\n",
       "70. Rango 2\n",
       "71. Rango 1\n",
       "72. Rango 3\n",
       "73. Rango 3\n",
       "74. Rango 3\n",
       "75. Rango 3\n",
       "76. Rango 3\n",
       "77. Rango 3\n",
       "78. Rango 4\n",
       "79. Rango 2\n",
       "80. Rango 1\n",
       "81. Rango 1\n",
       "82. Rango 3\n",
       "83. Rango 3\n",
       "84. Rango 4\n",
       "85. Rango 1\n",
       "86. Rango 1\n",
       "87. Rango 1\n",
       "88. Rango 1\n",
       "89. Rango 1\n",
       "90. Rango 1\n",
       "91. Rango 2\n",
       "92. Rango 1\n",
       "93. Rango 1\n",
       "94. Rango 3\n",
       "95. Rango 3\n",
       "96. Rango 3\n",
       "97. Rango 3\n",
       "98. Rango 3\n",
       "99. Rango 4\n",
       "100. Rango 4\n",
       "101. Rango 4\n",
       "102. Rango 1\n",
       "103. Rango 2\n",
       "104. Rango 1\n",
       "105. Rango 3\n",
       "106. Rango 3\n",
       "107. Rango 3\n",
       "108. Rango 4\n",
       "109. Rango 1\n",
       "110. Rango 1\n",
       "111. Rango 1\n",
       "112. Rango 1\n",
       "113. Rango 2\n",
       "114. Rango 1\n",
       "115. Rango 3\n",
       "116. Rango 3\n",
       "117. Rango 3\n",
       "118. Rango 3\n",
       "119. Rango 3\n",
       "120. Rango 1\n",
       "121. Rango 3\n",
       "122. Rango 4\n",
       "123. Rango 1\n",
       "124. Rango 1\n",
       "125. Rango 1\n",
       "126. Rango 2\n",
       "127. Rango 1\n",
       "128. Rango 3\n",
       "129. Rango 3\n",
       "130. Rango 3\n",
       "131. Rango 4\n",
       "132. Rango 4\n",
       "133. Rango 4\n",
       "134. Rango 1\n",
       "135. Rango 1\n",
       "136. Rango 2\n",
       "137. Rango 1\n",
       "138. Rango 3\n",
       "139. Rango 3\n",
       "140. Rango 3\n",
       "141. Rango 3\n",
       "142. Rango 3\n",
       "143. Rango 3\n",
       "144. Rango 4\n",
       "145. Rango 4\n",
       "146. Rango 1\n",
       "147. Rango 1\n",
       "148. Rango 1\n",
       "149. Rango 1\n",
       "150. Rango 1\n",
       "151. Rango 2\n",
       "152. Rango 1\n",
       "\n",
       "\n",
       "\n",
       "**Levels**: 1. 'Rango 1'\n",
       "2. 'Rango 2'\n",
       "3. 'Rango 3'\n",
       "4. 'Rango 4'\n",
       "\n",
       "\n"
      ],
      "text/plain": [
       "  [1] Rango 3 Rango 3 Rango 1 Rango 1 Rango 1 Rango 1 Rango 3 Rango 3 Rango 3\n",
       " [10] Rango 1 Rango 1 Rango 1 Rango 1 Rango 1 Rango 3 Rango 3 Rango 3 Rango 3\n",
       " [19] Rango 4 Rango 1 Rango 1 Rango 1 Rango 1 Rango 1 Rango 2 Rango 2 Rango 1\n",
       " [28] Rango 3 Rango 3 Rango 3 Rango 4 Rango 4 Rango 2 Rango 1 Rango 3 Rango 3\n",
       " [37] Rango 4 Rango 4 Rango 1 Rango 1 Rango 1 Rango 1 Rango 1 Rango 2 Rango 3\n",
       " [46] Rango 3 Rango 4 Rango 1 Rango 1 Rango 1 Rango 1 Rango 3 Rango 3 Rango 4\n",
       " [55] Rango 4 Rango 1 Rango 1 Rango 1 Rango 2 Rango 1 Rango 3 Rango 3 Rango 3\n",
       " [64] Rango 3 Rango 3 Rango 3 Rango 4 Rango 1 Rango 1 Rango 2 Rango 1 Rango 3\n",
       " [73] Rango 3 Rango 3 Rango 3 Rango 3 Rango 3 Rango 4 Rango 2 Rango 1 Rango 1\n",
       " [82] Rango 3 Rango 3 Rango 4 Rango 1 Rango 1 Rango 1 Rango 1 Rango 1 Rango 1\n",
       " [91] Rango 2 Rango 1 Rango 1 Rango 3 Rango 3 Rango 3 Rango 3 Rango 3 Rango 4\n",
       "[100] Rango 4 Rango 4 Rango 1 Rango 2 Rango 1 Rango 3 Rango 3 Rango 3 Rango 4\n",
       "[109] Rango 1 Rango 1 Rango 1 Rango 1 Rango 2 Rango 1 Rango 3 Rango 3 Rango 3\n",
       "[118] Rango 3 Rango 3 Rango 1 Rango 3 Rango 4 Rango 1 Rango 1 Rango 1 Rango 2\n",
       "[127] Rango 1 Rango 3 Rango 3 Rango 3 Rango 4 Rango 4 Rango 4 Rango 1 Rango 1\n",
       "[136] Rango 2 Rango 1 Rango 3 Rango 3 Rango 3 Rango 3 Rango 3 Rango 3 Rango 4\n",
       "[145] Rango 4 Rango 1 Rango 1 Rango 1 Rango 1 Rango 1 Rango 2 Rango 1\n",
       "Levels: Rango 1 Rango 2 Rango 3 Rango 4"
      ]
     },
     "metadata": {},
     "output_type": "display_data"
    }
   ],
   "source": [
    "tree.pred.class_reduced"
   ]
  },
  {
   "cell_type": "code",
   "execution_count": 33,
   "metadata": {
    "vscode": {
     "languageId": "r"
    }
   },
   "outputs": [],
   "source": [
    "dev.new( width=10, height=10 )"
   ]
  },
  {
   "cell_type": "code",
   "execution_count": 34,
   "metadata": {
    "vscode": {
     "languageId": "r"
    }
   },
   "outputs": [
    {
     "data": {
      "image/png": "[encoded data removed]",
      "text/plain": [
       "plot without title"
      ]
     },
     "metadata": {
      "image/png": {
       "height": 480,
       "width": 600
      }
     },
     "output_type": "display_data"
    }
   ],
   "source": [
    "options(repr.plot.width=10, repr.plot.height=8)\n",
    "plot( sm.tree_reduced )"
   ]
  },
  {
   "cell_type": "code",
   "execution_count": 35,
   "metadata": {
    "vscode": {
     "languageId": "r"
    }
   },
   "outputs": [
    {
     "data": {
      "text/plain": [
       "\n",
       "Call:\n",
       "C5.0.default(x = sm_train.set_reduced[, -ncol(sm_train.set_reduced)], y\n",
       " = sm_train.set_reduced$Y1_group, rules = T)\n",
       "\n",
       "\n",
       "C5.0 [Release 2.07 GPL Edition]  \tThu Jun 20 23:32:01 2024\n",
       "-------------------------------\n",
       "\n",
       "Class specified by attribute `outcome'\n",
       "\n",
       "Read 616 cases (6 attributes) from undefined.data\n",
       "\n",
       "Rules:\n",
       "\n",
       "Rule 1: (308/60, lift 2.0)\n",
       "\tX5 <= 3.5\n",
       "\t->  class Rango 1  [0.803]\n",
       "\n",
       "Rule 2: (51/13, lift 4.4)\n",
       "\tX1 > 0.62\n",
       "\tX1 <= 0.64\n",
       "\t->  class Rango 2  [0.736]\n",
       "\n",
       "Rule 3: (100/46, lift 3.2)\n",
       "\tX1 <= 0.64\n",
       "\t->  class Rango 2  [0.539]\n",
       "\n",
       "Rule 4: (308/140, lift 2.0)\n",
       "\tX5 > 3.5\n",
       "\t->  class Rango 3  [0.545]\n",
       "\n",
       "Rule 5: (107/26, lift 4.8)\n",
       "\tX3 > 318.5\n",
       "\tX5 > 3.5\n",
       "\t->  class Rango 4  [0.752]\n",
       "\n",
       "Default class: Rango 1\n",
       "\n",
       "\n",
       "Evaluation on training data (616 cases):\n",
       "\n",
       "\t        Rules     \n",
       "\t  ----------------\n",
       "\t    No      Errors\n",
       "\n",
       "\t     5  118(19.2%)   <<\n",
       "\n",
       "\n",
       "\t   (a)   (b)   (c)   (d)    <-classified as\n",
       "\t  ----  ----  ----  ----\n",
       "\t   235    13                (a): class Rango 1\n",
       "\t    22    38    42     2    (b): class Rango 2\n",
       "\t               144    24    (c): class Rango 3\n",
       "\t                15    81    (d): class Rango 4\n",
       "\n",
       "\n",
       "\tAttribute usage:\n",
       "\n",
       "\t100.00%\tX5\n",
       "\t 17.37%\tX3\n",
       "\t 16.23%\tX1\n",
       "\n",
       "\n",
       "Time: 0.0 secs\n"
      ]
     },
     "metadata": {},
     "output_type": "display_data"
    }
   ],
   "source": [
    "summary( tree.rules_reduced )"
   ]
  },
  {
   "cell_type": "markdown",
   "metadata": {},
   "source": [
    "En este modelo de clasificación utilizando C5.0, se han generado cinco reglas basadas en los datos de entrenamiento. Cada regla define condiciones específicas sobre los atributos (`X1`, `X3`, `X5`) para clasificar los datos en una de las cuatro clases (`Rango 1`, `Rango 2`, `Rango 3`, `Rango 4`). La mayoría de los datos se clasifican utilizando el atributo `X5`, que es el más utilizado en las reglas (100% de uso).\n"
   ]
  },
  {
   "cell_type": "code",
   "execution_count": 36,
   "metadata": {
    "vscode": {
     "languageId": "r"
    }
   },
   "outputs": [
    {
     "name": "stdout",
     "output_type": "stream",
     "text": [
      "Confusion Matrix and Statistics\n",
      "\n",
      "         tree.pred.class_reduced\n",
      "          Rango 1 Rango 2 Rango 3 Rango 4\n",
      "  Rango 1      60       1       0       0\n",
      "  Rango 2       3      12      10       0\n",
      "  Rango 3       0       0      40       2\n",
      "  Rango 4       0       0       5      19\n",
      "\n",
      "Overall Statistics\n",
      "                                          \n",
      "               Accuracy : 0.8618          \n",
      "                 95% CI : (0.7966, 0.9124)\n",
      "    No Information Rate : 0.4145          \n",
      "    P-Value [Acc > NIR] : < 2.2e-16       \n",
      "                                          \n",
      "                  Kappa : 0.802           \n",
      "                                          \n",
      " Mcnemar's Test P-Value : NA              \n",
      "\n",
      "Statistics by Class:\n",
      "\n",
      "                     Class: Rango 1 Class: Rango 2 Class: Rango 3\n",
      "Sensitivity                  0.9524        0.92308         0.7273\n",
      "Specificity                  0.9888        0.90647         0.9794\n",
      "Pos Pred Value               0.9836        0.48000         0.9524\n",
      "Neg Pred Value               0.9670        0.99213         0.8636\n",
      "Prevalence                   0.4145        0.08553         0.3618\n",
      "Detection Rate               0.3947        0.07895         0.2632\n",
      "Detection Prevalence         0.4013        0.16447         0.2763\n",
      "Balanced Accuracy            0.9706        0.91478         0.8533\n",
      "                     Class: Rango 4\n",
      "Sensitivity                  0.9048\n",
      "Specificity                  0.9618\n",
      "Pos Pred Value               0.7917\n",
      "Neg Pred Value               0.9844\n",
      "Prevalence                   0.1382\n",
      "Detection Rate               0.1250\n",
      "Detection Prevalence         0.1579\n",
      "Balanced Accuracy            0.9333\n"
     ]
    }
   ],
   "source": [
    "conf.matrix.tree_reduced <- confusionMatrix(table( sm_test.set_reduced$Y1_group, tree.pred.class_reduced ))\n",
    "print( conf.matrix.tree_reduced )"
   ]
  },
  {
   "cell_type": "markdown",
   "metadata": {},
   "source": [
    "El análisis de la matriz de confusión y las estadísticas asociadas para el modelo de clasificación C5.0 muestra un alto nivel de precisión general (86.18%) con un intervalo de confianza del 95% entre 79.66% y 91.24%. El valor de Kappa es 0.802, indicando una buena concordancia entre las predicciones del modelo y las clases reales. En detalle, la sensibilidad por clase varía, siendo más alta para Rango 1 (95.24%) y Rango 4 (90.48%), mientras que Rango 3 tiene la menor sensibilidad (72.73%). La especificidad es alta en todas las clases, con valores superiores al 90%. Los valores predichos positivos y negativos también son altos, especialmente para Rango 1 y Rango 4. La prevalencia de las clases y las tasas de detección se alinean con la distribución de los datos, y la precisión balanceada por clase es alta, indicando un rendimiento robusto del modelo en la clasificación de cada rango."
   ]
  },
  {
   "cell_type": "markdown",
   "metadata": {},
   "source": [
    "## Boosting"
   ]
  },
  {
   "cell_type": "markdown",
   "metadata": {},
   "source": [
    "Para mejorar el modelo, se utiliza el concepto de Boosting, que combina varios modelos de bajo rendimiento para formar un conjunto más potente. Este enfoque aprovecha las fortalezas y debilidades complementarias de cada modelo, mejorando significativamente la precisión del clasificador. La función C5.0() en R permite añadir Boosting a nuestro árbol de decisión añadiendo un parámetro que especifica el número de árboles a usar."
   ]
  },
  {
   "cell_type": "code",
   "execution_count": 37,
   "metadata": {
    "vscode": {
     "languageId": "r"
    }
   },
   "outputs": [],
   "source": [
    "sm.tree_reduced <- C5.0(Y1_group ~ ., data = sm_train.set_reduced, trials = 10)\n"
   ]
  },
  {
   "cell_type": "code",
   "execution_count": 38,
   "metadata": {
    "vscode": {
     "languageId": "r"
    }
   },
   "outputs": [
    {
     "data": {
      "text/html": [
       "FALSE"
      ],
      "text/latex": [
       "FALSE"
      ],
      "text/markdown": [
       "FALSE"
      ],
      "text/plain": [
       "[1] FALSE"
      ]
     },
     "metadata": {},
     "output_type": "display_data"
    }
   ],
   "source": [
    "any(is.na(sm_test.set_reduced))\n",
    "\n",
    "sm_test.set_reduced <- na.omit(sm_test.set_reduced)\n"
   ]
  },
  {
   "cell_type": "markdown",
   "metadata": {},
   "source": [
    "Se realizan nuevamente las predicciones"
   ]
  },
  {
   "cell_type": "code",
   "execution_count": 39,
   "metadata": {
    "vscode": {
     "languageId": "r"
    }
   },
   "outputs": [],
   "source": [
    "# Predicción de clases con instancia de pruebas\n",
    "tree.pred.class_reduced <- predict(sm.tree_reduced, sm_test.set_reduced[, -ncol(sm_test.set_reduced)], type = \"class\")\n",
    "\n",
    "# Probabilidad por clases\n",
    "tree.pred.prob_reduced <- predict(sm.tree_reduced, sm_test.set_reduced[, -ncol(sm_test.set_reduced)], type = \"prob\")\n"
   ]
  },
  {
   "cell_type": "code",
   "execution_count": 40,
   "metadata": {
    "vscode": {
     "languageId": "r"
    }
   },
   "outputs": [
    {
     "data": {
      "text/plain": [
       "Confusion Matrix and Statistics\n",
       "\n",
       "          Reference\n",
       "Prediction Rango 1 Rango 2 Rango 3 Rango 4\n",
       "   Rango 1      61      15       0       0\n",
       "   Rango 2       0       0       0       0\n",
       "   Rango 3       0      10      40       5\n",
       "   Rango 4       0       0       2      19\n",
       "\n",
       "Overall Statistics\n",
       "                                         \n",
       "               Accuracy : 0.7895         \n",
       "                 95% CI : (0.716, 0.8513)\n",
       "    No Information Rate : 0.4013         \n",
       "    P-Value [Acc > NIR] : < 2.2e-16      \n",
       "                                         \n",
       "                  Kappa : 0.6893         \n",
       "                                         \n",
       " Mcnemar's Test P-Value : NA             \n",
       "\n",
       "Statistics by Class:\n",
       "\n",
       "                     Class: Rango 1 Class: Rango 2 Class: Rango 3\n",
       "Sensitivity                  1.0000         0.0000         0.9524\n",
       "Specificity                  0.8352         1.0000         0.8636\n",
       "Pos Pred Value               0.8026            NaN         0.7273\n",
       "Neg Pred Value               1.0000         0.8355         0.9794\n",
       "Prevalence                   0.4013         0.1645         0.2763\n",
       "Detection Rate               0.4013         0.0000         0.2632\n",
       "Detection Prevalence         0.5000         0.0000         0.3618\n",
       "Balanced Accuracy            0.9176         0.5000         0.9080\n",
       "                     Class: Rango 4\n",
       "Sensitivity                  0.7917\n",
       "Specificity                  0.9844\n",
       "Pos Pred Value               0.9048\n",
       "Neg Pred Value               0.9618\n",
       "Prevalence                   0.1579\n",
       "Detection Rate               0.1250\n",
       "Detection Prevalence         0.1382\n",
       "Balanced Accuracy            0.8880"
      ]
     },
     "metadata": {},
     "output_type": "display_data"
    }
   ],
   "source": [
    "\n",
    "confusionMatrix(data = tree.pred.class_reduced, reference = sm_test.set_reduced$Y1_group, positive = \"yes\")\n"
   ]
  },
  {
   "cell_type": "markdown",
   "metadata": {},
   "source": [
    "El análisis de la matriz de confusión y las estadísticas asociadas para el modelo de Boosting con C5.0 muestra una precisión general del 78.95% con un intervalo de confianza del 95% entre 71.60% y 85.13%. El valor de Kappa es 0.6893, indicando una buena concordancia entre las predicciones del modelo y las clases reales. En detalle, la sensibilidad por clase varía significativamente: Rango 1 tiene una sensibilidad del 100%, mientras que Rango 2 no tiene ninguna predicción correcta (0%), Rango 3 tiene una sensibilidad del 95.24%, y Rango 4 tiene una sensibilidad del 79.17%. La especificidad es alta en todas las clases, superando el 83%. Los valores predichos positivos son altos para Rango 1 y Rango 4, pero no se calculan para Rango 2 debido a la ausencia de predicciones correctas. La precisión balanceada por clase es alta para Rango 1, Rango 3, y Rango 4, indicando un rendimiento razonablemente robusto del modelo, excepto en Rango 2, donde el modelo no logró hacer predicciones correctas."
   ]
  },
  {
   "cell_type": "code",
   "execution_count": 187,
   "metadata": {
    "vscode": {
     "languageId": "r"
    }
   },
   "outputs": [],
   "source": [
    "#modeloc50_1 <- C5.0(data_training[-17], data_training$default, trials = 10) \n",
    "#data_predicted2 <- predict(modeloc50_1, data_test)\n",
    "#confusionMatrix(data = data_predicted2, reference = data_test$default, positive = \"yes\")"
   ]
  },
  {
   "cell_type": "markdown",
   "metadata": {},
   "source": [
    "\n",
    "A continuación, se evaluará el impacto del número de ensayos (trials) en la precisión del modelo de Boosting con C5.0 a través de diferentes números de ensayos: 1, 5, 10, 20, 50 y 100. En cada iteración, se ajustará un modelo de Boosting con el número especificado de ensayos utilizando el conjunto de datos de entrenamiento reducido (sm_train.set_reduced). Posteriormente, se realizará la predicción de las clases en el conjunto de prueba reducido (sm_test.set_reduced) y se calculará la matriz de confusión para obtener la precisión del modelo. Finalmente, se almacenarán los resultados de precisión en el data frame accuracy_results. La idea es analizar cómo varía la precisión del modelo en función del número de ensayos."
   ]
  },
  {
   "cell_type": "code",
   "execution_count": 41,
   "metadata": {
    "vscode": {
     "languageId": "r"
    }
   },
   "outputs": [
    {
     "name": "stdout",
     "output_type": "stream",
     "text": [
      "          Trials  Accuracy\n",
      "Accuracy       1 0.8618421\n",
      "Accuracy1      5 0.8026316\n",
      "Accuracy2     10 0.7894737\n",
      "Accuracy3     20 0.8618421\n",
      "Accuracy4     50 0.7894737\n",
      "Accuracy5    100 0.7894737\n"
     ]
    }
   ],
   "source": [
    "accuracy_results <- data.frame(Trials = integer(), Accuracy = double())\n",
    "\n",
    "for (trials in c(1, 5, 10, 20, 50, 100)) {\n",
    "  sm.tree_reduced <- C5.0(Y1_group ~ ., data = sm_train.set_reduced, trials = trials)\n",
    "  tree.pred.class_reduced <- predict(sm.tree_reduced, sm_test.set_reduced[, -ncol(sm_test.set_reduced)], type = \"class\")\n",
    "  \n",
    "  cm <- confusionMatrix(data = tree.pred.class_reduced, reference = sm_test.set_reduced$Y1_group, positive = \"yes\")\n",
    "  \n",
    "  accuracy_results <- rbind(accuracy_results, data.frame(Trials = trials, Accuracy = cm$overall[\"Accuracy\"]))\n",
    "}\n",
    "\n",
    "print(accuracy_results)"
   ]
  },
  {
   "cell_type": "markdown",
   "metadata": {},
   "source": [
    "Los resultados muestran que la precisión del modelo de Boosting varía con el número de ensayos. Con 1 y 20 ensayos, el modelo alcanza una precisión del 86.18%, mientras que con 5, 10, 50 y 100 ensayos, la precisión disminuye a aproximadamente 79%. Esto sugiere que un número moderado de ensayos (como 1 o 20) es más efectivo para este conjunto de datos, mientras que demasiados ensayos pueden introducir ruido o sobreajuste, perjudicando la precisión del modelo."
   ]
  },
  {
   "cell_type": "markdown",
   "metadata": {},
   "source": [
    "Se utiliará validación cruzada para sintonizar el modelo C5.0. Primero, se establece un control de entrenamiento con validación cruzada de 10 pliegues. Luego, se entrena el modelo utilizando diferentes números de ensayos para encontrar el mejor rendimiento. Finalmente, se selecciona el mejor modelo basado en la validación cruzada y se usa para predecir las clases en el conjunto de datos de prueba, evaluando su precisión mediante una matriz de confusión."
   ]
  },
  {
   "cell_type": "code",
   "execution_count": 42,
   "metadata": {
    "vscode": {
     "languageId": "r"
    }
   },
   "outputs": [
    {
     "name": "stderr",
     "output_type": "stream",
     "text": [
      "Warning message:\n",
      "\"'trials' should be <= 24 for this object. Predictions generated using 24 trials\"\n",
      "Warning message:\n",
      "\"'trials' should be <= 28 for this object. Predictions generated using 28 trials\"\n",
      "Warning message:\n",
      "\"'trials' should be <= 21 for this object. Predictions generated using 21 trials\"\n",
      "Warning message:\n",
      "\"'trials' should be <= 23 for this object. Predictions generated using 23 trials\"\n",
      "Warning message:\n",
      "\"'trials' should be <= 22 for this object. Predictions generated using 22 trials\"\n",
      "Warning message:\n",
      "\"'trials' should be <= 20 for this object. Predictions generated using 20 trials\"\n",
      "Warning message:\n",
      "\"'trials' should be <= 23 for this object. Predictions generated using 23 trials\"\n",
      "Warning message:\n",
      "\"'trials' should be <= 19 for this object. Predictions generated using 19 trials\"\n",
      "Warning message:\n",
      "\"'trials' should be <= 19 for this object. Predictions generated using 19 trials\"\n",
      "Warning message:\n",
      "\"'trials' should be <= 20 for this object. Predictions generated using 20 trials\"\n",
      "Warning message:\n",
      "\"'trials' should be <= 22 for this object. Predictions generated using 22 trials\"\n"
     ]
    },
    {
     "name": "stdout",
     "output_type": "stream",
     "text": [
      "  trials model winnow\n",
      "1      1  tree  FALSE\n",
      "Confusion Matrix and Statistics\n",
      "\n",
      "          Reference\n",
      "Prediction Rango 1 Rango 2 Rango 3 Rango 4\n",
      "   Rango 1      60       3       0       0\n",
      "   Rango 2       1      12       0       0\n",
      "   Rango 3       0      10      40       5\n",
      "   Rango 4       0       0       2      19\n",
      "\n",
      "Overall Statistics\n",
      "                                          \n",
      "               Accuracy : 0.8618          \n",
      "                 95% CI : (0.7966, 0.9124)\n",
      "    No Information Rate : 0.4013          \n",
      "    P-Value [Acc > NIR] : < 2.2e-16       \n",
      "                                          \n",
      "                  Kappa : 0.802           \n",
      "                                          \n",
      " Mcnemar's Test P-Value : NA              \n",
      "\n",
      "Statistics by Class:\n",
      "\n",
      "                     Class: Rango 1 Class: Rango 2 Class: Rango 3\n",
      "Sensitivity                  0.9836        0.48000         0.9524\n",
      "Specificity                  0.9670        0.99213         0.8636\n",
      "Pos Pred Value               0.9524        0.92308         0.7273\n",
      "Neg Pred Value               0.9888        0.90647         0.9794\n",
      "Prevalence                   0.4013        0.16447         0.2763\n",
      "Detection Rate               0.3947        0.07895         0.2632\n",
      "Detection Prevalence         0.4145        0.08553         0.3618\n",
      "Balanced Accuracy            0.9753        0.73606         0.9080\n",
      "                     Class: Rango 4\n",
      "Sensitivity                  0.7917\n",
      "Specificity                  0.9844\n",
      "Pos Pred Value               0.9048\n",
      "Neg Pred Value               0.9618\n",
      "Prevalence                   0.1579\n",
      "Detection Rate               0.1250\n",
      "Detection Prevalence         0.1382\n",
      "Balanced Accuracy            0.8880\n"
     ]
    }
   ],
   "source": [
    "train_control <- trainControl(method = \"cv\", number = 10)\n",
    "\n",
    "tuned_model <- train(\n",
    "  Y1_group ~ ., \n",
    "  data = sm_train.set_reduced, \n",
    "  method = \"C5.0\",\n",
    "  trControl = train_control,\n",
    "  tuneGrid = expand.grid(trials = c(1, 5, 10, 20, 50, 100), model = \"tree\", winnow = FALSE)\n",
    ")\n",
    "\n",
    "print(tuned_model$bestTune)\n",
    "\n",
    "best_model <- C5.0(Y1_group ~ ., data = sm_train.set_reduced, trials = tuned_model$bestTune$trials)\n",
    "tree.pred.class_reduced <- predict(best_model, sm_test.set_reduced[, -ncol(sm_test.set_reduced)], type = \"class\")\n",
    "\n",
    "cm <- confusionMatrix(data = tree.pred.class_reduced, reference = sm_test.set_reduced$Y1_group, positive = \"yes\")\n",
    "print(cm)"
   ]
  },
  {
   "cell_type": "markdown",
   "metadata": {},
   "source": [
    "Después de realizar la validación cruzada y la sintonización, el mejor modelo encontrado utiliza solo un ensayo (trials = 1). Los mensajes de advertencia indican que en algunas iteraciones de la validación cruzada, el número máximo de ensayos permitidos por el modelo fue menor que el especificado, y se utilizaron esos valores máximos permitidos para las predicciones."
   ]
  },
  {
   "cell_type": "markdown",
   "metadata": {},
   "source": [
    "# 4. No dimensionalidad (sin pca)"
   ]
  },
  {
   "cell_type": "markdown",
   "metadata": {},
   "source": [
    "Es fundamental realizar una comparación de métricas con un modelo que incluya todas las variables del conjunto de datos. Esto nos permitirá validar claramente los datos y evaluar si el desbalanceo de los datos o la varianza total explicada influyen en los resultados finales, si la diferencia en mejora es mínima en comparación con el conjunto reducido."
   ]
  },
  {
   "cell_type": "code",
   "execution_count": 43,
   "metadata": {
    "vscode": {
     "languageId": "r"
    }
   },
   "outputs": [
    {
     "data": {
      "text/html": [
       "<table class=\"dataframe\">\n",
       "<caption>A data.frame: 768 × 11</caption>\n",
       "<thead>\n",
       "\t<tr><th scope=col>X1</th><th scope=col>X2</th><th scope=col>X3</th><th scope=col>X4</th><th scope=col>X5</th><th scope=col>X6</th><th scope=col>X7</th><th scope=col>X8</th><th scope=col>Y1</th><th scope=col>Y2</th><th scope=col>Y1_group</th></tr>\n",
       "\t<tr><th scope=col>&lt;dbl&gt;</th><th scope=col>&lt;dbl&gt;</th><th scope=col>&lt;dbl&gt;</th><th scope=col>&lt;dbl&gt;</th><th scope=col>&lt;dbl&gt;</th><th scope=col>&lt;dbl&gt;</th><th scope=col>&lt;dbl&gt;</th><th scope=col>&lt;dbl&gt;</th><th scope=col>&lt;dbl&gt;</th><th scope=col>&lt;dbl&gt;</th><th scope=col>&lt;fct&gt;</th></tr>\n",
       "</thead>\n",
       "<tbody>\n",
       "\t<tr><td>0.98</td><td>514.5</td><td>294.0</td><td>110.25</td><td>7.0</td><td>2</td><td>0</td><td>0</td><td>15.55</td><td>21.33</td><td>Rango 2</td></tr>\n",
       "\t<tr><td>0.98</td><td>514.5</td><td>294.0</td><td>110.25</td><td>7.0</td><td>3</td><td>0</td><td>0</td><td>15.55</td><td>21.33</td><td>Rango 2</td></tr>\n",
       "\t<tr><td>0.98</td><td>514.5</td><td>294.0</td><td>110.25</td><td>7.0</td><td>4</td><td>0</td><td>0</td><td>15.55</td><td>21.33</td><td>Rango 2</td></tr>\n",
       "\t<tr><td>0.98</td><td>514.5</td><td>294.0</td><td>110.25</td><td>7.0</td><td>5</td><td>0</td><td>0</td><td>15.55</td><td>21.33</td><td>Rango 2</td></tr>\n",
       "\t<tr><td>0.90</td><td>563.5</td><td>318.5</td><td>122.50</td><td>7.0</td><td>2</td><td>0</td><td>0</td><td>20.84</td><td>28.28</td><td>Rango 2</td></tr>\n",
       "\t<tr><td>0.90</td><td>563.5</td><td>318.5</td><td>122.50</td><td>7.0</td><td>3</td><td>0</td><td>0</td><td>21.46</td><td>25.38</td><td>Rango 2</td></tr>\n",
       "\t<tr><td>0.90</td><td>563.5</td><td>318.5</td><td>122.50</td><td>7.0</td><td>4</td><td>0</td><td>0</td><td>20.71</td><td>25.16</td><td>Rango 2</td></tr>\n",
       "\t<tr><td>0.90</td><td>563.5</td><td>318.5</td><td>122.50</td><td>7.0</td><td>5</td><td>0</td><td>0</td><td>19.68</td><td>29.60</td><td>Rango 2</td></tr>\n",
       "\t<tr><td>0.86</td><td>588.0</td><td>294.0</td><td>147.00</td><td>7.0</td><td>2</td><td>0</td><td>0</td><td>19.50</td><td>27.30</td><td>Rango 2</td></tr>\n",
       "\t<tr><td>0.86</td><td>588.0</td><td>294.0</td><td>147.00</td><td>7.0</td><td>3</td><td>0</td><td>0</td><td>19.95</td><td>21.97</td><td>Rango 2</td></tr>\n",
       "\t<tr><td>0.86</td><td>588.0</td><td>294.0</td><td>147.00</td><td>7.0</td><td>4</td><td>0</td><td>0</td><td>19.34</td><td>23.49</td><td>Rango 2</td></tr>\n",
       "\t<tr><td>0.86</td><td>588.0</td><td>294.0</td><td>147.00</td><td>7.0</td><td>5</td><td>0</td><td>0</td><td>18.31</td><td>27.87</td><td>Rango 2</td></tr>\n",
       "\t<tr><td>0.82</td><td>612.5</td><td>318.5</td><td>147.00</td><td>7.0</td><td>2</td><td>0</td><td>0</td><td>17.05</td><td>23.77</td><td>Rango 2</td></tr>\n",
       "\t<tr><td>0.82</td><td>612.5</td><td>318.5</td><td>147.00</td><td>7.0</td><td>3</td><td>0</td><td>0</td><td>17.41</td><td>21.46</td><td>Rango 2</td></tr>\n",
       "\t<tr><td>0.82</td><td>612.5</td><td>318.5</td><td>147.00</td><td>7.0</td><td>4</td><td>0</td><td>0</td><td>16.95</td><td>21.16</td><td>Rango 2</td></tr>\n",
       "\t<tr><td>0.82</td><td>612.5</td><td>318.5</td><td>147.00</td><td>7.0</td><td>5</td><td>0</td><td>0</td><td>15.98</td><td>24.93</td><td>Rango 2</td></tr>\n",
       "\t<tr><td>0.79</td><td>637.0</td><td>343.0</td><td>147.00</td><td>7.0</td><td>2</td><td>0</td><td>0</td><td>28.52</td><td>37.73</td><td>Rango 3</td></tr>\n",
       "\t<tr><td>0.79</td><td>637.0</td><td>343.0</td><td>147.00</td><td>7.0</td><td>3</td><td>0</td><td>0</td><td>29.90</td><td>31.27</td><td>Rango 3</td></tr>\n",
       "\t<tr><td>0.79</td><td>637.0</td><td>343.0</td><td>147.00</td><td>7.0</td><td>4</td><td>0</td><td>0</td><td>29.63</td><td>30.93</td><td>Rango 3</td></tr>\n",
       "\t<tr><td>0.79</td><td>637.0</td><td>343.0</td><td>147.00</td><td>7.0</td><td>5</td><td>0</td><td>0</td><td>28.75</td><td>39.44</td><td>Rango 3</td></tr>\n",
       "\t<tr><td>0.76</td><td>661.5</td><td>416.5</td><td>122.50</td><td>7.0</td><td>2</td><td>0</td><td>0</td><td>24.77</td><td>29.79</td><td>Rango 3</td></tr>\n",
       "\t<tr><td>0.76</td><td>661.5</td><td>416.5</td><td>122.50</td><td>7.0</td><td>3</td><td>0</td><td>0</td><td>23.93</td><td>29.68</td><td>Rango 2</td></tr>\n",
       "\t<tr><td>0.76</td><td>661.5</td><td>416.5</td><td>122.50</td><td>7.0</td><td>4</td><td>0</td><td>0</td><td>24.77</td><td>29.79</td><td>Rango 3</td></tr>\n",
       "\t<tr><td>0.76</td><td>661.5</td><td>416.5</td><td>122.50</td><td>7.0</td><td>5</td><td>0</td><td>0</td><td>23.93</td><td>29.40</td><td>Rango 2</td></tr>\n",
       "\t<tr><td>0.74</td><td>686.0</td><td>245.0</td><td>220.50</td><td>3.5</td><td>2</td><td>0</td><td>0</td><td> 6.07</td><td>10.90</td><td>Rango 1</td></tr>\n",
       "\t<tr><td>0.74</td><td>686.0</td><td>245.0</td><td>220.50</td><td>3.5</td><td>3</td><td>0</td><td>0</td><td> 6.05</td><td>11.19</td><td>Rango 1</td></tr>\n",
       "\t<tr><td>0.74</td><td>686.0</td><td>245.0</td><td>220.50</td><td>3.5</td><td>4</td><td>0</td><td>0</td><td> 6.01</td><td>10.94</td><td>Rango 1</td></tr>\n",
       "\t<tr><td>0.74</td><td>686.0</td><td>245.0</td><td>220.50</td><td>3.5</td><td>5</td><td>0</td><td>0</td><td> 6.04</td><td>11.17</td><td>Rango 1</td></tr>\n",
       "\t<tr><td>0.71</td><td>710.5</td><td>269.5</td><td>220.50</td><td>3.5</td><td>2</td><td>0</td><td>0</td><td> 6.37</td><td>11.27</td><td>Rango 1</td></tr>\n",
       "\t<tr><td>0.71</td><td>710.5</td><td>269.5</td><td>220.50</td><td>3.5</td><td>3</td><td>0</td><td>0</td><td> 6.40</td><td>11.72</td><td>Rango 1</td></tr>\n",
       "\t<tr><td>⋮</td><td>⋮</td><td>⋮</td><td>⋮</td><td>⋮</td><td>⋮</td><td>⋮</td><td>⋮</td><td>⋮</td><td>⋮</td><td>⋮</td></tr>\n",
       "\t<tr><td>0.79</td><td>637.0</td><td>343.0</td><td>147.0</td><td>7.0</td><td>4</td><td>0.4</td><td>5</td><td>41.09</td><td>47.01</td><td>Rango 4</td></tr>\n",
       "\t<tr><td>0.79</td><td>637.0</td><td>343.0</td><td>147.0</td><td>7.0</td><td>5</td><td>0.4</td><td>5</td><td>40.79</td><td>44.87</td><td>Rango 4</td></tr>\n",
       "\t<tr><td>0.76</td><td>661.5</td><td>416.5</td><td>122.5</td><td>7.0</td><td>2</td><td>0.4</td><td>5</td><td>38.82</td><td>39.37</td><td>Rango 4</td></tr>\n",
       "\t<tr><td>0.76</td><td>661.5</td><td>416.5</td><td>122.5</td><td>7.0</td><td>3</td><td>0.4</td><td>5</td><td>39.72</td><td>39.80</td><td>Rango 4</td></tr>\n",
       "\t<tr><td>0.76</td><td>661.5</td><td>416.5</td><td>122.5</td><td>7.0</td><td>4</td><td>0.4</td><td>5</td><td>39.31</td><td>37.79</td><td>Rango 4</td></tr>\n",
       "\t<tr><td>0.76</td><td>661.5</td><td>416.5</td><td>122.5</td><td>7.0</td><td>5</td><td>0.4</td><td>5</td><td>39.86</td><td>38.18</td><td>Rango 4</td></tr>\n",
       "\t<tr><td>0.74</td><td>686.0</td><td>245.0</td><td>220.5</td><td>3.5</td><td>2</td><td>0.4</td><td>5</td><td>14.41</td><td>16.69</td><td>Rango 1</td></tr>\n",
       "\t<tr><td>0.74</td><td>686.0</td><td>245.0</td><td>220.5</td><td>3.5</td><td>3</td><td>0.4</td><td>5</td><td>14.19</td><td>16.62</td><td>Rango 1</td></tr>\n",
       "\t<tr><td>0.74</td><td>686.0</td><td>245.0</td><td>220.5</td><td>3.5</td><td>4</td><td>0.4</td><td>5</td><td>14.17</td><td>16.94</td><td>Rango 1</td></tr>\n",
       "\t<tr><td>0.74</td><td>686.0</td><td>245.0</td><td>220.5</td><td>3.5</td><td>5</td><td>0.4</td><td>5</td><td>14.39</td><td>16.70</td><td>Rango 1</td></tr>\n",
       "\t<tr><td>0.71</td><td>710.5</td><td>269.5</td><td>220.5</td><td>3.5</td><td>2</td><td>0.4</td><td>5</td><td>12.43</td><td>15.59</td><td>Rango 1</td></tr>\n",
       "\t<tr><td>0.71</td><td>710.5</td><td>269.5</td><td>220.5</td><td>3.5</td><td>3</td><td>0.4</td><td>5</td><td>12.63</td><td>14.58</td><td>Rango 1</td></tr>\n",
       "\t<tr><td>0.71</td><td>710.5</td><td>269.5</td><td>220.5</td><td>3.5</td><td>4</td><td>0.4</td><td>5</td><td>12.76</td><td>15.33</td><td>Rango 1</td></tr>\n",
       "\t<tr><td>0.71</td><td>710.5</td><td>269.5</td><td>220.5</td><td>3.5</td><td>5</td><td>0.4</td><td>5</td><td>12.42</td><td>15.31</td><td>Rango 1</td></tr>\n",
       "\t<tr><td>0.69</td><td>735.0</td><td>294.0</td><td>220.5</td><td>3.5</td><td>2</td><td>0.4</td><td>5</td><td>14.12</td><td>16.63</td><td>Rango 1</td></tr>\n",
       "\t<tr><td>0.69</td><td>735.0</td><td>294.0</td><td>220.5</td><td>3.5</td><td>3</td><td>0.4</td><td>5</td><td>14.28</td><td>15.87</td><td>Rango 1</td></tr>\n",
       "\t<tr><td>0.69</td><td>735.0</td><td>294.0</td><td>220.5</td><td>3.5</td><td>4</td><td>0.4</td><td>5</td><td>14.37</td><td>16.54</td><td>Rango 1</td></tr>\n",
       "\t<tr><td>0.69</td><td>735.0</td><td>294.0</td><td>220.5</td><td>3.5</td><td>5</td><td>0.4</td><td>5</td><td>14.21</td><td>16.74</td><td>Rango 1</td></tr>\n",
       "\t<tr><td>0.66</td><td>759.5</td><td>318.5</td><td>220.5</td><td>3.5</td><td>2</td><td>0.4</td><td>5</td><td>14.96</td><td>17.64</td><td>Rango 1</td></tr>\n",
       "\t<tr><td>0.66</td><td>759.5</td><td>318.5</td><td>220.5</td><td>3.5</td><td>3</td><td>0.4</td><td>5</td><td>14.92</td><td>17.79</td><td>Rango 1</td></tr>\n",
       "\t<tr><td>0.66</td><td>759.5</td><td>318.5</td><td>220.5</td><td>3.5</td><td>4</td><td>0.4</td><td>5</td><td>14.92</td><td>17.55</td><td>Rango 1</td></tr>\n",
       "\t<tr><td>0.66</td><td>759.5</td><td>318.5</td><td>220.5</td><td>3.5</td><td>5</td><td>0.4</td><td>5</td><td>15.16</td><td>18.06</td><td>Rango 1</td></tr>\n",
       "\t<tr><td>0.64</td><td>784.0</td><td>343.0</td><td>220.5</td><td>3.5</td><td>2</td><td>0.4</td><td>5</td><td>17.69</td><td>20.82</td><td>Rango 2</td></tr>\n",
       "\t<tr><td>0.64</td><td>784.0</td><td>343.0</td><td>220.5</td><td>3.5</td><td>3</td><td>0.4</td><td>5</td><td>18.19</td><td>20.21</td><td>Rango 2</td></tr>\n",
       "\t<tr><td>0.64</td><td>784.0</td><td>343.0</td><td>220.5</td><td>3.5</td><td>4</td><td>0.4</td><td>5</td><td>18.16</td><td>20.71</td><td>Rango 2</td></tr>\n",
       "\t<tr><td>0.64</td><td>784.0</td><td>343.0</td><td>220.5</td><td>3.5</td><td>5</td><td>0.4</td><td>5</td><td>17.88</td><td>21.40</td><td>Rango 2</td></tr>\n",
       "\t<tr><td>0.62</td><td>808.5</td><td>367.5</td><td>220.5</td><td>3.5</td><td>2</td><td>0.4</td><td>5</td><td>16.54</td><td>16.88</td><td>Rango 2</td></tr>\n",
       "\t<tr><td>0.62</td><td>808.5</td><td>367.5</td><td>220.5</td><td>3.5</td><td>3</td><td>0.4</td><td>5</td><td>16.44</td><td>17.11</td><td>Rango 2</td></tr>\n",
       "\t<tr><td>0.62</td><td>808.5</td><td>367.5</td><td>220.5</td><td>3.5</td><td>4</td><td>0.4</td><td>5</td><td>16.48</td><td>16.61</td><td>Rango 2</td></tr>\n",
       "\t<tr><td>0.62</td><td>808.5</td><td>367.5</td><td>220.5</td><td>3.5</td><td>5</td><td>0.4</td><td>5</td><td>16.64</td><td>16.03</td><td>Rango 2</td></tr>\n",
       "</tbody>\n",
       "</table>\n"
      ],
      "text/latex": [
       "A data.frame: 768 × 11\n",
       "\\begin{tabular}{lllllllllll}\n",
       " X1 & X2 & X3 & X4 & X5 & X6 & X7 & X8 & Y1 & Y2 & Y1\\_group\\\\\n",
       " <dbl> & <dbl> & <dbl> & <dbl> & <dbl> & <dbl> & <dbl> & <dbl> & <dbl> & <dbl> & <fct>\\\\\n",
       "\\hline\n",
       "\t 0.98 & 514.5 & 294.0 & 110.25 & 7.0 & 2 & 0 & 0 & 15.55 & 21.33 & Rango 2\\\\\n",
       "\t 0.98 & 514.5 & 294.0 & 110.25 & 7.0 & 3 & 0 & 0 & 15.55 & 21.33 & Rango 2\\\\\n",
       "\t 0.98 & 514.5 & 294.0 & 110.25 & 7.0 & 4 & 0 & 0 & 15.55 & 21.33 & Rango 2\\\\\n",
       "\t 0.98 & 514.5 & 294.0 & 110.25 & 7.0 & 5 & 0 & 0 & 15.55 & 21.33 & Rango 2\\\\\n",
       "\t 0.90 & 563.5 & 318.5 & 122.50 & 7.0 & 2 & 0 & 0 & 20.84 & 28.28 & Rango 2\\\\\n",
       "\t 0.90 & 563.5 & 318.5 & 122.50 & 7.0 & 3 & 0 & 0 & 21.46 & 25.38 & Rango 2\\\\\n",
       "\t 0.90 & 563.5 & 318.5 & 122.50 & 7.0 & 4 & 0 & 0 & 20.71 & 25.16 & Rango 2\\\\\n",
       "\t 0.90 & 563.5 & 318.5 & 122.50 & 7.0 & 5 & 0 & 0 & 19.68 & 29.60 & Rango 2\\\\\n",
       "\t 0.86 & 588.0 & 294.0 & 147.00 & 7.0 & 2 & 0 & 0 & 19.50 & 27.30 & Rango 2\\\\\n",
       "\t 0.86 & 588.0 & 294.0 & 147.00 & 7.0 & 3 & 0 & 0 & 19.95 & 21.97 & Rango 2\\\\\n",
       "\t 0.86 & 588.0 & 294.0 & 147.00 & 7.0 & 4 & 0 & 0 & 19.34 & 23.49 & Rango 2\\\\\n",
       "\t 0.86 & 588.0 & 294.0 & 147.00 & 7.0 & 5 & 0 & 0 & 18.31 & 27.87 & Rango 2\\\\\n",
       "\t 0.82 & 612.5 & 318.5 & 147.00 & 7.0 & 2 & 0 & 0 & 17.05 & 23.77 & Rango 2\\\\\n",
       "\t 0.82 & 612.5 & 318.5 & 147.00 & 7.0 & 3 & 0 & 0 & 17.41 & 21.46 & Rango 2\\\\\n",
       "\t 0.82 & 612.5 & 318.5 & 147.00 & 7.0 & 4 & 0 & 0 & 16.95 & 21.16 & Rango 2\\\\\n",
       "\t 0.82 & 612.5 & 318.5 & 147.00 & 7.0 & 5 & 0 & 0 & 15.98 & 24.93 & Rango 2\\\\\n",
       "\t 0.79 & 637.0 & 343.0 & 147.00 & 7.0 & 2 & 0 & 0 & 28.52 & 37.73 & Rango 3\\\\\n",
       "\t 0.79 & 637.0 & 343.0 & 147.00 & 7.0 & 3 & 0 & 0 & 29.90 & 31.27 & Rango 3\\\\\n",
       "\t 0.79 & 637.0 & 343.0 & 147.00 & 7.0 & 4 & 0 & 0 & 29.63 & 30.93 & Rango 3\\\\\n",
       "\t 0.79 & 637.0 & 343.0 & 147.00 & 7.0 & 5 & 0 & 0 & 28.75 & 39.44 & Rango 3\\\\\n",
       "\t 0.76 & 661.5 & 416.5 & 122.50 & 7.0 & 2 & 0 & 0 & 24.77 & 29.79 & Rango 3\\\\\n",
       "\t 0.76 & 661.5 & 416.5 & 122.50 & 7.0 & 3 & 0 & 0 & 23.93 & 29.68 & Rango 2\\\\\n",
       "\t 0.76 & 661.5 & 416.5 & 122.50 & 7.0 & 4 & 0 & 0 & 24.77 & 29.79 & Rango 3\\\\\n",
       "\t 0.76 & 661.5 & 416.5 & 122.50 & 7.0 & 5 & 0 & 0 & 23.93 & 29.40 & Rango 2\\\\\n",
       "\t 0.74 & 686.0 & 245.0 & 220.50 & 3.5 & 2 & 0 & 0 &  6.07 & 10.90 & Rango 1\\\\\n",
       "\t 0.74 & 686.0 & 245.0 & 220.50 & 3.5 & 3 & 0 & 0 &  6.05 & 11.19 & Rango 1\\\\\n",
       "\t 0.74 & 686.0 & 245.0 & 220.50 & 3.5 & 4 & 0 & 0 &  6.01 & 10.94 & Rango 1\\\\\n",
       "\t 0.74 & 686.0 & 245.0 & 220.50 & 3.5 & 5 & 0 & 0 &  6.04 & 11.17 & Rango 1\\\\\n",
       "\t 0.71 & 710.5 & 269.5 & 220.50 & 3.5 & 2 & 0 & 0 &  6.37 & 11.27 & Rango 1\\\\\n",
       "\t 0.71 & 710.5 & 269.5 & 220.50 & 3.5 & 3 & 0 & 0 &  6.40 & 11.72 & Rango 1\\\\\n",
       "\t ⋮ & ⋮ & ⋮ & ⋮ & ⋮ & ⋮ & ⋮ & ⋮ & ⋮ & ⋮ & ⋮\\\\\n",
       "\t 0.79 & 637.0 & 343.0 & 147.0 & 7.0 & 4 & 0.4 & 5 & 41.09 & 47.01 & Rango 4\\\\\n",
       "\t 0.79 & 637.0 & 343.0 & 147.0 & 7.0 & 5 & 0.4 & 5 & 40.79 & 44.87 & Rango 4\\\\\n",
       "\t 0.76 & 661.5 & 416.5 & 122.5 & 7.0 & 2 & 0.4 & 5 & 38.82 & 39.37 & Rango 4\\\\\n",
       "\t 0.76 & 661.5 & 416.5 & 122.5 & 7.0 & 3 & 0.4 & 5 & 39.72 & 39.80 & Rango 4\\\\\n",
       "\t 0.76 & 661.5 & 416.5 & 122.5 & 7.0 & 4 & 0.4 & 5 & 39.31 & 37.79 & Rango 4\\\\\n",
       "\t 0.76 & 661.5 & 416.5 & 122.5 & 7.0 & 5 & 0.4 & 5 & 39.86 & 38.18 & Rango 4\\\\\n",
       "\t 0.74 & 686.0 & 245.0 & 220.5 & 3.5 & 2 & 0.4 & 5 & 14.41 & 16.69 & Rango 1\\\\\n",
       "\t 0.74 & 686.0 & 245.0 & 220.5 & 3.5 & 3 & 0.4 & 5 & 14.19 & 16.62 & Rango 1\\\\\n",
       "\t 0.74 & 686.0 & 245.0 & 220.5 & 3.5 & 4 & 0.4 & 5 & 14.17 & 16.94 & Rango 1\\\\\n",
       "\t 0.74 & 686.0 & 245.0 & 220.5 & 3.5 & 5 & 0.4 & 5 & 14.39 & 16.70 & Rango 1\\\\\n",
       "\t 0.71 & 710.5 & 269.5 & 220.5 & 3.5 & 2 & 0.4 & 5 & 12.43 & 15.59 & Rango 1\\\\\n",
       "\t 0.71 & 710.5 & 269.5 & 220.5 & 3.5 & 3 & 0.4 & 5 & 12.63 & 14.58 & Rango 1\\\\\n",
       "\t 0.71 & 710.5 & 269.5 & 220.5 & 3.5 & 4 & 0.4 & 5 & 12.76 & 15.33 & Rango 1\\\\\n",
       "\t 0.71 & 710.5 & 269.5 & 220.5 & 3.5 & 5 & 0.4 & 5 & 12.42 & 15.31 & Rango 1\\\\\n",
       "\t 0.69 & 735.0 & 294.0 & 220.5 & 3.5 & 2 & 0.4 & 5 & 14.12 & 16.63 & Rango 1\\\\\n",
       "\t 0.69 & 735.0 & 294.0 & 220.5 & 3.5 & 3 & 0.4 & 5 & 14.28 & 15.87 & Rango 1\\\\\n",
       "\t 0.69 & 735.0 & 294.0 & 220.5 & 3.5 & 4 & 0.4 & 5 & 14.37 & 16.54 & Rango 1\\\\\n",
       "\t 0.69 & 735.0 & 294.0 & 220.5 & 3.5 & 5 & 0.4 & 5 & 14.21 & 16.74 & Rango 1\\\\\n",
       "\t 0.66 & 759.5 & 318.5 & 220.5 & 3.5 & 2 & 0.4 & 5 & 14.96 & 17.64 & Rango 1\\\\\n",
       "\t 0.66 & 759.5 & 318.5 & 220.5 & 3.5 & 3 & 0.4 & 5 & 14.92 & 17.79 & Rango 1\\\\\n",
       "\t 0.66 & 759.5 & 318.5 & 220.5 & 3.5 & 4 & 0.4 & 5 & 14.92 & 17.55 & Rango 1\\\\\n",
       "\t 0.66 & 759.5 & 318.5 & 220.5 & 3.5 & 5 & 0.4 & 5 & 15.16 & 18.06 & Rango 1\\\\\n",
       "\t 0.64 & 784.0 & 343.0 & 220.5 & 3.5 & 2 & 0.4 & 5 & 17.69 & 20.82 & Rango 2\\\\\n",
       "\t 0.64 & 784.0 & 343.0 & 220.5 & 3.5 & 3 & 0.4 & 5 & 18.19 & 20.21 & Rango 2\\\\\n",
       "\t 0.64 & 784.0 & 343.0 & 220.5 & 3.5 & 4 & 0.4 & 5 & 18.16 & 20.71 & Rango 2\\\\\n",
       "\t 0.64 & 784.0 & 343.0 & 220.5 & 3.5 & 5 & 0.4 & 5 & 17.88 & 21.40 & Rango 2\\\\\n",
       "\t 0.62 & 808.5 & 367.5 & 220.5 & 3.5 & 2 & 0.4 & 5 & 16.54 & 16.88 & Rango 2\\\\\n",
       "\t 0.62 & 808.5 & 367.5 & 220.5 & 3.5 & 3 & 0.4 & 5 & 16.44 & 17.11 & Rango 2\\\\\n",
       "\t 0.62 & 808.5 & 367.5 & 220.5 & 3.5 & 4 & 0.4 & 5 & 16.48 & 16.61 & Rango 2\\\\\n",
       "\t 0.62 & 808.5 & 367.5 & 220.5 & 3.5 & 5 & 0.4 & 5 & 16.64 & 16.03 & Rango 2\\\\\n",
       "\\end{tabular}\n"
      ],
      "text/markdown": [
       "\n",
       "A data.frame: 768 × 11\n",
       "\n",
       "| X1 &lt;dbl&gt; | X2 &lt;dbl&gt; | X3 &lt;dbl&gt; | X4 &lt;dbl&gt; | X5 &lt;dbl&gt; | X6 &lt;dbl&gt; | X7 &lt;dbl&gt; | X8 &lt;dbl&gt; | Y1 &lt;dbl&gt; | Y2 &lt;dbl&gt; | Y1_group &lt;fct&gt; |\n",
       "|---|---|---|---|---|---|---|---|---|---|---|\n",
       "| 0.98 | 514.5 | 294.0 | 110.25 | 7.0 | 2 | 0 | 0 | 15.55 | 21.33 | Rango 2 |\n",
       "| 0.98 | 514.5 | 294.0 | 110.25 | 7.0 | 3 | 0 | 0 | 15.55 | 21.33 | Rango 2 |\n",
       "| 0.98 | 514.5 | 294.0 | 110.25 | 7.0 | 4 | 0 | 0 | 15.55 | 21.33 | Rango 2 |\n",
       "| 0.98 | 514.5 | 294.0 | 110.25 | 7.0 | 5 | 0 | 0 | 15.55 | 21.33 | Rango 2 |\n",
       "| 0.90 | 563.5 | 318.5 | 122.50 | 7.0 | 2 | 0 | 0 | 20.84 | 28.28 | Rango 2 |\n",
       "| 0.90 | 563.5 | 318.5 | 122.50 | 7.0 | 3 | 0 | 0 | 21.46 | 25.38 | Rango 2 |\n",
       "| 0.90 | 563.5 | 318.5 | 122.50 | 7.0 | 4 | 0 | 0 | 20.71 | 25.16 | Rango 2 |\n",
       "| 0.90 | 563.5 | 318.5 | 122.50 | 7.0 | 5 | 0 | 0 | 19.68 | 29.60 | Rango 2 |\n",
       "| 0.86 | 588.0 | 294.0 | 147.00 | 7.0 | 2 | 0 | 0 | 19.50 | 27.30 | Rango 2 |\n",
       "| 0.86 | 588.0 | 294.0 | 147.00 | 7.0 | 3 | 0 | 0 | 19.95 | 21.97 | Rango 2 |\n",
       "| 0.86 | 588.0 | 294.0 | 147.00 | 7.0 | 4 | 0 | 0 | 19.34 | 23.49 | Rango 2 |\n",
       "| 0.86 | 588.0 | 294.0 | 147.00 | 7.0 | 5 | 0 | 0 | 18.31 | 27.87 | Rango 2 |\n",
       "| 0.82 | 612.5 | 318.5 | 147.00 | 7.0 | 2 | 0 | 0 | 17.05 | 23.77 | Rango 2 |\n",
       "| 0.82 | 612.5 | 318.5 | 147.00 | 7.0 | 3 | 0 | 0 | 17.41 | 21.46 | Rango 2 |\n",
       "| 0.82 | 612.5 | 318.5 | 147.00 | 7.0 | 4 | 0 | 0 | 16.95 | 21.16 | Rango 2 |\n",
       "| 0.82 | 612.5 | 318.5 | 147.00 | 7.0 | 5 | 0 | 0 | 15.98 | 24.93 | Rango 2 |\n",
       "| 0.79 | 637.0 | 343.0 | 147.00 | 7.0 | 2 | 0 | 0 | 28.52 | 37.73 | Rango 3 |\n",
       "| 0.79 | 637.0 | 343.0 | 147.00 | 7.0 | 3 | 0 | 0 | 29.90 | 31.27 | Rango 3 |\n",
       "| 0.79 | 637.0 | 343.0 | 147.00 | 7.0 | 4 | 0 | 0 | 29.63 | 30.93 | Rango 3 |\n",
       "| 0.79 | 637.0 | 343.0 | 147.00 | 7.0 | 5 | 0 | 0 | 28.75 | 39.44 | Rango 3 |\n",
       "| 0.76 | 661.5 | 416.5 | 122.50 | 7.0 | 2 | 0 | 0 | 24.77 | 29.79 | Rango 3 |\n",
       "| 0.76 | 661.5 | 416.5 | 122.50 | 7.0 | 3 | 0 | 0 | 23.93 | 29.68 | Rango 2 |\n",
       "| 0.76 | 661.5 | 416.5 | 122.50 | 7.0 | 4 | 0 | 0 | 24.77 | 29.79 | Rango 3 |\n",
       "| 0.76 | 661.5 | 416.5 | 122.50 | 7.0 | 5 | 0 | 0 | 23.93 | 29.40 | Rango 2 |\n",
       "| 0.74 | 686.0 | 245.0 | 220.50 | 3.5 | 2 | 0 | 0 |  6.07 | 10.90 | Rango 1 |\n",
       "| 0.74 | 686.0 | 245.0 | 220.50 | 3.5 | 3 | 0 | 0 |  6.05 | 11.19 | Rango 1 |\n",
       "| 0.74 | 686.0 | 245.0 | 220.50 | 3.5 | 4 | 0 | 0 |  6.01 | 10.94 | Rango 1 |\n",
       "| 0.74 | 686.0 | 245.0 | 220.50 | 3.5 | 5 | 0 | 0 |  6.04 | 11.17 | Rango 1 |\n",
       "| 0.71 | 710.5 | 269.5 | 220.50 | 3.5 | 2 | 0 | 0 |  6.37 | 11.27 | Rango 1 |\n",
       "| 0.71 | 710.5 | 269.5 | 220.50 | 3.5 | 3 | 0 | 0 |  6.40 | 11.72 | Rango 1 |\n",
       "| ⋮ | ⋮ | ⋮ | ⋮ | ⋮ | ⋮ | ⋮ | ⋮ | ⋮ | ⋮ | ⋮ |\n",
       "| 0.79 | 637.0 | 343.0 | 147.0 | 7.0 | 4 | 0.4 | 5 | 41.09 | 47.01 | Rango 4 |\n",
       "| 0.79 | 637.0 | 343.0 | 147.0 | 7.0 | 5 | 0.4 | 5 | 40.79 | 44.87 | Rango 4 |\n",
       "| 0.76 | 661.5 | 416.5 | 122.5 | 7.0 | 2 | 0.4 | 5 | 38.82 | 39.37 | Rango 4 |\n",
       "| 0.76 | 661.5 | 416.5 | 122.5 | 7.0 | 3 | 0.4 | 5 | 39.72 | 39.80 | Rango 4 |\n",
       "| 0.76 | 661.5 | 416.5 | 122.5 | 7.0 | 4 | 0.4 | 5 | 39.31 | 37.79 | Rango 4 |\n",
       "| 0.76 | 661.5 | 416.5 | 122.5 | 7.0 | 5 | 0.4 | 5 | 39.86 | 38.18 | Rango 4 |\n",
       "| 0.74 | 686.0 | 245.0 | 220.5 | 3.5 | 2 | 0.4 | 5 | 14.41 | 16.69 | Rango 1 |\n",
       "| 0.74 | 686.0 | 245.0 | 220.5 | 3.5 | 3 | 0.4 | 5 | 14.19 | 16.62 | Rango 1 |\n",
       "| 0.74 | 686.0 | 245.0 | 220.5 | 3.5 | 4 | 0.4 | 5 | 14.17 | 16.94 | Rango 1 |\n",
       "| 0.74 | 686.0 | 245.0 | 220.5 | 3.5 | 5 | 0.4 | 5 | 14.39 | 16.70 | Rango 1 |\n",
       "| 0.71 | 710.5 | 269.5 | 220.5 | 3.5 | 2 | 0.4 | 5 | 12.43 | 15.59 | Rango 1 |\n",
       "| 0.71 | 710.5 | 269.5 | 220.5 | 3.5 | 3 | 0.4 | 5 | 12.63 | 14.58 | Rango 1 |\n",
       "| 0.71 | 710.5 | 269.5 | 220.5 | 3.5 | 4 | 0.4 | 5 | 12.76 | 15.33 | Rango 1 |\n",
       "| 0.71 | 710.5 | 269.5 | 220.5 | 3.5 | 5 | 0.4 | 5 | 12.42 | 15.31 | Rango 1 |\n",
       "| 0.69 | 735.0 | 294.0 | 220.5 | 3.5 | 2 | 0.4 | 5 | 14.12 | 16.63 | Rango 1 |\n",
       "| 0.69 | 735.0 | 294.0 | 220.5 | 3.5 | 3 | 0.4 | 5 | 14.28 | 15.87 | Rango 1 |\n",
       "| 0.69 | 735.0 | 294.0 | 220.5 | 3.5 | 4 | 0.4 | 5 | 14.37 | 16.54 | Rango 1 |\n",
       "| 0.69 | 735.0 | 294.0 | 220.5 | 3.5 | 5 | 0.4 | 5 | 14.21 | 16.74 | Rango 1 |\n",
       "| 0.66 | 759.5 | 318.5 | 220.5 | 3.5 | 2 | 0.4 | 5 | 14.96 | 17.64 | Rango 1 |\n",
       "| 0.66 | 759.5 | 318.5 | 220.5 | 3.5 | 3 | 0.4 | 5 | 14.92 | 17.79 | Rango 1 |\n",
       "| 0.66 | 759.5 | 318.5 | 220.5 | 3.5 | 4 | 0.4 | 5 | 14.92 | 17.55 | Rango 1 |\n",
       "| 0.66 | 759.5 | 318.5 | 220.5 | 3.5 | 5 | 0.4 | 5 | 15.16 | 18.06 | Rango 1 |\n",
       "| 0.64 | 784.0 | 343.0 | 220.5 | 3.5 | 2 | 0.4 | 5 | 17.69 | 20.82 | Rango 2 |\n",
       "| 0.64 | 784.0 | 343.0 | 220.5 | 3.5 | 3 | 0.4 | 5 | 18.19 | 20.21 | Rango 2 |\n",
       "| 0.64 | 784.0 | 343.0 | 220.5 | 3.5 | 4 | 0.4 | 5 | 18.16 | 20.71 | Rango 2 |\n",
       "| 0.64 | 784.0 | 343.0 | 220.5 | 3.5 | 5 | 0.4 | 5 | 17.88 | 21.40 | Rango 2 |\n",
       "| 0.62 | 808.5 | 367.5 | 220.5 | 3.5 | 2 | 0.4 | 5 | 16.54 | 16.88 | Rango 2 |\n",
       "| 0.62 | 808.5 | 367.5 | 220.5 | 3.5 | 3 | 0.4 | 5 | 16.44 | 17.11 | Rango 2 |\n",
       "| 0.62 | 808.5 | 367.5 | 220.5 | 3.5 | 4 | 0.4 | 5 | 16.48 | 16.61 | Rango 2 |\n",
       "| 0.62 | 808.5 | 367.5 | 220.5 | 3.5 | 5 | 0.4 | 5 | 16.64 | 16.03 | Rango 2 |\n",
       "\n"
      ],
      "text/plain": [
       "    X1   X2    X3    X4     X5  X6 X7  X8 Y1    Y2    Y1_group\n",
       "1   0.98 514.5 294.0 110.25 7.0 2  0   0  15.55 21.33 Rango 2 \n",
       "2   0.98 514.5 294.0 110.25 7.0 3  0   0  15.55 21.33 Rango 2 \n",
       "3   0.98 514.5 294.0 110.25 7.0 4  0   0  15.55 21.33 Rango 2 \n",
       "4   0.98 514.5 294.0 110.25 7.0 5  0   0  15.55 21.33 Rango 2 \n",
       "5   0.90 563.5 318.5 122.50 7.0 2  0   0  20.84 28.28 Rango 2 \n",
       "6   0.90 563.5 318.5 122.50 7.0 3  0   0  21.46 25.38 Rango 2 \n",
       "7   0.90 563.5 318.5 122.50 7.0 4  0   0  20.71 25.16 Rango 2 \n",
       "8   0.90 563.5 318.5 122.50 7.0 5  0   0  19.68 29.60 Rango 2 \n",
       "9   0.86 588.0 294.0 147.00 7.0 2  0   0  19.50 27.30 Rango 2 \n",
       "10  0.86 588.0 294.0 147.00 7.0 3  0   0  19.95 21.97 Rango 2 \n",
       "11  0.86 588.0 294.0 147.00 7.0 4  0   0  19.34 23.49 Rango 2 \n",
       "12  0.86 588.0 294.0 147.00 7.0 5  0   0  18.31 27.87 Rango 2 \n",
       "13  0.82 612.5 318.5 147.00 7.0 2  0   0  17.05 23.77 Rango 2 \n",
       "14  0.82 612.5 318.5 147.00 7.0 3  0   0  17.41 21.46 Rango 2 \n",
       "15  0.82 612.5 318.5 147.00 7.0 4  0   0  16.95 21.16 Rango 2 \n",
       "16  0.82 612.5 318.5 147.00 7.0 5  0   0  15.98 24.93 Rango 2 \n",
       "17  0.79 637.0 343.0 147.00 7.0 2  0   0  28.52 37.73 Rango 3 \n",
       "18  0.79 637.0 343.0 147.00 7.0 3  0   0  29.90 31.27 Rango 3 \n",
       "19  0.79 637.0 343.0 147.00 7.0 4  0   0  29.63 30.93 Rango 3 \n",
       "20  0.79 637.0 343.0 147.00 7.0 5  0   0  28.75 39.44 Rango 3 \n",
       "21  0.76 661.5 416.5 122.50 7.0 2  0   0  24.77 29.79 Rango 3 \n",
       "22  0.76 661.5 416.5 122.50 7.0 3  0   0  23.93 29.68 Rango 2 \n",
       "23  0.76 661.5 416.5 122.50 7.0 4  0   0  24.77 29.79 Rango 3 \n",
       "24  0.76 661.5 416.5 122.50 7.0 5  0   0  23.93 29.40 Rango 2 \n",
       "25  0.74 686.0 245.0 220.50 3.5 2  0   0   6.07 10.90 Rango 1 \n",
       "26  0.74 686.0 245.0 220.50 3.5 3  0   0   6.05 11.19 Rango 1 \n",
       "27  0.74 686.0 245.0 220.50 3.5 4  0   0   6.01 10.94 Rango 1 \n",
       "28  0.74 686.0 245.0 220.50 3.5 5  0   0   6.04 11.17 Rango 1 \n",
       "29  0.71 710.5 269.5 220.50 3.5 2  0   0   6.37 11.27 Rango 1 \n",
       "30  0.71 710.5 269.5 220.50 3.5 3  0   0   6.40 11.72 Rango 1 \n",
       "⋮   ⋮    ⋮     ⋮     ⋮      ⋮   ⋮  ⋮   ⋮  ⋮     ⋮     ⋮       \n",
       "739 0.79 637.0 343.0 147.0  7.0 4  0.4 5  41.09 47.01 Rango 4 \n",
       "740 0.79 637.0 343.0 147.0  7.0 5  0.4 5  40.79 44.87 Rango 4 \n",
       "741 0.76 661.5 416.5 122.5  7.0 2  0.4 5  38.82 39.37 Rango 4 \n",
       "742 0.76 661.5 416.5 122.5  7.0 3  0.4 5  39.72 39.80 Rango 4 \n",
       "743 0.76 661.5 416.5 122.5  7.0 4  0.4 5  39.31 37.79 Rango 4 \n",
       "744 0.76 661.5 416.5 122.5  7.0 5  0.4 5  39.86 38.18 Rango 4 \n",
       "745 0.74 686.0 245.0 220.5  3.5 2  0.4 5  14.41 16.69 Rango 1 \n",
       "746 0.74 686.0 245.0 220.5  3.5 3  0.4 5  14.19 16.62 Rango 1 \n",
       "747 0.74 686.0 245.0 220.5  3.5 4  0.4 5  14.17 16.94 Rango 1 \n",
       "748 0.74 686.0 245.0 220.5  3.5 5  0.4 5  14.39 16.70 Rango 1 \n",
       "749 0.71 710.5 269.5 220.5  3.5 2  0.4 5  12.43 15.59 Rango 1 \n",
       "750 0.71 710.5 269.5 220.5  3.5 3  0.4 5  12.63 14.58 Rango 1 \n",
       "751 0.71 710.5 269.5 220.5  3.5 4  0.4 5  12.76 15.33 Rango 1 \n",
       "752 0.71 710.5 269.5 220.5  3.5 5  0.4 5  12.42 15.31 Rango 1 \n",
       "753 0.69 735.0 294.0 220.5  3.5 2  0.4 5  14.12 16.63 Rango 1 \n",
       "754 0.69 735.0 294.0 220.5  3.5 3  0.4 5  14.28 15.87 Rango 1 \n",
       "755 0.69 735.0 294.0 220.5  3.5 4  0.4 5  14.37 16.54 Rango 1 \n",
       "756 0.69 735.0 294.0 220.5  3.5 5  0.4 5  14.21 16.74 Rango 1 \n",
       "757 0.66 759.5 318.5 220.5  3.5 2  0.4 5  14.96 17.64 Rango 1 \n",
       "758 0.66 759.5 318.5 220.5  3.5 3  0.4 5  14.92 17.79 Rango 1 \n",
       "759 0.66 759.5 318.5 220.5  3.5 4  0.4 5  14.92 17.55 Rango 1 \n",
       "760 0.66 759.5 318.5 220.5  3.5 5  0.4 5  15.16 18.06 Rango 1 \n",
       "761 0.64 784.0 343.0 220.5  3.5 2  0.4 5  17.69 20.82 Rango 2 \n",
       "762 0.64 784.0 343.0 220.5  3.5 3  0.4 5  18.19 20.21 Rango 2 \n",
       "763 0.64 784.0 343.0 220.5  3.5 4  0.4 5  18.16 20.71 Rango 2 \n",
       "764 0.64 784.0 343.0 220.5  3.5 5  0.4 5  17.88 21.40 Rango 2 \n",
       "765 0.62 808.5 367.5 220.5  3.5 2  0.4 5  16.54 16.88 Rango 2 \n",
       "766 0.62 808.5 367.5 220.5  3.5 3  0.4 5  16.44 17.11 Rango 2 \n",
       "767 0.62 808.5 367.5 220.5  3.5 4  0.4 5  16.48 16.61 Rango 2 \n",
       "768 0.62 808.5 367.5 220.5  3.5 5  0.4 5  16.64 16.03 Rango 2 "
      ]
     },
     "metadata": {},
     "output_type": "display_data"
    }
   ],
   "source": [
    "data_raw"
   ]
  },
  {
   "cell_type": "code",
   "execution_count": 44,
   "metadata": {
    "vscode": {
     "languageId": "r"
    }
   },
   "outputs": [],
   "source": [
    "data_raw <- data_raw[, c(\"X1\", \"X2\", \"X3\", \"X4\", \"X5\", \"X6\", \"X7\", \"X8\", \"Y1_group\")]"
   ]
  },
  {
   "cell_type": "markdown",
   "metadata": {},
   "source": [
    "### Conjuntos de entrenamiento y prueba\n",
    "Similar a lo abordado en la sección anterior, se empleará una división 80-20 para los conjuntos de datos de entrenamiento y prueba, respectivamente."
   ]
  },
  {
   "cell_type": "code",
   "execution_count": 74,
   "metadata": {
    "vscode": {
     "languageId": "r"
    }
   },
   "outputs": [
    {
     "data": {
      "text/html": [
       "<table class=\"dataframe\">\n",
       "<caption>A data.frame: 3 × 9</caption>\n",
       "<thead>\n",
       "\t<tr><th></th><th scope=col>X1</th><th scope=col>X2</th><th scope=col>X3</th><th scope=col>X4</th><th scope=col>X5</th><th scope=col>X6</th><th scope=col>X7</th><th scope=col>X8</th><th scope=col>Y1_group</th></tr>\n",
       "\t<tr><th></th><th scope=col>&lt;dbl&gt;</th><th scope=col>&lt;dbl&gt;</th><th scope=col>&lt;dbl&gt;</th><th scope=col>&lt;dbl&gt;</th><th scope=col>&lt;dbl&gt;</th><th scope=col>&lt;dbl&gt;</th><th scope=col>&lt;dbl&gt;</th><th scope=col>&lt;dbl&gt;</th><th scope=col>&lt;fct&gt;</th></tr>\n",
       "</thead>\n",
       "<tbody>\n",
       "\t<tr><th scope=row>1</th><td>0.98</td><td>514.5</td><td>294</td><td>110.25</td><td>7</td><td>2</td><td>0</td><td>0</td><td>2</td></tr>\n",
       "\t<tr><th scope=row>2</th><td>0.98</td><td>514.5</td><td>294</td><td>110.25</td><td>7</td><td>3</td><td>0</td><td>0</td><td>2</td></tr>\n",
       "\t<tr><th scope=row>3</th><td>0.98</td><td>514.5</td><td>294</td><td>110.25</td><td>7</td><td>4</td><td>0</td><td>0</td><td>2</td></tr>\n",
       "</tbody>\n",
       "</table>\n"
      ],
      "text/latex": [
       "A data.frame: 3 × 9\n",
       "\\begin{tabular}{r|lllllllll}\n",
       "  & X1 & X2 & X3 & X4 & X5 & X6 & X7 & X8 & Y1\\_group\\\\\n",
       "  & <dbl> & <dbl> & <dbl> & <dbl> & <dbl> & <dbl> & <dbl> & <dbl> & <fct>\\\\\n",
       "\\hline\n",
       "\t1 & 0.98 & 514.5 & 294 & 110.25 & 7 & 2 & 0 & 0 & 2\\\\\n",
       "\t2 & 0.98 & 514.5 & 294 & 110.25 & 7 & 3 & 0 & 0 & 2\\\\\n",
       "\t3 & 0.98 & 514.5 & 294 & 110.25 & 7 & 4 & 0 & 0 & 2\\\\\n",
       "\\end{tabular}\n"
      ],
      "text/markdown": [
       "\n",
       "A data.frame: 3 × 9\n",
       "\n",
       "| <!--/--> | X1 &lt;dbl&gt; | X2 &lt;dbl&gt; | X3 &lt;dbl&gt; | X4 &lt;dbl&gt; | X5 &lt;dbl&gt; | X6 &lt;dbl&gt; | X7 &lt;dbl&gt; | X8 &lt;dbl&gt; | Y1_group &lt;fct&gt; |\n",
       "|---|---|---|---|---|---|---|---|---|---|\n",
       "| 1 | 0.98 | 514.5 | 294 | 110.25 | 7 | 2 | 0 | 0 | 2 |\n",
       "| 2 | 0.98 | 514.5 | 294 | 110.25 | 7 | 3 | 0 | 0 | 2 |\n",
       "| 3 | 0.98 | 514.5 | 294 | 110.25 | 7 | 4 | 0 | 0 | 2 |\n",
       "\n"
      ],
      "text/plain": [
       "  X1   X2    X3  X4     X5 X6 X7 X8 Y1_group\n",
       "1 0.98 514.5 294 110.25 7  2  0  0  2       \n",
       "2 0.98 514.5 294 110.25 7  3  0  0  2       \n",
       "3 0.98 514.5 294 110.25 7  4  0  0  2       "
      ]
     },
     "metadata": {},
     "output_type": "display_data"
    },
    {
     "data": {
      "text/html": [
       "<table class=\"dataframe\">\n",
       "<caption>A data.frame: 3 × 9</caption>\n",
       "<thead>\n",
       "\t<tr><th></th><th scope=col>X1</th><th scope=col>X2</th><th scope=col>X3</th><th scope=col>X4</th><th scope=col>X5</th><th scope=col>X6</th><th scope=col>X7</th><th scope=col>X8</th><th scope=col>Y1_group</th></tr>\n",
       "\t<tr><th></th><th scope=col>&lt;dbl&gt;</th><th scope=col>&lt;dbl&gt;</th><th scope=col>&lt;dbl&gt;</th><th scope=col>&lt;dbl&gt;</th><th scope=col>&lt;dbl&gt;</th><th scope=col>&lt;dbl&gt;</th><th scope=col>&lt;dbl&gt;</th><th scope=col>&lt;dbl&gt;</th><th scope=col>&lt;fct&gt;</th></tr>\n",
       "</thead>\n",
       "<tbody>\n",
       "\t<tr><th scope=row>766</th><td>0.62</td><td>808.5</td><td>367.5</td><td>220.5</td><td>3.5</td><td>3</td><td>0.4</td><td>5</td><td>2</td></tr>\n",
       "\t<tr><th scope=row>767</th><td>0.62</td><td>808.5</td><td>367.5</td><td>220.5</td><td>3.5</td><td>4</td><td>0.4</td><td>5</td><td>2</td></tr>\n",
       "\t<tr><th scope=row>768</th><td>0.62</td><td>808.5</td><td>367.5</td><td>220.5</td><td>3.5</td><td>5</td><td>0.4</td><td>5</td><td>2</td></tr>\n",
       "</tbody>\n",
       "</table>\n"
      ],
      "text/latex": [
       "A data.frame: 3 × 9\n",
       "\\begin{tabular}{r|lllllllll}\n",
       "  & X1 & X2 & X3 & X4 & X5 & X6 & X7 & X8 & Y1\\_group\\\\\n",
       "  & <dbl> & <dbl> & <dbl> & <dbl> & <dbl> & <dbl> & <dbl> & <dbl> & <fct>\\\\\n",
       "\\hline\n",
       "\t766 & 0.62 & 808.5 & 367.5 & 220.5 & 3.5 & 3 & 0.4 & 5 & 2\\\\\n",
       "\t767 & 0.62 & 808.5 & 367.5 & 220.5 & 3.5 & 4 & 0.4 & 5 & 2\\\\\n",
       "\t768 & 0.62 & 808.5 & 367.5 & 220.5 & 3.5 & 5 & 0.4 & 5 & 2\\\\\n",
       "\\end{tabular}\n"
      ],
      "text/markdown": [
       "\n",
       "A data.frame: 3 × 9\n",
       "\n",
       "| <!--/--> | X1 &lt;dbl&gt; | X2 &lt;dbl&gt; | X3 &lt;dbl&gt; | X4 &lt;dbl&gt; | X5 &lt;dbl&gt; | X6 &lt;dbl&gt; | X7 &lt;dbl&gt; | X8 &lt;dbl&gt; | Y1_group &lt;fct&gt; |\n",
       "|---|---|---|---|---|---|---|---|---|---|\n",
       "| 766 | 0.62 | 808.5 | 367.5 | 220.5 | 3.5 | 3 | 0.4 | 5 | 2 |\n",
       "| 767 | 0.62 | 808.5 | 367.5 | 220.5 | 3.5 | 4 | 0.4 | 5 | 2 |\n",
       "| 768 | 0.62 | 808.5 | 367.5 | 220.5 | 3.5 | 5 | 0.4 | 5 | 2 |\n",
       "\n"
      ],
      "text/plain": [
       "    X1   X2    X3    X4    X5  X6 X7  X8 Y1_group\n",
       "766 0.62 808.5 367.5 220.5 3.5 3  0.4 5  2       \n",
       "767 0.62 808.5 367.5 220.5 3.5 4  0.4 5  2       \n",
       "768 0.62 808.5 367.5 220.5 3.5 5  0.4 5  2       "
      ]
     },
     "metadata": {},
     "output_type": "display_data"
    }
   ],
   "source": [
    "drops <- c(\"Y1\",\"Y2\")\n",
    "sm_reduced <- data_raw[ , !(names(data_raw) %in% drops)]\n",
    "sm_reduced$Y1_group <- as.factor( sm_reduced$Y1_group )\n",
    "\n",
    "head( sm_reduced, 3 )\n",
    "tail( sm_reduced, 3 )"
   ]
  },
  {
   "cell_type": "code",
   "execution_count": 75,
   "metadata": {
    "vscode": {
     "languageId": "r"
    }
   },
   "outputs": [],
   "source": [
    "set.seed( 1237 )\n",
    "\n",
    "sm_indexes   <- createDataPartition( data_raw$Y1_group, p=0.80, list = F )\n",
    "sm_train.set <- sm_reduced[sm_indexes,]\n",
    "sm_test.set  <- sm_reduced[-sm_indexes,]"
   ]
  },
  {
   "cell_type": "code",
   "execution_count": 76,
   "metadata": {
    "vscode": {
     "languageId": "r"
    }
   },
   "outputs": [
    {
     "data": {
      "text/plain": [
       "\n",
       "        1         2         3         4 \n",
       "0.4025974 0.1688312 0.2727273 0.1558442 "
      ]
     },
     "metadata": {},
     "output_type": "display_data"
    }
   ],
   "source": [
    "prop.table(table(sm_train.set$Y1_group))"
   ]
  },
  {
   "cell_type": "code",
   "execution_count": 77,
   "metadata": {
    "vscode": {
     "languageId": "r"
    }
   },
   "outputs": [
    {
     "data": {
      "text/plain": [
       "\n",
       "        1         2         3         4 \n",
       "0.4013158 0.1644737 0.2763158 0.1578947 "
      ]
     },
     "metadata": {},
     "output_type": "display_data"
    }
   ],
   "source": [
    "prop.table(table(sm_test.set$Y1_group))"
   ]
  },
  {
   "cell_type": "markdown",
   "metadata": {},
   "source": [
    "Las distribuciones de los rangos en ambos conjuntos de datos son muy similares, con diferencias mínimas en cada rango. Estas pequeñas variaciones no indican un desbalance significativo. El grupo más representado en ambos conjuntos es el Rango 1, seguido por el Rango 3. Los Rangos 2 y 4 tienen menor representación, con diferencias apenas perceptibles entre los dos conjuntos de datos. Esto sugiere una estabilidad en la distribución de los datos entre los dos conjuntos, sin un desbalance considerable en ninguno de los rangos."
   ]
  },
  {
   "cell_type": "code",
   "execution_count": 78,
   "metadata": {
    "vscode": {
     "languageId": "r"
    }
   },
   "outputs": [],
   "source": [
    "#Modelo de clasificación con instancia de entrenamiento\n",
    "sm.tree <- C5.0( Y1_group ~ ., sm_train.set ) \n",
    "\n",
    "#Modelo basado en reglas\n",
    "tree.rules <- C5.0( x = sm_train.set[, -ncol(sm_train.set) ], y = sm_train.set$Y1_group, rules = T )"
   ]
  },
  {
   "cell_type": "code",
   "execution_count": 79,
   "metadata": {
    "vscode": {
     "languageId": "r"
    }
   },
   "outputs": [
    {
     "data": {
      "text/plain": [
       "\n",
       "Call:\n",
       "C5.0.default(x = sm_train.set[, -ncol(sm_train.set)], y\n",
       " = sm_train.set$Y1_group, rules = T)\n",
       "\n",
       "\n",
       "C5.0 [Release 2.07 GPL Edition]  \tFri Jun 21 05:25:24 2024\n",
       "-------------------------------\n",
       "\n",
       "Class specified by attribute `outcome'\n",
       "\n",
       "Read 616 cases (9 attributes) from undefined.data\n",
       "\n",
       "Rules:\n",
       "\n",
       "Rule 1: (308/60, lift 2.0)\n",
       "\tX5 <= 3.5\n",
       "\t->  class 1  [0.803]\n",
       "\n",
       "Rule 2: (32, lift 5.7)\n",
       "\tX1 <= 0.64\n",
       "\tX7 > 0.25\n",
       "\t->  class 2  [0.971]\n",
       "\n",
       "Rule 3: (31, lift 5.7)\n",
       "\tX1 > 0.62\n",
       "\tX1 <= 0.64\n",
       "\tX7 > 0.1\n",
       "\t->  class 2  [0.970]\n",
       "\n",
       "Rule 4: (18, lift 5.6)\n",
       "\tX1 <= 0.82\n",
       "\tX3 <= 318.5\n",
       "\tX5 > 3.5\n",
       "\tX7 <= 0.1\n",
       "\t->  class 2  [0.950]\n",
       "\n",
       "Rule 5: (14, lift 5.6)\n",
       "\tX3 <= 318.5\n",
       "\tX5 > 3.5\n",
       "\tX8 <= 0\n",
       "\t->  class 2  [0.938]\n",
       "\n",
       "Rule 6: (14, lift 5.6)\n",
       "\tX1 > 0.9\n",
       "\tX7 <= 0.1\n",
       "\tX8 > 1\n",
       "\t->  class 2  [0.938]\n",
       "\n",
       "Rule 7: (308/140, lift 2.0)\n",
       "\tX5 > 3.5\n",
       "\t->  class 3  [0.545]\n",
       "\n",
       "Rule 8: (65, lift 6.3)\n",
       "\tX3 > 318.5\n",
       "\tX5 > 3.5\n",
       "\tX7 > 0.1\n",
       "\t->  class 4  [0.985]\n",
       "\n",
       "Rule 9: (46, lift 6.3)\n",
       "\tX1 > 0.76\n",
       "\tX3 > 318.5\n",
       "\tX8 > 0\n",
       "\t->  class 4  [0.979]\n",
       "\n",
       "Rule 10: (15, lift 6.0)\n",
       "\tX1 > 0.86\n",
       "\tX3 > 294\n",
       "\tX7 > 0.25\n",
       "\t->  class 4  [0.941]\n",
       "\n",
       "Default class: 1\n",
       "\n",
       "\n",
       "Evaluation on training data (616 cases):\n",
       "\n",
       "\t        Rules     \n",
       "\t  ----------------\n",
       "\t    No      Errors\n",
       "\n",
       "\t    10   15( 2.4%)   <<\n",
       "\n",
       "\n",
       "\t   (a)   (b)   (c)   (d)    <-classified as\n",
       "\t  ----  ----  ----  ----\n",
       "\t   248                      (a): class 1\n",
       "\t    13    89     2          (b): class 2\n",
       "\t               168          (c): class 3\n",
       "\t                      96    (d): class 4\n",
       "\n",
       "\n",
       "\tAttribute usage:\n",
       "\n",
       "\t100.00%\tX5\n",
       "\t 25.81%\tX7\n",
       "\t 22.73%\tX1\n",
       "\t 20.13%\tX3\n",
       "\t 12.01%\tX8\n",
       "\n",
       "\n",
       "Time: 0.0 secs\n"
      ]
     },
     "metadata": {},
     "output_type": "display_data"
    }
   ],
   "source": [
    "summary( tree.rules )"
   ]
  },
  {
   "cell_type": "markdown",
   "metadata": {},
   "source": [
    "### Predicciones"
   ]
  },
  {
   "cell_type": "code",
   "execution_count": 80,
   "metadata": {
    "vscode": {
     "languageId": "r"
    }
   },
   "outputs": [],
   "source": [
    "#Predicción de clases con instancia de pruebas\n",
    "tree.pred.class <- predict( sm.tree, sm_test.set[, -ncol(sm_test.set) ], type = \"class\" )\n",
    "\n",
    "#Probabilidad por clases\n",
    "tree.pred.prob <- predict( sm.tree, sm_test.set[, -ncol(sm_test.set) ], type = \"prob\" )"
   ]
  },
  {
   "cell_type": "code",
   "execution_count": 81,
   "metadata": {
    "vscode": {
     "languageId": "r"
    }
   },
   "outputs": [
    {
     "data": {
      "text/html": [
       "<table class=\"dataframe\">\n",
       "<caption>A matrix: 3 × 4 of type dbl</caption>\n",
       "<thead>\n",
       "\t<tr><th></th><th scope=col>1</th><th scope=col>2</th><th scope=col>3</th><th scope=col>4</th></tr>\n",
       "</thead>\n",
       "<tbody>\n",
       "\t<tr><th scope=row>2</th><td>0.02683983</td><td>0.94458874</td><td>0.018181819</td><td>0.0103896101</td></tr>\n",
       "\t<tr><th scope=row>6</th><td>0.02683983</td><td>0.94458874</td><td>0.018181819</td><td>0.0103896101</td></tr>\n",
       "\t<tr><th scope=row>26</th><td>0.96843348</td><td>0.02951594</td><td>0.001304915</td><td>0.0007456658</td></tr>\n",
       "</tbody>\n",
       "</table>\n"
      ],
      "text/latex": [
       "A matrix: 3 × 4 of type dbl\n",
       "\\begin{tabular}{r|llll}\n",
       "  & 1 & 2 & 3 & 4\\\\\n",
       "\\hline\n",
       "\t2 & 0.02683983 & 0.94458874 & 0.018181819 & 0.0103896101\\\\\n",
       "\t6 & 0.02683983 & 0.94458874 & 0.018181819 & 0.0103896101\\\\\n",
       "\t26 & 0.96843348 & 0.02951594 & 0.001304915 & 0.0007456658\\\\\n",
       "\\end{tabular}\n"
      ],
      "text/markdown": [
       "\n",
       "A matrix: 3 × 4 of type dbl\n",
       "\n",
       "| <!--/--> | 1 | 2 | 3 | 4 |\n",
       "|---|---|---|---|---|\n",
       "| 2 | 0.02683983 | 0.94458874 | 0.018181819 | 0.0103896101 |\n",
       "| 6 | 0.02683983 | 0.94458874 | 0.018181819 | 0.0103896101 |\n",
       "| 26 | 0.96843348 | 0.02951594 | 0.001304915 | 0.0007456658 |\n",
       "\n"
      ],
      "text/plain": [
       "   1          2          3           4           \n",
       "2  0.02683983 0.94458874 0.018181819 0.0103896101\n",
       "6  0.02683983 0.94458874 0.018181819 0.0103896101\n",
       "26 0.96843348 0.02951594 0.001304915 0.0007456658"
      ]
     },
     "metadata": {},
     "output_type": "display_data"
    }
   ],
   "source": [
    "head( tree.pred.prob, 3 )"
   ]
  },
  {
   "cell_type": "code",
   "execution_count": 82,
   "metadata": {
    "vscode": {
     "languageId": "r"
    }
   },
   "outputs": [
    {
     "data": {
      "text/html": [
       "<style>\n",
       ".list-inline {list-style: none; margin:0; padding: 0}\n",
       ".list-inline>li {display: inline-block}\n",
       ".list-inline>li:not(:last-child)::after {content: \"\\00b7\"; padding: 0 .5ex}\n",
       "</style>\n",
       "<ol class=list-inline><li>2</li><li>2</li><li>1</li><li>1</li><li>1</li><li>1</li><li>3</li><li>3</li><li>2</li><li>1</li><li>1</li><li>1</li><li>1</li><li>1</li><li>2</li><li>2</li><li>2</li><li>2</li><li>3</li><li>1</li><li>1</li><li>1</li><li>1</li><li>1</li><li>1</li><li>1</li><li>1</li><li>3</li><li>3</li><li>3</li><li>4</li><li>4</li><li>1</li><li>1</li><li>3</li><li>2</li><li>4</li><li>3</li><li>1</li><li>1</li><li>1</li><li>1</li><li>1</li><li>1</li><li>2</li><li>2</li><li>4</li><li>1</li><li>1</li><li>1</li><li>1</li><li>3</li><li>3</li><li>4</li><li>4</li><li>1</li><li>1</li><li>1</li><li>2</li><li>1</li><li>3</li><li>3</li><li>3</li><li>3</li><li>3</li><li>3</li><li>4</li><li>1</li><li>1</li><li>2</li><li>1</li><li>3</li><li>3</li><li>3</li><li>3</li><li>3</li><li>3</li><li>4</li><li>2</li><li>1</li><li>1</li><li>3</li><li>3</li><li>4</li><li>1</li><li>1</li><li>1</li><li>1</li><li>1</li><li>1</li><li>2</li><li>1</li><li>1</li><li>3</li><li>3</li><li>3</li><li>3</li><li>3</li><li>4</li><li>4</li><li>4</li><li>1</li><li>2</li><li>1</li><li>3</li><li>3</li><li>3</li><li>4</li><li>1</li><li>1</li><li>1</li><li>1</li><li>2</li><li>2</li><li>3</li><li>4</li><li>3</li><li>3</li><li>3</li><li>1</li><li>4</li><li>4</li><li>1</li><li>1</li><li>1</li><li>2</li><li>2</li><li>4</li><li>3</li><li>3</li><li>4</li><li>4</li><li>4</li><li>1</li><li>1</li><li>2</li><li>2</li><li>3</li><li>4</li><li>4</li><li>3</li><li>3</li><li>3</li><li>4</li><li>4</li><li>1</li><li>1</li><li>1</li><li>1</li><li>1</li><li>2</li><li>2</li></ol>\n",
       "\n",
       "<details>\n",
       "\t<summary style=display:list-item;cursor:pointer>\n",
       "\t\t<strong>Levels</strong>:\n",
       "\t</summary>\n",
       "\t<style>\n",
       "\t.list-inline {list-style: none; margin:0; padding: 0}\n",
       "\t.list-inline>li {display: inline-block}\n",
       "\t.list-inline>li:not(:last-child)::after {content: \"\\00b7\"; padding: 0 .5ex}\n",
       "\t</style>\n",
       "\t<ol class=list-inline><li>'1'</li><li>'2'</li><li>'3'</li><li>'4'</li></ol>\n",
       "</details>"
      ],
      "text/latex": [
       "\\begin{enumerate*}\n",
       "\\item 2\n",
       "\\item 2\n",
       "\\item 1\n",
       "\\item 1\n",
       "\\item 1\n",
       "\\item 1\n",
       "\\item 3\n",
       "\\item 3\n",
       "\\item 2\n",
       "\\item 1\n",
       "\\item 1\n",
       "\\item 1\n",
       "\\item 1\n",
       "\\item 1\n",
       "\\item 2\n",
       "\\item 2\n",
       "\\item 2\n",
       "\\item 2\n",
       "\\item 3\n",
       "\\item 1\n",
       "\\item 1\n",
       "\\item 1\n",
       "\\item 1\n",
       "\\item 1\n",
       "\\item 1\n",
       "\\item 1\n",
       "\\item 1\n",
       "\\item 3\n",
       "\\item 3\n",
       "\\item 3\n",
       "\\item 4\n",
       "\\item 4\n",
       "\\item 1\n",
       "\\item 1\n",
       "\\item 3\n",
       "\\item 2\n",
       "\\item 4\n",
       "\\item 3\n",
       "\\item 1\n",
       "\\item 1\n",
       "\\item 1\n",
       "\\item 1\n",
       "\\item 1\n",
       "\\item 1\n",
       "\\item 2\n",
       "\\item 2\n",
       "\\item 4\n",
       "\\item 1\n",
       "\\item 1\n",
       "\\item 1\n",
       "\\item 1\n",
       "\\item 3\n",
       "\\item 3\n",
       "\\item 4\n",
       "\\item 4\n",
       "\\item 1\n",
       "\\item 1\n",
       "\\item 1\n",
       "\\item 2\n",
       "\\item 1\n",
       "\\item 3\n",
       "\\item 3\n",
       "\\item 3\n",
       "\\item 3\n",
       "\\item 3\n",
       "\\item 3\n",
       "\\item 4\n",
       "\\item 1\n",
       "\\item 1\n",
       "\\item 2\n",
       "\\item 1\n",
       "\\item 3\n",
       "\\item 3\n",
       "\\item 3\n",
       "\\item 3\n",
       "\\item 3\n",
       "\\item 3\n",
       "\\item 4\n",
       "\\item 2\n",
       "\\item 1\n",
       "\\item 1\n",
       "\\item 3\n",
       "\\item 3\n",
       "\\item 4\n",
       "\\item 1\n",
       "\\item 1\n",
       "\\item 1\n",
       "\\item 1\n",
       "\\item 1\n",
       "\\item 1\n",
       "\\item 2\n",
       "\\item 1\n",
       "\\item 1\n",
       "\\item 3\n",
       "\\item 3\n",
       "\\item 3\n",
       "\\item 3\n",
       "\\item 3\n",
       "\\item 4\n",
       "\\item 4\n",
       "\\item 4\n",
       "\\item 1\n",
       "\\item 2\n",
       "\\item 1\n",
       "\\item 3\n",
       "\\item 3\n",
       "\\item 3\n",
       "\\item 4\n",
       "\\item 1\n",
       "\\item 1\n",
       "\\item 1\n",
       "\\item 1\n",
       "\\item 2\n",
       "\\item 2\n",
       "\\item 3\n",
       "\\item 4\n",
       "\\item 3\n",
       "\\item 3\n",
       "\\item 3\n",
       "\\item 1\n",
       "\\item 4\n",
       "\\item 4\n",
       "\\item 1\n",
       "\\item 1\n",
       "\\item 1\n",
       "\\item 2\n",
       "\\item 2\n",
       "\\item 4\n",
       "\\item 3\n",
       "\\item 3\n",
       "\\item 4\n",
       "\\item 4\n",
       "\\item 4\n",
       "\\item 1\n",
       "\\item 1\n",
       "\\item 2\n",
       "\\item 2\n",
       "\\item 3\n",
       "\\item 4\n",
       "\\item 4\n",
       "\\item 3\n",
       "\\item 3\n",
       "\\item 3\n",
       "\\item 4\n",
       "\\item 4\n",
       "\\item 1\n",
       "\\item 1\n",
       "\\item 1\n",
       "\\item 1\n",
       "\\item 1\n",
       "\\item 2\n",
       "\\item 2\n",
       "\\end{enumerate*}\n",
       "\n",
       "\\emph{Levels}: \\begin{enumerate*}\n",
       "\\item '1'\n",
       "\\item '2'\n",
       "\\item '3'\n",
       "\\item '4'\n",
       "\\end{enumerate*}\n"
      ],
      "text/markdown": [
       "1. 2\n",
       "2. 2\n",
       "3. 1\n",
       "4. 1\n",
       "5. 1\n",
       "6. 1\n",
       "7. 3\n",
       "8. 3\n",
       "9. 2\n",
       "10. 1\n",
       "11. 1\n",
       "12. 1\n",
       "13. 1\n",
       "14. 1\n",
       "15. 2\n",
       "16. 2\n",
       "17. 2\n",
       "18. 2\n",
       "19. 3\n",
       "20. 1\n",
       "21. 1\n",
       "22. 1\n",
       "23. 1\n",
       "24. 1\n",
       "25. 1\n",
       "26. 1\n",
       "27. 1\n",
       "28. 3\n",
       "29. 3\n",
       "30. 3\n",
       "31. 4\n",
       "32. 4\n",
       "33. 1\n",
       "34. 1\n",
       "35. 3\n",
       "36. 2\n",
       "37. 4\n",
       "38. 3\n",
       "39. 1\n",
       "40. 1\n",
       "41. 1\n",
       "42. 1\n",
       "43. 1\n",
       "44. 1\n",
       "45. 2\n",
       "46. 2\n",
       "47. 4\n",
       "48. 1\n",
       "49. 1\n",
       "50. 1\n",
       "51. 1\n",
       "52. 3\n",
       "53. 3\n",
       "54. 4\n",
       "55. 4\n",
       "56. 1\n",
       "57. 1\n",
       "58. 1\n",
       "59. 2\n",
       "60. 1\n",
       "61. 3\n",
       "62. 3\n",
       "63. 3\n",
       "64. 3\n",
       "65. 3\n",
       "66. 3\n",
       "67. 4\n",
       "68. 1\n",
       "69. 1\n",
       "70. 2\n",
       "71. 1\n",
       "72. 3\n",
       "73. 3\n",
       "74. 3\n",
       "75. 3\n",
       "76. 3\n",
       "77. 3\n",
       "78. 4\n",
       "79. 2\n",
       "80. 1\n",
       "81. 1\n",
       "82. 3\n",
       "83. 3\n",
       "84. 4\n",
       "85. 1\n",
       "86. 1\n",
       "87. 1\n",
       "88. 1\n",
       "89. 1\n",
       "90. 1\n",
       "91. 2\n",
       "92. 1\n",
       "93. 1\n",
       "94. 3\n",
       "95. 3\n",
       "96. 3\n",
       "97. 3\n",
       "98. 3\n",
       "99. 4\n",
       "100. 4\n",
       "101. 4\n",
       "102. 1\n",
       "103. 2\n",
       "104. 1\n",
       "105. 3\n",
       "106. 3\n",
       "107. 3\n",
       "108. 4\n",
       "109. 1\n",
       "110. 1\n",
       "111. 1\n",
       "112. 1\n",
       "113. 2\n",
       "114. 2\n",
       "115. 3\n",
       "116. 4\n",
       "117. 3\n",
       "118. 3\n",
       "119. 3\n",
       "120. 1\n",
       "121. 4\n",
       "122. 4\n",
       "123. 1\n",
       "124. 1\n",
       "125. 1\n",
       "126. 2\n",
       "127. 2\n",
       "128. 4\n",
       "129. 3\n",
       "130. 3\n",
       "131. 4\n",
       "132. 4\n",
       "133. 4\n",
       "134. 1\n",
       "135. 1\n",
       "136. 2\n",
       "137. 2\n",
       "138. 3\n",
       "139. 4\n",
       "140. 4\n",
       "141. 3\n",
       "142. 3\n",
       "143. 3\n",
       "144. 4\n",
       "145. 4\n",
       "146. 1\n",
       "147. 1\n",
       "148. 1\n",
       "149. 1\n",
       "150. 1\n",
       "151. 2\n",
       "152. 2\n",
       "\n",
       "\n",
       "\n",
       "**Levels**: 1. '1'\n",
       "2. '2'\n",
       "3. '3'\n",
       "4. '4'\n",
       "\n",
       "\n"
      ],
      "text/plain": [
       "  [1] 2 2 1 1 1 1 3 3 2 1 1 1 1 1 2 2 2 2 3 1 1 1 1 1 1 1 1 3 3 3 4 4 1 1 3 2 4\n",
       " [38] 3 1 1 1 1 1 1 2 2 4 1 1 1 1 3 3 4 4 1 1 1 2 1 3 3 3 3 3 3 4 1 1 2 1 3 3 3\n",
       " [75] 3 3 3 4 2 1 1 3 3 4 1 1 1 1 1 1 2 1 1 3 3 3 3 3 4 4 4 1 2 1 3 3 3 4 1 1 1\n",
       "[112] 1 2 2 3 4 3 3 3 1 4 4 1 1 1 2 2 4 3 3 4 4 4 1 1 2 2 3 4 4 3 3 3 4 4 1 1 1\n",
       "[149] 1 1 2 2\n",
       "Levels: 1 2 3 4"
      ]
     },
     "metadata": {},
     "output_type": "display_data"
    }
   ],
   "source": [
    "tree.pred.class"
   ]
  },
  {
   "cell_type": "code",
   "execution_count": 83,
   "metadata": {
    "vscode": {
     "languageId": "r"
    }
   },
   "outputs": [],
   "source": [
    "dev.new( width=2, height=1 )"
   ]
  },
  {
   "cell_type": "code",
   "execution_count": 84,
   "metadata": {
    "vscode": {
     "languageId": "r"
    }
   },
   "outputs": [
    {
     "data": {
      "image/png": "[encoded data removed]",
      "text/plain": [
       "plot without title"
      ]
     },
     "metadata": {
      "image/png": {
       "height": 480,
       "width": 1800
      }
     },
     "output_type": "display_data"
    }
   ],
   "source": [
    "plot( sm.tree )"
   ]
  },
  {
   "cell_type": "code",
   "execution_count": 85,
   "metadata": {
    "vscode": {
     "languageId": "r"
    }
   },
   "outputs": [
    {
     "data": {
      "text/plain": [
       "\n",
       "Call:\n",
       "C5.0.default(x = sm_train.set[, -ncol(sm_train.set)], y\n",
       " = sm_train.set$Y1_group, rules = T)\n",
       "\n",
       "\n",
       "C5.0 [Release 2.07 GPL Edition]  \tFri Jun 21 05:25:24 2024\n",
       "-------------------------------\n",
       "\n",
       "Class specified by attribute `outcome'\n",
       "\n",
       "Read 616 cases (9 attributes) from undefined.data\n",
       "\n",
       "Rules:\n",
       "\n",
       "Rule 1: (308/60, lift 2.0)\n",
       "\tX5 <= 3.5\n",
       "\t->  class 1  [0.803]\n",
       "\n",
       "Rule 2: (32, lift 5.7)\n",
       "\tX1 <= 0.64\n",
       "\tX7 > 0.25\n",
       "\t->  class 2  [0.971]\n",
       "\n",
       "Rule 3: (31, lift 5.7)\n",
       "\tX1 > 0.62\n",
       "\tX1 <= 0.64\n",
       "\tX7 > 0.1\n",
       "\t->  class 2  [0.970]\n",
       "\n",
       "Rule 4: (18, lift 5.6)\n",
       "\tX1 <= 0.82\n",
       "\tX3 <= 318.5\n",
       "\tX5 > 3.5\n",
       "\tX7 <= 0.1\n",
       "\t->  class 2  [0.950]\n",
       "\n",
       "Rule 5: (14, lift 5.6)\n",
       "\tX3 <= 318.5\n",
       "\tX5 > 3.5\n",
       "\tX8 <= 0\n",
       "\t->  class 2  [0.938]\n",
       "\n",
       "Rule 6: (14, lift 5.6)\n",
       "\tX1 > 0.9\n",
       "\tX7 <= 0.1\n",
       "\tX8 > 1\n",
       "\t->  class 2  [0.938]\n",
       "\n",
       "Rule 7: (308/140, lift 2.0)\n",
       "\tX5 > 3.5\n",
       "\t->  class 3  [0.545]\n",
       "\n",
       "Rule 8: (65, lift 6.3)\n",
       "\tX3 > 318.5\n",
       "\tX5 > 3.5\n",
       "\tX7 > 0.1\n",
       "\t->  class 4  [0.985]\n",
       "\n",
       "Rule 9: (46, lift 6.3)\n",
       "\tX1 > 0.76\n",
       "\tX3 > 318.5\n",
       "\tX8 > 0\n",
       "\t->  class 4  [0.979]\n",
       "\n",
       "Rule 10: (15, lift 6.0)\n",
       "\tX1 > 0.86\n",
       "\tX3 > 294\n",
       "\tX7 > 0.25\n",
       "\t->  class 4  [0.941]\n",
       "\n",
       "Default class: 1\n",
       "\n",
       "\n",
       "Evaluation on training data (616 cases):\n",
       "\n",
       "\t        Rules     \n",
       "\t  ----------------\n",
       "\t    No      Errors\n",
       "\n",
       "\t    10   15( 2.4%)   <<\n",
       "\n",
       "\n",
       "\t   (a)   (b)   (c)   (d)    <-classified as\n",
       "\t  ----  ----  ----  ----\n",
       "\t   248                      (a): class 1\n",
       "\t    13    89     2          (b): class 2\n",
       "\t               168          (c): class 3\n",
       "\t                      96    (d): class 4\n",
       "\n",
       "\n",
       "\tAttribute usage:\n",
       "\n",
       "\t100.00%\tX5\n",
       "\t 25.81%\tX7\n",
       "\t 22.73%\tX1\n",
       "\t 20.13%\tX3\n",
       "\t 12.01%\tX8\n",
       "\n",
       "\n",
       "Time: 0.0 secs\n"
      ]
     },
     "metadata": {},
     "output_type": "display_data"
    }
   ],
   "source": [
    "summary( tree.rules )"
   ]
  },
  {
   "cell_type": "code",
   "execution_count": 87,
   "metadata": {
    "vscode": {
     "languageId": "r"
    }
   },
   "outputs": [
    {
     "name": "stdout",
     "output_type": "stream",
     "text": [
      "Confusion Matrix and Statistics\n",
      "\n",
      "   tree.pred.class\n",
      "     1  2  3  4\n",
      "  1 60  1  0  0\n",
      "  2  3 22  0  0\n",
      "  3  0  0 42  0\n",
      "  4  0  0  0 24\n",
      "\n",
      "Overall Statistics\n",
      "                                         \n",
      "               Accuracy : 0.9737         \n",
      "                 95% CI : (0.934, 0.9928)\n",
      "    No Information Rate : 0.4145         \n",
      "    P-Value [Acc > NIR] : < 2.2e-16      \n",
      "                                         \n",
      "                  Kappa : 0.9628         \n",
      "                                         \n",
      " Mcnemar's Test P-Value : NA             \n",
      "\n",
      "Statistics by Class:\n",
      "\n",
      "                     Class: 1 Class: 2 Class: 3 Class: 4\n",
      "Sensitivity            0.9524   0.9565   1.0000   1.0000\n",
      "Specificity            0.9888   0.9767   1.0000   1.0000\n",
      "Pos Pred Value         0.9836   0.8800   1.0000   1.0000\n",
      "Neg Pred Value         0.9670   0.9921   1.0000   1.0000\n",
      "Prevalence             0.4145   0.1513   0.2763   0.1579\n",
      "Detection Rate         0.3947   0.1447   0.2763   0.1579\n",
      "Detection Prevalence   0.4013   0.1645   0.2763   0.1579\n",
      "Balanced Accuracy      0.9706   0.9666   1.0000   1.0000\n"
     ]
    }
   ],
   "source": [
    "conf.matrix.tree <- confusionMatrix(table( sm_test.set$Y1_group, tree.pred.class ))\n",
    "print( conf.matrix.tree )"
   ]
  },
  {
   "cell_type": "markdown",
   "metadata": {},
   "source": [
    "# 5. Tratamiento datos atípicos"
   ]
  },
  {
   "cell_type": "markdown",
   "metadata": {},
   "source": [
    "La Distancia de Cook es una medida en regresión que identifica puntos influyentes u outliers que afectan significativamente los parámetros del modelo. Una alta distancia de Cook sugiere que la observación tiene un impacto considerable en los resultados del modelo y puede necesitar revisión o eliminación para mejorar la fiabilidad del análisis."
   ]
  },
  {
   "cell_type": "code",
   "execution_count": 56,
   "metadata": {
    "vscode": {
     "languageId": "r"
    }
   },
   "outputs": [
    {
     "data": {
      "text/html": [
       "<style>\n",
       ".dl-inline {width: auto; margin:0; padding: 0}\n",
       ".dl-inline>dt, .dl-inline>dd {float: none; width: auto; display: inline-block}\n",
       ".dl-inline>dt::after {content: \":\\0020\"; padding-right: .5ex}\n",
       ".dl-inline>dt:not(:first-of-type) {padding-left: .5ex}\n",
       "</style><dl class=dl-inline><dt>1</dt><dd>0.00179176347633623</dd><dt>2</dt><dd>0.00159319888997504</dd><dt>3</dt><dd>0.001578225240898</dd><dt>4</dt><dd>0.00174171649915977</dd><dt>5</dt><dd>0.00367347698513597</dd><dt>6</dt><dd>0.00306649192894408</dd><dt>7</dt><dd>0.00305070420104742</dd><dt>8</dt><dd>0.00361703004177055</dd><dt>9</dt><dd>0.0040317836861667</dd><dt>10</dt><dd>0.00347188337218322</dd><dt>11</dt><dd>0.00345309535157842</dd><dt>12</dt><dd>0.00396668320521629</dd><dt>13</dt><dd>0.0063913951167952</dd><dt>14</dt><dd>0.00541383331400847</dd><dt>15</dt><dd>0.00539186998559707</dd><dt>16</dt><dd>0.00631392248508352</dd><dt>17</dt><dd>6.65664739967272e-05</dd><dt>18</dt><dd>5.90285761503982e-05</dd><dt>19</dt><dd>6.13647036878311e-05</dd><dt>20</dt><dd>7.47889192673941e-05</dd><dt>21</dt><dd>0.00152487914605436</dd><dt>22</dt><dd>0.0265466320192891</dd><dt>23</dt><dd>0.00135107430894723</dd><dt>24</dt><dd>0.0291884438877506</dd><dt>25</dt><dd>0.00373711618245572</dd><dt>26</dt><dd>0.00325989868195382</dd><dt>27</dt><dd>0.00327828821653906</dd><dt>28</dt><dd>0.0038007187153385</dd><dt>29</dt><dd>0.00175793449987209</dd><dt>30</dt><dd>0.00150916052374181</dd><dt>31</dt><dd>0.00152085684960562</dd><dt>32</dt><dd>0.00179912564460228</dd><dt>33</dt><dd>0.000772845924500685</dd><dt>34</dt><dd>0.00064223931970191</dd><dt>35</dt><dd>0.000649053592024541</dd><dt>36</dt><dd>0.000797708422121367</dd><dt>37</dt><dd>0.000183262608003226</dd><dt>38</dt><dd>0.000154017504672292</dd><dt>39</dt><dd>0.000157365051944354</dd><dt>40</dt><dd>0.000195474738794928</dd><dt>41</dt><dd>1.20502909806831e-05</dd><dt>42</dt><dd>1.11106858282346e-05</dd><dt>43</dt><dd>1.2099760649728e-05</dd><dt>44</dt><dd>1.55682661261113e-05</dd><dt>45</dt><dd>7.78911971366148e-05</dd><dt>46</dt><dd>6.59835800936712e-05</dd><dt>47</dt><dd>6.31822363348405e-05</dd><dt>48</dt><dd>6.83829753336152e-05</dd><dt>49</dt><dd>0.00303553113336285</dd><dt>50</dt><dd>0.00266565068584975</dd><dt>51</dt><dd>0.00268268978661349</dd><dt>52</dt><dd>0.0030941146505756</dd><dt>53</dt><dd>0.000304009097076876</dd><dt>54</dt><dd>0.000235630812967536</dd><dt>55</dt><dd>0.000239065116873502</dd><dt>56</dt><dd>0.000317496999079654</dd><dt>57</dt><dd>0.000516484351833031</dd><dt>58</dt><dd>0.000427924959081931</dd><dt>59</dt><dd>0.000433407586114404</dd><dt>60</dt><dd>0.000536592117616792</dd><dt>61</dt><dd>0.00672147938815819</dd><dt>62</dt><dd>0.00527935114002056</dd><dt>63</dt><dd>0.0052619649405177</dd><dt>64</dt><dd>0.00665529127567981</dd><dt>65</dt><dd>0.00614431039601865</dd><dt>66</dt><dd>0.00488202411401759</dd><dt>67</dt><dd>0.00489896924186903</dd><dt>68</dt><dd>0.0062085121267195</dd><dt>69</dt><dd>0.00316605353303731</dd><dt>70</dt><dd>0.0027809315611573</dd><dt>71</dt><dd>0.0027625483616227</dd><dt>72</dt><dd>0.00310368013311289</dd><dt>73</dt><dd>0.00124724147439859</dd><dt>74</dt><dd>0.00103249493203777</dd><dt>75</dt><dd>0.0010410910519468</dd><dt>76</dt><dd>0.00127865394604454</dd><dt>77</dt><dd>0.000378475816031028</dd><dt>78</dt><dd>0.000303497390772461</dd><dt>79</dt><dd>0.000307720179309539</dd><dt>80</dt><dd>0.00039449522634332</dd><dt>81</dt><dd>7.54180587069966e-05</dd><dt>82</dt><dd>5.61695674483238e-05</dd><dt>83</dt><dd>5.76838786064118e-05</dd><dt>84</dt><dd>8.16844826193979e-05</dd><dt>85</dt><dd>7.2289723977676e-06</dd><dt>86</dt><dd>4.79295572529191e-06</dd><dt>87</dt><dd>4.3633180871152e-06</dd><dt>88</dt><dd>5.4517580453681e-06</dd><dt>89</dt><dd>0.00508884084039847</dd><dt>90</dt><dd>0.000109518650693968</dd><dt>91</dt><dd>0.00396407638080134</dd><dt>92</dt><dd>0.000135489371743808</dd><dt>93</dt><dd>0.000686463095243565</dd><dt>94</dt><dd>0.000576418794146588</dd><dt>95</dt><dd>0.000569276941896008</dd><dt>96</dt><dd>0.000661261375231272</dd><dt>97</dt><dd>0.00322631494143752</dd><dt>98</dt><dd>0.00277034951297184</dd><dt>99</dt><dd>0.00275371698302675</dd><dt>100</dt><dd>0.00316855265791706</dd><dt>101</dt><dd>0.000242780118413353</dd><dt>102</dt><dd>0.000180181957736809</dd><dt>103</dt><dd>0.00018292836284938</dd><dt>104</dt><dd>0.000254052287323554</dd><dt>105</dt><dd>0.000430894051342674</dd><dt>106</dt><dd>0.000349014967207792</dd><dt>107</dt><dd>0.000353665610084799</dd><dt>108</dt><dd>0.000448350173601967</dd><dt>109</dt><dd>0.00607792570562005</dd><dt>110</dt><dd>0.00461630058008156</dd><dt>111</dt><dd>0.0046012469182915</dd><dt>112</dt><dd>0.00601865931344259</dd><dt>113</dt><dd>0.0053467749803724</dd><dt>114</dt><dd>0.00411412566313047</dd><dt>115</dt><dd>0.00412855595971936</dd><dt>116</dt><dd>0.00540323410703173</dd><dt>117</dt><dd>0.00308888937638493</dd><dt>118</dt><dd>0.00269172983969617</dd><dt>119</dt><dd>0.00267428281973884</dd><dt>120</dt><dd>0.00302921355346325</dd><dt>121</dt><dd>0.00107197903003689</dd><dt>122</dt><dd>0.000868054687768834</dd><dt>123</dt><dd>0.000875467163822723</dd><dt>124</dt><dd>0.00109967600272673</dd><dt>125</dt><dd>0.000308522365705871</dd><dt>126</dt><dd>0.000239632073158457</dd><dt>127</dt><dd>0.000243111716257087</dd><dt>128</dt><dd>0.000322158901787225</dd><dt>129</dt><dd>5.42604269622656e-05</dd><dt>130</dt><dd>3.79378284848219e-05</dd><dt>131</dt><dd>3.90507622694985e-05</dd><dt>132</dt><dd>5.91779065661674e-05</dd><dt>133</dt><dd>9.84556709722821e-06</dd><dt>134</dt><dd>6.23228362467533e-06</dd><dt>135</dt><dd>5.79212022647702e-06</dd><dt>136</dt><dd>7.90180563853893e-06</dd><dt>137</dt><dd>0.00437429042432807</dd><dt>138</dt><dd>0.000105059092133832</dd><dt>139</dt><dd>0.00327498655560622</dd><dt>140</dt><dd>0.000135614464484636</dd><dt>141</dt><dd>0.00067918954831201</dd><dt>142</dt><dd>0.000562292623857365</dd><dt>143</dt><dd>0.000555575831932915</dd><dt>144</dt><dd>0.00065513906057982</dd><dt>145</dt><dd>0.00334873063456706</dd><dt>146</dt><dd>0.00287642455200958</dd><dt>147</dt><dd>0.00285946116308656</dd><dt>148</dt><dd>0.00328983272348368</dd><dt>149</dt><dd>0.000221643563968172</dd><dt>150</dt><dd>0.000164793752636438</dd><dt>151</dt><dd>0.00016742615595256</dd><dt>152</dt><dd>0.000232436152010707</dd><dt>153</dt><dd>0.000397872998018106</dd><dt>154</dt><dd>0.000322623586667869</dd><dt>155</dt><dd>0.000327101849004509</dd><dt>156</dt><dd>0.000414672931926086</dd><dt>157</dt><dd>0.00621419059891474</dd><dt>158</dt><dd>0.00472376441258419</dd><dt>159</dt><dd>0.00470850977261906</dd><dt>160</dt><dd>0.00615418150480855</dd><dt>161</dt><dd>0.00524838596598401</dd><dt>162</dt><dd>0.00404168643872657</dd><dt>163</dt><dd>0.00405601363894061</dd><dt>164</dt><dd>0.00530439850332739</dd><dt>165</dt><dd>0.00321463305582091</dd><dt>166</dt><dd>0.00280216053288915</dd><dt>167</dt><dd>0.0027843446838093</dd><dt>168</dt><dd>0.00315370673332007</dd><dt>169</dt><dd>0.00101983269217582</dd><dt>170</dt><dd>0.000826445928382372</dd><dt>171</dt><dd>0.000833688925231447</dd><dt>172</dt><dd>0.00104688225375913</dd><dt>173</dt><dd>0.000282843271973205</dd><dt>174</dt><dd>0.000220004236466445</dd><dt>175</dt><dd>0.000223344598630416</dd><dt>176</dt><dd>0.000295923752936805</dd><dt>177</dt><dd>4.52156760524116e-05</dd><dt>178</dt><dd>3.17565220331349e-05</dd><dt>179</dt><dd>3.27781644152819e-05</dd><dt>180</dt><dd>4.97222777493293e-05</dd><dt>181</dt><dd>1.4433272282536e-05</dd><dt>182</dt><dd>9.26543826157095e-06</dd><dt>183</dt><dd>8.72557930812337e-06</dd><dt>184</dt><dd>1.20532088857015e-05</dd><dt>185</dt><dd>0.000162918237712436</dd><dt>186</dt><dd>0.00320344883211556</dd><dt>187</dt><dd>0.000116596549597699</dd><dt>188</dt><dd>0.00433838635382269</dd><dt>189</dt><dd>0.000730002914234648</dd><dt>190</dt><dd>0.000604813749555752</dd><dt>191</dt><dd>0.000597839336057951</dd><dt>192</dt><dd>0.000705038363211337</dd><dt>193</dt><dd>0.00373231848179489</dd><dt>194</dt><dd>0.00323973644213516</dd><dt>195</dt><dd>0.00322096310134029</dd><dt>196</dt><dd>0.00366781023862842</dd><dt>197</dt><dd>0.000230960829161398</dd><dt>198</dt><dd>0.000179833025184857</dd><dt>199</dt><dd>0.00018285048134041</dd><dt>200</dt><dd>0.000242783576034757</dd><dt>201</dt><dd>⋯</dd><dt>202</dt><dd>0.00104976554236193</dd><dt>203</dt><dd>0.000864947245633706</dd><dt>204</dt><dd>0.000872696868732656</dd><dt>205</dt><dd>0.00107823608082141</dd><dt>206</dt><dd>0.0072197874328099</dd><dt>207</dt><dd>0.00062987051464849</dd><dt>208</dt><dd>0.000638068522635683</dd><dt>209</dt><dd>0.000742867061956388</dd><dt>210</dt><dd>1.08894498368928e-05</dd><dt>211</dt><dd>8.52513025642489e-06</dd><dt>212</dt><dd>7.58088802663712e-06</dd><dt>213</dt><dd>7.65086144514399e-06</dd><dt>214</dt><dd>0.00334092874415234</dd><dt>215</dt><dd>0.0025883741087416</dd><dt>216</dt><dd>0.00259997355509902</dd><dt>217</dt><dd>0.00338604623266961</dd><dt>218</dt><dd>0.000672760383922905</dd><dt>219</dt><dd>0.00054697095827279</dd><dt>220</dt><dd>0.000540713740196023</dd><dt>221</dt><dd>0.000649934352668521</dd><dt>222</dt><dd>0.00167274563632604</dd><dt>223</dt><dd>0.00131929763702553</dd><dt>224</dt><dd>0.00131045017838622</dd><dt>225</dt><dd>0.00163931732446184</dd><dt>226</dt><dd>0.00114377021035521</dd><dt>227</dt><dd>0.000919703292683698</dd><dt>228</dt><dd>0.000927202249592451</dd><dt>229</dt><dd>0.00117197703936509</dd><dt>230</dt><dd>1.27059546020747e-06</dd><dt>231</dt><dd>1.53058497955011e-06</dd><dt>232</dt><dd>1.99760268305823e-06</dd><dt>233</dt><dd>2.85204469923364e-06</dd><dt>234</dt><dd>0.000185149177675821</dd><dt>235</dt><dd>0.000149454573284103</dd><dt>236</dt><dd>0.000146159293237786</dd><dt>237</dt><dd>0.000173169361913529</dd><dt>238</dt><dd>0.000669168408753008</dd><dt>239</dt><dd>0.000527414331810917</dd><dt>240</dt><dd>0.000521779212791654</dd><dt>241</dt><dd>0.00064794732206267</dd><dt>242</dt><dd>0.000955342354337997</dd><dt>243</dt><dd>0.000696754460953217</dd><dt>244</dt><dd>0.000691326909581432</dd><dt>245</dt><dd>0.000933189922751162</dd><dt>246</dt><dd>0.0011842876794549</dd><dt>247</dt><dd>0.000876885128226431</dd><dt>248</dt><dd>0.00131452530518454</dd><dt>249</dt><dd>0.00120923931181555</dd><dt>250</dt><dd>0.000822641462532535</dd><dt>251</dt><dd>0.000647721568234054</dd><dt>252</dt><dd>0.000653685468899171</dd><dt>253</dt><dd>0.000845575086623998</dd><dt>254</dt><dd>0.000579091074905987</dd><dt>255</dt><dd>0.000500772532830447</dd><dt>256</dt><dd>0.000507555525318161</dd><dt>257</dt><dd>0.000602943448080273</dd><dt>258</dt><dd>1.81455298024781e-05</dd><dt>259</dt><dd>1.45031881411714e-05</dd><dt>260</dt><dd>1.32977167376303e-05</dd><dt>261</dt><dd>1.39819652068753e-05</dd><dt>262</dt><dd>0.00295761310448217</dd><dt>263</dt><dd>0.00222648526151512</dd><dt>264</dt><dd>0.00223659912798579</dd><dt>265</dt><dd>0.00299810170863273</dd><dt>266</dt><dd>0.000669155350484895</dd><dt>267</dt><dd>0.000535790579157346</dd><dt>268</dt><dd>0.000529864929761832</dd><dt>269</dt><dd>0.000647197698382711</dd><dt>270</dt><dd>0.00159902961034194</dd><dt>271</dt><dd>0.00123350288450846</dd><dt>272</dt><dd>0.0012253941620119</dd><dt>273</dt><dd>0.00156770143639527</dd><dt>274</dt><dd>0.00100125192699874</dd><dt>275</dt><dd>0.000788231070627801</dd><dt>276</dt><dd>0.000794819446067735</dd><dt>277</dt><dd>0.00102656934727158</dd><dt>278</dt><dd>5.20539689874972e-12</dd><dt>279</dt><dd>3.02191975553792e-08</dd><dt>280</dt><dd>1.19392351773738e-07</dd><dt>281</dt><dd>3.03679962400532e-07</dd><dt>282</dt><dd>0.000195821234663136</dd><dt>283</dt><dd>0.00015591714332991</dd><dt>284</dt><dd>0.000152692953614826</dd><dt>285</dt><dd>0.00018392178932432</dd><dt>286</dt><dd>0.000655429583060134</dd><dt>287</dt><dd>0.000505702459835695</dd><dt>288</dt><dd>0.000500467372179343</dd><dt>289</dt><dd>0.000635283979593049</dd><dt>290</dt><dd>0.000895741532395676</dd><dt>291</dt><dd>0.000626721731515797</dd><dt>292</dt><dd>0.000621951365451694</dd><dt>293</dt><dd>0.000875442505481446</dd><dt>294</dt><dd>0.00167450302842403</dd><dt>295</dt><dd>0.00117452950126704</dd><dt>296</dt><dd>0.00116799048768614</dd><dt>297</dt><dd>0.00164669068218709</dd><dt>298</dt><dd>0.000710097456187082</dd><dt>299</dt><dd>0.000544829384964739</dd><dt>300</dt><dd>0.000549988629717243</dd><dt>301</dt><dd>0.000730462126724286</dd><dt>302</dt><dd>0.00050184173108119</dd><dt>303</dt><dd>0.000429875972040877</dd><dt>304</dt><dd>0.000435945677516281</dd><dt>305</dt><dd>0.000523401528171792</dd><dt>306</dt><dd>2.86750497039353e-05</dd><dt>307</dt><dd>2.33679158629635e-05</dd><dt>308</dt><dd>2.18136314576858e-05</dd><dt>309</dt><dd>2.33215409354012e-05</dd><dt>310</dt><dd>0.00298668189192356</dd><dt>311</dt><dd>0.00227512301551855</dd><dt>312</dt><dd>0.00228560082155348</dd><dt>313</dt><dd>0.00302813678400565</dd><dt>314</dt><dd>0.000734858339705269</dd><dt>315</dt><dd>0.000592322135552459</dd><dt>316</dt><dd>0.00058598194263594</dd><dt>317</dt><dd>0.000711511899179641</dd><dt>318</dt><dd>0.00171906128563666</dd><dt>319</dt><dd>0.00133831178047389</dd><dt>320</dt><dd>0.00132968446799009</dd><dt>321</dt><dd>0.00168602956549686</dd><dt>322</dt><dd>0.000983132054340147</dd><dt>323</dt><dd>0.000780865636845188</dd><dt>324</dt><dd>0.000787560577748452</dd><dt>325</dt><dd>0.00100863715835807</dd><dt>326</dt><dd>1.22501542120482e-06</dd><dt>327</dt><dd>7.50917106879053e-07</dd><dt>328</dt><dd>4.80420412646222e-07</dd><dt>329</dt><dd>3.05900218163015e-07</dd><dt>330</dt><dd>0.000227042386770445</dd><dt>331</dt><dd>0.000182093468327521</dd><dt>332</dt><dd>0.000178548240353361</dd><dt>333</dt><dd>0.000214037028226783</dd><dt>334</dt><dd>0.000720012288445416</dd><dt>335</dt><dd>0.000560594261059057</dd><dt>336</dt><dd>0.000554965982409177</dd><dt>337</dt><dd>0.000698542497227071</dd><dt>338</dt><dd>0.000979015055954071</dd><dt>339</dt><dd>0.000697028406188952</dd><dt>340</dt><dd>0.00069184151199416</dd><dt>341</dt><dd>0.000957321250237508</dd><dt>342</dt><dd>0.00101673011374477</dd><dt>343</dt><dd>0.000734917472872198</dd><dt>344</dt><dd>0.00128341406696401</dd><dt>345</dt><dd>0.00103909530124662</dd><dt>346</dt><dd>0.000694558124815422</dd><dt>347</dt><dd>0.000538758397894613</dd><dt>348</dt><dd>0.000544009553727308</dd><dt>349</dt><dd>0.000715066143649034</dd><dt>350</dt><dd>0.000470861690549774</dd><dt>351</dt><dd>0.000405208863460428</dd><dt>352</dt><dd>0.00041118374432676</dd><dt>353</dt><dd>0.000491999929125892</dd><dt>354</dt><dd>4.47731859216697e-05</dd><dt>355</dt><dd>3.73171671950243e-05</dd><dt>356</dt><dd>3.52483913917697e-05</dd><dt>357</dt><dd>3.77285030191012e-05</dd><dt>358</dt><dd>0.00339664310431455</dd><dt>359</dt><dd>0.00270298784696936</dd><dt>360</dt><dd>0.00271561079519074</dd><dt>361</dt><dd>0.00344445280636166</dd><dt>362</dt><dd>0.000884412192140486</dd><dt>363</dt><dd>0.000730907807590318</dd><dt>364</dt><dd>0.00072332796582176</dd><dt>365</dt><dd>0.000857180812474741</dd><dt>366</dt><dd>0.00205717402045608</dd><dt>367</dt><dd>0.00165777356045929</dd><dt>368</dt><dd>0.00164728991460362</dd><dt>369</dt><dd>0.00201839177406987</dd><dt>370</dt><dd>0.00107200623719843</dd><dt>371</dt><dd>0.00088027542567266</dd><dt>372</dt><dd>0.000888022236237617</dd><dt>373</dt><dd>0.00110055878925239</dd><dt>374</dt><dd>5.31327315779896e-06</dd><dt>375</dt><dd>3.97898530611571e-06</dd><dt>376</dt><dd>3.28874903281741e-06</dd><dt>377</dt><dd>2.98963662875582e-06</dd><dt>378</dt><dd>0.000286715648979481</dd><dt>379</dt><dd>0.000235742794342198</dd><dt>380</dt><dd>0.0002314066897743</dd><dt>381</dt><dd>0.000271182997205574</dd><dt>382</dt><dd>0.000878348895406385</dd><dt>383</dt><dd>0.000707314384262203</dd><dt>384</dt><dd>0.000700420994660912</dd><dt>385</dt><dd>0.000852917157438715</dd><dt>386</dt><dd>0.00122594887056592</dd><dt>387</dt><dd>0.000928207709832477</dd><dt>388</dt><dd>0.000921451561354579</dd><dt>389</dt><dd>0.00119937306046193</dd><dt>390</dt><dd>0.00223794705930558</dd><dt>391</dt><dd>0.00169809461635637</dd><dt>392</dt><dd>0.00168894676771995</dd><dt>393</dt><dd>0.00220197307475543</dd><dt>394</dt><dd>0.000760711870122396</dd><dt>395</dt><dd>0.000614252199195731</dd><dt>396</dt><dd>0.000620419787929568</dd><dt>397</dt><dd>0.000783857597762291</dd><dt>398</dt><dd>0.000475728934601061</dd><dt>399</dt><dd>0.00041636148750564</dd><dt>400</dt><dd>0.000422785404175612</dd><dt>401</dt><dd>0.000498090947844096</dd></dl>\n"
      ],
      "text/latex": [
       "\\begin{description*}\n",
       "\\item[1] 0.00179176347633623\n",
       "\\item[2] 0.00159319888997504\n",
       "\\item[3] 0.001578225240898\n",
       "\\item[4] 0.00174171649915977\n",
       "\\item[5] 0.00367347698513597\n",
       "\\item[6] 0.00306649192894408\n",
       "\\item[7] 0.00305070420104742\n",
       "\\item[8] 0.00361703004177055\n",
       "\\item[9] 0.0040317836861667\n",
       "\\item[10] 0.00347188337218322\n",
       "\\item[11] 0.00345309535157842\n",
       "\\item[12] 0.00396668320521629\n",
       "\\item[13] 0.0063913951167952\n",
       "\\item[14] 0.00541383331400847\n",
       "\\item[15] 0.00539186998559707\n",
       "\\item[16] 0.00631392248508352\n",
       "\\item[17] 6.65664739967272e-05\n",
       "\\item[18] 5.90285761503982e-05\n",
       "\\item[19] 6.13647036878311e-05\n",
       "\\item[20] 7.47889192673941e-05\n",
       "\\item[21] 0.00152487914605436\n",
       "\\item[22] 0.0265466320192891\n",
       "\\item[23] 0.00135107430894723\n",
       "\\item[24] 0.0291884438877506\n",
       "\\item[25] 0.00373711618245572\n",
       "\\item[26] 0.00325989868195382\n",
       "\\item[27] 0.00327828821653906\n",
       "\\item[28] 0.0038007187153385\n",
       "\\item[29] 0.00175793449987209\n",
       "\\item[30] 0.00150916052374181\n",
       "\\item[31] 0.00152085684960562\n",
       "\\item[32] 0.00179912564460228\n",
       "\\item[33] 0.000772845924500685\n",
       "\\item[34] 0.00064223931970191\n",
       "\\item[35] 0.000649053592024541\n",
       "\\item[36] 0.000797708422121367\n",
       "\\item[37] 0.000183262608003226\n",
       "\\item[38] 0.000154017504672292\n",
       "\\item[39] 0.000157365051944354\n",
       "\\item[40] 0.000195474738794928\n",
       "\\item[41] 1.20502909806831e-05\n",
       "\\item[42] 1.11106858282346e-05\n",
       "\\item[43] 1.2099760649728e-05\n",
       "\\item[44] 1.55682661261113e-05\n",
       "\\item[45] 7.78911971366148e-05\n",
       "\\item[46] 6.59835800936712e-05\n",
       "\\item[47] 6.31822363348405e-05\n",
       "\\item[48] 6.83829753336152e-05\n",
       "\\item[49] 0.00303553113336285\n",
       "\\item[50] 0.00266565068584975\n",
       "\\item[51] 0.00268268978661349\n",
       "\\item[52] 0.0030941146505756\n",
       "\\item[53] 0.000304009097076876\n",
       "\\item[54] 0.000235630812967536\n",
       "\\item[55] 0.000239065116873502\n",
       "\\item[56] 0.000317496999079654\n",
       "\\item[57] 0.000516484351833031\n",
       "\\item[58] 0.000427924959081931\n",
       "\\item[59] 0.000433407586114404\n",
       "\\item[60] 0.000536592117616792\n",
       "\\item[61] 0.00672147938815819\n",
       "\\item[62] 0.00527935114002056\n",
       "\\item[63] 0.0052619649405177\n",
       "\\item[64] 0.00665529127567981\n",
       "\\item[65] 0.00614431039601865\n",
       "\\item[66] 0.00488202411401759\n",
       "\\item[67] 0.00489896924186903\n",
       "\\item[68] 0.0062085121267195\n",
       "\\item[69] 0.00316605353303731\n",
       "\\item[70] 0.0027809315611573\n",
       "\\item[71] 0.0027625483616227\n",
       "\\item[72] 0.00310368013311289\n",
       "\\item[73] 0.00124724147439859\n",
       "\\item[74] 0.00103249493203777\n",
       "\\item[75] 0.0010410910519468\n",
       "\\item[76] 0.00127865394604454\n",
       "\\item[77] 0.000378475816031028\n",
       "\\item[78] 0.000303497390772461\n",
       "\\item[79] 0.000307720179309539\n",
       "\\item[80] 0.00039449522634332\n",
       "\\item[81] 7.54180587069966e-05\n",
       "\\item[82] 5.61695674483238e-05\n",
       "\\item[83] 5.76838786064118e-05\n",
       "\\item[84] 8.16844826193979e-05\n",
       "\\item[85] 7.2289723977676e-06\n",
       "\\item[86] 4.79295572529191e-06\n",
       "\\item[87] 4.3633180871152e-06\n",
       "\\item[88] 5.4517580453681e-06\n",
       "\\item[89] 0.00508884084039847\n",
       "\\item[90] 0.000109518650693968\n",
       "\\item[91] 0.00396407638080134\n",
       "\\item[92] 0.000135489371743808\n",
       "\\item[93] 0.000686463095243565\n",
       "\\item[94] 0.000576418794146588\n",
       "\\item[95] 0.000569276941896008\n",
       "\\item[96] 0.000661261375231272\n",
       "\\item[97] 0.00322631494143752\n",
       "\\item[98] 0.00277034951297184\n",
       "\\item[99] 0.00275371698302675\n",
       "\\item[100] 0.00316855265791706\n",
       "\\item[101] 0.000242780118413353\n",
       "\\item[102] 0.000180181957736809\n",
       "\\item[103] 0.00018292836284938\n",
       "\\item[104] 0.000254052287323554\n",
       "\\item[105] 0.000430894051342674\n",
       "\\item[106] 0.000349014967207792\n",
       "\\item[107] 0.000353665610084799\n",
       "\\item[108] 0.000448350173601967\n",
       "\\item[109] 0.00607792570562005\n",
       "\\item[110] 0.00461630058008156\n",
       "\\item[111] 0.0046012469182915\n",
       "\\item[112] 0.00601865931344259\n",
       "\\item[113] 0.0053467749803724\n",
       "\\item[114] 0.00411412566313047\n",
       "\\item[115] 0.00412855595971936\n",
       "\\item[116] 0.00540323410703173\n",
       "\\item[117] 0.00308888937638493\n",
       "\\item[118] 0.00269172983969617\n",
       "\\item[119] 0.00267428281973884\n",
       "\\item[120] 0.00302921355346325\n",
       "\\item[121] 0.00107197903003689\n",
       "\\item[122] 0.000868054687768834\n",
       "\\item[123] 0.000875467163822723\n",
       "\\item[124] 0.00109967600272673\n",
       "\\item[125] 0.000308522365705871\n",
       "\\item[126] 0.000239632073158457\n",
       "\\item[127] 0.000243111716257087\n",
       "\\item[128] 0.000322158901787225\n",
       "\\item[129] 5.42604269622656e-05\n",
       "\\item[130] 3.79378284848219e-05\n",
       "\\item[131] 3.90507622694985e-05\n",
       "\\item[132] 5.91779065661674e-05\n",
       "\\item[133] 9.84556709722821e-06\n",
       "\\item[134] 6.23228362467533e-06\n",
       "\\item[135] 5.79212022647702e-06\n",
       "\\item[136] 7.90180563853893e-06\n",
       "\\item[137] 0.00437429042432807\n",
       "\\item[138] 0.000105059092133832\n",
       "\\item[139] 0.00327498655560622\n",
       "\\item[140] 0.000135614464484636\n",
       "\\item[141] 0.00067918954831201\n",
       "\\item[142] 0.000562292623857365\n",
       "\\item[143] 0.000555575831932915\n",
       "\\item[144] 0.00065513906057982\n",
       "\\item[145] 0.00334873063456706\n",
       "\\item[146] 0.00287642455200958\n",
       "\\item[147] 0.00285946116308656\n",
       "\\item[148] 0.00328983272348368\n",
       "\\item[149] 0.000221643563968172\n",
       "\\item[150] 0.000164793752636438\n",
       "\\item[151] 0.00016742615595256\n",
       "\\item[152] 0.000232436152010707\n",
       "\\item[153] 0.000397872998018106\n",
       "\\item[154] 0.000322623586667869\n",
       "\\item[155] 0.000327101849004509\n",
       "\\item[156] 0.000414672931926086\n",
       "\\item[157] 0.00621419059891474\n",
       "\\item[158] 0.00472376441258419\n",
       "\\item[159] 0.00470850977261906\n",
       "\\item[160] 0.00615418150480855\n",
       "\\item[161] 0.00524838596598401\n",
       "\\item[162] 0.00404168643872657\n",
       "\\item[163] 0.00405601363894061\n",
       "\\item[164] 0.00530439850332739\n",
       "\\item[165] 0.00321463305582091\n",
       "\\item[166] 0.00280216053288915\n",
       "\\item[167] 0.0027843446838093\n",
       "\\item[168] 0.00315370673332007\n",
       "\\item[169] 0.00101983269217582\n",
       "\\item[170] 0.000826445928382372\n",
       "\\item[171] 0.000833688925231447\n",
       "\\item[172] 0.00104688225375913\n",
       "\\item[173] 0.000282843271973205\n",
       "\\item[174] 0.000220004236466445\n",
       "\\item[175] 0.000223344598630416\n",
       "\\item[176] 0.000295923752936805\n",
       "\\item[177] 4.52156760524116e-05\n",
       "\\item[178] 3.17565220331349e-05\n",
       "\\item[179] 3.27781644152819e-05\n",
       "\\item[180] 4.97222777493293e-05\n",
       "\\item[181] 1.4433272282536e-05\n",
       "\\item[182] 9.26543826157095e-06\n",
       "\\item[183] 8.72557930812337e-06\n",
       "\\item[184] 1.20532088857015e-05\n",
       "\\item[185] 0.000162918237712436\n",
       "\\item[186] 0.00320344883211556\n",
       "\\item[187] 0.000116596549597699\n",
       "\\item[188] 0.00433838635382269\n",
       "\\item[189] 0.000730002914234648\n",
       "\\item[190] 0.000604813749555752\n",
       "\\item[191] 0.000597839336057951\n",
       "\\item[192] 0.000705038363211337\n",
       "\\item[193] 0.00373231848179489\n",
       "\\item[194] 0.00323973644213516\n",
       "\\item[195] 0.00322096310134029\n",
       "\\item[196] 0.00366781023862842\n",
       "\\item[197] 0.000230960829161398\n",
       "\\item[198] 0.000179833025184857\n",
       "\\item[199] 0.00018285048134041\n",
       "\\item[200] 0.000242783576034757\n",
       "\\item[201] ⋯\n",
       "\\item[202] 0.00104976554236193\n",
       "\\item[203] 0.000864947245633706\n",
       "\\item[204] 0.000872696868732656\n",
       "\\item[205] 0.00107823608082141\n",
       "\\item[206] 0.0072197874328099\n",
       "\\item[207] 0.00062987051464849\n",
       "\\item[208] 0.000638068522635683\n",
       "\\item[209] 0.000742867061956388\n",
       "\\item[210] 1.08894498368928e-05\n",
       "\\item[211] 8.52513025642489e-06\n",
       "\\item[212] 7.58088802663712e-06\n",
       "\\item[213] 7.65086144514399e-06\n",
       "\\item[214] 0.00334092874415234\n",
       "\\item[215] 0.0025883741087416\n",
       "\\item[216] 0.00259997355509902\n",
       "\\item[217] 0.00338604623266961\n",
       "\\item[218] 0.000672760383922905\n",
       "\\item[219] 0.00054697095827279\n",
       "\\item[220] 0.000540713740196023\n",
       "\\item[221] 0.000649934352668521\n",
       "\\item[222] 0.00167274563632604\n",
       "\\item[223] 0.00131929763702553\n",
       "\\item[224] 0.00131045017838622\n",
       "\\item[225] 0.00163931732446184\n",
       "\\item[226] 0.00114377021035521\n",
       "\\item[227] 0.000919703292683698\n",
       "\\item[228] 0.000927202249592451\n",
       "\\item[229] 0.00117197703936509\n",
       "\\item[230] 1.27059546020747e-06\n",
       "\\item[231] 1.53058497955011e-06\n",
       "\\item[232] 1.99760268305823e-06\n",
       "\\item[233] 2.85204469923364e-06\n",
       "\\item[234] 0.000185149177675821\n",
       "\\item[235] 0.000149454573284103\n",
       "\\item[236] 0.000146159293237786\n",
       "\\item[237] 0.000173169361913529\n",
       "\\item[238] 0.000669168408753008\n",
       "\\item[239] 0.000527414331810917\n",
       "\\item[240] 0.000521779212791654\n",
       "\\item[241] 0.00064794732206267\n",
       "\\item[242] 0.000955342354337997\n",
       "\\item[243] 0.000696754460953217\n",
       "\\item[244] 0.000691326909581432\n",
       "\\item[245] 0.000933189922751162\n",
       "\\item[246] 0.0011842876794549\n",
       "\\item[247] 0.000876885128226431\n",
       "\\item[248] 0.00131452530518454\n",
       "\\item[249] 0.00120923931181555\n",
       "\\item[250] 0.000822641462532535\n",
       "\\item[251] 0.000647721568234054\n",
       "\\item[252] 0.000653685468899171\n",
       "\\item[253] 0.000845575086623998\n",
       "\\item[254] 0.000579091074905987\n",
       "\\item[255] 0.000500772532830447\n",
       "\\item[256] 0.000507555525318161\n",
       "\\item[257] 0.000602943448080273\n",
       "\\item[258] 1.81455298024781e-05\n",
       "\\item[259] 1.45031881411714e-05\n",
       "\\item[260] 1.32977167376303e-05\n",
       "\\item[261] 1.39819652068753e-05\n",
       "\\item[262] 0.00295761310448217\n",
       "\\item[263] 0.00222648526151512\n",
       "\\item[264] 0.00223659912798579\n",
       "\\item[265] 0.00299810170863273\n",
       "\\item[266] 0.000669155350484895\n",
       "\\item[267] 0.000535790579157346\n",
       "\\item[268] 0.000529864929761832\n",
       "\\item[269] 0.000647197698382711\n",
       "\\item[270] 0.00159902961034194\n",
       "\\item[271] 0.00123350288450846\n",
       "\\item[272] 0.0012253941620119\n",
       "\\item[273] 0.00156770143639527\n",
       "\\item[274] 0.00100125192699874\n",
       "\\item[275] 0.000788231070627801\n",
       "\\item[276] 0.000794819446067735\n",
       "\\item[277] 0.00102656934727158\n",
       "\\item[278] 5.20539689874972e-12\n",
       "\\item[279] 3.02191975553792e-08\n",
       "\\item[280] 1.19392351773738e-07\n",
       "\\item[281] 3.03679962400532e-07\n",
       "\\item[282] 0.000195821234663136\n",
       "\\item[283] 0.00015591714332991\n",
       "\\item[284] 0.000152692953614826\n",
       "\\item[285] 0.00018392178932432\n",
       "\\item[286] 0.000655429583060134\n",
       "\\item[287] 0.000505702459835695\n",
       "\\item[288] 0.000500467372179343\n",
       "\\item[289] 0.000635283979593049\n",
       "\\item[290] 0.000895741532395676\n",
       "\\item[291] 0.000626721731515797\n",
       "\\item[292] 0.000621951365451694\n",
       "\\item[293] 0.000875442505481446\n",
       "\\item[294] 0.00167450302842403\n",
       "\\item[295] 0.00117452950126704\n",
       "\\item[296] 0.00116799048768614\n",
       "\\item[297] 0.00164669068218709\n",
       "\\item[298] 0.000710097456187082\n",
       "\\item[299] 0.000544829384964739\n",
       "\\item[300] 0.000549988629717243\n",
       "\\item[301] 0.000730462126724286\n",
       "\\item[302] 0.00050184173108119\n",
       "\\item[303] 0.000429875972040877\n",
       "\\item[304] 0.000435945677516281\n",
       "\\item[305] 0.000523401528171792\n",
       "\\item[306] 2.86750497039353e-05\n",
       "\\item[307] 2.33679158629635e-05\n",
       "\\item[308] 2.18136314576858e-05\n",
       "\\item[309] 2.33215409354012e-05\n",
       "\\item[310] 0.00298668189192356\n",
       "\\item[311] 0.00227512301551855\n",
       "\\item[312] 0.00228560082155348\n",
       "\\item[313] 0.00302813678400565\n",
       "\\item[314] 0.000734858339705269\n",
       "\\item[315] 0.000592322135552459\n",
       "\\item[316] 0.00058598194263594\n",
       "\\item[317] 0.000711511899179641\n",
       "\\item[318] 0.00171906128563666\n",
       "\\item[319] 0.00133831178047389\n",
       "\\item[320] 0.00132968446799009\n",
       "\\item[321] 0.00168602956549686\n",
       "\\item[322] 0.000983132054340147\n",
       "\\item[323] 0.000780865636845188\n",
       "\\item[324] 0.000787560577748452\n",
       "\\item[325] 0.00100863715835807\n",
       "\\item[326] 1.22501542120482e-06\n",
       "\\item[327] 7.50917106879053e-07\n",
       "\\item[328] 4.80420412646222e-07\n",
       "\\item[329] 3.05900218163015e-07\n",
       "\\item[330] 0.000227042386770445\n",
       "\\item[331] 0.000182093468327521\n",
       "\\item[332] 0.000178548240353361\n",
       "\\item[333] 0.000214037028226783\n",
       "\\item[334] 0.000720012288445416\n",
       "\\item[335] 0.000560594261059057\n",
       "\\item[336] 0.000554965982409177\n",
       "\\item[337] 0.000698542497227071\n",
       "\\item[338] 0.000979015055954071\n",
       "\\item[339] 0.000697028406188952\n",
       "\\item[340] 0.00069184151199416\n",
       "\\item[341] 0.000957321250237508\n",
       "\\item[342] 0.00101673011374477\n",
       "\\item[343] 0.000734917472872198\n",
       "\\item[344] 0.00128341406696401\n",
       "\\item[345] 0.00103909530124662\n",
       "\\item[346] 0.000694558124815422\n",
       "\\item[347] 0.000538758397894613\n",
       "\\item[348] 0.000544009553727308\n",
       "\\item[349] 0.000715066143649034\n",
       "\\item[350] 0.000470861690549774\n",
       "\\item[351] 0.000405208863460428\n",
       "\\item[352] 0.00041118374432676\n",
       "\\item[353] 0.000491999929125892\n",
       "\\item[354] 4.47731859216697e-05\n",
       "\\item[355] 3.73171671950243e-05\n",
       "\\item[356] 3.52483913917697e-05\n",
       "\\item[357] 3.77285030191012e-05\n",
       "\\item[358] 0.00339664310431455\n",
       "\\item[359] 0.00270298784696936\n",
       "\\item[360] 0.00271561079519074\n",
       "\\item[361] 0.00344445280636166\n",
       "\\item[362] 0.000884412192140486\n",
       "\\item[363] 0.000730907807590318\n",
       "\\item[364] 0.00072332796582176\n",
       "\\item[365] 0.000857180812474741\n",
       "\\item[366] 0.00205717402045608\n",
       "\\item[367] 0.00165777356045929\n",
       "\\item[368] 0.00164728991460362\n",
       "\\item[369] 0.00201839177406987\n",
       "\\item[370] 0.00107200623719843\n",
       "\\item[371] 0.00088027542567266\n",
       "\\item[372] 0.000888022236237617\n",
       "\\item[373] 0.00110055878925239\n",
       "\\item[374] 5.31327315779896e-06\n",
       "\\item[375] 3.97898530611571e-06\n",
       "\\item[376] 3.28874903281741e-06\n",
       "\\item[377] 2.98963662875582e-06\n",
       "\\item[378] 0.000286715648979481\n",
       "\\item[379] 0.000235742794342198\n",
       "\\item[380] 0.0002314066897743\n",
       "\\item[381] 0.000271182997205574\n",
       "\\item[382] 0.000878348895406385\n",
       "\\item[383] 0.000707314384262203\n",
       "\\item[384] 0.000700420994660912\n",
       "\\item[385] 0.000852917157438715\n",
       "\\item[386] 0.00122594887056592\n",
       "\\item[387] 0.000928207709832477\n",
       "\\item[388] 0.000921451561354579\n",
       "\\item[389] 0.00119937306046193\n",
       "\\item[390] 0.00223794705930558\n",
       "\\item[391] 0.00169809461635637\n",
       "\\item[392] 0.00168894676771995\n",
       "\\item[393] 0.00220197307475543\n",
       "\\item[394] 0.000760711870122396\n",
       "\\item[395] 0.000614252199195731\n",
       "\\item[396] 0.000620419787929568\n",
       "\\item[397] 0.000783857597762291\n",
       "\\item[398] 0.000475728934601061\n",
       "\\item[399] 0.00041636148750564\n",
       "\\item[400] 0.000422785404175612\n",
       "\\item[401] 0.000498090947844096\n",
       "\\end{description*}\n"
      ],
      "text/markdown": [
       "1\n",
       ":   0.001791763476336232\n",
       ":   0.001593198889975043\n",
       ":   0.0015782252408984\n",
       ":   0.001741716499159775\n",
       ":   0.003673476985135976\n",
       ":   0.003066491928944087\n",
       ":   0.003050704201047428\n",
       ":   0.003617030041770559\n",
       ":   0.004031783686166710\n",
       ":   0.0034718833721832211\n",
       ":   0.0034530953515784212\n",
       ":   0.0039666832052162913\n",
       ":   0.006391395116795214\n",
       ":   0.0054138333140084715\n",
       ":   0.0053918699855970716\n",
       ":   0.0063139224850835217\n",
       ":   6.65664739967272e-0518\n",
       ":   5.90285761503982e-0519\n",
       ":   6.13647036878311e-0520\n",
       ":   7.47889192673941e-0521\n",
       ":   0.0015248791460543622\n",
       ":   0.026546632019289123\n",
       ":   0.0013510743089472324\n",
       ":   0.029188443887750625\n",
       ":   0.0037371161824557226\n",
       ":   0.0032598986819538227\n",
       ":   0.0032782882165390628\n",
       ":   0.003800718715338529\n",
       ":   0.0017579344998720930\n",
       ":   0.0015091605237418131\n",
       ":   0.0015208568496056232\n",
       ":   0.0017991256446022833\n",
       ":   0.00077284592450068534\n",
       ":   0.0006422393197019135\n",
       ":   0.00064905359202454136\n",
       ":   0.00079770842212136737\n",
       ":   0.00018326260800322638\n",
       ":   0.00015401750467229239\n",
       ":   0.00015736505194435440\n",
       ":   0.00019547473879492841\n",
       ":   1.20502909806831e-0542\n",
       ":   1.11106858282346e-0543\n",
       ":   1.2099760649728e-0544\n",
       ":   1.55682661261113e-0545\n",
       ":   7.78911971366148e-0546\n",
       ":   6.59835800936712e-0547\n",
       ":   6.31822363348405e-0548\n",
       ":   6.83829753336152e-0549\n",
       ":   0.0030355311333628550\n",
       ":   0.0026656506858497551\n",
       ":   0.0026826897866134952\n",
       ":   0.003094114650575653\n",
       ":   0.00030400909707687654\n",
       ":   0.00023563081296753655\n",
       ":   0.00023906511687350256\n",
       ":   0.00031749699907965457\n",
       ":   0.00051648435183303158\n",
       ":   0.00042792495908193159\n",
       ":   0.00043340758611440460\n",
       ":   0.00053659211761679261\n",
       ":   0.0067214793881581962\n",
       ":   0.0052793511400205663\n",
       ":   0.005261964940517764\n",
       ":   0.0066552912756798165\n",
       ":   0.0061443103960186566\n",
       ":   0.0048820241140175967\n",
       ":   0.0048989692418690368\n",
       ":   0.006208512126719569\n",
       ":   0.0031660535330373170\n",
       ":   0.002780931561157371\n",
       ":   0.002762548361622772\n",
       ":   0.0031036801331128973\n",
       ":   0.0012472414743985974\n",
       ":   0.0010324949320377775\n",
       ":   0.001041091051946876\n",
       ":   0.0012786539460445477\n",
       ":   0.00037847581603102878\n",
       ":   0.00030349739077246179\n",
       ":   0.00030772017930953980\n",
       ":   0.0003944952263433281\n",
       ":   7.54180587069966e-0582\n",
       ":   5.61695674483238e-0583\n",
       ":   5.76838786064118e-0584\n",
       ":   8.16844826193979e-0585\n",
       ":   7.2289723977676e-0686\n",
       ":   4.79295572529191e-0687\n",
       ":   4.3633180871152e-0688\n",
       ":   5.4517580453681e-0689\n",
       ":   0.0050888408403984790\n",
       ":   0.00010951865069396891\n",
       ":   0.0039640763808013492\n",
       ":   0.00013548937174380893\n",
       ":   0.00068646309524356594\n",
       ":   0.00057641879414658895\n",
       ":   0.00056927694189600896\n",
       ":   0.00066126137523127297\n",
       ":   0.0032263149414375298\n",
       ":   0.0027703495129718499\n",
       ":   0.00275371698302675100\n",
       ":   0.00316855265791706101\n",
       ":   0.000242780118413353102\n",
       ":   0.000180181957736809103\n",
       ":   0.00018292836284938104\n",
       ":   0.000254052287323554105\n",
       ":   0.000430894051342674106\n",
       ":   0.000349014967207792107\n",
       ":   0.000353665610084799108\n",
       ":   0.000448350173601967109\n",
       ":   0.00607792570562005110\n",
       ":   0.00461630058008156111\n",
       ":   0.0046012469182915112\n",
       ":   0.00601865931344259113\n",
       ":   0.0053467749803724114\n",
       ":   0.00411412566313047115\n",
       ":   0.00412855595971936116\n",
       ":   0.00540323410703173117\n",
       ":   0.00308888937638493118\n",
       ":   0.00269172983969617119\n",
       ":   0.00267428281973884120\n",
       ":   0.00302921355346325121\n",
       ":   0.00107197903003689122\n",
       ":   0.000868054687768834123\n",
       ":   0.000875467163822723124\n",
       ":   0.00109967600272673125\n",
       ":   0.000308522365705871126\n",
       ":   0.000239632073158457127\n",
       ":   0.000243111716257087128\n",
       ":   0.000322158901787225129\n",
       ":   5.42604269622656e-05130\n",
       ":   3.79378284848219e-05131\n",
       ":   3.90507622694985e-05132\n",
       ":   5.91779065661674e-05133\n",
       ":   9.84556709722821e-06134\n",
       ":   6.23228362467533e-06135\n",
       ":   5.79212022647702e-06136\n",
       ":   7.90180563853893e-06137\n",
       ":   0.00437429042432807138\n",
       ":   0.000105059092133832139\n",
       ":   0.00327498655560622140\n",
       ":   0.000135614464484636141\n",
       ":   0.00067918954831201142\n",
       ":   0.000562292623857365143\n",
       ":   0.000555575831932915144\n",
       ":   0.00065513906057982145\n",
       ":   0.00334873063456706146\n",
       ":   0.00287642455200958147\n",
       ":   0.00285946116308656148\n",
       ":   0.00328983272348368149\n",
       ":   0.000221643563968172150\n",
       ":   0.000164793752636438151\n",
       ":   0.00016742615595256152\n",
       ":   0.000232436152010707153\n",
       ":   0.000397872998018106154\n",
       ":   0.000322623586667869155\n",
       ":   0.000327101849004509156\n",
       ":   0.000414672931926086157\n",
       ":   0.00621419059891474158\n",
       ":   0.00472376441258419159\n",
       ":   0.00470850977261906160\n",
       ":   0.00615418150480855161\n",
       ":   0.00524838596598401162\n",
       ":   0.00404168643872657163\n",
       ":   0.00405601363894061164\n",
       ":   0.00530439850332739165\n",
       ":   0.00321463305582091166\n",
       ":   0.00280216053288915167\n",
       ":   0.0027843446838093168\n",
       ":   0.00315370673332007169\n",
       ":   0.00101983269217582170\n",
       ":   0.000826445928382372171\n",
       ":   0.000833688925231447172\n",
       ":   0.00104688225375913173\n",
       ":   0.000282843271973205174\n",
       ":   0.000220004236466445175\n",
       ":   0.000223344598630416176\n",
       ":   0.000295923752936805177\n",
       ":   4.52156760524116e-05178\n",
       ":   3.17565220331349e-05179\n",
       ":   3.27781644152819e-05180\n",
       ":   4.97222777493293e-05181\n",
       ":   1.4433272282536e-05182\n",
       ":   9.26543826157095e-06183\n",
       ":   8.72557930812337e-06184\n",
       ":   1.20532088857015e-05185\n",
       ":   0.000162918237712436186\n",
       ":   0.00320344883211556187\n",
       ":   0.000116596549597699188\n",
       ":   0.00433838635382269189\n",
       ":   0.000730002914234648190\n",
       ":   0.000604813749555752191\n",
       ":   0.000597839336057951192\n",
       ":   0.000705038363211337193\n",
       ":   0.00373231848179489194\n",
       ":   0.00323973644213516195\n",
       ":   0.00322096310134029196\n",
       ":   0.00366781023862842197\n",
       ":   0.000230960829161398198\n",
       ":   0.000179833025184857199\n",
       ":   0.00018285048134041200\n",
       ":   0.000242783576034757201\n",
       ":   ⋯202\n",
       ":   0.00104976554236193203\n",
       ":   0.000864947245633706204\n",
       ":   0.000872696868732656205\n",
       ":   0.00107823608082141206\n",
       ":   0.0072197874328099207\n",
       ":   0.00062987051464849208\n",
       ":   0.000638068522635683209\n",
       ":   0.000742867061956388210\n",
       ":   1.08894498368928e-05211\n",
       ":   8.52513025642489e-06212\n",
       ":   7.58088802663712e-06213\n",
       ":   7.65086144514399e-06214\n",
       ":   0.00334092874415234215\n",
       ":   0.0025883741087416216\n",
       ":   0.00259997355509902217\n",
       ":   0.00338604623266961218\n",
       ":   0.000672760383922905219\n",
       ":   0.00054697095827279220\n",
       ":   0.000540713740196023221\n",
       ":   0.000649934352668521222\n",
       ":   0.00167274563632604223\n",
       ":   0.00131929763702553224\n",
       ":   0.00131045017838622225\n",
       ":   0.00163931732446184226\n",
       ":   0.00114377021035521227\n",
       ":   0.000919703292683698228\n",
       ":   0.000927202249592451229\n",
       ":   0.00117197703936509230\n",
       ":   1.27059546020747e-06231\n",
       ":   1.53058497955011e-06232\n",
       ":   1.99760268305823e-06233\n",
       ":   2.85204469923364e-06234\n",
       ":   0.000185149177675821235\n",
       ":   0.000149454573284103236\n",
       ":   0.000146159293237786237\n",
       ":   0.000173169361913529238\n",
       ":   0.000669168408753008239\n",
       ":   0.000527414331810917240\n",
       ":   0.000521779212791654241\n",
       ":   0.00064794732206267242\n",
       ":   0.000955342354337997243\n",
       ":   0.000696754460953217244\n",
       ":   0.000691326909581432245\n",
       ":   0.000933189922751162246\n",
       ":   0.0011842876794549247\n",
       ":   0.000876885128226431248\n",
       ":   0.00131452530518454249\n",
       ":   0.00120923931181555250\n",
       ":   0.000822641462532535251\n",
       ":   0.000647721568234054252\n",
       ":   0.000653685468899171253\n",
       ":   0.000845575086623998254\n",
       ":   0.000579091074905987255\n",
       ":   0.000500772532830447256\n",
       ":   0.000507555525318161257\n",
       ":   0.000602943448080273258\n",
       ":   1.81455298024781e-05259\n",
       ":   1.45031881411714e-05260\n",
       ":   1.32977167376303e-05261\n",
       ":   1.39819652068753e-05262\n",
       ":   0.00295761310448217263\n",
       ":   0.00222648526151512264\n",
       ":   0.00223659912798579265\n",
       ":   0.00299810170863273266\n",
       ":   0.000669155350484895267\n",
       ":   0.000535790579157346268\n",
       ":   0.000529864929761832269\n",
       ":   0.000647197698382711270\n",
       ":   0.00159902961034194271\n",
       ":   0.00123350288450846272\n",
       ":   0.0012253941620119273\n",
       ":   0.00156770143639527274\n",
       ":   0.00100125192699874275\n",
       ":   0.000788231070627801276\n",
       ":   0.000794819446067735277\n",
       ":   0.00102656934727158278\n",
       ":   5.20539689874972e-12279\n",
       ":   3.02191975553792e-08280\n",
       ":   1.19392351773738e-07281\n",
       ":   3.03679962400532e-07282\n",
       ":   0.000195821234663136283\n",
       ":   0.00015591714332991284\n",
       ":   0.000152692953614826285\n",
       ":   0.00018392178932432286\n",
       ":   0.000655429583060134287\n",
       ":   0.000505702459835695288\n",
       ":   0.000500467372179343289\n",
       ":   0.000635283979593049290\n",
       ":   0.000895741532395676291\n",
       ":   0.000626721731515797292\n",
       ":   0.000621951365451694293\n",
       ":   0.000875442505481446294\n",
       ":   0.00167450302842403295\n",
       ":   0.00117452950126704296\n",
       ":   0.00116799048768614297\n",
       ":   0.00164669068218709298\n",
       ":   0.000710097456187082299\n",
       ":   0.000544829384964739300\n",
       ":   0.000549988629717243301\n",
       ":   0.000730462126724286302\n",
       ":   0.00050184173108119303\n",
       ":   0.000429875972040877304\n",
       ":   0.000435945677516281305\n",
       ":   0.000523401528171792306\n",
       ":   2.86750497039353e-05307\n",
       ":   2.33679158629635e-05308\n",
       ":   2.18136314576858e-05309\n",
       ":   2.33215409354012e-05310\n",
       ":   0.00298668189192356311\n",
       ":   0.00227512301551855312\n",
       ":   0.00228560082155348313\n",
       ":   0.00302813678400565314\n",
       ":   0.000734858339705269315\n",
       ":   0.000592322135552459316\n",
       ":   0.00058598194263594317\n",
       ":   0.000711511899179641318\n",
       ":   0.00171906128563666319\n",
       ":   0.00133831178047389320\n",
       ":   0.00132968446799009321\n",
       ":   0.00168602956549686322\n",
       ":   0.000983132054340147323\n",
       ":   0.000780865636845188324\n",
       ":   0.000787560577748452325\n",
       ":   0.00100863715835807326\n",
       ":   1.22501542120482e-06327\n",
       ":   7.50917106879053e-07328\n",
       ":   4.80420412646222e-07329\n",
       ":   3.05900218163015e-07330\n",
       ":   0.000227042386770445331\n",
       ":   0.000182093468327521332\n",
       ":   0.000178548240353361333\n",
       ":   0.000214037028226783334\n",
       ":   0.000720012288445416335\n",
       ":   0.000560594261059057336\n",
       ":   0.000554965982409177337\n",
       ":   0.000698542497227071338\n",
       ":   0.000979015055954071339\n",
       ":   0.000697028406188952340\n",
       ":   0.00069184151199416341\n",
       ":   0.000957321250237508342\n",
       ":   0.00101673011374477343\n",
       ":   0.000734917472872198344\n",
       ":   0.00128341406696401345\n",
       ":   0.00103909530124662346\n",
       ":   0.000694558124815422347\n",
       ":   0.000538758397894613348\n",
       ":   0.000544009553727308349\n",
       ":   0.000715066143649034350\n",
       ":   0.000470861690549774351\n",
       ":   0.000405208863460428352\n",
       ":   0.00041118374432676353\n",
       ":   0.000491999929125892354\n",
       ":   4.47731859216697e-05355\n",
       ":   3.73171671950243e-05356\n",
       ":   3.52483913917697e-05357\n",
       ":   3.77285030191012e-05358\n",
       ":   0.00339664310431455359\n",
       ":   0.00270298784696936360\n",
       ":   0.00271561079519074361\n",
       ":   0.00344445280636166362\n",
       ":   0.000884412192140486363\n",
       ":   0.000730907807590318364\n",
       ":   0.00072332796582176365\n",
       ":   0.000857180812474741366\n",
       ":   0.00205717402045608367\n",
       ":   0.00165777356045929368\n",
       ":   0.00164728991460362369\n",
       ":   0.00201839177406987370\n",
       ":   0.00107200623719843371\n",
       ":   0.00088027542567266372\n",
       ":   0.000888022236237617373\n",
       ":   0.00110055878925239374\n",
       ":   5.31327315779896e-06375\n",
       ":   3.97898530611571e-06376\n",
       ":   3.28874903281741e-06377\n",
       ":   2.98963662875582e-06378\n",
       ":   0.000286715648979481379\n",
       ":   0.000235742794342198380\n",
       ":   0.0002314066897743381\n",
       ":   0.000271182997205574382\n",
       ":   0.000878348895406385383\n",
       ":   0.000707314384262203384\n",
       ":   0.000700420994660912385\n",
       ":   0.000852917157438715386\n",
       ":   0.00122594887056592387\n",
       ":   0.000928207709832477388\n",
       ":   0.000921451561354579389\n",
       ":   0.00119937306046193390\n",
       ":   0.00223794705930558391\n",
       ":   0.00169809461635637392\n",
       ":   0.00168894676771995393\n",
       ":   0.00220197307475543394\n",
       ":   0.000760711870122396395\n",
       ":   0.000614252199195731396\n",
       ":   0.000620419787929568397\n",
       ":   0.000783857597762291398\n",
       ":   0.000475728934601061399\n",
       ":   0.00041636148750564400\n",
       ":   0.000422785404175612401\n",
       ":   0.000498090947844096\n",
       "\n"
      ],
      "text/plain": [
       "           1            2            3            4            5            6 \n",
       "1.791763e-03 1.593199e-03 1.578225e-03 1.741716e-03 3.673477e-03 3.066492e-03 \n",
       "           7            8            9           10           11           12 \n",
       "3.050704e-03 3.617030e-03 4.031784e-03 3.471883e-03 3.453095e-03 3.966683e-03 \n",
       "          13           14           15           16           17           18 \n",
       "6.391395e-03 5.413833e-03 5.391870e-03 6.313922e-03 6.656647e-05 5.902858e-05 \n",
       "          19           20           21           22           23           24 \n",
       "6.136470e-05 7.478892e-05 1.524879e-03 2.654663e-02 1.351074e-03 2.918844e-02 \n",
       "          25           26           27           28           29           30 \n",
       "3.737116e-03 3.259899e-03 3.278288e-03 3.800719e-03 1.757934e-03 1.509161e-03 \n",
       "          31           32           33           34           35           36 \n",
       "1.520857e-03 1.799126e-03 7.728459e-04 6.422393e-04 6.490536e-04 7.977084e-04 \n",
       "          37           38           39           40           41           42 \n",
       "1.832626e-04 1.540175e-04 1.573651e-04 1.954747e-04 1.205029e-05 1.111069e-05 \n",
       "          43           44           45           46           47           48 \n",
       "1.209976e-05 1.556827e-05 7.789120e-05 6.598358e-05 6.318224e-05 6.838298e-05 \n",
       "          49           50           51           52           53           54 \n",
       "3.035531e-03 2.665651e-03 2.682690e-03 3.094115e-03 3.040091e-04 2.356308e-04 \n",
       "          55           56           57           58           59           60 \n",
       "2.390651e-04 3.174970e-04 5.164844e-04 4.279250e-04 4.334076e-04 5.365921e-04 \n",
       "          61           62           63           64           65           66 \n",
       "6.721479e-03 5.279351e-03 5.261965e-03 6.655291e-03 6.144310e-03 4.882024e-03 \n",
       "          67           68           69           70           71           72 \n",
       "4.898969e-03 6.208512e-03 3.166054e-03 2.780932e-03 2.762548e-03 3.103680e-03 \n",
       "          73           74           75           76           77           78 \n",
       "1.247241e-03 1.032495e-03 1.041091e-03 1.278654e-03 3.784758e-04 3.034974e-04 \n",
       "          79           80           81           82           83           84 \n",
       "3.077202e-04 3.944952e-04 7.541806e-05 5.616957e-05 5.768388e-05 8.168448e-05 \n",
       "          85           86           87           88           89           90 \n",
       "7.228972e-06 4.792956e-06 4.363318e-06 5.451758e-06 5.088841e-03 1.095187e-04 \n",
       "          91           92           93           94           95           96 \n",
       "3.964076e-03 1.354894e-04 6.864631e-04 5.764188e-04 5.692769e-04 6.612614e-04 \n",
       "          97           98           99          100          101          102 \n",
       "3.226315e-03 2.770350e-03 2.753717e-03 3.168553e-03 2.427801e-04 1.801820e-04 \n",
       "         103          104          105          106          107          108 \n",
       "1.829284e-04 2.540523e-04 4.308941e-04 3.490150e-04 3.536656e-04 4.483502e-04 \n",
       "         109          110          111          112          113          114 \n",
       "6.077926e-03 4.616301e-03 4.601247e-03 6.018659e-03 5.346775e-03 4.114126e-03 \n",
       "         115          116          117          118          119          120 \n",
       "4.128556e-03 5.403234e-03 3.088889e-03 2.691730e-03 2.674283e-03 3.029214e-03 \n",
       "         121          122          123          124          125          126 \n",
       "1.071979e-03 8.680547e-04 8.754672e-04 1.099676e-03 3.085224e-04 2.396321e-04 \n",
       "         127          128          129          130          131          132 \n",
       "2.431117e-04 3.221589e-04 5.426043e-05 3.793783e-05 3.905076e-05 5.917791e-05 \n",
       "         133          134          135          136          137          138 \n",
       "9.845567e-06 6.232284e-06 5.792120e-06 7.901806e-06 4.374290e-03 1.050591e-04 \n",
       "         139          140          141          142          143          144 \n",
       "3.274987e-03 1.356145e-04 6.791895e-04 5.622926e-04 5.555758e-04 6.551391e-04 \n",
       "         145          146          147          148          149          150 \n",
       "3.348731e-03 2.876425e-03 2.859461e-03 3.289833e-03 2.216436e-04 1.647938e-04 \n",
       "         151          152          153          154          155          156 \n",
       "1.674262e-04 2.324362e-04 3.978730e-04 3.226236e-04 3.271018e-04 4.146729e-04 \n",
       "         157          158          159          160          161          162 \n",
       "6.214191e-03 4.723764e-03 4.708510e-03 6.154182e-03 5.248386e-03 4.041686e-03 \n",
       "         163          164          165          166          167          168 \n",
       "4.056014e-03 5.304399e-03 3.214633e-03 2.802161e-03 2.784345e-03 3.153707e-03 \n",
       "         169          170          171          172          173          174 \n",
       "1.019833e-03 8.264459e-04 8.336889e-04 1.046882e-03 2.828433e-04 2.200042e-04 \n",
       "         175          176          177          178          179          180 \n",
       "2.233446e-04 2.959238e-04 4.521568e-05 3.175652e-05 3.277816e-05 4.972228e-05 \n",
       "         181          182          183          184          185          186 \n",
       "1.443327e-05 9.265438e-06 8.725579e-06 1.205321e-05 1.629182e-04 3.203449e-03 \n",
       "         187          188          189          190          191          192 \n",
       "1.165965e-04 4.338386e-03 7.300029e-04 6.048137e-04 5.978393e-04 7.050384e-04 \n",
       "         193          194          195          196          197          198 \n",
       "3.732318e-03 3.239736e-03 3.220963e-03 3.667810e-03 2.309608e-04 1.798330e-04 \n",
       "         199          200          201          202          203          204 \n",
       "1.828505e-04 2.427836e-04 4.062361e-04 3.375834e-04 3.424732e-04 4.241465e-04 \n",
       "         205          206          207          208          209          210 \n",
       "7.177352e-03 5.648352e-03 5.630287e-03 7.108706e-03 5.806276e-03 4.622122e-03 \n",
       "         211          212          213          214          215          216 \n",
       "4.638683e-03 5.868912e-03 3.567889e-03 3.136544e-03 3.116976e-03 3.501527e-03 \n",
       "         217          218          219          220          221          222 \n",
       "1.073191e-03 8.901282e-04 8.981403e-04 1.102432e-03 2.912598e-04 2.344448e-04 \n",
       "         223          224          225          226          227          228 \n",
       "2.381746e-04 3.053836e-04 4.343034e-05 3.273804e-05 3.390395e-05 4.823865e-05 \n",
       "         229          230          231          232          233          234 \n",
       "2.339561e-05 1.620128e-05 1.539791e-05 2.008367e-05 4.795936e-03 1.585519e-04 \n",
       "         235          236          237          238          239          240 \n",
       "3.744890e-03 1.971748e-04 8.521358e-04 7.170274e-04 7.090359e-04 8.239595e-04 \n",
       "         241          242          243          244          245          246 \n",
       "4.408081e-03 3.890926e-03 3.868765e-03 4.333189e-03 2.623649e-04 2.169336e-04 \n",
       "         247          248          249          250          251          252 \n",
       "2.207668e-04 2.765208e-04 4.462184e-04 3.841422e-04 3.899596e-04 4.668002e-04 \n",
       "         253          254          255          256          257          258 \n",
       "9.026984e-03 7.449016e-03 7.425418e-03 8.941466e-03 6.987302e-03 5.822511e-03 \n",
       "         259          260          261          262          263          264 \n",
       "5.843600e-03 7.063501e-03 4.177440e-03 3.723320e-03 3.700519e-03 4.101162e-03 \n",
       "         265          266          267          268          269          270 \n",
       "1.216714e-03 1.043825e-03 1.053482e-03 1.250796e-03 3.249148e-04 2.741016e-04 \n",
       "         271          272          273          274          275          276 \n",
       "2.786811e-04 3.414747e-04 4.502414e-05 3.696264e-05 3.843671e-05 5.063002e-05 \n",
       "         277          278          279          280          281          282 \n",
       "4.010430e-05 3.030610e-05 2.899815e-05 3.513120e-05 2.895606e-04 4.813458e-03 \n",
       "         283          284          285          286          287          288 \n",
       "2.288802e-04 5.927058e-03 1.060776e-03 9.139055e-04 9.040497e-04 1.026825e-03 \n",
       "         289          290          291          292          293          294 \n",
       "6.732416e-04 5.921688e-04 6.000419e-04 7.004541e-04 1.003359e-05 6.924294e-06 \n",
       "         295          296          297          298          299          300 \n",
       "6.375828e-06 7.831006e-06 9.503302e-07 5.604646e-07 3.854710e-07 3.008097e-07 \n",
       "         301          302          303          304          305          306 \n",
       "2.896607e-04 2.209481e-04 2.175427e-04 2.764723e-04 2.973819e-03 2.327528e-03 \n",
       "         307          308          309          310          311          312 \n",
       "2.338779e-03 3.017152e-03 1.014188e-03 9.031875e-04 9.135102e-04 1.049362e-03 \n",
       "         313          314          315          316          317          318 \n",
       "1.228019e-04 1.022580e-04 1.048879e-04 1.325234e-04 6.397791e-06 4.471679e-06 \n",
       "         319          320          321          322          323          324 \n",
       "3.994258e-06 4.556306e-06 1.007127e-04 6.908957e-05 6.752435e-05 9.402111e-05 \n",
       "         325          326          327          328          329          330 \n",
       "4.390650e-04 3.049290e-04 3.016282e-04 4.249601e-04 2.351139e-03 1.791126e-03 \n",
       "         331          332          333          334          335          336 \n",
       "1.800415e-03 2.387906e-03 2.634741e-03 2.209253e-03 2.195611e-03 2.586231e-03 \n",
       "         337          338          339          340          341          342 \n",
       "5.599632e-04 4.852306e-04 4.919504e-04 5.835518e-04 1.241805e-05 8.048100e-06 \n",
       "         343          344          345          346          347          348 \n",
       "7.533131e-06 1.018209e-05 2.872023e-06 1.900793e-06 1.593963e-06 1.688971e-06 \n",
       "         349          350          351          352          353          354 \n",
       "2.643267e-04 1.904961e-04 1.876900e-04 2.528166e-04 2.417177e-03 1.791332e-03 \n",
       "         355          356          357          358          359          360 \n",
       "1.800119e-03 2.452921e-03 8.621820e-04 7.587505e-04 7.677307e-04 8.931596e-04 \n",
       "         361          362          363          364          365          366 \n",
       "8.993249e-05 7.236166e-05 7.437850e-05 9.766475e-05 9.217767e-06 6.255920e-06 \n",
       "         367          368          369          370          371          372 \n",
       "5.750148e-06 7.155809e-06 8.955966e-05 5.436015e-05 5.320710e-05 8.398026e-05 \n",
       "         373          374          375          376          377          378 \n",
       "3.652001e-04 2.242510e-04 2.219000e-04 3.538338e-04 1.871621e-03 1.330344e-03 \n",
       "         379          380          381          382          383          384 \n",
       "1.337352e-03 1.901354e-03 2.418285e-03 1.981663e-03 1.969649e-03 2.374567e-03 \n",
       "         385          386          387          388          389          390 \n",
       "4.998199e-04 4.313784e-04 4.376118e-04 5.218022e-04 1.652091e-05 1.052108e-05 \n",
       "         391          392          393          394          395          396 \n",
       "9.956409e-06 1.399988e-05 5.917159e-06 4.078578e-06 3.635045e-06 4.185848e-06 \n",
       "         397          398          399          400          401          402 \n",
       "2.732837e-04 1.932583e-04 1.905321e-04 2.618807e-04 2.228040e-03 1.621055e-03 \n",
       "         403          404          405          406          407          408 \n",
       "1.629126e-03 2.261482e-03 7.817067e-04 6.857517e-04 6.941672e-04 8.108413e-04 \n",
       "         409          410          411          412          413          414 \n",
       "7.225339e-05 5.760570e-05 5.935800e-05 7.905065e-05 1.341492e-05 9.077734e-06 \n",
       "         415          416          417          418          419          420 \n",
       "8.487216e-06 1.096188e-05 9.388213e-05 5.436261e-05 5.327859e-05 8.837684e-05 \n",
       "         421          422          423          424          425          426 \n",
       "3.601876e-04 2.108390e-04 2.086961e-04 3.493162e-04 1.710765e-03 1.186923e-03 \n",
       "         427          428          429          430          431          432 \n",
       "1.193276e-03 1.738382e-03 2.422502e-03 1.971279e-03 1.959542e-03 2.379486e-03 \n",
       "         433          434          435          436          437          438 \n",
       "4.814893e-04 4.193046e-04 4.256385e-04 5.036410e-04 2.478738e-05 1.669412e-05 \n",
       "         439          440          441          442          443          444 \n",
       "1.592253e-05 2.150571e-05 1.113035e-05 8.054554e-06 7.394253e-06 8.608572e-06 \n",
       "         445          446          447          448          449          450 \n",
       "3.267063e-04 2.392526e-04 2.360149e-04 3.136211e-04 2.374016e-03 1.784493e-03 \n",
       "         451          452          453          454          455          456 \n",
       "1.793512e-03 2.410193e-03 7.593578e-04 6.708179e-04 6.793653e-04 7.887566e-04 \n",
       "         457          458          459          460          461          462 \n",
       "6.435686e-05 5.255059e-05 5.430990e-05 7.104062e-05 2.095687e-05 1.481390e-05 \n",
       "         463          464          465          466          467          468 \n",
       "1.400776e-05 1.771683e-05 1.207513e-04 7.603703e-05 7.460652e-05 1.140631e-04 \n",
       "         469          470          471          472          473          474 \n",
       "4.380451e-04 2.785239e-04 2.757769e-04 4.252115e-04 1.838625e-03 1.331087e-03 \n",
       "         475          476          477          478          479          480 \n",
       "1.338328e-03 1.868794e-03 2.671728e-03 2.202167e-03 2.189286e-03 2.625117e-03 \n",
       "         481          482          483          484          485          486 \n",
       "4.951189e-04 4.391667e-04 4.461160e-04 5.189977e-04 4.061793e-05 2.986303e-05 \n",
       "         487          488          489          490          491          492 \n",
       "2.865107e-05 3.586934e-05 2.048722e-05 1.571142e-05 1.467789e-05 1.670164e-05 \n",
       "         493          494          495          496          497          498 \n",
       "4.362905e-04 3.399967e-04 3.355754e-04 4.194901e-04 2.828163e-03 2.254867e-03 \n",
       "         499          500          501          502          503          504 \n",
       "2.266438e-03 2.871929e-03 7.834265e-04 7.022662e-04 7.115705e-04 8.149805e-04 \n",
       "         505          506          507          508          509          510 \n",
       "6.186238e-05 5.277890e-05 5.474344e-05 6.903233e-05 3.475680e-05 2.627689e-05 \n",
       "         511          512          513          514          515          516 \n",
       "2.504786e-05 3.010275e-05 1.784496e-04 1.275185e-04 1.252478e-04 1.690849e-04 \n",
       "         517          518          519          520          521          522 \n",
       "6.148378e-04 4.431548e-04 4.389100e-04 5.973382e-04 2.230072e-03 1.737850e-03 \n",
       "         523          524          525          526          527          528 \n",
       "1.747461e-03 2.267276e-03 3.194612e-03 2.702644e-03 2.687108e-03 3.139834e-03 \n",
       "         529          530          531          532          533          534 \n",
       "5.565585e-06 4.180738e-06 3.487188e-06 3.220095e-06 4.174750e-03 3.398682e-03 \n",
       "         535          536          537          538          539          540 \n",
       "3.413711e-03 4.230375e-03 7.329583e-04 6.133224e-04 6.060564e-04 7.072151e-04 \n",
       "         541          542          543          544          545          546 \n",
       "1.919390e-03 1.575112e-03 1.564332e-03 1.880250e-03 1.430738e-03 1.195251e-03 \n",
       "         547          548          549          550          551          552 \n",
       "1.204763e-03 1.465172e-03 5.619677e-06 5.908634e-06 6.850326e-06 8.771847e-06 \n",
       "         553          554          555          556          557          558 \n",
       "1.882940e-04 1.561020e-04 1.524159e-04 1.752668e-04 7.477426e-04 6.124233e-04 \n",
       "         559          560          561          562          563          564 \n",
       "6.056629e-04 7.232519e-04 1.139847e-03 8.893690e-04 8.822750e-04 1.112788e-03 \n",
       "         565          566          567          568          569          570 \n",
       "2.185183e-03 1.709141e-03 1.699296e-03 2.147640e-03 1.049766e-03 8.649472e-04 \n",
       "         571          572          573          574          575          576 \n",
       "8.726969e-04 1.078236e-03 7.219787e-03 6.298705e-04 6.380685e-04 7.428671e-04 \n",
       "         577          578          579          580          581          582 \n",
       "1.088945e-05 8.525130e-06 7.580888e-06 7.650861e-06 3.340929e-03 2.588374e-03 \n",
       "         583          584          585          586          587          588 \n",
       "2.599974e-03 3.386046e-03 6.727604e-04 5.469710e-04 5.407137e-04 6.499344e-04 \n",
       "         589          590          591          592          593          594 \n",
       "1.672746e-03 1.319298e-03 1.310450e-03 1.639317e-03 1.143770e-03 9.197033e-04 \n",
       "         595          596          597          598          599          600 \n",
       "9.272022e-04 1.171977e-03 1.270595e-06 1.530585e-06 1.997603e-06 2.852045e-06 \n",
       "         601          602          603          604          605          606 \n",
       "1.851492e-04 1.494546e-04 1.461593e-04 1.731694e-04 6.691684e-04 5.274143e-04 \n",
       "         607          608          609          610          611          612 \n",
       "5.217792e-04 6.479473e-04 9.553424e-04 6.967545e-04 6.913269e-04 9.331899e-04 \n",
       "         613          614          615          616          617          618 \n",
       "1.184288e-03 8.768851e-04 1.314525e-03 1.209239e-03 8.226415e-04 6.477216e-04 \n",
       "         619          620          621          622          623          624 \n",
       "6.536855e-04 8.455751e-04 5.790911e-04 5.007725e-04 5.075555e-04 6.029434e-04 \n",
       "         625          626          627          628          629          630 \n",
       "1.814553e-05 1.450319e-05 1.329772e-05 1.398197e-05 2.957613e-03 2.226485e-03 \n",
       "         631          632          633          634          635          636 \n",
       "2.236599e-03 2.998102e-03 6.691554e-04 5.357906e-04 5.298649e-04 6.471977e-04 \n",
       "         637          638          639          640          641          642 \n",
       "1.599030e-03 1.233503e-03 1.225394e-03 1.567701e-03 1.001252e-03 7.882311e-04 \n",
       "         643          644          645          646          647          648 \n",
       "7.948194e-04 1.026569e-03 5.205397e-12 3.021920e-08 1.193924e-07 3.036800e-07 \n",
       "         649          650          651          652          653          654 \n",
       "1.958212e-04 1.559171e-04 1.526930e-04 1.839218e-04 6.554296e-04 5.057025e-04 \n",
       "         655          656          657          658          659          660 \n",
       "5.004674e-04 6.352840e-04 8.957415e-04 6.267217e-04 6.219514e-04 8.754425e-04 \n",
       "         661          662          663          664          665          666 \n",
       "1.674503e-03 1.174530e-03 1.167990e-03 1.646691e-03 7.100975e-04 5.448294e-04 \n",
       "         667          668          669          670          671          672 \n",
       "5.499886e-04 7.304621e-04 5.018417e-04 4.298760e-04 4.359457e-04 5.234015e-04 \n",
       "         673          674          675          676          677          678 \n",
       "2.867505e-05 2.336792e-05 2.181363e-05 2.332154e-05 2.986682e-03 2.275123e-03 \n",
       "         679          680          681          682          683          684 \n",
       "2.285601e-03 3.028137e-03 7.348583e-04 5.923221e-04 5.859819e-04 7.115119e-04 \n",
       "         685          686          687          688          689          690 \n",
       "1.719061e-03 1.338312e-03 1.329684e-03 1.686030e-03 9.831321e-04 7.808656e-04 \n",
       "         691          692          693          694          695          696 \n",
       "7.875606e-04 1.008637e-03 1.225015e-06 7.509171e-07 4.804204e-07 3.059002e-07 \n",
       "         697          698          699          700          701          702 \n",
       "2.270424e-04 1.820935e-04 1.785482e-04 2.140370e-04 7.200123e-04 5.605943e-04 \n",
       "         703          704          705          706          707          708 \n",
       "5.549660e-04 6.985425e-04 9.790151e-04 6.970284e-04 6.918415e-04 9.573213e-04 \n",
       "         709          710          711          712          713          714 \n",
       "1.016730e-03 7.349175e-04 1.283414e-03 1.039095e-03 6.945581e-04 5.387584e-04 \n",
       "         715          716          717          718          719          720 \n",
       "5.440096e-04 7.150661e-04 4.708617e-04 4.052089e-04 4.111837e-04 4.919999e-04 \n",
       "         721          722          723          724          725          726 \n",
       "4.477319e-05 3.731717e-05 3.524839e-05 3.772850e-05 3.396643e-03 2.702988e-03 \n",
       "         727          728          729          730          731          732 \n",
       "2.715611e-03 3.444453e-03 8.844122e-04 7.309078e-04 7.233280e-04 8.571808e-04 \n",
       "         733          734          735          736          737          738 \n",
       "2.057174e-03 1.657774e-03 1.647290e-03 2.018392e-03 1.072006e-03 8.802754e-04 \n",
       "         739          740          741          742          743          744 \n",
       "8.880222e-04 1.100559e-03 5.313273e-06 3.978985e-06 3.288749e-06 2.989637e-06 \n",
       "         745          746          747          748          749          750 \n",
       "2.867156e-04 2.357428e-04 2.314067e-04 2.711830e-04 8.783489e-04 7.073144e-04 \n",
       "         751          752          753          754          755          756 \n",
       "7.004210e-04 8.529172e-04 1.225949e-03 9.282077e-04 9.214516e-04 1.199373e-03 \n",
       "         757          758          759          760          761          762 \n",
       "2.237947e-03 1.698095e-03 1.688947e-03 2.201973e-03 7.607119e-04 6.142522e-04 \n",
       "         763          764          765          766          767          768 \n",
       "6.204198e-04 7.838576e-04 4.757289e-04 4.163615e-04 4.227854e-04 4.980909e-04 "
      ]
     },
     "metadata": {},
     "output_type": "display_data"
    }
   ],
   "source": [
    "\n",
    "data_raw$Y1_group <- as.numeric( data_raw$Y1_group )\n",
    "model <- lm(Y1_group ~ ., data=data_raw)\n",
    "cooksd <- cooks.distance(model)\n",
    "cooksd"
   ]
  },
  {
   "cell_type": "markdown",
   "metadata": {},
   "source": [
    "\n",
    "En el gráfico generado, se debería observar las distancias de Cook para cada observación del conjunto de datos. Los puntos representan las observaciones, y aquellos con valores de distancia de Cook significativamente altos se consideran influyentes en el modelo de regresión.\n"
   ]
  },
  {
   "cell_type": "code",
   "execution_count": 58,
   "metadata": {
    "vscode": {
     "languageId": "r"
    }
   },
   "outputs": [
    {
     "data": {
      "image/png": "[encoded data removed]",
      "text/plain": [
       "Plot with title \"Observaciones influyentes por la distancia de Cook\""
      ]
     },
     "metadata": {
      "image/png": {
       "height": 480,
       "width": 600
      }
     },
     "output_type": "display_data"
    }
   ],
   "source": [
    "plot(cooksd, pch=\"*\", cex=2, main=\"Observaciones influyentes por la distancia de Cook\")\n",
    "abline(h = 4*mean(cooksd, na.rm=T), col=\"red\")  # add cutoff line\n",
    "text(x=1:length(cooksd)+1, y=cooksd, labels=ifelse(cooksd>4*mean(cooksd, na.rm=T),names(cooksd),\"\"), col=\"red\")  # add labels"
   ]
  },
  {
   "cell_type": "markdown",
   "metadata": {},
   "source": [
    "Las observaciones etiquetadas como 22 y 24 están por encima del umbral, lo que indica que estos puntos son particularmente influyentes y tienen un impacto desproporcionado en el modelo. Esto sugiere que estas observaciones podrían necesitar ser revisadas o eliminadas para mejorar la fiabilidad y la precisión del modelo de regresión."
   ]
  },
  {
   "cell_type": "code",
   "execution_count": 59,
   "metadata": {
    "vscode": {
     "languageId": "r"
    }
   },
   "outputs": [
    {
     "data": {
      "text/html": [
       "<table class=\"dataframe\">\n",
       "<caption>A data.frame: 6 × 9</caption>\n",
       "<thead>\n",
       "\t<tr><th></th><th scope=col>X1</th><th scope=col>X2</th><th scope=col>X3</th><th scope=col>X4</th><th scope=col>X5</th><th scope=col>X6</th><th scope=col>X7</th><th scope=col>X8</th><th scope=col>Y1_group</th></tr>\n",
       "\t<tr><th></th><th scope=col>&lt;dbl&gt;</th><th scope=col>&lt;dbl&gt;</th><th scope=col>&lt;dbl&gt;</th><th scope=col>&lt;dbl&gt;</th><th scope=col>&lt;dbl&gt;</th><th scope=col>&lt;dbl&gt;</th><th scope=col>&lt;dbl&gt;</th><th scope=col>&lt;dbl&gt;</th><th scope=col>&lt;dbl&gt;</th></tr>\n",
       "</thead>\n",
       "<tbody>\n",
       "\t<tr><th scope=row>13</th><td>0.82</td><td>612.5</td><td>318.5</td><td>147.0</td><td>7</td><td>2</td><td>0</td><td>0</td><td>2</td></tr>\n",
       "\t<tr><th scope=row>14</th><td>0.82</td><td>612.5</td><td>318.5</td><td>147.0</td><td>7</td><td>3</td><td>0</td><td>0</td><td>2</td></tr>\n",
       "\t<tr><th scope=row>15</th><td>0.82</td><td>612.5</td><td>318.5</td><td>147.0</td><td>7</td><td>4</td><td>0</td><td>0</td><td>2</td></tr>\n",
       "\t<tr><th scope=row>16</th><td>0.82</td><td>612.5</td><td>318.5</td><td>147.0</td><td>7</td><td>5</td><td>0</td><td>0</td><td>2</td></tr>\n",
       "\t<tr><th scope=row>22</th><td>0.76</td><td>661.5</td><td>416.5</td><td>122.5</td><td>7</td><td>3</td><td>0</td><td>0</td><td>2</td></tr>\n",
       "\t<tr><th scope=row>24</th><td>0.76</td><td>661.5</td><td>416.5</td><td>122.5</td><td>7</td><td>5</td><td>0</td><td>0</td><td>2</td></tr>\n",
       "</tbody>\n",
       "</table>\n"
      ],
      "text/latex": [
       "A data.frame: 6 × 9\n",
       "\\begin{tabular}{r|lllllllll}\n",
       "  & X1 & X2 & X3 & X4 & X5 & X6 & X7 & X8 & Y1\\_group\\\\\n",
       "  & <dbl> & <dbl> & <dbl> & <dbl> & <dbl> & <dbl> & <dbl> & <dbl> & <dbl>\\\\\n",
       "\\hline\n",
       "\t13 & 0.82 & 612.5 & 318.5 & 147.0 & 7 & 2 & 0 & 0 & 2\\\\\n",
       "\t14 & 0.82 & 612.5 & 318.5 & 147.0 & 7 & 3 & 0 & 0 & 2\\\\\n",
       "\t15 & 0.82 & 612.5 & 318.5 & 147.0 & 7 & 4 & 0 & 0 & 2\\\\\n",
       "\t16 & 0.82 & 612.5 & 318.5 & 147.0 & 7 & 5 & 0 & 0 & 2\\\\\n",
       "\t22 & 0.76 & 661.5 & 416.5 & 122.5 & 7 & 3 & 0 & 0 & 2\\\\\n",
       "\t24 & 0.76 & 661.5 & 416.5 & 122.5 & 7 & 5 & 0 & 0 & 2\\\\\n",
       "\\end{tabular}\n"
      ],
      "text/markdown": [
       "\n",
       "A data.frame: 6 × 9\n",
       "\n",
       "| <!--/--> | X1 &lt;dbl&gt; | X2 &lt;dbl&gt; | X3 &lt;dbl&gt; | X4 &lt;dbl&gt; | X5 &lt;dbl&gt; | X6 &lt;dbl&gt; | X7 &lt;dbl&gt; | X8 &lt;dbl&gt; | Y1_group &lt;dbl&gt; |\n",
       "|---|---|---|---|---|---|---|---|---|---|\n",
       "| 13 | 0.82 | 612.5 | 318.5 | 147.0 | 7 | 2 | 0 | 0 | 2 |\n",
       "| 14 | 0.82 | 612.5 | 318.5 | 147.0 | 7 | 3 | 0 | 0 | 2 |\n",
       "| 15 | 0.82 | 612.5 | 318.5 | 147.0 | 7 | 4 | 0 | 0 | 2 |\n",
       "| 16 | 0.82 | 612.5 | 318.5 | 147.0 | 7 | 5 | 0 | 0 | 2 |\n",
       "| 22 | 0.76 | 661.5 | 416.5 | 122.5 | 7 | 3 | 0 | 0 | 2 |\n",
       "| 24 | 0.76 | 661.5 | 416.5 | 122.5 | 7 | 5 | 0 | 0 | 2 |\n",
       "\n"
      ],
      "text/plain": [
       "   X1   X2    X3    X4    X5 X6 X7 X8 Y1_group\n",
       "13 0.82 612.5 318.5 147.0 7  2  0  0  2       \n",
       "14 0.82 612.5 318.5 147.0 7  3  0  0  2       \n",
       "15 0.82 612.5 318.5 147.0 7  4  0  0  2       \n",
       "16 0.82 612.5 318.5 147.0 7  5  0  0  2       \n",
       "22 0.76 661.5 416.5 122.5 7  3  0  0  2       \n",
       "24 0.76 661.5 416.5 122.5 7  5  0  0  2       "
      ]
     },
     "metadata": {},
     "output_type": "display_data"
    }
   ],
   "source": [
    "influential <- as.numeric(names(cooksd)[(cooksd > 4*mean(cooksd, na.rm=T))])\n",
    "head( data_raw[influential, ] )"
   ]
  },
  {
   "cell_type": "markdown",
   "metadata": {},
   "source": [
    "## Prueba de los datos atípicos"
   ]
  },
  {
   "cell_type": "markdown",
   "metadata": {},
   "source": [
    "\n",
    "Se convierte la variable Y1_group a un factor para tratarla como categórica. Luego, se utiliza la función outlier para detectar valores atípicos en el conjunto de datos data_raw, excluyendo la última columna (Y1_group). "
   ]
  },
  {
   "cell_type": "code",
   "execution_count": 60,
   "metadata": {
    "vscode": {
     "languageId": "r"
    }
   },
   "outputs": [
    {
     "data": {
      "text/html": [
       "<style>\n",
       ".dl-inline {width: auto; margin:0; padding: 0}\n",
       ".dl-inline>dt, .dl-inline>dd {float: none; width: auto; display: inline-block}\n",
       ".dl-inline>dt::after {content: \":\\0020\"; padding-right: .5ex}\n",
       ".dl-inline>dt:not(:first-of-type) {padding-left: .5ex}\n",
       "</style><dl class=dl-inline><dt>X1</dt><dd>0.98</dd><dt>X2</dt><dd>514.5</dd><dt>X3</dt><dd>416.5</dd><dt>X4</dt><dd>110.25</dd><dt>X5</dt><dd>7</dd><dt>X6</dt><dd>5</dd><dt>X7</dt><dd>0</dd><dt>X8</dt><dd>0</dd></dl>\n"
      ],
      "text/latex": [
       "\\begin{description*}\n",
       "\\item[X1] 0.98\n",
       "\\item[X2] 514.5\n",
       "\\item[X3] 416.5\n",
       "\\item[X4] 110.25\n",
       "\\item[X5] 7\n",
       "\\item[X6] 5\n",
       "\\item[X7] 0\n",
       "\\item[X8] 0\n",
       "\\end{description*}\n"
      ],
      "text/markdown": [
       "X1\n",
       ":   0.98X2\n",
       ":   514.5X3\n",
       ":   416.5X4\n",
       ":   110.25X5\n",
       ":   7X6\n",
       ":   5X7\n",
       ":   0X8\n",
       ":   0\n",
       "\n"
      ],
      "text/plain": [
       "    X1     X2     X3     X4     X5     X6     X7     X8 \n",
       "  0.98 514.50 416.50 110.25   7.00   5.00   0.00   0.00 "
      ]
     },
     "metadata": {},
     "output_type": "display_data"
    },
    {
     "data": {
      "text/html": [
       "<table class=\"dataframe\">\n",
       "<caption>A data.frame: 3 × 8</caption>\n",
       "<thead>\n",
       "\t<tr><th></th><th scope=col>X1</th><th scope=col>X2</th><th scope=col>X3</th><th scope=col>X4</th><th scope=col>X5</th><th scope=col>X6</th><th scope=col>X7</th><th scope=col>X8</th></tr>\n",
       "\t<tr><th></th><th scope=col>&lt;dbl&gt;</th><th scope=col>&lt;dbl&gt;</th><th scope=col>&lt;dbl&gt;</th><th scope=col>&lt;dbl&gt;</th><th scope=col>&lt;dbl&gt;</th><th scope=col>&lt;dbl&gt;</th><th scope=col>&lt;dbl&gt;</th><th scope=col>&lt;dbl&gt;</th></tr>\n",
       "</thead>\n",
       "<tbody>\n",
       "\t<tr><th scope=row>1</th><td>2.040447</td><td>-1.784712</td><td>-0.5615855</td><td>-1.469119</td><td>0.9993487</td><td>-1.3407670</td><td>-1.7593</td><td>-1.813393</td></tr>\n",
       "\t<tr><th scope=row>2</th><td>2.040447</td><td>-1.784712</td><td>-0.5615855</td><td>-1.469119</td><td>0.9993487</td><td>-0.4469223</td><td>-1.7593</td><td>-1.813393</td></tr>\n",
       "\t<tr><th scope=row>3</th><td>2.040447</td><td>-1.784712</td><td>-0.5615855</td><td>-1.469119</td><td>0.9993487</td><td> 0.4469223</td><td>-1.7593</td><td>-1.813393</td></tr>\n",
       "</tbody>\n",
       "</table>\n"
      ],
      "text/latex": [
       "A data.frame: 3 × 8\n",
       "\\begin{tabular}{r|llllllll}\n",
       "  & X1 & X2 & X3 & X4 & X5 & X6 & X7 & X8\\\\\n",
       "  & <dbl> & <dbl> & <dbl> & <dbl> & <dbl> & <dbl> & <dbl> & <dbl>\\\\\n",
       "\\hline\n",
       "\t1 & 2.040447 & -1.784712 & -0.5615855 & -1.469119 & 0.9993487 & -1.3407670 & -1.7593 & -1.813393\\\\\n",
       "\t2 & 2.040447 & -1.784712 & -0.5615855 & -1.469119 & 0.9993487 & -0.4469223 & -1.7593 & -1.813393\\\\\n",
       "\t3 & 2.040447 & -1.784712 & -0.5615855 & -1.469119 & 0.9993487 &  0.4469223 & -1.7593 & -1.813393\\\\\n",
       "\\end{tabular}\n"
      ],
      "text/markdown": [
       "\n",
       "A data.frame: 3 × 8\n",
       "\n",
       "| <!--/--> | X1 &lt;dbl&gt; | X2 &lt;dbl&gt; | X3 &lt;dbl&gt; | X4 &lt;dbl&gt; | X5 &lt;dbl&gt; | X6 &lt;dbl&gt; | X7 &lt;dbl&gt; | X8 &lt;dbl&gt; |\n",
       "|---|---|---|---|---|---|---|---|---|\n",
       "| 1 | 2.040447 | -1.784712 | -0.5615855 | -1.469119 | 0.9993487 | -1.3407670 | -1.7593 | -1.813393 |\n",
       "| 2 | 2.040447 | -1.784712 | -0.5615855 | -1.469119 | 0.9993487 | -0.4469223 | -1.7593 | -1.813393 |\n",
       "| 3 | 2.040447 | -1.784712 | -0.5615855 | -1.469119 | 0.9993487 |  0.4469223 | -1.7593 | -1.813393 |\n",
       "\n"
      ],
      "text/plain": [
       "  X1       X2        X3         X4        X5        X6         X7     \n",
       "1 2.040447 -1.784712 -0.5615855 -1.469119 0.9993487 -1.3407670 -1.7593\n",
       "2 2.040447 -1.784712 -0.5615855 -1.469119 0.9993487 -0.4469223 -1.7593\n",
       "3 2.040447 -1.784712 -0.5615855 -1.469119 0.9993487  0.4469223 -1.7593\n",
       "  X8       \n",
       "1 -1.813393\n",
       "2 -1.813393\n",
       "3 -1.813393"
      ]
     },
     "metadata": {},
     "output_type": "display_data"
    }
   ],
   "source": [
    "data_raw$Y1_group <- as.factor( data_raw$Y1_group )\n",
    "\n",
    "outlier(data_raw[, -ncol(data_raw)])\n",
    "\n",
    "head( scores(data_raw[, -ncol(data_raw)]), 3 )"
   ]
  },
  {
   "cell_type": "markdown",
   "metadata": {},
   "source": [
    "### Tratamiento de los datos atípicos"
   ]
  },
  {
   "cell_type": "markdown",
   "metadata": {},
   "source": [
    "Se define la función outlier_norm para tratar outliers reemplazando los valores extremos con los percentiles 5 y 95. Luego, se aplica esta función a las primeras ocho columnas del data frame data_raw para crear un nuevo data frame data_raw_fixed, donde los outliers han sido ajustados según la lógica definida en la función."
   ]
  },
  {
   "cell_type": "code",
   "execution_count": 61,
   "metadata": {
    "vscode": {
     "languageId": "r"
    }
   },
   "outputs": [],
   "source": [
    "outlier_norm <- function(x){\n",
    "   qntile <- quantile(x, probs=c(.25, .75))\n",
    "   caps <- quantile(x, probs=c(.05, .95))\n",
    "   H <- 1.5 * IQR(x, na.rm = T)\n",
    "   x[x < (qntile[1] - H)] <- caps[1]\n",
    "   x[x > (qntile[2] + H)] <- caps[2]\n",
    "   return(x)\n",
    "}\n",
    "\n",
    "data_raw_fixed <- data_raw\n",
    "\n",
    "data_raw_fixed <- apply(data_raw_fixed[1:8], 2, outlier_norm)\n"
   ]
  },
  {
   "cell_type": "code",
   "execution_count": 62,
   "metadata": {
    "vscode": {
     "languageId": "r"
    }
   },
   "outputs": [],
   "source": [
    "\n",
    "data_raw_fixed <- data.frame( data_raw_fixed, Y1_group = data_raw$Y1_group )"
   ]
  },
  {
   "cell_type": "markdown",
   "metadata": {},
   "source": [
    "Es necesario realizar una serie de pasos para ajustar un modelo de regresión y evaluar la influencia de las observaciones. \n",
    "\n",
    "Primero, se convierte Y1_group a una variable numérica y se eliminan las filas 22 y 24 del data frame data_raw_fixed. \n",
    "\n",
    "Luego, se ajusta un modelo de regresión lineal usando Y1_group como variable dependiente y el resto de las variables como independientes. Se calcula la distancia de Cook para identificar observaciones influyentes."
   ]
  },
  {
   "cell_type": "code",
   "execution_count": 63,
   "metadata": {
    "vscode": {
     "languageId": "r"
    }
   },
   "outputs": [
    {
     "data": {
      "text/html": [
       "<table class=\"dataframe\">\n",
       "<caption>A data.frame: 3 × 9</caption>\n",
       "<thead>\n",
       "\t<tr><th></th><th scope=col>X1</th><th scope=col>X2</th><th scope=col>X3</th><th scope=col>X4</th><th scope=col>X5</th><th scope=col>X6</th><th scope=col>X7</th><th scope=col>X8</th><th scope=col>Y1_group</th></tr>\n",
       "\t<tr><th></th><th scope=col>&lt;dbl&gt;</th><th scope=col>&lt;dbl&gt;</th><th scope=col>&lt;dbl&gt;</th><th scope=col>&lt;dbl&gt;</th><th scope=col>&lt;dbl&gt;</th><th scope=col>&lt;dbl&gt;</th><th scope=col>&lt;dbl&gt;</th><th scope=col>&lt;dbl&gt;</th><th scope=col>&lt;dbl&gt;</th></tr>\n",
       "</thead>\n",
       "<tbody>\n",
       "\t<tr><th scope=row>1</th><td>0.98</td><td>514.5</td><td>294</td><td>110.25</td><td>7</td><td>2</td><td>0</td><td>0</td><td>2</td></tr>\n",
       "\t<tr><th scope=row>2</th><td>0.98</td><td>514.5</td><td>294</td><td>110.25</td><td>7</td><td>3</td><td>0</td><td>0</td><td>2</td></tr>\n",
       "\t<tr><th scope=row>3</th><td>0.98</td><td>514.5</td><td>294</td><td>110.25</td><td>7</td><td>4</td><td>0</td><td>0</td><td>2</td></tr>\n",
       "</tbody>\n",
       "</table>\n"
      ],
      "text/latex": [
       "A data.frame: 3 × 9\n",
       "\\begin{tabular}{r|lllllllll}\n",
       "  & X1 & X2 & X3 & X4 & X5 & X6 & X7 & X8 & Y1\\_group\\\\\n",
       "  & <dbl> & <dbl> & <dbl> & <dbl> & <dbl> & <dbl> & <dbl> & <dbl> & <dbl>\\\\\n",
       "\\hline\n",
       "\t1 & 0.98 & 514.5 & 294 & 110.25 & 7 & 2 & 0 & 0 & 2\\\\\n",
       "\t2 & 0.98 & 514.5 & 294 & 110.25 & 7 & 3 & 0 & 0 & 2\\\\\n",
       "\t3 & 0.98 & 514.5 & 294 & 110.25 & 7 & 4 & 0 & 0 & 2\\\\\n",
       "\\end{tabular}\n"
      ],
      "text/markdown": [
       "\n",
       "A data.frame: 3 × 9\n",
       "\n",
       "| <!--/--> | X1 &lt;dbl&gt; | X2 &lt;dbl&gt; | X3 &lt;dbl&gt; | X4 &lt;dbl&gt; | X5 &lt;dbl&gt; | X6 &lt;dbl&gt; | X7 &lt;dbl&gt; | X8 &lt;dbl&gt; | Y1_group &lt;dbl&gt; |\n",
       "|---|---|---|---|---|---|---|---|---|---|\n",
       "| 1 | 0.98 | 514.5 | 294 | 110.25 | 7 | 2 | 0 | 0 | 2 |\n",
       "| 2 | 0.98 | 514.5 | 294 | 110.25 | 7 | 3 | 0 | 0 | 2 |\n",
       "| 3 | 0.98 | 514.5 | 294 | 110.25 | 7 | 4 | 0 | 0 | 2 |\n",
       "\n"
      ],
      "text/plain": [
       "  X1   X2    X3  X4     X5 X6 X7 X8 Y1_group\n",
       "1 0.98 514.5 294 110.25 7  2  0  0  2       \n",
       "2 0.98 514.5 294 110.25 7  3  0  0  2       \n",
       "3 0.98 514.5 294 110.25 7  4  0  0  2       "
      ]
     },
     "metadata": {},
     "output_type": "display_data"
    },
    {
     "data": {
      "image/png": "[encoded data removed]",
      "text/plain": [
       "Plot with title \"Observaciones influyentes por la distancia de Cook\""
      ]
     },
     "metadata": {
      "image/png": {
       "height": 480,
       "width": 600
      }
     },
     "output_type": "display_data"
    }
   ],
   "source": [
    "\n",
    "data_raw_fixed$Y1_group <- as.numeric(data_raw_fixed$Y1_group)\n",
    "data_raw_fixed <- data_raw_fixed[ -24, ]\n",
    "data_raw_fixed <- data_raw_fixed[ -22, ]\n",
    "head( data_raw_fixed, 3 )\n",
    "\n",
    "model <- lm(Y1_group ~ ., data=data_raw_fixed)\n",
    "cooksd <- cooks.distance(model)\n",
    "plot(cooksd, pch=\"*\", cex=2, main=\"Observaciones influyentes por la distancia de Cook\")\n",
    "abline(h = 4*mean(cooksd, na.rm=T), col=\"red\")  # add cutoff line\n",
    "text(x=1:length(cooksd)+1, y=cooksd, labels=ifelse(cooksd>4*mean(cooksd, na.rm=T),names(cooksd),\"\"), col=\"red\")  # add labels"
   ]
  },
  {
   "cell_type": "markdown",
   "metadata": {},
   "source": [
    "Se puede observar que ahora el rango de eror va desde 0 a 0.009."
   ]
  },
  {
   "cell_type": "markdown",
   "metadata": {},
   "source": [
    " se equilibrarán las clases del conjunto de datos data_raw_fixed utilizando la técnica SMOTE (Synthetic Minority Over-sampling Technique). Primero, se convertirá Y1_group a una variable numérica y se aplicará SMOTE para generar un conjunto de datos balanceado (data_balanced). Luego, se eliminará la columna class generada por SMOTE. Finalmente, se mostrarán las primeras tres filas del conjunto de datos balanceado y sus dimensiones."
   ]
  },
  {
   "cell_type": "code",
   "execution_count": 64,
   "metadata": {
    "vscode": {
     "languageId": "r"
    }
   },
   "outputs": [
    {
     "data": {
      "text/html": [
       "<table class=\"dataframe\">\n",
       "<caption>A data.frame: 3 × 9</caption>\n",
       "<thead>\n",
       "\t<tr><th></th><th scope=col>X1</th><th scope=col>X2</th><th scope=col>X3</th><th scope=col>X4</th><th scope=col>X5</th><th scope=col>X6</th><th scope=col>X7</th><th scope=col>X8</th><th scope=col>Y1_group</th></tr>\n",
       "\t<tr><th></th><th scope=col>&lt;dbl&gt;</th><th scope=col>&lt;dbl&gt;</th><th scope=col>&lt;dbl&gt;</th><th scope=col>&lt;dbl&gt;</th><th scope=col>&lt;dbl&gt;</th><th scope=col>&lt;dbl&gt;</th><th scope=col>&lt;dbl&gt;</th><th scope=col>&lt;dbl&gt;</th><th scope=col>&lt;dbl&gt;</th></tr>\n",
       "</thead>\n",
       "<tbody>\n",
       "\t<tr><th scope=row>1</th><td>0.90</td><td>563.5</td><td>318.5</td><td>122.5</td><td>7</td><td>2</td><td>0.4</td><td>3</td><td>4</td></tr>\n",
       "\t<tr><th scope=row>2</th><td>0.76</td><td>661.5</td><td>416.5</td><td>122.5</td><td>7</td><td>3</td><td>0.4</td><td>2</td><td>4</td></tr>\n",
       "\t<tr><th scope=row>3</th><td>0.90</td><td>563.5</td><td>318.5</td><td>122.5</td><td>7</td><td>2</td><td>0.4</td><td>4</td><td>4</td></tr>\n",
       "</tbody>\n",
       "</table>\n"
      ],
      "text/latex": [
       "A data.frame: 3 × 9\n",
       "\\begin{tabular}{r|lllllllll}\n",
       "  & X1 & X2 & X3 & X4 & X5 & X6 & X7 & X8 & Y1\\_group\\\\\n",
       "  & <dbl> & <dbl> & <dbl> & <dbl> & <dbl> & <dbl> & <dbl> & <dbl> & <dbl>\\\\\n",
       "\\hline\n",
       "\t1 & 0.90 & 563.5 & 318.5 & 122.5 & 7 & 2 & 0.4 & 3 & 4\\\\\n",
       "\t2 & 0.76 & 661.5 & 416.5 & 122.5 & 7 & 3 & 0.4 & 2 & 4\\\\\n",
       "\t3 & 0.90 & 563.5 & 318.5 & 122.5 & 7 & 2 & 0.4 & 4 & 4\\\\\n",
       "\\end{tabular}\n"
      ],
      "text/markdown": [
       "\n",
       "A data.frame: 3 × 9\n",
       "\n",
       "| <!--/--> | X1 &lt;dbl&gt; | X2 &lt;dbl&gt; | X3 &lt;dbl&gt; | X4 &lt;dbl&gt; | X5 &lt;dbl&gt; | X6 &lt;dbl&gt; | X7 &lt;dbl&gt; | X8 &lt;dbl&gt; | Y1_group &lt;dbl&gt; |\n",
       "|---|---|---|---|---|---|---|---|---|---|\n",
       "| 1 | 0.90 | 563.5 | 318.5 | 122.5 | 7 | 2 | 0.4 | 3 | 4 |\n",
       "| 2 | 0.76 | 661.5 | 416.5 | 122.5 | 7 | 3 | 0.4 | 2 | 4 |\n",
       "| 3 | 0.90 | 563.5 | 318.5 | 122.5 | 7 | 2 | 0.4 | 4 | 4 |\n",
       "\n"
      ],
      "text/plain": [
       "  X1   X2    X3    X4    X5 X6 X7  X8 Y1_group\n",
       "1 0.90 563.5 318.5 122.5 7  2  0.4 3  4       \n",
       "2 0.76 661.5 416.5 122.5 7  3  0.4 2  4       \n",
       "3 0.90 563.5 318.5 122.5 7  2  0.4 4  4       "
      ]
     },
     "metadata": {},
     "output_type": "display_data"
    },
    {
     "data": {
      "text/html": [
       "<style>\n",
       ".list-inline {list-style: none; margin:0; padding: 0}\n",
       ".list-inline>li {display: inline-block}\n",
       ".list-inline>li:not(:last-child)::after {content: \"\\00b7\"; padding: 0 .5ex}\n",
       "</style>\n",
       "<ol class=list-inline><li>1246</li><li>9</li></ol>\n"
      ],
      "text/latex": [
       "\\begin{enumerate*}\n",
       "\\item 1246\n",
       "\\item 9\n",
       "\\end{enumerate*}\n"
      ],
      "text/markdown": [
       "1. 1246\n",
       "2. 9\n",
       "\n",
       "\n"
      ],
      "text/plain": [
       "[1] 1246    9"
      ]
     },
     "metadata": {},
     "output_type": "display_data"
    }
   ],
   "source": [
    "#cambiar nombre de data_balanced\n",
    "set.seed(2346)\n",
    "\n",
    "data_raw_fixed$Y1_group <- as.numeric( data_raw_fixed$Y1_group )\n",
    "data_balanced <- SMOTE(data_raw_fixed, data_raw_fixed$Y1_group, K=5)$data\n",
    "\n",
    "drops <- \"class\"\n",
    "data_balanced <- data_balanced[ , !(names(data_balanced) %in% drops)]\n",
    "\n",
    "head( data_balanced, 3)\n",
    "dim( data_balanced )"
   ]
  },
  {
   "cell_type": "markdown",
   "metadata": {},
   "source": [
    "Se dividirá el conjunto de datos balanceado data_balanced en conjuntos de entrenamiento y prueba, utilizando una partición del 80% para el entrenamiento."
   ]
  },
  {
   "cell_type": "code",
   "execution_count": 65,
   "metadata": {
    "vscode": {
     "languageId": "r"
    }
   },
   "outputs": [],
   "source": [
    "set.seed( 8474366 )\n",
    "\n",
    "data_balanced$Y1_group <- as.factor( data_balanced$Y1_group )\n",
    "\n",
    "data_balanced_indexes   <- createDataPartition( data_balanced$Y1_group, p=0.80, list = F )\n",
    "data_balanced_train.set <- data_balanced[data_balanced_indexes,]\n",
    "data_balanced_test.set  <- data_balanced[-data_balanced_indexes,]"
   ]
  },
  {
   "cell_type": "code",
   "execution_count": 66,
   "metadata": {
    "vscode": {
     "languageId": "r"
    }
   },
   "outputs": [
    {
     "data": {
      "text/plain": [
       "\n",
       "        1         2         3         4 \n",
       "0.2484970 0.1022044 0.1683367 0.4809619 "
      ]
     },
     "metadata": {},
     "output_type": "display_data"
    }
   ],
   "source": [
    "prop.table(table(data_balanced_train.set$Y1_group))"
   ]
  },
  {
   "cell_type": "code",
   "execution_count": 67,
   "metadata": {
    "vscode": {
     "languageId": "r"
    }
   },
   "outputs": [
    {
     "data": {
      "text/plain": [
       "\n",
       "        1         2         3         4 \n",
       "0.2459677 0.1008065 0.1693548 0.4838710 "
      ]
     },
     "metadata": {},
     "output_type": "display_data"
    }
   ],
   "source": [
    "prop.table(table(data_balanced_test.set$Y1_group))"
   ]
  },
  {
   "cell_type": "markdown",
   "metadata": {},
   "source": [
    "Las distribuciones de los rangos en ambos conjuntos de datos son prácticamente idénticas, con diferencias mínimas en cada rango. Estas pequeñas variaciones no indican un desbalance significativo. La mayor proporción de observaciones en ambos conjuntos corresponde al Rango 4, seguido por el Rango 1, con los Rangos 2 y 3 teniendo menor representación. Estas ligeras diferencias sugieren una estabilidad en la distribución de los datos entre los dos conjuntos, sin un desbalance considerable en ninguno de los rangos."
   ]
  },
  {
   "cell_type": "markdown",
   "metadata": {},
   "source": [
    "### Modelo con valores atípicos"
   ]
  },
  {
   "cell_type": "code",
   "execution_count": 68,
   "metadata": {
    "vscode": {
     "languageId": "r"
    }
   },
   "outputs": [],
   "source": [
    "#Modelo de clasificación con instancia de entrenamiento\n",
    "data_balanced.tree_reduced <- C5.0( Y1_group ~ ., data_balanced_train.set, trials=20) \n",
    "\n",
    "#Modelo basado en reglas\n",
    "tree.rules_balanced_reduced <- C5.0( x = data_balanced_train.set[, -1 ], y = data_balanced_train.set$Y1_group, rules = T )"
   ]
  },
  {
   "cell_type": "code",
   "execution_count": 69,
   "metadata": {
    "vscode": {
     "languageId": "r"
    }
   },
   "outputs": [
    {
     "data": {
      "text/plain": [
       "\n",
       "Call:\n",
       "C5.0.formula(formula = Y1_group ~ ., data = data_balanced_train.set, trials\n",
       " = 20)\n",
       "\n",
       "\n",
       "C5.0 [Release 2.07 GPL Edition]  \tThu Jun 20 23:34:23 2024\n",
       "-------------------------------\n",
       "\n",
       "Class specified by attribute `outcome'\n",
       "\n",
       "Read 998 cases (9 attributes) from undefined.data\n",
       "\n",
       "-----  Trial 0:  -----\n",
       "\n",
       "Decision tree:\n",
       "\n",
       "X5 <= 3.5:\n",
       ":...X1 > 0.64: 1 (210/4)\n",
       ":   X1 <= 0.64:\n",
       ":   :...X7 > 0.3213589: 2 (34/1)\n",
       ":       X7 <= 0.3213589:\n",
       ":       :...X1 <= 0.62: 1 (31)\n",
       ":           X1 > 0.62:\n",
       ":           :...X7 <= 0.1692678: 1 (17/7)\n",
       ":               X7 > 0.1692678: 2 (14)\n",
       "X5 > 3.5:\n",
       ":...X3 > 318.5:\n",
       "    :...X7 > 0.1: 4 (355)\n",
       "    :   X7 <= 0.1:\n",
       "    :   :...X1 <= 0.76: 3 (21)\n",
       "    :       X1 > 0.76:\n",
       "    :       :...X7 <= 0: 3 (2)\n",
       "    :           X7 > 0: 4 (48)\n",
       "    X3 <= 318.5:\n",
       "    :...X7 > 0.3213589:\n",
       "        :...X3 <= 294: 3 (27)\n",
       "        :   X3 > 294:\n",
       "        :   :...X1 <= 0.86: 3 (13)\n",
       "        :       X1 > 0.86: 4 (77)\n",
       "        X7 <= 0.3213589:\n",
       "        :...X8 <= 0: 2 (13)\n",
       "            X8 > 0:\n",
       "            :...X7 > 0.1692678: 3 (69)\n",
       "                X7 <= 0.1692678:\n",
       "                :...X1 <= 0.82: 2 (17)\n",
       "                    X1 > 0.82:\n",
       "                    :...X1 <= 0.9: 3 (34)\n",
       "                        X1 > 0.9:\n",
       "                        :...X8 <= 1.440204: 3 (2)\n",
       "                            X8 > 1.440204: 2 (14)\n",
       "\n",
       "-----  Trial 1:  -----\n",
       "\n",
       "Decision tree:\n",
       "\n",
       "X5 > 3.5:\n",
       ":...X3 > 318.5: 4 (320.8/17.3)\n",
       ":   X3 <= 318.5:\n",
       ":   :...X7 <= 0.3213589:\n",
       ":       :...X8 <= 0: 2 (9.8)\n",
       ":       :   X8 > 0: 3 (102.4/23.3)\n",
       ":       X7 > 0.3213589:\n",
       ":       :...X3 <= 294: 3 (20.3)\n",
       ":           X3 > 294: 4 (67.8/9.8)\n",
       "X5 <= 3.5:\n",
       ":...X1 > 0.66: 1 (119.7)\n",
       "    X1 <= 0.66:\n",
       "    :...X1 <= 0.62: 1 (56.7/12)\n",
       "        X1 > 0.62:\n",
       "        :...X1 <= 0.64: 2 (179.9/7.5)\n",
       "            X1 > 0.64:\n",
       "            :...X7 <= 0.3213589: 1 (28.6)\n",
       "                X7 > 0.3213589: 2 (91.9/6.8)\n",
       "\n",
       "-----  Trial 2:  -----\n",
       "\n",
       "Decision tree:\n",
       "\n",
       "X5 > 3.5:\n",
       ":...X7 <= 0.1:\n",
       ":   :...X3 <= 318.5: 2 (115.9/20.9)\n",
       ":   :   X3 > 318.5:\n",
       ":   :   :...X1 <= 0.76: 3 (59.3)\n",
       ":   :       X1 > 0.76: 4 (33.5/5.6)\n",
       ":   X7 > 0.1:\n",
       ":   :...X3 > 318.5: 4 (206.1)\n",
       ":       X3 <= 318.5:\n",
       ":       :...X4 <= 122.5: 4 (74.3/29.6)\n",
       ":           X4 > 122.5: 3 (62.8)\n",
       "X5 <= 3.5:\n",
       ":...X1 > 0.66: 1 (92.3)\n",
       "    X1 <= 0.66:\n",
       "    :...X7 <= 0: 1 (12.5)\n",
       "        X7 > 0:\n",
       "        :...X1 > 0.64:\n",
       "            :...X7 <= 0.3213589: 1 (20.3)\n",
       "            :   X7 > 0.3213589: 2 (91.1/25.4)\n",
       "            X1 <= 0.64:\n",
       "            :...X7 > 0.3213589: 2 (71.4/16.4)\n",
       "                X7 <= 0.3213589:\n",
       "                :...X1 <= 0.62: 1 (15.7)\n",
       "                    X1 > 0.62: 2 (142.8/19.8)\n",
       "\n",
       "-----  Trial 3:  -----\n",
       "\n",
       "Decision tree:\n",
       "\n",
       "X5 > 3.5:\n",
       ":...X3 > 318.5:\n",
       ":   :...X7 > 0.1: 4 (161.4)\n",
       ":   :   X7 <= 0.1:\n",
       ":   :   :...X1 <= 0.76: 3 (46.4)\n",
       ":   :       X1 > 0.76: 4 (31.1/9.2)\n",
       ":   X3 <= 318.5:\n",
       ":   :...X7 > 0.1692678: 3 (205.6/35)\n",
       ":       X7 <= 0.1692678:\n",
       ":       :...X1 <= 0.82: 2 (39)\n",
       ":           X1 > 0.82:\n",
       ":           :...X1 <= 0.9: 3 (84.1/3.2)\n",
       ":               X1 > 0.9: 2 (37.1/4.8)\n",
       "X5 <= 3.5:\n",
       ":...X1 > 0.66: 1 (72.3)\n",
       "    X1 <= 0.66:\n",
       "    :...X8 <= 1.440204: 1 (68.7/20.5)\n",
       "        X8 > 1.440204:\n",
       "        :...X1 <= 0.64:\n",
       "            :...X7 > 0.3213589: 2 (36.9)\n",
       "            :   X7 <= 0.3213589:\n",
       "            :   :...X1 <= 0.62: 1 (9.1)\n",
       "            :       X1 > 0.62: 2 (109.9/27.7)\n",
       "            X1 > 0.64:\n",
       "            :...X7 <= 0.3213589: 1 (12.7)\n",
       "                X7 > 0.3213589:\n",
       "                :...X8 <= 4.481645: 2 (74.5/23.1)\n",
       "                    X8 > 4.481645: 1 (9.2)\n",
       "\n",
       "-----  Trial 4:  -----\n",
       "\n",
       "Decision tree:\n",
       "\n",
       "X5 > 3.5:\n",
       ":...X7 <= 0.1:\n",
       ":   :...X3 > 318.5: 3 (66.3/17.1)\n",
       ":   :   X3 <= 318.5:\n",
       ":   :   :...X1 <= 0.82: 2 (30.6)\n",
       ":   :       X1 > 0.82:\n",
       ":   :       :...X7 <= 0: 2 (16.3)\n",
       ":   :           X7 > 0:\n",
       ":   :           :...X1 <= 0.9: 3 (63.5)\n",
       ":   :               X1 > 0.9: 2 (32.5/8.2)\n",
       ":   X7 > 0.1:\n",
       ":   :...X3 <= 294: 3 (71.3)\n",
       ":       X3 > 294:\n",
       ":       :...X3 > 318.5: 4 (126.8)\n",
       ":           X3 <= 318.5:\n",
       ":           :...X7 <= 0.3213589: 3 (40.1)\n",
       ":               X7 > 0.3213589:\n",
       ":               :...X1 <= 0.86: 3 (22.6)\n",
       ":                   X1 > 0.86: 4 (167.6)\n",
       "X5 <= 3.5:\n",
       ":...X1 > 0.66: 1 (56.8)\n",
       "    X1 <= 0.66:\n",
       "    :...X1 > 0.64:\n",
       "        :...X8 <= 3.497556: 1 (57.6/10.1)\n",
       "        :   X8 > 3.497556: 2 (42.6/12.3)\n",
       "        X1 <= 0.64:\n",
       "        :...X7 <= 0: 1 (6.6)\n",
       "            X7 > 0:\n",
       "            :...X6 <= 2.477539: 1 (51.2/21)\n",
       "                X6 > 2.477539:\n",
       "                :...X7 > 0.3213589: 2 (35.7)\n",
       "                    X7 <= 0.3213589:\n",
       "                    :...X1 <= 0.62: 1 (6.4)\n",
       "                        X1 > 0.62: 2 (103.5/29)\n",
       "\n",
       "-----  Trial 5:  -----\n",
       "\n",
       "Decision tree:\n",
       "\n",
       "X5 <= 3.5:\n",
       ":...X1 <= 0.64:\n",
       ":   :...X7 > 0.1692678: 2 (85.1/15)\n",
       ":   :   X7 <= 0.1692678:\n",
       ":   :   :...X6 <= 4.475726: 2 (88.9/33.7)\n",
       ":   :       X6 > 4.475726: 1 (33.9/7.8)\n",
       ":   X1 > 0.64:\n",
       ":   :...X7 <= 0.3213589: 1 (76)\n",
       ":       X7 > 0.3213589:\n",
       ":       :...X8 > 4.481645: 1 (15.1)\n",
       ":           X8 <= 4.481645:\n",
       ":           :...X8 <= 3.497556: 1 (50.6/12.5)\n",
       ":               X8 > 3.497556: 2 (26.3/2.8)\n",
       "X5 > 3.5:\n",
       ":...X3 <= 294:\n",
       "    :...X8 <= 0: 2 (7.6)\n",
       "    :   X8 > 0: 3 (107.7/18.9)\n",
       "    X3 > 294:\n",
       "    :...X3 > 318.5:\n",
       "        :...X7 <= 0: 3 (12.6)\n",
       "        :   X7 > 0: 4 (257.3/25.6)\n",
       "        X3 <= 318.5:\n",
       "        :...X7 <= 0.3213589:\n",
       "            :...X1 <= 0.86: 2 (28.8/5)\n",
       "            :   X1 > 0.86: 3 (60.2/5.1)\n",
       "            X7 > 0.3213589:\n",
       "            :...X1 <= 0.86: 3 (17.5)\n",
       "                X1 > 0.86: 4 (130.3)\n",
       "\n",
       "-----  Trial 6:  -----\n",
       "\n",
       "Decision tree:\n",
       "\n",
       "X5 > 3.5:\n",
       ":...X3 <= 294:\n",
       ":   :...X7 > 0.1692678: 3 (43.6)\n",
       ":   :   X7 <= 0.1692678:\n",
       ":   :   :...X1 <= 0.9: 3 (21.3/5.3)\n",
       ":   :       X1 > 0.9: 2 (55.9/10.3)\n",
       ":   X3 > 294:\n",
       ":   :...X7 > 0.25: 4 (159.4/13.8)\n",
       ":       X7 <= 0.25:\n",
       ":       :...X3 <= 318.5:\n",
       ":           :...X8 <= 0: 2 (11.3)\n",
       ":           :   X8 > 0: 3 (99.9/18)\n",
       ":           X3 > 318.5:\n",
       ":           :...X1 > 0.76: 4 (132.5/7.8)\n",
       ":               X1 <= 0.76:\n",
       ":               :...X7 <= 0.1692678: 3 (63.2)\n",
       ":                   X7 > 0.1692678: 4 (14.2)\n",
       "X5 <= 3.5:\n",
       ":...X1 > 0.66: 1 (53.9)\n",
       "    X1 <= 0.66:\n",
       "    :...X7 > 0.3213589: 2 (122/46.3)\n",
       "        X7 <= 0.3213589:\n",
       "        :...X1 <= 0.62: 1 (58.7)\n",
       "            X1 > 0.62:\n",
       "            :...X1 > 0.64: 1 (35.8)\n",
       "                X1 <= 0.64:\n",
       "                :...X7 > 0.1692678: 2 (12.3)\n",
       "                    X7 <= 0.1692678:\n",
       "                    :...X7 <= 0: 1 (7.5)\n",
       "                        X7 > 0:\n",
       "                        :...X8 <= 2.457763: 2 (36.6/11.6)\n",
       "                            X8 > 2.457763: 1 (69.9/28.2)\n",
       "\n",
       "-----  Trial 7:  -----\n",
       "\n",
       "Decision tree:\n",
       "\n",
       "X5 <= 3.5:\n",
       ":...X1 > 0.64: 1 (160.1/26)\n",
       ":   X1 <= 0.64:\n",
       ":   :...X1 <= 0.62: 1 (85.2/22.5)\n",
       ":       X1 > 0.62:\n",
       ":       :...X7 > 0.1692678: 2 (21.1)\n",
       ":           X7 <= 0.1692678:\n",
       ":           :...X7 <= 0: 1 (5.9)\n",
       ":               X7 > 0:\n",
       ":               :...X6 <= 4.475726: 2 (75.7/27.6)\n",
       ":                   X6 > 4.475726: 1 (36.7/13)\n",
       "X5 > 3.5:\n",
       ":...X3 > 318.5:\n",
       "    :...X1 <= 0.76:\n",
       "    :   :...X7 <= 0.1692678: 3 (50)\n",
       "    :   :   X7 > 0.1692678: 4 (28.3)\n",
       "    :   X1 > 0.76:\n",
       "    :   :...X7 <= 0: 3 (14.4)\n",
       "    :       X7 > 0: 4 (115.8)\n",
       "    X3 <= 318.5:\n",
       "    :...X7 <= 0.1692678:\n",
       "        :...X1 <= 0.82: 2 (74.9)\n",
       "        :   X1 > 0.82:\n",
       "        :   :...X7 <= 0: 2 (27.5)\n",
       "        :       X7 > 0:\n",
       "        :       :...X1 <= 0.9: 3 (30.7)\n",
       "        :           X1 > 0.9: 2 (52.5/16.9)\n",
       "        X7 > 0.1692678:\n",
       "        :...X4 > 122.5: 3 (92)\n",
       "            X4 <= 122.5:\n",
       "            :...X7 <= 0.3213589: 3 (31.6)\n",
       "                X7 > 0.3213589:\n",
       "                :...X1 <= 0.9: 4 (81.1)\n",
       "                    X1 > 0.9: 3 (14.5)\n",
       "\n",
       "-----  Trial 8:  -----\n",
       "\n",
       "Decision tree:\n",
       "\n",
       "X5 > 3.5:\n",
       ":...X3 > 318.5:\n",
       ":   :...X1 <= 0.76: 3 (61/22.1)\n",
       ":   :   X1 > 0.76:\n",
       ":   :   :...X7 <= 0: 3 (11.2)\n",
       ":   :       X7 > 0: 4 (90.3)\n",
       ":   X3 <= 318.5:\n",
       ":   :...X7 > 0.1692678:\n",
       ":       :...X4 > 122.5: 3 (71.7)\n",
       ":       :   X4 <= 122.5:\n",
       ":       :   :...X7 <= 0.3213589: 3 (24.6)\n",
       ":       :       X7 > 0.3213589: 4 (74.5/11.3)\n",
       ":       X7 <= 0.1692678:\n",
       ":       :...X1 <= 0.82: 2 (58.4)\n",
       ":           X1 > 0.82:\n",
       ":           :...X7 <= 0: 2 (21.5)\n",
       ":               X7 > 0:\n",
       ":               :...X8 <= 1.440204: 3 (36.4)\n",
       ":                   X8 > 1.440204: 2 (46.8/19)\n",
       "X5 <= 3.5:\n",
       ":...X1 > 0.66: 1 (33.3)\n",
       "    X1 <= 0.66:\n",
       "    :...X7 > 0.3213589:\n",
       "        :...X1 <= 0.64: 2 (160.5/12.7)\n",
       "        :   X1 > 0.64:\n",
       "        :   :...X8 > 4.481645: 1 (12.6)\n",
       "        :       X8 <= 4.481645:\n",
       "        :       :...X8 <= 3.497556: 1 (55.3/18.7)\n",
       "        :           X8 > 3.497556: 2 (36.5)\n",
       "        X7 <= 0.3213589:\n",
       "        :...X1 <= 0.62: 1 (36.2)\n",
       "            X1 > 0.62:\n",
       "            :...X1 > 0.64: 1 (22.1)\n",
       "                X1 <= 0.64:\n",
       "                :...X7 > 0.1692678: 2 (7.6)\n",
       "                    X7 <= 0.1692678:\n",
       "                    :...X6 <= 2.477539: 1 (33.4/6.1)\n",
       "                        X6 > 2.477539:\n",
       "                        :...X8 <= 4.481645: 1 (96.9/44.4)\n",
       "                            X8 > 4.481645: 2 (7.4)\n",
       "\n",
       "-----  Trial 9:  -----\n",
       "\n",
       "Decision tree:\n",
       "\n",
       "X5 > 3.5:\n",
       ":...X3 <= 318.5:\n",
       ":   :...X7 <= 0.1692678:\n",
       ":   :   :...X1 <= 0.82: 2 (46)\n",
       ":   :   :   X1 > 0.82:\n",
       ":   :   :   :...X7 <= 0: 2 (16.9)\n",
       ":   :   :       X7 > 0: 3 (92.5/21.9)\n",
       ":   :   X7 > 0.1692678:\n",
       ":   :   :...X4 > 122.5: 3 (56.6)\n",
       ":   :       X4 <= 122.5:\n",
       ":   :       :...X1 <= 0.9: 4 (59.9/10)\n",
       ":   :           X1 > 0.9: 3 (34.3)\n",
       ":   X3 > 318.5:\n",
       ":   :...X8 <= 0: 3 (9.9)\n",
       ":       X8 > 0:\n",
       ":       :...X7 > 0.1: 4 (181.5)\n",
       ":           X7 <= 0.1:\n",
       ":           :...X1 <= 0.76: 3 (29.7)\n",
       ":               X1 > 0.76: 4 (51)\n",
       "X5 <= 3.5:\n",
       ":...X1 > 0.66: 1 (26.2)\n",
       "    X1 <= 0.66:\n",
       "    :...X7 > 0.3213589:\n",
       "        :...X1 <= 0.64: 2 (130.2/13.5)\n",
       "        :   X1 > 0.64:\n",
       "        :   :...X8 > 4.481645: 1 (9.9)\n",
       "        :       X8 <= 4.481645:\n",
       "        :       :...X8 <= 3.497556: 1 (48.4/19.5)\n",
       "        :           X8 > 3.497556: 2 (28.8)\n",
       "        X7 <= 0.3213589:\n",
       "        :...X1 <= 0.62: 1 (28.5)\n",
       "            X1 > 0.62:\n",
       "            :...X1 > 0.64: 1 (17.4)\n",
       "                X1 <= 0.64:\n",
       "                :...X7 > 0.1692678: 2 (6)\n",
       "                    X7 <= 0.1692678:\n",
       "                    :...X7 <= 0: 1 (3.6)\n",
       "                        X7 > 0:\n",
       "                        :...X6 <= 2.477539: 1 (26.9/6.9)\n",
       "                            X6 > 2.477539: 2 (93.8/39.3)\n",
       "\n",
       "-----  Trial 10:  -----\n",
       "\n",
       "Decision tree:\n",
       "\n",
       "X5 <= 3.5:\n",
       ":...X1 > 0.66: 1 (20.5)\n",
       ":   X1 <= 0.66:\n",
       ":   :...X7 > 0.3213589:\n",
       ":       :...X8 <= 1.440204: 1 (37.9/14.2)\n",
       ":       :   X8 > 1.440204: 2 (148.8/25)\n",
       ":       X7 <= 0.3213589:\n",
       ":       :...X1 <= 0.62: 1 (22.3)\n",
       ":           X1 > 0.62:\n",
       ":           :...X1 > 0.64: 1 (13.6)\n",
       ":               X1 <= 0.64:\n",
       ":               :...X7 <= 0.1692678: 1 (136.3/54.3)\n",
       ":                   X7 > 0.1692678: 2 (4.7)\n",
       "X5 > 3.5:\n",
       ":...X3 > 318.5:\n",
       "    :...X8 <= 0: 3 (7.7)\n",
       "    :   X8 > 0: 4 (204.8/23.2)\n",
       "    X3 <= 318.5:\n",
       "    :...X7 > 0.1692678:\n",
       "        :...X7 <= 0.3213589: 3 (120.6)\n",
       "        :   X7 > 0.3213589:\n",
       "        :   :...X4 <= 122.5: 4 (58.4/19.4)\n",
       "        :       X4 > 122.5: 3 (28.2)\n",
       "        X7 <= 0.1692678:\n",
       "        :...X1 <= 0.82: 2 (36)\n",
       "            X1 > 0.82:\n",
       "            :...X1 <= 0.9: 3 (48.8/13)\n",
       "                X1 > 0.9:\n",
       "                :...X8 <= 1.440204: 3 (19.6/0.2)\n",
       "                    X8 > 1.440204: 2 (89.8)\n",
       "\n",
       "-----  Trial 11:  -----\n",
       "\n",
       "Decision tree:\n",
       "\n",
       "X5 > 3.5:\n",
       ":...X3 > 318.5:\n",
       ":   :...X7 > 0.1: 4 (112.6)\n",
       ":   :   X7 <= 0.1:\n",
       ":   :   :...X1 <= 0.76: 3 (74.9)\n",
       ":   :       X1 > 0.76: 4 (37.1/5.5)\n",
       ":   X3 <= 318.5:\n",
       ":   :...X7 <= 0.1692678:\n",
       ":       :...X7 <= 0: 2 (40.3)\n",
       ":       :   X7 > 0:\n",
       ":       :   :...X8 <= 1.440204: 3 (22.8/5)\n",
       ":       :       X8 > 1.440204: 2 (120.6/26)\n",
       ":       X7 > 0.1692678:\n",
       ":       :...X7 <= 0.3213589: 3 (95.8)\n",
       ":           X7 > 0.3213589:\n",
       ":           :...X3 <= 294: 3 (63.2)\n",
       ":               X3 > 294: 4 (52.6/21.7)\n",
       "X5 <= 3.5:\n",
       ":...X1 > 0.64:\n",
       "    :...X7 <= 0.3213589: 1 (18)\n",
       "    :   X7 > 0.3213589:\n",
       "    :   :...X8 > 4.481645: 1 (13.9)\n",
       "    :       X8 <= 4.481645:\n",
       "    :       :...X6 <= 4.475726: 1 (47.3/11.9)\n",
       "    :           X6 > 4.475726: 2 (33.1/7.8)\n",
       "    X1 <= 0.64:\n",
       "    :...X7 > 0.3213589: 2 (106/14.6)\n",
       "        X7 <= 0.3213589:\n",
       "        :...X1 <= 0.62: 1 (17.7)\n",
       "            X1 > 0.62:\n",
       "            :...X7 > 0.1692678: 2 (3.7)\n",
       "                X7 <= 0.1692678:\n",
       "                :...X8 <= 3.497556: 2 (95.5/38.7)\n",
       "                    X8 > 3.497556: 1 (42.7/16.4)\n",
       "\n",
       "-----  Trial 12:  -----\n",
       "\n",
       "Decision tree:\n",
       "\n",
       "X5 > 3.5:\n",
       ":...X3 > 318.5:\n",
       ":   :...X7 > 0.1: 4 (89.3)\n",
       ":   :   X7 <= 0.1:\n",
       ":   :   :...X1 <= 0.76: 3 (59.5)\n",
       ":   :       X1 > 0.76: 4 (35.9/10.8)\n",
       ":   X3 <= 318.5:\n",
       ":   :...X8 <= 0: 2 (32)\n",
       ":       X8 > 0:\n",
       ":       :...X7 > 0.1692678: 3 (206.9/24.5)\n",
       ":           X7 <= 0.1692678:\n",
       ":           :...X1 > 0.9: 2 (68.7/12.2)\n",
       ":               X1 <= 0.9:\n",
       ":               :...X1 <= 0.82: 2 (31.5)\n",
       ":                   X1 > 0.82: 3 (99.8)\n",
       "X5 <= 3.5:\n",
       ":...X1 > 0.66: 1 (34.6)\n",
       "    X1 <= 0.66:\n",
       "    :...X8 <= 0: 1 (12)\n",
       "        X8 > 0:\n",
       "        :...X7 > 0.3213589: 2 (169.2/59.3)\n",
       "            X7 <= 0.3213589:\n",
       "            :...X1 <= 0.62: 1 (12.5)\n",
       "                X1 > 0.62:\n",
       "                :...X6 > 4.475726: 1 (45.2/15.7)\n",
       "                    X6 <= 4.475726:\n",
       "                    :...X8 <= 2.457763: 2 (23.9/0.6)\n",
       "                        X8 > 2.457763: 1 (77/30.7)\n",
       "\n",
       "-----  Trial 13:  -----\n",
       "\n",
       "Decision tree:\n",
       "\n",
       "X5 <= 3.5:\n",
       ":...X1 > 0.64: 1 (135.9/29.7)\n",
       ":   X1 <= 0.64:\n",
       ":   :...X7 <= 0: 1 (9.4)\n",
       ":       X7 > 0: 2 (226.3/82.8)\n",
       "X5 > 3.5:\n",
       ":...X7 > 0.1:\n",
       "    :...X3 <= 294: 3 (44.2)\n",
       "    :   X3 > 294:\n",
       "    :   :...X4 > 122.5: 3 (60.1/7.9)\n",
       "    :       X4 <= 122.5:\n",
       "    :       :...X7 <= 0.251285: 3 (73.8/25)\n",
       "    :           X7 > 0.251285: 4 (177.2)\n",
       "    X7 <= 0.1:\n",
       "    :...X3 > 318.5:\n",
       "        :...X1 <= 0.76: 3 (47.3)\n",
       "        :   X1 > 0.76: 4 (33.7/13.8)\n",
       "        X3 <= 318.5:\n",
       "        :...X7 <= 0: 2 (25.4)\n",
       "            X7 > 0:\n",
       "            :...X1 <= 0.82: 2 (25.1)\n",
       "                X1 > 0.82:\n",
       "                :...X1 <= 0.9: 3 (79.4)\n",
       "                    X1 > 0.9: 2 (60.2/15.2)\n",
       "\n",
       "-----  Trial 14:  -----\n",
       "\n",
       "Decision tree:\n",
       "\n",
       "X5 <= 3.5:\n",
       ":...X8 <= 1.440204: 1 (77.5/21.1)\n",
       ":   X8 > 1.440204:\n",
       ":   :...X1 > 0.64: 1 (102.7/31.8)\n",
       ":       X1 <= 0.64:\n",
       ":       :...X7 > 0.3213589: 2 (31)\n",
       ":           X7 <= 0.3213589:\n",
       ":           :...X1 <= 0.62: 1 (18.3)\n",
       ":               X1 > 0.62: 2 (112.2/49.1)\n",
       "X5 > 3.5:\n",
       ":...X7 <= 0.1:\n",
       "    :...X3 > 318.5: 3 (68.9/16)\n",
       "    :   X3 <= 318.5:\n",
       "    :   :...X7 <= 0: 2 (20.4)\n",
       "    :       X7 > 0:\n",
       "    :       :...X1 <= 0.82: 2 (20.1)\n",
       "    :           X1 > 0.82:\n",
       "    :           :...X1 <= 0.9: 3 (63.7)\n",
       "    :               X1 > 0.9: 2 (52.4/16.3)\n",
       "    X7 > 0.1:\n",
       "    :...X3 > 318.5: 4 (202.5)\n",
       "        X3 <= 318.5:\n",
       "        :...X7 <= 0.3213589: 3 (48.5)\n",
       "            X7 > 0.3213589:\n",
       "            :...X4 > 122.5: 3 (36.3)\n",
       "                X4 <= 122.5:\n",
       "                :...X1 <= 0.9: 4 (111.7)\n",
       "                    X1 > 0.9: 3 (31.6)\n",
       "\n",
       "-----  Trial 15:  -----\n",
       "\n",
       "Decision tree:\n",
       "\n",
       "X5 > 3.5:\n",
       ":...X4 <= 110.25:\n",
       ":   :...X7 <= 0.1692678: 2 (53.3/21.5)\n",
       ":   :   X7 > 0.1692678: 3 (27.3)\n",
       ":   X4 > 110.25:\n",
       ":   :...X3 <= 318.5:\n",
       ":       :...X7 > 0.3213589:\n",
       ":       :   :...X4 <= 122.5: 4 (88.1)\n",
       ":       :   :   X4 > 122.5: 3 (28.7)\n",
       ":       :   X7 <= 0.3213589:\n",
       ":       :   :...X7 <= 0: 2 (12.8)\n",
       ":       :       X7 > 0:\n",
       ":       :       :...X1 <= 0.82: 2 (20.5/4.7)\n",
       ":       :           X1 > 0.82: 3 (81.6)\n",
       ":       X3 > 318.5:\n",
       ":       :...X8 <= 0: 3 (12)\n",
       ":           X8 > 0:\n",
       ":           :...X1 > 0.76: 4 (229.1)\n",
       ":               X1 <= 0.76:\n",
       ":               :...X7 <= 0.1692678: 3 (29.7)\n",
       ":                   X7 > 0.1692678: 4 (71.7)\n",
       "X5 <= 3.5:\n",
       ":...X1 > 0.66: 1 (17.4)\n",
       "    X1 <= 0.66:\n",
       "    :...X7 > 0.1692678:\n",
       "        :...X1 <= 0.64: 2 (100.5/25.7)\n",
       "        :   X1 > 0.64:\n",
       "        :   :...X7 <= 0.3213589: 1 (7.9)\n",
       "        :       X7 > 0.3213589: 2 (77.4/35.1)\n",
       "        X7 <= 0.1692678:\n",
       "        :...X7 <= 0: 1 (6)\n",
       "            X7 > 0:\n",
       "            :...X1 <= 0.62: 1 (8.9)\n",
       "                X1 > 0.62:\n",
       "                :...X1 > 0.64: 1 (6.8)\n",
       "                    X1 <= 0.64:\n",
       "                    :...X6 > 4.475726: 1 (37.1/10.6)\n",
       "                        X6 <= 4.475726:\n",
       "                        :...X8 <= 2.457763: 2 (14.8)\n",
       "                            X8 > 2.457763: 1 (66.3/21.2)\n",
       "\n",
       "-----  Trial 16:  -----\n",
       "\n",
       "Decision tree:\n",
       "\n",
       "X5 > 3.5:\n",
       ":...X3 > 318.5:\n",
       ":   :...X8 <= 0: 3 (9.4)\n",
       ":   :   X8 > 0:\n",
       ":   :   :...X1 > 0.76: 4 (179.6)\n",
       ":   :       X1 <= 0.76:\n",
       ":   :       :...X7 <= 0.1692678: 3 (23.3)\n",
       ":   :           X7 > 0.1692678: 4 (56.2)\n",
       ":   X3 <= 318.5:\n",
       ":   :...X7 > 0.3213589:\n",
       ":       :...X4 > 122.5: 3 (22.5)\n",
       ":       :   X4 <= 122.5:\n",
       ":       :   :...X1 <= 0.9: 4 (69.1)\n",
       ":       :       X1 > 0.9: 3 (19.6)\n",
       ":       X7 <= 0.3213589:\n",
       ":       :...X8 <= 0: 2 (12.6)\n",
       ":           X8 > 0:\n",
       ":           :...X7 > 0.1692678: 3 (102.3)\n",
       ":               X7 <= 0.1692678:\n",
       ":               :...X1 <= 0.82: 2 (12.5)\n",
       ":                   X1 > 0.82: 3 (91.1/22.3)\n",
       "X5 <= 3.5:\n",
       ":...X6 <= 2.477539: 1 (112.6/25.5)\n",
       "    X6 > 2.477539:\n",
       "    :...X1 > 0.64: 1 (94.4/25.3)\n",
       "        X1 <= 0.64:\n",
       "        :...X7 > 0.3213589: 2 (33.3)\n",
       "            X7 <= 0.3213589:\n",
       "            :...X1 <= 0.62: 1 (47.4)\n",
       "                X1 > 0.62:\n",
       "                :...X7 > 0.1692678: 2 (12.2)\n",
       "                    X7 <= 0.1692678:\n",
       "                    :...X8 <= 4.481645: 1 (88.8/43.5)\n",
       "                        X8 > 4.481645: 2 (11.2)\n",
       "\n",
       "-----  Trial 17:  -----\n",
       "\n",
       "Decision tree:\n",
       "\n",
       "X5 <= 3.5:\n",
       ":...X1 <= 0.62:\n",
       ":   :...X7 <= 0.3213589: 1 (57.6)\n",
       ":   :   X7 > 0.3213589: 2 (61.7/15)\n",
       ":   X1 > 0.62:\n",
       ":   :...X1 <= 0.64: 2 (196/47.2)\n",
       ":       X1 > 0.64:\n",
       ":       :...X8 <= 3.497556: 1 (73.6/17.7)\n",
       ":           X8 > 3.497556: 2 (57.2/19.2)\n",
       "X5 > 3.5:\n",
       ":...X3 > 294:\n",
       "    :...X3 > 318.5: 4 (210.2/25.6)\n",
       "    :   X3 <= 318.5:\n",
       "    :   :...X7 <= 0.3213589: 3 (109.5/12.8)\n",
       "    :       X7 > 0.3213589: 4 (71.5/17.4)\n",
       "    X3 <= 294:\n",
       "    :...X7 > 0.1692678: 3 (17.2)\n",
       "        X7 <= 0.1692678:\n",
       "        :...X8 <= 1.440204: 3 (30.1/6.9)\n",
       "            X8 > 1.440204:\n",
       "            :...X1 <= 0.9: 3 (12.3)\n",
       "                X1 > 0.9: 2 (101.1)\n",
       "\n",
       "-----  Trial 18:  -----\n",
       "\n",
       "Decision tree:\n",
       "\n",
       "X5 <= 3.5:\n",
       ":...X1 > 0.66: 1 (83)\n",
       ":   X1 <= 0.66:\n",
       ":   :...X1 <= 0.64:\n",
       ":       :...X7 > 0.3213589: 2 (61.7)\n",
       ":       :   X7 <= 0.3213589:\n",
       ":       :   :...X1 <= 0.62: 1 (47)\n",
       ":       :       X1 > 0.62:\n",
       ":       :       :...X7 <= 0: 1 (7)\n",
       ":       :           X7 > 0: 2 (122.9/25)\n",
       ":       X1 > 0.64:\n",
       ":       :...X8 > 4.481645: 1 (27.1)\n",
       ":           X8 <= 4.481645:\n",
       ":           :...X7 <= 0.3213589: 1 (14)\n",
       ":               X7 > 0.3213589:\n",
       ":               :...X8 <= 3.497556: 1 (54.3/19.6)\n",
       ":                   X8 > 3.497556: 2 (31)\n",
       "X5 > 3.5:\n",
       ":...X3 > 318.5:\n",
       "    :...X1 <= 0.76:\n",
       "    :   :...X7 <= 0.1692678: 3 (45.2)\n",
       "    :   :   X7 > 0.1692678: 4 (35.9)\n",
       "    :   X1 > 0.76:\n",
       "    :   :...X7 <= 0: 3 (10)\n",
       "    :       X7 > 0: 4 (114.7)\n",
       "    X3 <= 318.5:\n",
       "    :...X7 > 0.1692678:\n",
       "        :...X4 <= 122.5: 4 (73.2/29.1)\n",
       "        :   X4 > 122.5: 3 (83.1)\n",
       "        X7 <= 0.1692678:\n",
       "        :...X1 <= 0.82: 2 (35)\n",
       "            X1 > 0.82:\n",
       "            :...X1 <= 0.9: 3 (42/16.8)\n",
       "                X1 > 0.9:\n",
       "                :...X8 <= 1.440204: 3 (24.6/5.8)\n",
       "                    X8 > 1.440204: 2 (82.4)\n",
       "\n",
       "-----  Trial 19:  -----\n",
       "\n",
       "Decision tree:\n",
       "\n",
       "X5 > 3.5:\n",
       ":...X3 > 318.5:\n",
       ":   :...X1 <= 0.76: 3 (64/28.3)\n",
       ":   :   X1 > 0.76:\n",
       ":   :   :...X7 <= 0: 3 (7.9)\n",
       ":   :       X7 > 0: 4 (90.5)\n",
       ":   X3 <= 318.5:\n",
       ":   :...X7 > 0.1692678: 3 (299.7/34.8)\n",
       ":       X7 <= 0.1692678:\n",
       ":       :...X7 <= 0: 2 (59.4)\n",
       ":           X7 > 0:\n",
       ":           :...X8 <= 1.440204: 3 (21.4/6.2)\n",
       ":               X8 > 1.440204: 2 (103/19.5)\n",
       "X5 <= 3.5:\n",
       ":...X1 > 0.66: 1 (65.5)\n",
       "    X1 <= 0.66:\n",
       "    :...X1 > 0.64: 1 (84.3/24.4)\n",
       "        X1 <= 0.64:\n",
       "        :...X7 > 0.3213589: 2 (48.7)\n",
       "            X7 <= 0.3213589:\n",
       "            :...X1 <= 0.62: 1 (37.1)\n",
       "                X1 > 0.62:\n",
       "                :...X7 > 0.1692678: 2 (18.9)\n",
       "                    X7 <= 0.1692678:\n",
       "                    :...X7 <= 0: 1 (5.5)\n",
       "                        X7 > 0:\n",
       "                        :...X6 <= 4.475726: 2 (54.5/9.2)\n",
       "                            X6 > 4.475726: 1 (31.5/13)\n",
       "\n",
       "\n",
       "Evaluation on training data (998 cases):\n",
       "\n",
       "Trial\t    Decision Tree   \n",
       "-----\t  ----------------  \n",
       "\t  Size      Errors  \n",
       "\n",
       "   0\t    18   12( 1.2%)\n",
       "   1\t    10  102(10.2%)\n",
       "   2\t    13  106(10.6%)\n",
       "   3\t    15  109(10.9%)\n",
       "   4\t    18   83( 8.3%)\n",
       "   5\t    15  100(10.0%)\n",
       "   6\t    17   54( 5.4%)\n",
       "   7\t    18   27( 2.7%)\n",
       "   8\t    21  215(21.5%)\n",
       "   9\t    21   40( 4.0%)\n",
       "  10\t    16   65( 6.5%)\n",
       "  11\t    18   66( 6.6%)\n",
       "  12\t    15  116(11.6%)\n",
       "  13\t    13  299(30.0%)\n",
       "  14\t    15   70( 7.0%)\n",
       "  15\t    21   48( 4.8%)\n",
       "  16\t    18   34( 3.4%)\n",
       "  17\t    12  153(15.3%)\n",
       "  18\t    19   70( 7.0%)\n",
       "  19\t    15  281(28.2%)\n",
       "boost\t          7( 0.7%)   <<\n",
       "\n",
       "\n",
       "\t   (a)   (b)   (c)   (d)    <-classified as\n",
       "\t  ----  ----  ----  ----\n",
       "\t   242     6                (a): class 1\n",
       "\t     1   101                (b): class 2\n",
       "\t               168          (c): class 3\n",
       "\t                     480    (d): class 4\n",
       "\n",
       "\n",
       "\tAttribute usage:\n",
       "\n",
       "\t100.00%\tX5\n",
       "\t100.00%\tX7\n",
       "\t100.00%\tX8\n",
       "\t 98.90%\tX1\n",
       "\t 69.34%\tX3\n",
       "\t 69.34%\tX4\n",
       "\t 30.66%\tX6\n",
       "\n",
       "\n",
       "Time: 0.0 secs\n"
      ]
     },
     "metadata": {},
     "output_type": "display_data"
    }
   ],
   "source": [
    "summary( data_balanced.tree_reduced )"
   ]
  },
  {
   "cell_type": "markdown",
   "metadata": {},
   "source": [
    "El análisis del árbol de decisión generado por el modelo C5.0 con 20 ensayos muestra un rendimiento excelente, con un error general del 0.7% en los datos de entrenamiento. El árbol utiliza principalmente los atributos X5, X7, X8 y X1, que fueron empleados en el 100% de las decisiones, seguidos por X3, X4 y X6. La clasificación es altamente precisa, especialmente para las clases 1 y 4, con mínimos errores de clasificación. La estructura del árbol y el uso eficiente de los atributos indican un modelo robusto y bien ajustado para los datos, capaz de manejar complejidades y variaciones en el conjunto de datos de manera efectiva."
   ]
  },
  {
   "cell_type": "code",
   "execution_count": 70,
   "metadata": {
    "vscode": {
     "languageId": "r"
    }
   },
   "outputs": [],
   "source": [
    "#Predicción de clases con instancia de pruebas\n",
    "tree.pred.class <- predict( data_balanced.tree_reduced, data_balanced_test.set[, -ncol(data_balanced_test.set) ], type = \"class\" )\n",
    "\n",
    "#Probabilidad por clases\n",
    "tree.pred.prob <- predict( data_balanced.tree_reduced, data_balanced_test.set[, -ncol(data_balanced_test.set) ], type = \"prob\" )"
   ]
  },
  {
   "cell_type": "code",
   "execution_count": 71,
   "metadata": {
    "vscode": {
     "languageId": "r"
    }
   },
   "outputs": [],
   "source": [
    "dev.new( width=30, height=10 )\n"
   ]
  },
  {
   "cell_type": "code",
   "execution_count": 72,
   "metadata": {
    "vscode": {
     "languageId": "r"
    }
   },
   "outputs": [
    {
     "data": {
      "image/png": "[encoded data removed]",
      "text/plain": [
       "plot without title"
      ]
     },
     "metadata": {
      "image/png": {
       "height": 480,
       "width": 1800
      }
     },
     "output_type": "display_data"
    }
   ],
   "source": [
    "options(repr.plot.width=30, repr.plot.height=8)\n",
    "plot( data_balanced.tree_reduced )"
   ]
  },
  {
   "cell_type": "code",
   "execution_count": 73,
   "metadata": {
    "vscode": {
     "languageId": "r"
    }
   },
   "outputs": [
    {
     "name": "stdout",
     "output_type": "stream",
     "text": [
      "Confusion Matrix and Statistics\n",
      "\n",
      "   tree.pred.class\n",
      "      1   2   3   4\n",
      "  1  57   4   0   0\n",
      "  2   2  23   0   0\n",
      "  3   0   0  42   0\n",
      "  4   0   0   0 120\n",
      "\n",
      "Overall Statistics\n",
      "                                          \n",
      "               Accuracy : 0.9758          \n",
      "                 95% CI : (0.9481, 0.9911)\n",
      "    No Information Rate : 0.4839          \n",
      "    P-Value [Acc > NIR] : < 2.2e-16       \n",
      "                                          \n",
      "                  Kappa : 0.9638          \n",
      "                                          \n",
      " Mcnemar's Test P-Value : NA              \n",
      "\n",
      "Statistics by Class:\n",
      "\n",
      "                     Class: 1 Class: 2 Class: 3 Class: 4\n",
      "Sensitivity            0.9661  0.85185   1.0000   1.0000\n",
      "Specificity            0.9788  0.99095   1.0000   1.0000\n",
      "Pos Pred Value         0.9344  0.92000   1.0000   1.0000\n",
      "Neg Pred Value         0.9893  0.98206   1.0000   1.0000\n",
      "Prevalence             0.2379  0.10887   0.1694   0.4839\n",
      "Detection Rate         0.2298  0.09274   0.1694   0.4839\n",
      "Detection Prevalence   0.2460  0.10081   0.1694   0.4839\n",
      "Balanced Accuracy      0.9725  0.92140   1.0000   1.0000\n"
     ]
    }
   ],
   "source": [
    "conf.matrix.tree_reduced <- confusionMatrix(table( data_balanced_test.set$Y1_group, tree.pred.class ))\n",
    "print( conf.matrix.tree_reduced )"
   ]
  },
  {
   "cell_type": "markdown",
   "metadata": {},
   "source": [
    "El modelo muestra un rendimiento muy alto con una precisión global del 97.58% y un valor de Kappa de 0.9638, indicando una excelente concordancia entre las predicciones del modelo y las clases reales. Las sensibilidades y especificidades son muy altas para todas las clases, especialmente para las Clases 3 y 4, que tienen valores perfectos del 100%. Las Clases 1 y 2 también muestran buenos resultados, aunque la Clase 2 tiene una sensibilidad ligeramente menor (85.19%) comparada con las demás. En general, el modelo proporciona una clasificación precisa y confiable, con muy pocos errores en la predicción de las clases."
   ]
  }
 ],
 "metadata": {
  "kernelspec": {
   "display_name": "R",
   "language": "R",
   "name": "ir"
  },
  "language_info": {
   "codemirror_mode": "r",
   "file_extension": ".r",
   "mimetype": "text/x-r-source",
   "name": "R",
   "pygments_lexer": "r",
   "version": "4.4.0"
  }
 },
 "nbformat": 4,
 "nbformat_minor": 2
}
