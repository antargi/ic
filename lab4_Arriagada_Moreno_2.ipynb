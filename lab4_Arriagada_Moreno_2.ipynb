{
 "cells": [
  {
   "cell_type": "code",
   "execution_count": 5,
   "metadata": {
    "vscode": {
     "languageId": "r"
    }
   },
   "outputs": [],
   "source": [
    "# install.packages(\"C50\")\n",
    "# install.packages(\"caret\")\n",
    "# install.packages(\"ggpubr\")\n",
    "# install.packages(\"factoextra\")\n",
    "# install.packages(\"devtools\")\n",
    "# install.packages(\"outliers\")\n",
    "\n",
    "# install.packages(\"smotefamily\")"
   ]
  },
  {
   "cell_type": "code",
   "execution_count": 6,
   "metadata": {
    "vscode": {
     "languageId": "r"
    }
   },
   "outputs": [
    {
     "name": "stderr",
     "output_type": "stream",
     "text": [
      "Cargando paquete requerido: ggplot2\n",
      "\n",
      "Cargando paquete requerido: lattice\n",
      "\n",
      "Cargando paquete requerido: usethis\n",
      "\n",
      "Welcome! Want to learn more? See two factoextra-related books at https://goo.gl/ve3WBa\n",
      "\n"
     ]
    }
   ],
   "source": [
    "library ( C50         )\n",
    "library ( caret       )\n",
    "library ( ggpubr      )\n",
    "library ( devtools    )\n",
    "library ( outliers    )\n",
    "library ( smotefamily )\n",
    "\n",
    "\n",
    "library (  factoextra    )\n",
    "# install_github(\"vqv/ggbiplot\")\n",
    "library (  ggbiplot      )\n",
    "library(readr)\n"
   ]
  },
  {
   "cell_type": "code",
   "execution_count": 7,
   "metadata": {
    "vscode": {
     "languageId": "r"
    }
   },
   "outputs": [
    {
     "name": "stderr",
     "output_type": "stream",
     "text": [
      "\u001b[1mRows: \u001b[22m\u001b[34m768\u001b[39m \u001b[1mColumns: \u001b[22m\u001b[34m6\u001b[39m\n",
      "\u001b[36m--\u001b[39m \u001b[1mColumn specification\u001b[22m \u001b[36m--------------------------------------------------------\u001b[39m\n",
      "\u001b[1mDelimiter:\u001b[22m \",\"\n",
      "\u001b[31mchr\u001b[39m (6): X1, X2, X3, X4, X5, Y1\n",
      "\n",
      "\u001b[36mi\u001b[39m Use `spec()` to retrieve the full column specification for this data.\n",
      "\u001b[36mi\u001b[39m Specify the column types or set `show_col_types = FALSE` to quiet this message.\n"
     ]
    }
   ],
   "source": [
    "df <- read_delim(\"./dsY1.csv\", delim = ',')"
   ]
  },
  {
   "cell_type": "code",
   "execution_count": 8,
   "metadata": {
    "vscode": {
     "languageId": "r"
    }
   },
   "outputs": [
    {
     "data": {
      "text/html": [
       "<table class=\"dataframe\">\n",
       "<caption>A tibble: 3 x 6</caption>\n",
       "<thead>\n",
       "\t<tr><th scope=col>X1</th><th scope=col>X2</th><th scope=col>X3</th><th scope=col>X4</th><th scope=col>X5</th><th scope=col>Y1</th></tr>\n",
       "\t<tr><th scope=col>&lt;chr&gt;</th><th scope=col>&lt;chr&gt;</th><th scope=col>&lt;chr&gt;</th><th scope=col>&lt;chr&gt;</th><th scope=col>&lt;chr&gt;</th><th scope=col>&lt;chr&gt;</th></tr>\n",
       "</thead>\n",
       "<tbody>\n",
       "\t<tr><td>Muy alto</td><td>Bajo</td><td>Muy alto</td><td>Muy bajo</td><td>Moderadamente bajo</td><td>HL2</td></tr>\n",
       "\t<tr><td>Muy alto</td><td>Bajo</td><td>Muy alto</td><td>Bajo    </td><td>Moderadamente bajo</td><td>HL2</td></tr>\n",
       "\t<tr><td>Muy alto</td><td>Bajo</td><td>Muy alto</td><td>Medio   </td><td>Moderadamente bajo</td><td>HL2</td></tr>\n",
       "</tbody>\n",
       "</table>\n"
      ],
      "text/latex": [
       "A tibble: 3 x 6\n",
       "\\begin{tabular}{llllll}\n",
       " X1 & X2 & X3 & X4 & X5 & Y1\\\\\n",
       " <chr> & <chr> & <chr> & <chr> & <chr> & <chr>\\\\\n",
       "\\hline\n",
       "\t Muy alto & Bajo & Muy alto & Muy bajo & Moderadamente bajo & HL2\\\\\n",
       "\t Muy alto & Bajo & Muy alto & Bajo     & Moderadamente bajo & HL2\\\\\n",
       "\t Muy alto & Bajo & Muy alto & Medio    & Moderadamente bajo & HL2\\\\\n",
       "\\end{tabular}\n"
      ],
      "text/markdown": [
       "\n",
       "A tibble: 3 x 6\n",
       "\n",
       "| X1 &lt;chr&gt; | X2 &lt;chr&gt; | X3 &lt;chr&gt; | X4 &lt;chr&gt; | X5 &lt;chr&gt; | Y1 &lt;chr&gt; |\n",
       "|---|---|---|---|---|---|\n",
       "| Muy alto | Bajo | Muy alto | Muy bajo | Moderadamente bajo | HL2 |\n",
       "| Muy alto | Bajo | Muy alto | Bajo     | Moderadamente bajo | HL2 |\n",
       "| Muy alto | Bajo | Muy alto | Medio    | Moderadamente bajo | HL2 |\n",
       "\n"
      ],
      "text/plain": [
       "  X1       X2   X3       X4       X5                 Y1 \n",
       "1 Muy alto Bajo Muy alto Muy bajo Moderadamente bajo HL2\n",
       "2 Muy alto Bajo Muy alto Bajo     Moderadamente bajo HL2\n",
       "3 Muy alto Bajo Muy alto Medio    Moderadamente bajo HL2"
      ]
     },
     "metadata": {},
     "output_type": "display_data"
    }
   ],
   "source": [
    "head( df, 3 )"
   ]
  },
  {
   "cell_type": "code",
   "execution_count": 9,
   "metadata": {
    "vscode": {
     "languageId": "r"
    }
   },
   "outputs": [],
   "source": [
    "# Convertir las columnas a factores\n",
    "sm_reduced <- as.data.frame(lapply(df, function(x) {\n",
    "  if (is.character(x)) as.factor(x) else x\n",
    "}))"
   ]
  },
  {
   "cell_type": "code",
   "execution_count": 10,
   "metadata": {
    "vscode": {
     "languageId": "r"
    }
   },
   "outputs": [
    {
     "data": {
      "text/html": [
       "<table class=\"dataframe\">\n",
       "<caption>A data.frame: 3 x 6</caption>\n",
       "<thead>\n",
       "\t<tr><th></th><th scope=col>X1</th><th scope=col>X2</th><th scope=col>X3</th><th scope=col>X4</th><th scope=col>X5</th><th scope=col>Y1</th></tr>\n",
       "\t<tr><th></th><th scope=col>&lt;fct&gt;</th><th scope=col>&lt;fct&gt;</th><th scope=col>&lt;fct&gt;</th><th scope=col>&lt;fct&gt;</th><th scope=col>&lt;fct&gt;</th><th scope=col>&lt;fct&gt;</th></tr>\n",
       "</thead>\n",
       "<tbody>\n",
       "\t<tr><th scope=row>1</th><td>Muy alto</td><td>Bajo</td><td>Muy alto</td><td>Muy bajo</td><td>Moderadamente bajo</td><td>HL2</td></tr>\n",
       "\t<tr><th scope=row>2</th><td>Muy alto</td><td>Bajo</td><td>Muy alto</td><td>Bajo    </td><td>Moderadamente bajo</td><td>HL2</td></tr>\n",
       "\t<tr><th scope=row>3</th><td>Muy alto</td><td>Bajo</td><td>Muy alto</td><td>Medio   </td><td>Moderadamente bajo</td><td>HL2</td></tr>\n",
       "</tbody>\n",
       "</table>\n"
      ],
      "text/latex": [
       "A data.frame: 3 x 6\n",
       "\\begin{tabular}{r|llllll}\n",
       "  & X1 & X2 & X3 & X4 & X5 & Y1\\\\\n",
       "  & <fct> & <fct> & <fct> & <fct> & <fct> & <fct>\\\\\n",
       "\\hline\n",
       "\t1 & Muy alto & Bajo & Muy alto & Muy bajo & Moderadamente bajo & HL2\\\\\n",
       "\t2 & Muy alto & Bajo & Muy alto & Bajo     & Moderadamente bajo & HL2\\\\\n",
       "\t3 & Muy alto & Bajo & Muy alto & Medio    & Moderadamente bajo & HL2\\\\\n",
       "\\end{tabular}\n"
      ],
      "text/markdown": [
       "\n",
       "A data.frame: 3 x 6\n",
       "\n",
       "| <!--/--> | X1 &lt;fct&gt; | X2 &lt;fct&gt; | X3 &lt;fct&gt; | X4 &lt;fct&gt; | X5 &lt;fct&gt; | Y1 &lt;fct&gt; |\n",
       "|---|---|---|---|---|---|---|\n",
       "| 1 | Muy alto | Bajo | Muy alto | Muy bajo | Moderadamente bajo | HL2 |\n",
       "| 2 | Muy alto | Bajo | Muy alto | Bajo     | Moderadamente bajo | HL2 |\n",
       "| 3 | Muy alto | Bajo | Muy alto | Medio    | Moderadamente bajo | HL2 |\n",
       "\n"
      ],
      "text/plain": [
       "  X1       X2   X3       X4       X5                 Y1 \n",
       "1 Muy alto Bajo Muy alto Muy bajo Moderadamente bajo HL2\n",
       "2 Muy alto Bajo Muy alto Bajo     Moderadamente bajo HL2\n",
       "3 Muy alto Bajo Muy alto Medio    Moderadamente bajo HL2"
      ]
     },
     "metadata": {},
     "output_type": "display_data"
    }
   ],
   "source": [
    "head( sm_reduced, 3 )"
   ]
  },
  {
   "cell_type": "code",
   "execution_count": 11,
   "metadata": {
    "vscode": {
     "languageId": "r"
    }
   },
   "outputs": [
    {
     "name": "stdout",
     "output_type": "stream",
     "text": [
      "=== Resumen de datos para HL1 ===\n",
      "        X1            X2           X3            X4                     X5    \n",
      " Muy alto: 0   Alto    :4   Alto    : 0   Alto    :5   Alto              : 0  \n",
      " Muy bajo:20   Bajo    :4   Bajo    : 0   Bajo    :5   Bajo              : 0  \n",
      "               Medio   :4   Medio   : 0   Medio   :5   Moderadamente alto: 0  \n",
      "               Muy alto:0   Muy alto:20   Muy bajo:5   Moderadamente bajo:20  \n",
      "               Muy bajo:8   Muy bajo: 0                Muy alto          : 0  \n",
      "                                                       Muy bajo          : 0  \n",
      "   Y1    \n",
      " HL1:20  \n",
      " HL2: 0  \n",
      " HL3: 0  \n",
      " HL4: 0  \n",
      " HL5: 0  \n",
      "         \n",
      "\n",
      "=== Resumen de datos para HL2 ===\n",
      "        X1             X2             X3             X4    \n",
      " Muy alto: 13   Alto    : 60   Alto    : 48   Alto    :95  \n",
      " Muy bajo:364   Bajo    : 69   Bajo    :144   Bajo    :94  \n",
      "                Medio   :128   Medio   : 96   Medio   :94  \n",
      "                Muy alto:  0   Muy alto: 17   Muy bajo:94  \n",
      "                Muy bajo:120   Muy bajo: 72                \n",
      "                                                           \n",
      "                  X5       Y1     \n",
      " Alto              :48   HL1:  0  \n",
      " Bajo              :48   HL2:377  \n",
      " Moderadamente alto:96   HL3:  0  \n",
      " Moderadamente bajo:89   HL4:  0  \n",
      " Muy alto          :48   HL5:  0  \n",
      " Muy bajo          :48            \n",
      "\n",
      "=== Resumen de datos para HL3 ===\n",
      "        X1             X2             X3            X4    \n",
      " Muy alto:169   Alto    :  0   Alto    :32   Alto    :42  \n",
      " Muy bajo:  0   Bajo    :102   Bajo    :52   Bajo    :42  \n",
      "                Medio   : 63   Medio   :55   Medio   :43  \n",
      "                Muy alto:  4   Muy alto:11   Muy bajo:42  \n",
      "                Muy bajo:  0   Muy bajo:19                \n",
      "                                                          \n",
      "                  X5       Y1     \n",
      " Alto              :28   HL1:  0  \n",
      " Bajo              :15   HL2:  0  \n",
      " Moderadamente alto:43   HL3:169  \n",
      " Moderadamente bajo:43   HL4:  0  \n",
      " Muy alto          :32   HL5:  0  \n",
      " Muy bajo          : 8            \n",
      "\n",
      "=== Resumen de datos para HL4 ===\n",
      "        X1             X2            X3            X4    \n",
      " Muy alto:167   Alto    : 0   Alto    :16   Alto    :41  \n",
      " Muy bajo:  0   Bajo    :81   Bajo    :71   Bajo    :42  \n",
      "                Medio   :37   Medio   :39   Medio   :42  \n",
      "                Muy alto:49   Muy alto: 0   Muy bajo:42  \n",
      "                Muy bajo: 0   Muy bajo:41                \n",
      "                                                         \n",
      "                  X5       Y1     \n",
      " Alto              :20   HL1:  0  \n",
      " Bajo              :28   HL2:  0  \n",
      " Moderadamente alto:47   HL3:  0  \n",
      " Moderadamente bajo:31   HL4:167  \n",
      " Muy alto          :16   HL5:  0  \n",
      " Muy bajo          :25            \n",
      "\n",
      "=== Resumen de datos para HL5 ===\n",
      "        X1            X2            X3            X4                     X5    \n",
      " Muy alto:35   Alto    : 0   Alto    : 0   Alto    :9   Alto              : 0  \n",
      " Muy bajo: 0   Bajo    : 0   Bajo    :21   Bajo    :9   Bajo              : 5  \n",
      "               Medio   :24   Medio   : 2   Medio   :8   Moderadamente alto: 6  \n",
      "               Muy alto:11   Muy alto: 0   Muy bajo:9   Moderadamente bajo: 9  \n",
      "               Muy bajo: 0   Muy bajo:12                Muy alto          : 0  \n",
      "                                                        Muy bajo          :15  \n",
      "   Y1    \n",
      " HL1: 0  \n",
      " HL2: 0  \n",
      " HL3: 0  \n",
      " HL4: 0  \n",
      " HL5:35  \n",
      "         \n",
      "\n"
     ]
    }
   ],
   "source": [
    "levels_y1 <- levels(sm_reduced$Y1)\n",
    "\n",
    "# Resumen de datos\n",
    "for (level in levels_y1) {\n",
    "  cat(paste0(\"=== Resumen de datos para \", level, \" ===\\n\"))\n",
    "  print(summary(sm_reduced[sm_reduced$Y1 == level,]))\n",
    "  cat(\"\\n\")\n",
    "}\n"
   ]
  },
  {
   "cell_type": "markdown",
   "metadata": {},
   "source": [
    "# 3. Generación de modelo"
   ]
  },
  {
   "cell_type": "code",
   "execution_count": 12,
   "metadata": {
    "vscode": {
     "languageId": "r"
    }
   },
   "outputs": [],
   "source": [
    "set.seed( 1237 )\n",
    "\n",
    "sm_indexes   <- createDataPartition( sm_reduced$Y1, p=0.80, list = F )\n",
    "sm_train.set_reduced <- sm_reduced[sm_indexes,]\n",
    "sm_test.set_reduced  <- sm_reduced[-sm_indexes,]"
   ]
  },
  {
   "cell_type": "code",
   "execution_count": 13,
   "metadata": {
    "vscode": {
     "languageId": "r"
    }
   },
   "outputs": [
    {
     "data": {
      "text/plain": [
       "\n",
       "       HL1        HL2        HL3        HL4        HL5 \n",
       "0.02597403 0.49025974 0.22077922 0.21753247 0.04545455 "
      ]
     },
     "metadata": {},
     "output_type": "display_data"
    }
   ],
   "source": [
    "prop.table(table(sm_train.set_reduced$Y1))"
   ]
  },
  {
   "cell_type": "code",
   "execution_count": 14,
   "metadata": {
    "vscode": {
     "languageId": "r"
    }
   },
   "outputs": [
    {
     "data": {
      "text/plain": [
       "\n",
       "       HL1        HL2        HL3        HL4        HL5 \n",
       "0.02631579 0.49342105 0.21710526 0.21710526 0.04605263 "
      ]
     },
     "metadata": {},
     "output_type": "display_data"
    }
   ],
   "source": [
    "prop.table(table(sm_test.set_reduced$Y1))"
   ]
  },
  {
   "cell_type": "code",
   "execution_count": 15,
   "metadata": {
    "vscode": {
     "languageId": "r"
    }
   },
   "outputs": [
    {
     "data": {
      "text/html": [
       "<style>\n",
       ".list-inline {list-style: none; margin:0; padding: 0}\n",
       ".list-inline>li {display: inline-block}\n",
       ".list-inline>li:not(:last-child)::after {content: \"\\00b7\"; padding: 0 .5ex}\n",
       "</style>\n",
       "<ol class=list-inline><li>616</li><li>6</li></ol>\n"
      ],
      "text/latex": [
       "\\begin{enumerate*}\n",
       "\\item 616\n",
       "\\item 6\n",
       "\\end{enumerate*}\n"
      ],
      "text/markdown": [
       "1. 616\n",
       "2. 6\n",
       "\n",
       "\n"
      ],
      "text/plain": [
       "[1] 616   6"
      ]
     },
     "metadata": {},
     "output_type": "display_data"
    },
    {
     "data": {
      "text/html": [
       "<table class=\"dataframe\">\n",
       "<caption>A data.frame: 3 x 6</caption>\n",
       "<thead>\n",
       "\t<tr><th></th><th scope=col>X1</th><th scope=col>X2</th><th scope=col>X3</th><th scope=col>X4</th><th scope=col>X5</th><th scope=col>Y1</th></tr>\n",
       "\t<tr><th></th><th scope=col>&lt;fct&gt;</th><th scope=col>&lt;fct&gt;</th><th scope=col>&lt;fct&gt;</th><th scope=col>&lt;fct&gt;</th><th scope=col>&lt;fct&gt;</th><th scope=col>&lt;fct&gt;</th></tr>\n",
       "</thead>\n",
       "<tbody>\n",
       "\t<tr><th scope=row>1</th><td>Muy alto</td><td>Bajo</td><td>Muy alto</td><td>Muy bajo</td><td>Moderadamente bajo</td><td>HL2</td></tr>\n",
       "\t<tr><th scope=row>3</th><td>Muy alto</td><td>Bajo</td><td>Muy alto</td><td>Medio   </td><td>Moderadamente bajo</td><td>HL2</td></tr>\n",
       "\t<tr><th scope=row>5</th><td>Muy alto</td><td>Bajo</td><td>Muy alto</td><td>Muy bajo</td><td>Moderadamente bajo</td><td>HL3</td></tr>\n",
       "</tbody>\n",
       "</table>\n"
      ],
      "text/latex": [
       "A data.frame: 3 x 6\n",
       "\\begin{tabular}{r|llllll}\n",
       "  & X1 & X2 & X3 & X4 & X5 & Y1\\\\\n",
       "  & <fct> & <fct> & <fct> & <fct> & <fct> & <fct>\\\\\n",
       "\\hline\n",
       "\t1 & Muy alto & Bajo & Muy alto & Muy bajo & Moderadamente bajo & HL2\\\\\n",
       "\t3 & Muy alto & Bajo & Muy alto & Medio    & Moderadamente bajo & HL2\\\\\n",
       "\t5 & Muy alto & Bajo & Muy alto & Muy bajo & Moderadamente bajo & HL3\\\\\n",
       "\\end{tabular}\n"
      ],
      "text/markdown": [
       "\n",
       "A data.frame: 3 x 6\n",
       "\n",
       "| <!--/--> | X1 &lt;fct&gt; | X2 &lt;fct&gt; | X3 &lt;fct&gt; | X4 &lt;fct&gt; | X5 &lt;fct&gt; | Y1 &lt;fct&gt; |\n",
       "|---|---|---|---|---|---|---|\n",
       "| 1 | Muy alto | Bajo | Muy alto | Muy bajo | Moderadamente bajo | HL2 |\n",
       "| 3 | Muy alto | Bajo | Muy alto | Medio    | Moderadamente bajo | HL2 |\n",
       "| 5 | Muy alto | Bajo | Muy alto | Muy bajo | Moderadamente bajo | HL3 |\n",
       "\n"
      ],
      "text/plain": [
       "  X1       X2   X3       X4       X5                 Y1 \n",
       "1 Muy alto Bajo Muy alto Muy bajo Moderadamente bajo HL2\n",
       "3 Muy alto Bajo Muy alto Medio    Moderadamente bajo HL2\n",
       "5 Muy alto Bajo Muy alto Muy bajo Moderadamente bajo HL3"
      ]
     },
     "metadata": {},
     "output_type": "display_data"
    }
   ],
   "source": [
    "dim( sm_train.set_reduced )\n",
    "head( sm_train.set_reduced, 3 )"
   ]
  },
  {
   "cell_type": "code",
   "execution_count": 16,
   "metadata": {
    "vscode": {
     "languageId": "r"
    }
   },
   "outputs": [
    {
     "data": {
      "text/html": [
       "<style>\n",
       ".list-inline {list-style: none; margin:0; padding: 0}\n",
       ".list-inline>li {display: inline-block}\n",
       ".list-inline>li:not(:last-child)::after {content: \"\\00b7\"; padding: 0 .5ex}\n",
       "</style>\n",
       "<ol class=list-inline><li>152</li><li>6</li></ol>\n"
      ],
      "text/latex": [
       "\\begin{enumerate*}\n",
       "\\item 152\n",
       "\\item 6\n",
       "\\end{enumerate*}\n"
      ],
      "text/markdown": [
       "1. 152\n",
       "2. 6\n",
       "\n",
       "\n"
      ],
      "text/plain": [
       "[1] 152   6"
      ]
     },
     "metadata": {},
     "output_type": "display_data"
    },
    {
     "data": {
      "text/html": [
       "<table class=\"dataframe\">\n",
       "<caption>A data.frame: 3 x 6</caption>\n",
       "<thead>\n",
       "\t<tr><th></th><th scope=col>X1</th><th scope=col>X2</th><th scope=col>X3</th><th scope=col>X4</th><th scope=col>X5</th><th scope=col>Y1</th></tr>\n",
       "\t<tr><th></th><th scope=col>&lt;fct&gt;</th><th scope=col>&lt;fct&gt;</th><th scope=col>&lt;fct&gt;</th><th scope=col>&lt;fct&gt;</th><th scope=col>&lt;fct&gt;</th><th scope=col>&lt;fct&gt;</th></tr>\n",
       "</thead>\n",
       "<tbody>\n",
       "\t<tr><th scope=row>2</th><td>Muy alto</td><td>Bajo</td><td>Muy alto</td><td>Bajo    </td><td>Moderadamente bajo</td><td>HL2</td></tr>\n",
       "\t<tr><th scope=row>4</th><td>Muy alto</td><td>Bajo</td><td>Muy alto</td><td>Alto    </td><td>Moderadamente bajo</td><td>HL2</td></tr>\n",
       "\t<tr><th scope=row>9</th><td>Muy alto</td><td>Bajo</td><td>Muy alto</td><td>Muy bajo</td><td>Moderadamente bajo</td><td>HL2</td></tr>\n",
       "</tbody>\n",
       "</table>\n"
      ],
      "text/latex": [
       "A data.frame: 3 x 6\n",
       "\\begin{tabular}{r|llllll}\n",
       "  & X1 & X2 & X3 & X4 & X5 & Y1\\\\\n",
       "  & <fct> & <fct> & <fct> & <fct> & <fct> & <fct>\\\\\n",
       "\\hline\n",
       "\t2 & Muy alto & Bajo & Muy alto & Bajo     & Moderadamente bajo & HL2\\\\\n",
       "\t4 & Muy alto & Bajo & Muy alto & Alto     & Moderadamente bajo & HL2\\\\\n",
       "\t9 & Muy alto & Bajo & Muy alto & Muy bajo & Moderadamente bajo & HL2\\\\\n",
       "\\end{tabular}\n"
      ],
      "text/markdown": [
       "\n",
       "A data.frame: 3 x 6\n",
       "\n",
       "| <!--/--> | X1 &lt;fct&gt; | X2 &lt;fct&gt; | X3 &lt;fct&gt; | X4 &lt;fct&gt; | X5 &lt;fct&gt; | Y1 &lt;fct&gt; |\n",
       "|---|---|---|---|---|---|---|\n",
       "| 2 | Muy alto | Bajo | Muy alto | Bajo     | Moderadamente bajo | HL2 |\n",
       "| 4 | Muy alto | Bajo | Muy alto | Alto     | Moderadamente bajo | HL2 |\n",
       "| 9 | Muy alto | Bajo | Muy alto | Muy bajo | Moderadamente bajo | HL2 |\n",
       "\n"
      ],
      "text/plain": [
       "  X1       X2   X3       X4       X5                 Y1 \n",
       "2 Muy alto Bajo Muy alto Bajo     Moderadamente bajo HL2\n",
       "4 Muy alto Bajo Muy alto Alto     Moderadamente bajo HL2\n",
       "9 Muy alto Bajo Muy alto Muy bajo Moderadamente bajo HL2"
      ]
     },
     "metadata": {},
     "output_type": "display_data"
    }
   ],
   "source": [
    "dim( sm_test.set_reduced )\n",
    "head( sm_test.set_reduced, 3 )"
   ]
  },
  {
   "cell_type": "markdown",
   "metadata": {},
   "source": [
    "## Modelo"
   ]
  },
  {
   "cell_type": "code",
   "execution_count": 17,
   "metadata": {
    "vscode": {
     "languageId": "r"
    }
   },
   "outputs": [],
   "source": [
    "#Modelo de clasificación con instancia de entrenamiento\n",
    "sm.tree_reduced <- C5.0( Y1 ~ ., sm_train.set_reduced ) \n",
    "\n",
    "#Modelo basado en reglas\n",
    "tree.rules_reduced <- C5.0( x = sm_train.set_reduced[, -ncol(sm_train.set_reduced) ], y = sm_train.set_reduced$Y1, rules = T )\n"
   ]
  },
  {
   "cell_type": "code",
   "execution_count": 18,
   "metadata": {
    "vscode": {
     "languageId": "r"
    }
   },
   "outputs": [
    {
     "data": {
      "text/plain": [
       "\n",
       "Call:\n",
       "C5.0.formula(formula = Y1 ~ ., data = sm_train.set_reduced)\n",
       "\n",
       "\n",
       "C5.0 [Release 2.07 GPL Edition]  \tThu Jun 20 00:39:05 2024\n",
       "-------------------------------\n",
       "\n",
       "Class specified by attribute `outcome'\n",
       "\n",
       "Read 616 cases (6 attributes) from undefined.data\n",
       "\n",
       "Decision tree:\n",
       "\n",
       "X1 = Muy bajo:\n",
       ":...X3 in {Alto,Bajo,Medio,Muy bajo}: HL2 (291)\n",
       ":   X3 = Muy alto: HL1 (19/3)\n",
       "X1 = Muy alto:\n",
       ":...X2 in {Alto,Muy bajo}: HL4 (0)\n",
       "    X2 = Muy alto:\n",
       "    :...X5 in {Alto,Bajo,Moderadamente alto,Muy alto}: HL4 (35)\n",
       "    :   X5 in {Moderadamente bajo,Muy bajo}:\n",
       "    :   :...X3 in {Alto,Medio}: HL4 (8)\n",
       "    :       X3 in {Bajo,Muy bajo}: HL5 (10/1)\n",
       "    :       X3 = Muy alto: HL3 (3)\n",
       "    X2 in {Bajo,Medio}:\n",
       "    :...X2 = Medio: HL3 (101/49)\n",
       "        X2 = Bajo:\n",
       "        :...X3 in {Alto,Medio}: HL3 (60/8)\n",
       "            X3 = Muy alto: HL2 (9/3)\n",
       "            X3 in {Bajo,Muy bajo}:\n",
       "            :...X5 in {Alto,Muy alto}: HL3 (18/2)\n",
       "                X5 in {Bajo,Moderadamente alto,Moderadamente bajo,\n",
       "                       Muy bajo}: HL4 (62/10)\n",
       "\n",
       "\n",
       "Evaluation on training data (616 cases):\n",
       "\n",
       "\t    Decision Tree   \n",
       "\t  ----------------  \n",
       "\t  Size      Errors  \n",
       "\n",
       "\t    11   76(12.3%)   <<\n",
       "\n",
       "\n",
       "\t   (a)   (b)   (c)   (d)   (e)    <-classified as\n",
       "\t  ----  ----  ----  ----  ----\n",
       "\t    16                            (a): class HL1\n",
       "\t     3   297     2                (b): class HL2\n",
       "\t           3   123    10          (c): class HL3\n",
       "\t                38    95     1    (d): class HL4\n",
       "\t                19           9    (e): class HL5\n",
       "\n",
       "\n",
       "\tAttribute usage:\n",
       "\n",
       "\t100.00%\tX1\n",
       "\t 77.92%\tX3\n",
       "\t 49.68%\tX2\n",
       "\t 22.08%\tX5\n",
       "\n",
       "\n",
       "Time: 0.0 secs\n"
      ]
     },
     "metadata": {},
     "output_type": "display_data"
    }
   ],
   "source": [
    "summary(sm.tree_reduced )"
   ]
  },
  {
   "cell_type": "code",
   "execution_count": 19,
   "metadata": {
    "vscode": {
     "languageId": "r"
    }
   },
   "outputs": [],
   "source": [
    "# Predicción de clases con instancia de pruebas\n",
    "tree.pred.class_reduced <- predict(sm.tree_reduced, sm_test.set_reduced[, -ncol(sm_test.set_reduced)], type = \"class\")\n",
    "\n",
    "# Probabilidad por clases\n",
    "tree.pred.prob_reduced <- predict(sm.tree_reduced, sm_test.set_reduced[, -ncol(sm_test.set_reduced)], type = \"prob\")\n"
   ]
  },
  {
   "cell_type": "code",
   "execution_count": 20,
   "metadata": {
    "vscode": {
     "languageId": "r"
    }
   },
   "outputs": [
    {
     "data": {
      "text/html": [
       "<table class=\"dataframe\">\n",
       "<caption>A matrix: 3 x 5 of type dbl</caption>\n",
       "<thead>\n",
       "\t<tr><th></th><th scope=col>HL1</th><th scope=col>HL2</th><th scope=col>HL3</th><th scope=col>HL4</th><th scope=col>HL5</th></tr>\n",
       "</thead>\n",
       "<tbody>\n",
       "\t<tr><th scope=row>2</th><td>0.002597403</td><td>0.649026</td><td>0.3220779</td><td>0.02175325</td><td>0.004545455</td></tr>\n",
       "\t<tr><th scope=row>4</th><td>0.002597403</td><td>0.649026</td><td>0.3220779</td><td>0.02175325</td><td>0.004545455</td></tr>\n",
       "\t<tr><th scope=row>9</th><td>0.002597403</td><td>0.649026</td><td>0.3220779</td><td>0.02175325</td><td>0.004545455</td></tr>\n",
       "</tbody>\n",
       "</table>\n"
      ],
      "text/latex": [
       "A matrix: 3 x 5 of type dbl\n",
       "\\begin{tabular}{r|lllll}\n",
       "  & HL1 & HL2 & HL3 & HL4 & HL5\\\\\n",
       "\\hline\n",
       "\t2 & 0.002597403 & 0.649026 & 0.3220779 & 0.02175325 & 0.004545455\\\\\n",
       "\t4 & 0.002597403 & 0.649026 & 0.3220779 & 0.02175325 & 0.004545455\\\\\n",
       "\t9 & 0.002597403 & 0.649026 & 0.3220779 & 0.02175325 & 0.004545455\\\\\n",
       "\\end{tabular}\n"
      ],
      "text/markdown": [
       "\n",
       "A matrix: 3 x 5 of type dbl\n",
       "\n",
       "| <!--/--> | HL1 | HL2 | HL3 | HL4 | HL5 |\n",
       "|---|---|---|---|---|---|\n",
       "| 2 | 0.002597403 | 0.649026 | 0.3220779 | 0.02175325 | 0.004545455 |\n",
       "| 4 | 0.002597403 | 0.649026 | 0.3220779 | 0.02175325 | 0.004545455 |\n",
       "| 9 | 0.002597403 | 0.649026 | 0.3220779 | 0.02175325 | 0.004545455 |\n",
       "\n"
      ],
      "text/plain": [
       "  HL1         HL2      HL3       HL4        HL5        \n",
       "2 0.002597403 0.649026 0.3220779 0.02175325 0.004545455\n",
       "4 0.002597403 0.649026 0.3220779 0.02175325 0.004545455\n",
       "9 0.002597403 0.649026 0.3220779 0.02175325 0.004545455"
      ]
     },
     "metadata": {},
     "output_type": "display_data"
    }
   ],
   "source": [
    "head( tree.pred.prob_reduced, 3 )"
   ]
  },
  {
   "cell_type": "code",
   "execution_count": 21,
   "metadata": {
    "vscode": {
     "languageId": "r"
    }
   },
   "outputs": [
    {
     "data": {
      "text/html": [
       "<style>\n",
       ".list-inline {list-style: none; margin:0; padding: 0}\n",
       ".list-inline>li {display: inline-block}\n",
       ".list-inline>li:not(:last-child)::after {content: \"\\00b7\"; padding: 0 .5ex}\n",
       "</style>\n",
       "<ol class=list-inline><li>HL2</li><li>HL2</li><li>HL2</li><li>HL3</li><li>HL3</li><li>HL3</li><li>HL1</li><li>HL1</li><li>HL1</li><li>HL1</li><li>HL1</li><li>HL3</li><li>HL3</li><li>HL2</li><li>HL2</li><li>HL2</li><li>HL2</li><li>HL2</li><li>HL3</li><li>HL3</li><li>HL3</li><li>HL3</li><li>HL3</li><li>HL3</li><li>HL3</li><li>HL4</li><li>HL2</li><li>HL2</li><li>HL2</li><li>HL2</li><li>HL2</li><li>HL2</li><li>HL3</li><li>HL3</li><li>HL3</li><li>HL4</li><li>HL4</li><li>HL2</li><li>HL2</li><li>HL2</li><li>HL2</li><li>HL3</li><li>HL3</li><li>HL2</li><li>HL2</li><li>HL2</li><li>HL2</li><li>HL3</li><li>HL3</li><li>HL3</li><li>HL3</li><li>HL3</li><li>HL3</li><li>HL3</li><li>HL2</li><li>HL2</li><li>HL2</li><li>HL2</li><li>HL2</li><li>HL2</li><li>HL3</li><li>HL3</li><li>HL3</li><li>HL2</li><li>HL2</li><li>HL2</li><li>HL2</li><li>HL3</li><li>HL3</li><li>HL3</li><li>HL3</li><li>HL2</li><li>HL4</li><li>HL4</li><li>HL4</li><li>HL3</li><li>HL4</li><li>HL2</li><li>HL2</li><li>HL2</li><li>HL2</li><li>HL4</li><li>HL4</li><li>HL4</li><li>HL4</li><li>HL3</li><li>HL4</li><li>HL2</li><li>HL2</li><li>HL2</li><li>HL3</li><li>HL3</li><li>HL3</li><li>HL3</li><li>HL3</li><li>HL2</li><li>HL2</li><li>HL2</li><li>HL2</li><li>HL2</li><li>HL4</li><li>HL3</li><li>HL3</li><li>HL5</li><li>HL2</li><li>HL4</li><li>HL4</li><li>HL4</li><li>HL4</li><li>HL4</li><li>HL3</li><li>HL5</li><li>HL2</li><li>HL2</li><li>HL2</li><li>HL2</li><li>HL2</li><li>HL2</li><li>HL4</li><li>HL4</li><li>HL4</li><li>HL4</li><li>HL4</li><li>HL4</li><li>HL3</li><li>HL3</li><li>HL2</li><li>HL2</li><li>HL2</li><li>HL2</li><li>HL2</li><li>HL2</li><li>HL2</li><li>HL2</li><li>HL4</li><li>HL3</li><li>HL2</li><li>HL2</li><li>HL2</li><li>HL2</li><li>HL2</li><li>HL4</li><li>HL4</li><li>HL3</li><li>HL3</li><li>HL2</li><li>HL2</li><li>HL2</li><li>HL2</li><li>HL2</li><li>HL2</li><li>HL2</li></ol>\n",
       "\n",
       "<details>\n",
       "\t<summary style=display:list-item;cursor:pointer>\n",
       "\t\t<strong>Levels</strong>:\n",
       "\t</summary>\n",
       "\t<style>\n",
       "\t.list-inline {list-style: none; margin:0; padding: 0}\n",
       "\t.list-inline>li {display: inline-block}\n",
       "\t.list-inline>li:not(:last-child)::after {content: \"\\00b7\"; padding: 0 .5ex}\n",
       "\t</style>\n",
       "\t<ol class=list-inline><li>'HL1'</li><li>'HL2'</li><li>'HL3'</li><li>'HL4'</li><li>'HL5'</li></ol>\n",
       "</details>"
      ],
      "text/latex": [
       "\\begin{enumerate*}\n",
       "\\item HL2\n",
       "\\item HL2\n",
       "\\item HL2\n",
       "\\item HL3\n",
       "\\item HL3\n",
       "\\item HL3\n",
       "\\item HL1\n",
       "\\item HL1\n",
       "\\item HL1\n",
       "\\item HL1\n",
       "\\item HL1\n",
       "\\item HL3\n",
       "\\item HL3\n",
       "\\item HL2\n",
       "\\item HL2\n",
       "\\item HL2\n",
       "\\item HL2\n",
       "\\item HL2\n",
       "\\item HL3\n",
       "\\item HL3\n",
       "\\item HL3\n",
       "\\item HL3\n",
       "\\item HL3\n",
       "\\item HL3\n",
       "\\item HL3\n",
       "\\item HL4\n",
       "\\item HL2\n",
       "\\item HL2\n",
       "\\item HL2\n",
       "\\item HL2\n",
       "\\item HL2\n",
       "\\item HL2\n",
       "\\item HL3\n",
       "\\item HL3\n",
       "\\item HL3\n",
       "\\item HL4\n",
       "\\item HL4\n",
       "\\item HL2\n",
       "\\item HL2\n",
       "\\item HL2\n",
       "\\item HL2\n",
       "\\item HL3\n",
       "\\item HL3\n",
       "\\item HL2\n",
       "\\item HL2\n",
       "\\item HL2\n",
       "\\item HL2\n",
       "\\item HL3\n",
       "\\item HL3\n",
       "\\item HL3\n",
       "\\item HL3\n",
       "\\item HL3\n",
       "\\item HL3\n",
       "\\item HL3\n",
       "\\item HL2\n",
       "\\item HL2\n",
       "\\item HL2\n",
       "\\item HL2\n",
       "\\item HL2\n",
       "\\item HL2\n",
       "\\item HL3\n",
       "\\item HL3\n",
       "\\item HL3\n",
       "\\item HL2\n",
       "\\item HL2\n",
       "\\item HL2\n",
       "\\item HL2\n",
       "\\item HL3\n",
       "\\item HL3\n",
       "\\item HL3\n",
       "\\item HL3\n",
       "\\item HL2\n",
       "\\item HL4\n",
       "\\item HL4\n",
       "\\item HL4\n",
       "\\item HL3\n",
       "\\item HL4\n",
       "\\item HL2\n",
       "\\item HL2\n",
       "\\item HL2\n",
       "\\item HL2\n",
       "\\item HL4\n",
       "\\item HL4\n",
       "\\item HL4\n",
       "\\item HL4\n",
       "\\item HL3\n",
       "\\item HL4\n",
       "\\item HL2\n",
       "\\item HL2\n",
       "\\item HL2\n",
       "\\item HL3\n",
       "\\item HL3\n",
       "\\item HL3\n",
       "\\item HL3\n",
       "\\item HL3\n",
       "\\item HL2\n",
       "\\item HL2\n",
       "\\item HL2\n",
       "\\item HL2\n",
       "\\item HL2\n",
       "\\item HL4\n",
       "\\item HL3\n",
       "\\item HL3\n",
       "\\item HL5\n",
       "\\item HL2\n",
       "\\item HL4\n",
       "\\item HL4\n",
       "\\item HL4\n",
       "\\item HL4\n",
       "\\item HL4\n",
       "\\item HL3\n",
       "\\item HL5\n",
       "\\item HL2\n",
       "\\item HL2\n",
       "\\item HL2\n",
       "\\item HL2\n",
       "\\item HL2\n",
       "\\item HL2\n",
       "\\item HL4\n",
       "\\item HL4\n",
       "\\item HL4\n",
       "\\item HL4\n",
       "\\item HL4\n",
       "\\item HL4\n",
       "\\item HL3\n",
       "\\item HL3\n",
       "\\item HL2\n",
       "\\item HL2\n",
       "\\item HL2\n",
       "\\item HL2\n",
       "\\item HL2\n",
       "\\item HL2\n",
       "\\item HL2\n",
       "\\item HL2\n",
       "\\item HL4\n",
       "\\item HL3\n",
       "\\item HL2\n",
       "\\item HL2\n",
       "\\item HL2\n",
       "\\item HL2\n",
       "\\item HL2\n",
       "\\item HL4\n",
       "\\item HL4\n",
       "\\item HL3\n",
       "\\item HL3\n",
       "\\item HL2\n",
       "\\item HL2\n",
       "\\item HL2\n",
       "\\item HL2\n",
       "\\item HL2\n",
       "\\item HL2\n",
       "\\item HL2\n",
       "\\end{enumerate*}\n",
       "\n",
       "\\emph{Levels}: \\begin{enumerate*}\n",
       "\\item 'HL1'\n",
       "\\item 'HL2'\n",
       "\\item 'HL3'\n",
       "\\item 'HL4'\n",
       "\\item 'HL5'\n",
       "\\end{enumerate*}\n"
      ],
      "text/markdown": [
       "1. HL2\n",
       "2. HL2\n",
       "3. HL2\n",
       "4. HL3\n",
       "5. HL3\n",
       "6. HL3\n",
       "7. HL1\n",
       "8. HL1\n",
       "9. HL1\n",
       "10. HL1\n",
       "11. HL1\n",
       "12. HL3\n",
       "13. HL3\n",
       "14. HL2\n",
       "15. HL2\n",
       "16. HL2\n",
       "17. HL2\n",
       "18. HL2\n",
       "19. HL3\n",
       "20. HL3\n",
       "21. HL3\n",
       "22. HL3\n",
       "23. HL3\n",
       "24. HL3\n",
       "25. HL3\n",
       "26. HL4\n",
       "27. HL2\n",
       "28. HL2\n",
       "29. HL2\n",
       "30. HL2\n",
       "31. HL2\n",
       "32. HL2\n",
       "33. HL3\n",
       "34. HL3\n",
       "35. HL3\n",
       "36. HL4\n",
       "37. HL4\n",
       "38. HL2\n",
       "39. HL2\n",
       "40. HL2\n",
       "41. HL2\n",
       "42. HL3\n",
       "43. HL3\n",
       "44. HL2\n",
       "45. HL2\n",
       "46. HL2\n",
       "47. HL2\n",
       "48. HL3\n",
       "49. HL3\n",
       "50. HL3\n",
       "51. HL3\n",
       "52. HL3\n",
       "53. HL3\n",
       "54. HL3\n",
       "55. HL2\n",
       "56. HL2\n",
       "57. HL2\n",
       "58. HL2\n",
       "59. HL2\n",
       "60. HL2\n",
       "61. HL3\n",
       "62. HL3\n",
       "63. HL3\n",
       "64. HL2\n",
       "65. HL2\n",
       "66. HL2\n",
       "67. HL2\n",
       "68. HL3\n",
       "69. HL3\n",
       "70. HL3\n",
       "71. HL3\n",
       "72. HL2\n",
       "73. HL4\n",
       "74. HL4\n",
       "75. HL4\n",
       "76. HL3\n",
       "77. HL4\n",
       "78. HL2\n",
       "79. HL2\n",
       "80. HL2\n",
       "81. HL2\n",
       "82. HL4\n",
       "83. HL4\n",
       "84. HL4\n",
       "85. HL4\n",
       "86. HL3\n",
       "87. HL4\n",
       "88. HL2\n",
       "89. HL2\n",
       "90. HL2\n",
       "91. HL3\n",
       "92. HL3\n",
       "93. HL3\n",
       "94. HL3\n",
       "95. HL3\n",
       "96. HL2\n",
       "97. HL2\n",
       "98. HL2\n",
       "99. HL2\n",
       "100. HL2\n",
       "101. HL4\n",
       "102. HL3\n",
       "103. HL3\n",
       "104. HL5\n",
       "105. HL2\n",
       "106. HL4\n",
       "107. HL4\n",
       "108. HL4\n",
       "109. HL4\n",
       "110. HL4\n",
       "111. HL3\n",
       "112. HL5\n",
       "113. HL2\n",
       "114. HL2\n",
       "115. HL2\n",
       "116. HL2\n",
       "117. HL2\n",
       "118. HL2\n",
       "119. HL4\n",
       "120. HL4\n",
       "121. HL4\n",
       "122. HL4\n",
       "123. HL4\n",
       "124. HL4\n",
       "125. HL3\n",
       "126. HL3\n",
       "127. HL2\n",
       "128. HL2\n",
       "129. HL2\n",
       "130. HL2\n",
       "131. HL2\n",
       "132. HL2\n",
       "133. HL2\n",
       "134. HL2\n",
       "135. HL4\n",
       "136. HL3\n",
       "137. HL2\n",
       "138. HL2\n",
       "139. HL2\n",
       "140. HL2\n",
       "141. HL2\n",
       "142. HL4\n",
       "143. HL4\n",
       "144. HL3\n",
       "145. HL3\n",
       "146. HL2\n",
       "147. HL2\n",
       "148. HL2\n",
       "149. HL2\n",
       "150. HL2\n",
       "151. HL2\n",
       "152. HL2\n",
       "\n",
       "\n",
       "\n",
       "**Levels**: 1. 'HL1'\n",
       "2. 'HL2'\n",
       "3. 'HL3'\n",
       "4. 'HL4'\n",
       "5. 'HL5'\n",
       "\n",
       "\n"
      ],
      "text/plain": [
       "  [1] HL2 HL2 HL2 HL3 HL3 HL3 HL1 HL1 HL1 HL1 HL1 HL3 HL3 HL2 HL2 HL2 HL2 HL2\n",
       " [19] HL3 HL3 HL3 HL3 HL3 HL3 HL3 HL4 HL2 HL2 HL2 HL2 HL2 HL2 HL3 HL3 HL3 HL4\n",
       " [37] HL4 HL2 HL2 HL2 HL2 HL3 HL3 HL2 HL2 HL2 HL2 HL3 HL3 HL3 HL3 HL3 HL3 HL3\n",
       " [55] HL2 HL2 HL2 HL2 HL2 HL2 HL3 HL3 HL3 HL2 HL2 HL2 HL2 HL3 HL3 HL3 HL3 HL2\n",
       " [73] HL4 HL4 HL4 HL3 HL4 HL2 HL2 HL2 HL2 HL4 HL4 HL4 HL4 HL3 HL4 HL2 HL2 HL2\n",
       " [91] HL3 HL3 HL3 HL3 HL3 HL2 HL2 HL2 HL2 HL2 HL4 HL3 HL3 HL5 HL2 HL4 HL4 HL4\n",
       "[109] HL4 HL4 HL3 HL5 HL2 HL2 HL2 HL2 HL2 HL2 HL4 HL4 HL4 HL4 HL4 HL4 HL3 HL3\n",
       "[127] HL2 HL2 HL2 HL2 HL2 HL2 HL2 HL2 HL4 HL3 HL2 HL2 HL2 HL2 HL2 HL4 HL4 HL3\n",
       "[145] HL3 HL2 HL2 HL2 HL2 HL2 HL2 HL2\n",
       "Levels: HL1 HL2 HL3 HL4 HL5"
      ]
     },
     "metadata": {},
     "output_type": "display_data"
    }
   ],
   "source": [
    "tree.pred.class_reduced"
   ]
  },
  {
   "cell_type": "code",
   "execution_count": 22,
   "metadata": {
    "vscode": {
     "languageId": "r"
    }
   },
   "outputs": [],
   "source": [
    "dev.new( width=10, height=10 )"
   ]
  },
  {
   "cell_type": "code",
   "execution_count": 23,
   "metadata": {
    "vscode": {
     "languageId": "r"
    }
   },
   "outputs": [
    {
     "data": {
      "text/plain": [
       "\n",
       "Call:\n",
       "C5.0.formula(formula = Y1 ~ ., data = sm_train.set_reduced)\n",
       "\n",
       "Classification Tree\n",
       "Number of samples: 616 \n",
       "Number of predictors: 5 \n",
       "\n",
       "Tree size: 12 \n",
       "\n",
       "Non-standard options: attempt to group attributes\n"
      ]
     },
     "metadata": {},
     "output_type": "display_data"
    }
   ],
   "source": [
    "sm.tree_reduced"
   ]
  },
  {
   "cell_type": "code",
   "execution_count": 24,
   "metadata": {
    "vscode": {
     "languageId": "r"
    }
   },
   "outputs": [
    {
     "data": {
      "image/png": "[encoded data removed]",
      "text/plain": [
       "plot without title"
      ]
     },
     "metadata": {
      "image/png": {
       "height": 480,
       "width": 1500
      }
     },
     "output_type": "display_data"
    }
   ],
   "source": [
    "options(repr.plot.width=25, repr.plot.height=8)\n",
    "plot( sm.tree_reduced )"
   ]
  },
  {
   "cell_type": "code",
   "execution_count": 25,
   "metadata": {
    "vscode": {
     "languageId": "r"
    }
   },
   "outputs": [
    {
     "data": {
      "text/plain": [
       "\n",
       "Call:\n",
       "C5.0.default(x = sm_train.set_reduced[, -ncol(sm_train.set_reduced)], y\n",
       " = sm_train.set_reduced$Y1, rules = T)\n",
       "\n",
       "\n",
       "C5.0 [Release 2.07 GPL Edition]  \tThu Jun 20 00:39:05 2024\n",
       "-------------------------------\n",
       "\n",
       "Class specified by attribute `outcome'\n",
       "\n",
       "Read 616 cases (6 attributes) from undefined.data\n",
       "\n",
       "Rules:\n",
       "\n",
       "Rule 1: (19/3, lift 31.2)\n",
       "\tX1 = Muy bajo\n",
       "\tX3 = Muy alto\n",
       "\t->  class HL1  [0.810]\n",
       "\n",
       "Rule 2: (291, lift 2.0)\n",
       "\tX1 = Muy bajo\n",
       "\tX3 in {Alto, Bajo, Medio, Muy bajo}\n",
       "\t->  class HL2  [0.997]\n",
       "\n",
       "Rule 3: (306/170, lift 2.0)\n",
       "\tX1 = Muy alto\n",
       "\t->  class HL3  [0.445]\n",
       "\n",
       "Rule 4: (35, lift 4.5)\n",
       "\tX2 = Muy alto\n",
       "\tX5 in {Alto, Bajo, Moderadamente alto, Muy alto}\n",
       "\t->  class HL4  [0.973]\n",
       "\n",
       "Rule 5: (21, lift 4.4)\n",
       "\tX2 = Muy alto\n",
       "\tX3 in {Alto, Medio}\n",
       "\t->  class HL4  [0.957]\n",
       "\n",
       "Rule 6: (62/10, lift 3.8)\n",
       "\tX1 = Muy alto\n",
       "\tX2 = Bajo\n",
       "\tX3 in {Bajo, Muy bajo}\n",
       "\tX5 in {Bajo, Moderadamente alto, Moderadamente bajo, Muy bajo}\n",
       "\t->  class HL4  [0.828]\n",
       "\n",
       "Rule 7: (10/1, lift 18.3)\n",
       "\tX2 = Muy alto\n",
       "\tX3 in {Bajo, Muy bajo}\n",
       "\tX5 in {Moderadamente bajo, Muy bajo}\n",
       "\t->  class HL5  [0.833]\n",
       "\n",
       "Default class: HL2\n",
       "\n",
       "\n",
       "Evaluation on training data (616 cases):\n",
       "\n",
       "\t        Rules     \n",
       "\t  ----------------\n",
       "\t    No      Errors\n",
       "\n",
       "\t     7   79(12.8%)   <<\n",
       "\n",
       "\n",
       "\t   (a)   (b)   (c)   (d)   (e)    <-classified as\n",
       "\t  ----  ----  ----  ----  ----\n",
       "\t    16                            (a): class HL1\n",
       "\t     3   291     8                (b): class HL2\n",
       "\t               126    10          (c): class HL3\n",
       "\t                38    95     1    (d): class HL4\n",
       "\t                19           9    (e): class HL5\n",
       "\n",
       "\n",
       "\tAttribute usage:\n",
       "\n",
       "\t100.00%\tX1\n",
       "\t 65.42%\tX3\n",
       "\t 18.67%\tX2\n",
       "\t 17.37%\tX5\n",
       "\n",
       "\n",
       "Time: 0.0 secs\n"
      ]
     },
     "metadata": {},
     "output_type": "display_data"
    }
   ],
   "source": [
    "summary( tree.rules_reduced )"
   ]
  },
  {
   "cell_type": "code",
   "execution_count": 26,
   "metadata": {
    "vscode": {
     "languageId": "r"
    }
   },
   "outputs": [
    {
     "name": "stdout",
     "output_type": "stream",
     "text": [
      "Confusion Matrix and Statistics\n",
      "\n",
      "     tree.pred.class_reduced\n",
      "      HL1 HL2 HL3 HL4 HL5\n",
      "  HL1   4   0   0   0   0\n",
      "  HL2   1  72   2   0   0\n",
      "  HL3   0   0  27   6   0\n",
      "  HL4   0   0  12  21   0\n",
      "  HL5   0   0   5   0   2\n",
      "\n",
      "Overall Statistics\n",
      "                                          \n",
      "               Accuracy : 0.8289          \n",
      "                 95% CI : (0.7595, 0.8851)\n",
      "    No Information Rate : 0.4737          \n",
      "    P-Value [Acc > NIR] : < 2.2e-16       \n",
      "                                          \n",
      "                  Kappa : 0.741           \n",
      "                                          \n",
      " Mcnemar's Test P-Value : NA              \n",
      "\n",
      "Statistics by Class:\n",
      "\n",
      "                     Class: HL1 Class: HL2 Class: HL3 Class: HL4 Class: HL5\n",
      "Sensitivity             0.80000     1.0000     0.5870     0.7778    1.00000\n",
      "Specificity             1.00000     0.9625     0.9434     0.9040    0.96667\n",
      "Pos Pred Value          1.00000     0.9600     0.8182     0.6364    0.28571\n",
      "Neg Pred Value          0.99324     1.0000     0.8403     0.9496    1.00000\n",
      "Prevalence              0.03289     0.4737     0.3026     0.1776    0.01316\n",
      "Detection Rate          0.02632     0.4737     0.1776     0.1382    0.01316\n",
      "Detection Prevalence    0.02632     0.4934     0.2171     0.2171    0.04605\n",
      "Balanced Accuracy       0.90000     0.9812     0.7652     0.8409    0.98333\n"
     ]
    }
   ],
   "source": [
    "conf.matrix.tree_reduced <- confusionMatrix(table( sm_test.set_reduced$Y1, tree.pred.class_reduced ))\n",
    "print( conf.matrix.tree_reduced )"
   ]
  },
  {
   "cell_type": "markdown",
   "metadata": {},
   "source": [
    "## Boosting"
   ]
  },
  {
   "cell_type": "code",
   "execution_count": 27,
   "metadata": {
    "vscode": {
     "languageId": "r"
    }
   },
   "outputs": [],
   "source": [
    "sm.tree_reduced <- C5.0(Y1 ~ ., data = sm_train.set_reduced, trials = 10)\n"
   ]
  },
  {
   "cell_type": "code",
   "execution_count": 28,
   "metadata": {
    "vscode": {
     "languageId": "r"
    }
   },
   "outputs": [
    {
     "data": {
      "text/html": [
       "FALSE"
      ],
      "text/latex": [
       "FALSE"
      ],
      "text/markdown": [
       "FALSE"
      ],
      "text/plain": [
       "[1] FALSE"
      ]
     },
     "metadata": {},
     "output_type": "display_data"
    }
   ],
   "source": [
    "any(is.na(sm_test.set_reduced))\n",
    "\n",
    "sm_test.set_reduced <- na.omit(sm_test.set_reduced)\n"
   ]
  },
  {
   "cell_type": "code",
   "execution_count": 29,
   "metadata": {
    "vscode": {
     "languageId": "r"
    }
   },
   "outputs": [],
   "source": [
    "# Predicción de clases con instancia de pruebas\n",
    "tree.pred.class_reduced <- predict(sm.tree_reduced, sm_test.set_reduced[, -ncol(sm_test.set_reduced)], type = \"class\")\n",
    "\n",
    "# Probabilidad por clases\n",
    "tree.pred.prob_reduced <- predict(sm.tree_reduced, sm_test.set_reduced[, -ncol(sm_test.set_reduced)], type = \"prob\")\n"
   ]
  },
  {
   "cell_type": "code",
   "execution_count": 30,
   "metadata": {
    "vscode": {
     "languageId": "r"
    }
   },
   "outputs": [
    {
     "data": {
      "text/plain": [
       "Confusion Matrix and Statistics\n",
       "\n",
       "          Reference\n",
       "Prediction HL1 HL2 HL3 HL4 HL5\n",
       "       HL1   4   1   0   0   0\n",
       "       HL2   0  72   0   0   0\n",
       "       HL3   0   2  13   4   1\n",
       "       HL4   0   0  18  28   3\n",
       "       HL5   0   0   2   1   3\n",
       "\n",
       "Overall Statistics\n",
       "                                         \n",
       "               Accuracy : 0.7895         \n",
       "                 95% CI : (0.716, 0.8513)\n",
       "    No Information Rate : 0.4934         \n",
       "    P-Value [Acc > NIR] : 5.425e-14      \n",
       "                                         \n",
       "                  Kappa : 0.6834         \n",
       "                                         \n",
       " Mcnemar's Test P-Value : NA             \n",
       "\n",
       "Statistics by Class:\n",
       "\n",
       "                     Class: HL1 Class: HL2 Class: HL3 Class: HL4 Class: HL5\n",
       "Sensitivity             1.00000     0.9600    0.39394     0.8485    0.42857\n",
       "Specificity             0.99324     1.0000    0.94118     0.8235    0.97931\n",
       "Pos Pred Value          0.80000     1.0000    0.65000     0.5714    0.50000\n",
       "Neg Pred Value          1.00000     0.9625    0.84848     0.9515    0.97260\n",
       "Prevalence              0.02632     0.4934    0.21711     0.2171    0.04605\n",
       "Detection Rate          0.02632     0.4737    0.08553     0.1842    0.01974\n",
       "Detection Prevalence    0.03289     0.4737    0.13158     0.3224    0.03947\n",
       "Balanced Accuracy       0.99662     0.9800    0.66756     0.8360    0.70394"
      ]
     },
     "metadata": {},
     "output_type": "display_data"
    }
   ],
   "source": [
    "library(caret)\n",
    "confusionMatrix(data = tree.pred.class_reduced, reference = sm_test.set_reduced$Y1, positive = \"yes\")\n"
   ]
  },
  {
   "cell_type": "code",
   "execution_count": 31,
   "metadata": {
    "vscode": {
     "languageId": "r"
    }
   },
   "outputs": [
    {
     "ename": "ERROR",
     "evalue": "Error in eval(expr, envir, enclos): objeto 'data_training' no encontrado\n",
     "output_type": "error",
     "traceback": [
      "Error in eval(expr, envir, enclos): objeto 'data_training' no encontrado\nTraceback:\n",
      "1. C5.0(data_training[-17], data_training$default, trials = 10)"
     ]
    }
   ],
   "source": [
    "modeloc50_1 <- C5.0(data_training[-17], data_training$default, trials = 10) \n",
    "data_predicted2 <- predict(modeloc50_1, data_test)\n",
    "confusionMatrix(data = data_predicted2, reference = data_test$default, positive = \"yes\")"
   ]
  },
  {
   "cell_type": "code",
   "execution_count": null,
   "metadata": {
    "vscode": {
     "languageId": "r"
    }
   },
   "outputs": [
    {
     "name": "stdout",
     "output_type": "stream",
     "text": [
      "          Trials  Accuracy\n",
      "Accuracy       1 0.8289474\n",
      "Accuracy1      5 0.8223684\n",
      "Accuracy2     10 0.7894737\n",
      "Accuracy3     20 0.8421053\n",
      "Accuracy4     50 0.7828947\n",
      "Accuracy5    100 0.7828947\n"
     ]
    }
   ],
   "source": [
    "accuracy_results <- data.frame(Trials = integer(), Accuracy = double())\n",
    "\n",
    "for (trials in c(1, 5, 10, 20, 50, 100)) {\n",
    "  sm.tree_reduced <- C5.0(Y1 ~ ., data = sm_train.set_reduced, trials = trials)\n",
    "  tree.pred.class_reduced <- predict(sm.tree_reduced, sm_test.set_reduced[, -ncol(sm_test.set_reduced)], type = \"class\")\n",
    "  \n",
    "  cm <- confusionMatrix(data = tree.pred.class_reduced, reference = sm_test.set_reduced$Y1, positive = \"yes\")\n",
    "  \n",
    "  accuracy_results <- rbind(accuracy_results, data.frame(Trials = trials, Accuracy = cm$overall[\"Accuracy\"]))\n",
    "}\n",
    "\n",
    "print(accuracy_results)"
   ]
  },
  {
   "cell_type": "code",
   "execution_count": null,
   "metadata": {
    "vscode": {
     "languageId": "r"
    }
   },
   "outputs": [
    {
     "name": "stderr",
     "output_type": "stream",
     "text": [
      "Warning message:\n",
      "\"'trials' should be <= 36 for this object. Predictions generated using 36 trials\"\n",
      "Warning message:\n",
      "\"'trials' should be <= 26 for this object. Predictions generated using 26 trials\"\n",
      "Warning message:\n",
      "\"'trials' should be <= 33 for this object. Predictions generated using 33 trials\"\n",
      "Warning message:\n",
      "\"'trials' should be <= 28 for this object. Predictions generated using 28 trials\"\n",
      "Warning message:\n",
      "\"'trials' should be <= 33 for this object. Predictions generated using 33 trials\"\n",
      "Warning message:\n",
      "\"'trials' should be <= 24 for this object. Predictions generated using 24 trials\"\n",
      "Warning message:\n",
      "\"'trials' should be <= 34 for this object. Predictions generated using 34 trials\"\n",
      "Warning message:\n",
      "\"'trials' should be <= 30 for this object. Predictions generated using 30 trials\"\n"
     ]
    },
    {
     "name": "stdout",
     "output_type": "stream",
     "text": [
      "  trials model winnow\n",
      "1      1  tree  FALSE\n",
      "Confusion Matrix and Statistics\n",
      "\n",
      "          Reference\n",
      "Prediction HL1 HL2 HL3 HL4 HL5\n",
      "       HL1   4   1   0   0   0\n",
      "       HL2   0  72   0   0   0\n",
      "       HL3   0   2  27  12   5\n",
      "       HL4   0   0   6  21   0\n",
      "       HL5   0   0   0   0   2\n",
      "\n",
      "Overall Statistics\n",
      "                                          \n",
      "               Accuracy : 0.8289          \n",
      "                 95% CI : (0.7595, 0.8851)\n",
      "    No Information Rate : 0.4934          \n",
      "    P-Value [Acc > NIR] : < 2.2e-16       \n",
      "                                          \n",
      "                  Kappa : 0.741           \n",
      "                                          \n",
      " Mcnemar's Test P-Value : NA              \n",
      "\n",
      "Statistics by Class:\n",
      "\n",
      "                     Class: HL1 Class: HL2 Class: HL3 Class: HL4 Class: HL5\n",
      "Sensitivity             1.00000     0.9600     0.8182     0.6364    0.28571\n",
      "Specificity             0.99324     1.0000     0.8403     0.9496    1.00000\n",
      "Pos Pred Value          0.80000     1.0000     0.5870     0.7778    1.00000\n",
      "Neg Pred Value          1.00000     0.9625     0.9434     0.9040    0.96667\n",
      "Prevalence              0.02632     0.4934     0.2171     0.2171    0.04605\n",
      "Detection Rate          0.02632     0.4737     0.1776     0.1382    0.01316\n",
      "Detection Prevalence    0.03289     0.4737     0.3026     0.1776    0.01316\n",
      "Balanced Accuracy       0.99662     0.9800     0.8293     0.7930    0.64286\n"
     ]
    }
   ],
   "source": [
    "train_control <- trainControl(method = \"cv\", number = 10)\n",
    "\n",
    "tuned_model <- train(\n",
    "  Y1 ~ ., \n",
    "  data = sm_train.set_reduced, \n",
    "  method = \"C5.0\",\n",
    "  trControl = train_control,\n",
    "  tuneGrid = expand.grid(trials = c(1, 5, 10, 20, 50, 100), model = \"tree\", winnow = FALSE)\n",
    ")\n",
    "\n",
    "print(tuned_model$bestTune)\n",
    "\n",
    "best_model <- C5.0(Y1 ~ ., data = sm_train.set_reduced, trials = tuned_model$bestTune$trials)\n",
    "tree.pred.class_reduced <- predict(best_model, sm_test.set_reduced[, -ncol(sm_test.set_reduced)], type = \"class\")\n",
    "\n",
    "cm <- confusionMatrix(data = tree.pred.class_reduced, reference = sm_test.set_reduced$Y1, positive = \"yes\")\n",
    "print(cm)"
   ]
  },
  {
   "cell_type": "markdown",
   "metadata": {},
   "source": [
    "# Reglas"
   ]
  },
  {
   "cell_type": "code",
   "execution_count": 35,
   "metadata": {
    "vscode": {
     "languageId": "r"
    }
   },
   "outputs": [
    {
     "name": "stderr",
     "output_type": "stream",
     "text": [
      "Cargando paquete requerido: Matrix\n",
      "\n",
      "\n",
      "Adjuntando el paquete: 'arules'\n",
      "\n",
      "\n",
      "The following objects are masked from 'package:base':\n",
      "\n",
      "    abbreviate, write\n",
      "\n",
      "\n"
     ]
    }
   ],
   "source": [
    "library(arules)"
   ]
  },
  {
   "cell_type": "code",
   "execution_count": 44,
   "metadata": {
    "vscode": {
     "languageId": "r"
    }
   },
   "outputs": [],
   "source": [
    "rules <- tree.rules_reduced$output\n",
    "\n",
    "# Procesar la salida de las reglas para formatearlas\n",
    "rules_list <- strsplit(rules, split = \"\\n\")\n",
    "rules_cleaned <- lapply(rules_list, function(x) {\n",
    "  x <- trimws(x)\n",
    "  x <- x[x != \"\"]\n",
    "  return(x)\n",
    "})\n",
    "rules_df <- do.call(rbind, lapply(rules_cleaned, function(x) {\n",
    "  data.frame(rule = x, stringsAsFactors = FALSE)\n",
    "}))"
   ]
  },
  {
   "cell_type": "code",
   "execution_count": 45,
   "metadata": {
    "vscode": {
     "languageId": "r"
    }
   },
   "outputs": [
    {
     "name": "stdout",
     "output_type": "stream",
     "text": [
      "Apriori\n",
      "\n",
      "Parameter specification:\n",
      " confidence minval smax arem  aval originalSupport maxtime support minlen\n",
      "        0.5    0.1    1 none FALSE            TRUE       5    0.01      1\n",
      " maxlen target  ext\n",
      "     10  rules TRUE\n",
      "\n",
      "Algorithmic control:\n",
      " filter tree heap memopt load sort verbose\n",
      "    0.1 TRUE TRUE  FALSE TRUE    2    TRUE\n",
      "\n",
      "Absolute minimum support count: 6 \n",
      "\n",
      "set item appearances ...[0 item(s)] done [0.00s].\n",
      "set transactions ...[27 item(s), 616 transaction(s)] done [0.00s].\n",
      "sorting and recoding items ... [27 item(s)] done [0.00s].\n",
      "creating transaction tree ... done [0.00s].\n",
      "checking subsets of size 1 2 3 4 5 done [0.00s].\n",
      "writing ... [1413 rule(s)] done [0.00s].\n",
      "creating S4 object  ... done [0.00s].\n"
     ]
    },
    {
     "data": {
      "text/plain": [
       "    support          confidence        coverage            lift        \n",
       " Min.   :0.01136   Min.   :0.5000   Min.   :0.01136   Min.   : 0.9936  \n",
       " 1st Qu.:0.01461   1st Qu.:0.5500   1st Qu.:0.01786   1st Qu.: 1.7446  \n",
       " Median :0.01786   Median :0.9870   Median :0.02435   Median : 2.0131  \n",
       " Mean   :0.02849   Mean   :0.8073   Mean   :0.03857   Mean   : 2.3107  \n",
       " 3rd Qu.:0.03084   3rd Qu.:1.0000   3rd Qu.:0.04058   3rd Qu.: 2.0741  \n",
       " Max.   :0.50325   Max.   :1.0000   Max.   :1.00000   Max.   :38.5000  \n",
       "     count       \n",
       " Min.   :  7.00  \n",
       " 1st Qu.:  9.00  \n",
       " Median : 11.00  \n",
       " Mean   : 17.55  \n",
       " 3rd Qu.: 19.00  \n",
       " Max.   :310.00  "
      ]
     },
     "metadata": {},
     "output_type": "display_data"
    },
    {
     "data": {
      "text/plain": [
       "rule_lengths\n",
       " 2 \n",
       "54 "
      ]
     },
     "metadata": {},
     "output_type": "display_data"
    },
    {
     "data": {
      "text/plain": [
       "    support          confidence        coverage            lift        \n",
       " Min.   :0.01136   Min.   :0.5000   Min.   :0.01136   Min.   : 0.9936  \n",
       " 1st Qu.:0.01461   1st Qu.:0.5500   1st Qu.:0.01786   1st Qu.: 1.7446  \n",
       " Median :0.01786   Median :0.9870   Median :0.02435   Median : 2.0131  \n",
       " Mean   :0.02849   Mean   :0.8073   Mean   :0.03857   Mean   : 2.3107  \n",
       " 3rd Qu.:0.03084   3rd Qu.:1.0000   3rd Qu.:0.04058   3rd Qu.: 2.0741  \n",
       " Max.   :0.50325   Max.   :1.0000   Max.   :1.00000   Max.   :38.5000  \n",
       "     count       \n",
       " Min.   :  7.00  \n",
       " 1st Qu.:  9.00  \n",
       " Median : 11.00  \n",
       " Mean   : 17.55  \n",
       " 3rd Qu.: 19.00  \n",
       " Max.   :310.00  "
      ]
     },
     "metadata": {},
     "output_type": "display_data"
    }
   ],
   "source": [
    "extract_rules <- function(rules_df, data, y_col) {\n",
    "  lhs_rhs <- strsplit(rules_df$rule, \"=>\")\n",
    "  lhs <- sapply(lhs_rhs, function(x) trimws(x[1]))\n",
    "  rhs <- sapply(lhs_rhs, function(x) trimws(x[2]))\n",
    "  \n",
    "  rules <- data.frame(lhs = lhs, rhs = rhs)\n",
    "  \n",
    "  # Convertir a transacciones\n",
    "  trans <- as(data, \"transactions\")\n",
    "  \n",
    "  # Calcular métricas de calidad\n",
    "  rules_trans <- apriori(trans, parameter = list(supp = 0.01, conf = 0.5))\n",
    "  rules_measures <- quality(rules_trans)\n",
    "  \n",
    "  return(list(rules = rules, measures = rules_measures))\n",
    "}\n",
    "\n",
    "# Aplicar la función a las reglas extraídas y el conjunto de datos original\n",
    "rules_info <- extract_rules(rules_df, sm_train.set_reduced, \"Y1\")\n",
    "\n",
    "# Mostrar resumen de las reglas y las métricas de calidad\n",
    "summary(rules_info$measures)\n",
    "\n",
    "# Distribución de la longitud de las reglas\n",
    "rule_lengths <- sapply(rules_info$rules$lhs, function(x) length(unlist(strsplit(x, \"&\"))) + 1)\n",
    "table(rule_lengths)\n",
    "\n",
    "# Resumen de las métricas de calidad\n",
    "summary(rules_info$measures)"
   ]
  }
 ],
 "metadata": {
  "kernelspec": {
   "display_name": "R",
   "language": "R",
   "name": "ir"
  },
  "language_info": {
   "codemirror_mode": "r",
   "file_extension": ".r",
   "mimetype": "text/x-r-source",
   "name": "R",
   "pygments_lexer": "r",
   "version": "4.4.0"
  }
 },
 "nbformat": 4,
 "nbformat_minor": 2
}
